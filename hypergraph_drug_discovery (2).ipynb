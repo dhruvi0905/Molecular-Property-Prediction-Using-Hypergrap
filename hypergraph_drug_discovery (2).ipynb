{
 "cells": [
  {
   "cell_type": "code",
   "execution_count": 5,
   "id": "42ee7304",
   "metadata": {
    "scrolled": false
   },
   "outputs": [
    {
     "name": "stdout",
     "output_type": "stream",
     "text": [
      "Starting enhanced Tox21 property prediction...\n",
      "Fetching Tox21 data with enhanced preprocessing...\n",
      "Columns in Tox21 dataset: ['NR-AR', 'NR-AR-LBD', 'NR-AhR', 'NR-Aromatase', 'NR-ER', 'NR-ER-LBD', 'NR-PPAR-gamma', 'SR-ARE', 'SR-ATAD5', 'SR-HSE', 'SR-MMP', 'SR-p53', 'mol_id', 'smiles']\n",
      "Using smiles as SMILES column\n"
     ]
    },
    {
     "name": "stderr",
     "output_type": "stream",
     "text": [
      "[18:03:31] WARNING: not removing hydrogen atom without neighbors\n"
     ]
    },
    {
     "name": "stdout",
     "output_type": "stream",
     "text": [
      "Filtered out 0 invalid SMILES strings\n",
      "Valid SMILES check: 10/10 valid in sample\n",
      "Loaded 7831 molecules with 12 tasks from Tox21\n",
      "\n",
      "Task Distribution:\n",
      "NR-AR: Positive=309 (4.25%), Negative=6956, NA=566\n",
      "NR-AR-LBD: Positive=237 (3.51%), Negative=6521, NA=1073\n",
      "NR-AhR: Positive=768 (11.73%), Negative=5781, NA=1282\n",
      "NR-Aromatase: Positive=300 (5.15%), Negative=5521, NA=2010\n",
      "NR-ER: Positive=793 (12.80%), Negative=5400, NA=1638\n",
      "NR-ER-LBD: Positive=350 (5.03%), Negative=6605, NA=876\n",
      "NR-PPAR-gamma: Positive=186 (2.88%), Negative=6264, NA=1381\n",
      "SR-ARE: Positive=942 (16.15%), Negative=4890, NA=1999\n",
      "SR-ATAD5: Positive=264 (3.73%), Negative=6808, NA=759\n",
      "SR-HSE: Positive=372 (5.75%), Negative=6095, NA=1364\n",
      "SR-MMP: Positive=918 (15.80%), Negative=4892, NA=2021\n",
      "SR-p53: Positive=423 (6.24%), Negative=6351, NA=1057\n",
      "Using strategic subset of 2000 molecules\n",
      "Focusing on task: NR-AR\n",
      "Total labels: 2000\n",
      "Valid labels: 2000\n",
      "Class distribution: Positive=85, Negative=1915\n",
      "Total labels: 2000\n",
      "Valid labels: 2000\n",
      "Missing values: 0\n",
      "Unique label values: [0 1]\n",
      "Class distribution: [1915   85]\n",
      "Imbalance ratio: 22.53\n",
      "Oversampling minority class: adding 42 synthetic samples\n",
      "Balanced dataset: 297 samples\n",
      "New class distribution - Positive: 127, Negative: 170\n",
      "Train split: 207 samples, 88 positive, 119 negative, 0 missing\n",
      "Val split: 30 samples, 13 positive, 17 negative, 0 missing\n",
      "Test split: 60 samples, 26 positive, 34 negative, 0 missing\n",
      "Performing 5-fold cross-validation with enhanced model...\n",
      "Using class weight for positive class: 1.35\n",
      "\n",
      "--- Fold 1/5 ---\n",
      "Training set: 200, Validation set: 42\n"
     ]
    },
    {
     "name": "stderr",
     "output_type": "stream",
     "text": [
      "[18:03:39] Explicit valence for atom # 1 C, 5, is greater than permitted\n",
      "[18:03:41] Explicit valence for atom # 4 C, 5, is greater than permitted\n",
      "[18:03:42] Explicit valence for atom # 10 C, 5, is greater than permitted\n",
      "[18:03:45] Explicit valence for atom # 11 C, 5, is greater than permitted\n",
      "[18:03:46] Explicit valence for atom # 5 C, 5, is greater than permitted\n",
      "[18:03:46] Can't kekulize mol.  Unkekulized atoms: 2 3 4 5 6 8 9 10 11 12 13\n",
      "[18:03:49] Explicit valence for atom # 1 C, 5, is greater than permitted\n",
      "[18:03:49] Explicit valence for atom # 19 C, 5, is greater than permitted\n",
      "[18:03:50] Explicit valence for atom # 2 C, 5, is greater than permitted\n",
      "[18:03:50] Explicit valence for atom # 13 C, 5, is greater than permitted\n",
      "[18:03:51] Explicit valence for atom # 1 C, 5, is greater than permitted\n"
     ]
    },
    {
     "name": "stdout",
     "output_type": "stream",
     "text": [
      "Epoch 1/50, Train Loss: 0.3030, LR: 0.000100\n",
      "Validation - AUC: 0.7130, Accuracy: 0.5476, F1: 0.5581, Precision: 0.4800, Recall: 0.6667\n",
      "New best model saved! AUC: 0.7130\n"
     ]
    },
    {
     "name": "stderr",
     "output_type": "stream",
     "text": [
      "[18:03:55] Can't kekulize mol.  Unkekulized atoms: 9 10 11 13\n",
      "[18:03:56] Explicit valence for atom # 2 N, 4, is greater than permitted\n",
      "[18:03:59] Explicit valence for atom # 11 C, 5, is greater than permitted\n",
      "[18:04:01] Explicit valence for atom # 10 C, 5, is greater than permitted\n",
      "[18:04:01] Explicit valence for atom # 4 C, 5, is greater than permitted\n",
      "[18:04:02] Explicit valence for atom # 3 O, 3, is greater than permitted\n"
     ]
    },
    {
     "name": "stdout",
     "output_type": "stream",
     "text": [
      "Epoch 2/50, Train Loss: 0.3678, LR: 0.000180\n",
      "Validation - AUC: 0.7060, Accuracy: 0.7143, F1: 0.6250, Precision: 0.7143, Recall: 0.5556\n"
     ]
    },
    {
     "name": "stderr",
     "output_type": "stream",
     "text": [
      "[18:04:10] Explicit valence for atom # 17 N, 4, is greater than permitted\n",
      "[18:04:11] Explicit valence for atom # 1 C, 5, is greater than permitted\n",
      "[18:04:14] Explicit valence for atom # 8 C, 5, is greater than permitted\n",
      "[18:04:14] Explicit valence for atom # 14 C, 5, is greater than permitted\n",
      "[18:04:14] Explicit valence for atom # 8 C, 5, is greater than permitted\n",
      "[18:04:15] Explicit valence for atom # 10 C, 5, is greater than permitted\n",
      "[18:04:16] Can't kekulize mol.  Unkekulized atoms: 1 2 11 12 13\n",
      "[18:04:20] Explicit valence for atom # 5 C, 5, is greater than permitted\n",
      "[18:04:21] Explicit valence for atom # 14 C, 5, is greater than permitted\n",
      "[18:04:21] Can't kekulize mol.  Unkekulized atoms: 9 10 11 12 13\n",
      "[18:04:21] Explicit valence for atom # 12 C, 5, is greater than permitted\n",
      "[18:04:23] Explicit valence for atom # 13 C, 5, is greater than permitted\n",
      "[18:04:23] Explicit valence for atom # 2 C, 5, is greater than permitted\n",
      "[18:04:25] Can't kekulize mol.  Unkekulized atoms: 1 2 3 4 5 6 8 9 10 11 12\n",
      "[18:04:25] Explicit valence for atom # 3 C, 5, is greater than permitted\n"
     ]
    },
    {
     "name": "stdout",
     "output_type": "stream",
     "text": [
      "Epoch 3/50, Train Loss: 0.3763, LR: 0.000260\n",
      "Validation - AUC: 0.6690, Accuracy: 0.6190, F1: 0.5556, Precision: 0.5556, Recall: 0.5556\n"
     ]
    },
    {
     "name": "stderr",
     "output_type": "stream",
     "text": [
      "[18:04:27] Explicit valence for atom # 9 C, 5, is greater than permitted\n",
      "[18:04:29] Explicit valence for atom # 4 C, 5, is greater than permitted\n",
      "[18:04:30] Explicit valence for atom # 1 C, 5, is greater than permitted\n",
      "[18:04:32] Explicit valence for atom # 12 C, 5, is greater than permitted\n",
      "[18:04:33] Explicit valence for atom # 10 Cl, 2, is greater than permitted\n",
      "[18:04:34] Explicit valence for atom # 5 C, 5, is greater than permitted\n",
      "[18:04:35] Explicit valence for atom # 23 C, 5, is greater than permitted\n",
      "[18:04:35] Explicit valence for atom # 8 C, 5, is greater than permitted\n",
      "[18:04:36] Explicit valence for atom # 6 C, 5, is greater than permitted\n",
      "[18:04:38] Explicit valence for atom # 14 C, 5, is greater than permitted\n",
      "[18:04:40] Explicit valence for atom # 1 C, 5, is greater than permitted\n",
      "[18:04:40] Explicit valence for atom # 1 C, 5, is greater than permitted\n"
     ]
    },
    {
     "name": "stdout",
     "output_type": "stream",
     "text": [
      "Epoch 4/50, Train Loss: 0.3927, LR: 0.000340\n",
      "Validation - AUC: 0.7130, Accuracy: 0.6905, F1: 0.6061, Precision: 0.6667, Recall: 0.5556\n"
     ]
    },
    {
     "name": "stderr",
     "output_type": "stream",
     "text": [
      "[18:04:47] Explicit valence for atom # 10 C, 5, is greater than permitted\n",
      "[18:04:49] Explicit valence for atom # 7 C, 5, is greater than permitted\n",
      "[18:04:52] Explicit valence for atom # 6 C, 5, is greater than permitted\n",
      "[18:04:53] Explicit valence for atom # 4 C, 5, is greater than permitted\n",
      "[18:04:54] Explicit valence for atom # 14 C, 5, is greater than permitted\n",
      "[18:04:54] Explicit valence for atom # 14 C, 5, is greater than permitted\n",
      "[18:04:55] Explicit valence for atom # 7 C, 5, is greater than permitted\n"
     ]
    },
    {
     "name": "stdout",
     "output_type": "stream",
     "text": [
      "Epoch 5/50, Train Loss: 0.3621, LR: 0.000420\n",
      "Validation - AUC: 0.7222, Accuracy: 0.7143, F1: 0.6250, Precision: 0.7143, Recall: 0.5556\n",
      "New best model saved! AUC: 0.7222\n"
     ]
    },
    {
     "name": "stderr",
     "output_type": "stream",
     "text": [
      "[18:04:58] Explicit valence for atom # 17 C, 5, is greater than permitted\n",
      "[18:04:59] Explicit valence for atom # 4 C, 5, is greater than permitted\n",
      "[18:05:00] Explicit valence for atom # 20 C, 5, is greater than permitted\n",
      "[18:05:02] Can't kekulize mol.  Unkekulized atoms: 5 6 7 10 11\n",
      "[18:05:03] Explicit valence for atom # 4 C, 5, is greater than permitted\n",
      "[18:05:03] Can't kekulize mol.  Unkekulized atoms: 0 12 13 16 19 20 21 22 23 25\n",
      "[18:05:05] Explicit valence for atom # 18 C, 5, is greater than permitted\n",
      "[18:05:05] Can't kekulize mol.  Unkekulized atoms: 1 2 3 4 5 6 8 9 10 11 12\n",
      "[18:05:07] Explicit valence for atom # 1 C, 5, is greater than permitted\n",
      "[18:05:09] Explicit valence for atom # 4 C, 5, is greater than permitted\n",
      "[18:05:11] Explicit valence for atom # 7 C, 5, is greater than permitted\n"
     ]
    },
    {
     "name": "stdout",
     "output_type": "stream",
     "text": [
      "Epoch 6/50, Train Loss: 0.3208, LR: 0.000500\n",
      "Validation - AUC: 0.7176, Accuracy: 0.7381, F1: 0.6452, Precision: 0.7692, Recall: 0.5556\n"
     ]
    },
    {
     "name": "stderr",
     "output_type": "stream",
     "text": [
      "[18:05:14] Explicit valence for atom # 3 C, 5, is greater than permitted\n",
      "[18:05:16] Explicit valence for atom # 6 C, 5, is greater than permitted\n",
      "[18:05:16] Explicit valence for atom # 5 C, 5, is greater than permitted\n",
      "[18:05:16] Explicit valence for atom # 14 C, 5, is greater than permitted\n",
      "[18:05:17] Explicit valence for atom # 12 C, 5, is greater than permitted\n",
      "[18:05:20] Explicit valence for atom # 6 C, 5, is greater than permitted\n",
      "[18:05:21] Explicit valence for atom # 9 N, 4, is greater than permitted\n",
      "[18:05:21] Explicit valence for atom # 3 C, 5, is greater than permitted\n",
      "[18:05:21] Explicit valence for atom # 1 C, 5, is greater than permitted\n",
      "[18:05:22] Explicit valence for atom # 4 C, 5, is greater than permitted\n",
      "[18:05:26] Can't kekulize mol.  Unkekulized atoms: 8 9 10 11 13\n",
      "[18:05:26] Explicit valence for atom # 14 C, 5, is greater than permitted\n"
     ]
    },
    {
     "name": "stdout",
     "output_type": "stream",
     "text": [
      "Epoch 7/50, Train Loss: 0.3682, LR: 0.000500\n",
      "Validation - AUC: 0.7245, Accuracy: 0.6667, F1: 0.5882, Precision: 0.6250, Recall: 0.5556\n",
      "New best model saved! AUC: 0.7245\n"
     ]
    },
    {
     "name": "stderr",
     "output_type": "stream",
     "text": [
      "[18:05:30] Explicit valence for atom # 4 C, 5, is greater than permitted\n",
      "[18:05:30] Explicit valence for atom # 6 C, 5, is greater than permitted\n",
      "[18:05:31] Explicit valence for atom # 11 C, 5, is greater than permitted\n",
      "[18:05:31] Can't kekulize mol.  Unkekulized atoms: 0 1 2 5 6\n",
      "[18:05:38] Explicit valence for atom # 21 C, 5, is greater than permitted\n",
      "[18:05:40] Can't kekulize mol.  Unkekulized atoms: 0 1 5 10 19\n",
      "[18:05:40] Explicit valence for atom # 20 C, 5, is greater than permitted\n"
     ]
    },
    {
     "name": "stdout",
     "output_type": "stream",
     "text": [
      "Epoch 8/50, Train Loss: 0.3165, LR: 0.000500\n",
      "Validation - AUC: 0.7292, Accuracy: 0.6905, F1: 0.6061, Precision: 0.6667, Recall: 0.5556\n",
      "New best model saved! AUC: 0.7292\n"
     ]
    },
    {
     "name": "stderr",
     "output_type": "stream",
     "text": [
      "[18:05:48] Explicit valence for atom # 18 C, 5, is greater than permitted\n",
      "[18:05:49] Explicit valence for atom # 3 C, 5, is greater than permitted\n",
      "[18:05:52] Explicit valence for atom # 18 C, 5, is greater than permitted\n",
      "[18:05:52] Explicit valence for atom # 16 C, 5, is greater than permitted\n",
      "[18:05:53] Can't kekulize mol.  Unkekulized atoms: 3 4 5 17 18\n",
      "[18:05:53] Explicit valence for atom # 1 C, 5, is greater than permitted\n",
      "[18:05:55] Explicit valence for atom # 18 C, 5, is greater than permitted\n",
      "[18:05:55] Explicit valence for atom # 1 C, 5, is greater than permitted\n",
      "[18:05:57] Can't kekulize mol.  Unkekulized atoms: 1 2 18\n",
      "[18:05:57] Explicit valence for atom # 1 C, 5, is greater than permitted\n",
      "[18:05:57] Explicit valence for atom # 0 C, 5, is greater than permitted\n"
     ]
    },
    {
     "name": "stdout",
     "output_type": "stream",
     "text": [
      "Epoch 9/50, Train Loss: 0.2871, LR: 0.000500\n",
      "Validation - AUC: 0.7454, Accuracy: 0.7381, F1: 0.6452, Precision: 0.7692, Recall: 0.5556\n",
      "New best model saved! AUC: 0.7454\n"
     ]
    },
    {
     "name": "stderr",
     "output_type": "stream",
     "text": [
      "[18:05:59] Explicit valence for atom # 5 C, 5, is greater than permitted\n",
      "[18:06:00] Explicit valence for atom # 4 C, 5, is greater than permitted\n",
      "[18:06:01] Explicit valence for atom # 1 C, 5, is greater than permitted\n",
      "[18:06:02] Explicit valence for atom # 5 C, 5, is greater than permitted\n",
      "[18:06:06] Explicit valence for atom # 6 C, 5, is greater than permitted\n",
      "[18:06:06] Explicit valence for atom # 19 C, 5, is greater than permitted\n",
      "[18:06:07] Explicit valence for atom # 15 C, 5, is greater than permitted\n",
      "[18:06:11] Explicit valence for atom # 2 C, 5, is greater than permitted\n",
      "[18:06:12] Explicit valence for atom # 1 C, 5, is greater than permitted\n",
      "[18:06:13] Explicit valence for atom # 1 C, 5, is greater than permitted\n",
      "[18:06:13] Explicit valence for atom # 25 C, 5, is greater than permitted\n"
     ]
    },
    {
     "name": "stdout",
     "output_type": "stream",
     "text": [
      "Epoch 10/50, Train Loss: 0.3095, LR: 0.000500\n",
      "Validation - AUC: 0.7616, Accuracy: 0.7381, F1: 0.6452, Precision: 0.7692, Recall: 0.5556\n",
      "New best model saved! AUC: 0.7616\n"
     ]
    },
    {
     "name": "stderr",
     "output_type": "stream",
     "text": [
      "[18:06:15] Explicit valence for atom # 3 C, 5, is greater than permitted\n",
      "[18:06:16] Explicit valence for atom # 5 C, 5, is greater than permitted\n",
      "[18:06:18] Explicit valence for atom # 23 C, 5, is greater than permitted\n",
      "[18:06:19] Explicit valence for atom # 10 C, 5, is greater than permitted\n",
      "[18:06:19] Explicit valence for atom # 4 C, 5, is greater than permitted\n",
      "[18:06:19] Explicit valence for atom # 8 C, 5, is greater than permitted\n",
      "[18:06:21] Explicit valence for atom # 1 O, 3, is greater than permitted\n",
      "[18:06:22] Explicit valence for atom # 14 C, 5, is greater than permitted\n",
      "[18:06:23] Explicit valence for atom # 1 C, 5, is greater than permitted\n",
      "[18:06:24] Explicit valence for atom # 8 C, 5, is greater than permitted\n",
      "[18:06:27] Explicit valence for atom # 3 C, 5, is greater than permitted\n",
      "[18:06:28] Can't kekulize mol.  Unkekulized atoms: 0 1 10 19\n"
     ]
    },
    {
     "name": "stdout",
     "output_type": "stream",
     "text": [
      "Epoch 11/50, Train Loss: 0.3325, LR: 0.000450\n",
      "Validation - AUC: 0.7315, Accuracy: 0.7143, F1: 0.6250, Precision: 0.7143, Recall: 0.5556\n"
     ]
    },
    {
     "name": "stderr",
     "output_type": "stream",
     "text": [
      "[18:06:31] Can't kekulize mol.  Unkekulized atoms: 9 10 11 12 13\n",
      "[18:06:32] Explicit valence for atom # 4 C, 5, is greater than permitted\n",
      "[18:06:32] Explicit valence for atom # 12 C, 5, is greater than permitted\n",
      "[18:06:35] Explicit valence for atom # 21 C, 5, is greater than permitted\n",
      "[18:06:36] Can't kekulize mol.  Unkekulized atoms: 0 1 5 6 7\n",
      "[18:06:37] Explicit valence for atom # 4 C, 5, is greater than permitted\n",
      "[18:06:38] Explicit valence for atom # 7 C, 5, is greater than permitted\n",
      "[18:06:38] Explicit valence for atom # 19 C, 5, is greater than permitted\n",
      "[18:06:40] Explicit valence for atom # 3 O, 3, is greater than permitted\n"
     ]
    },
    {
     "name": "stdout",
     "output_type": "stream",
     "text": [
      "Epoch 12/50, Train Loss: 0.2945, LR: 0.000450\n",
      "Validation - AUC: 0.7431, Accuracy: 0.6905, F1: 0.6061, Precision: 0.6667, Recall: 0.5556\n"
     ]
    },
    {
     "name": "stderr",
     "output_type": "stream",
     "text": [
      "[18:06:43] Explicit valence for atom # 6 C, 5, is greater than permitted\n",
      "[18:06:46] Explicit valence for atom # 1 O, 3, is greater than permitted\n",
      "[18:06:49] Explicit valence for atom # 14 C, 5, is greater than permitted\n",
      "[18:06:52] Explicit valence for atom # 18 C, 5, is greater than permitted\n"
     ]
    },
    {
     "name": "stdout",
     "output_type": "stream",
     "text": [
      "Epoch 13/50, Train Loss: 0.2831, LR: 0.000450\n",
      "Validation - AUC: 0.7361, Accuracy: 0.6905, F1: 0.6061, Precision: 0.6667, Recall: 0.5556\n"
     ]
    },
    {
     "name": "stderr",
     "output_type": "stream",
     "text": [
      "[18:06:57] Explicit valence for atom # 3 C, 5, is greater than permitted\n",
      "[18:06:59] Explicit valence for atom # 4 C, 5, is greater than permitted\n",
      "[18:06:59] Explicit valence for atom # 7 O, 3, is greater than permitted\n",
      "[18:07:00] Explicit valence for atom # 5 C, 5, is greater than permitted\n",
      "[18:07:01] Explicit valence for atom # 6 O, 3, is greater than permitted\n",
      "[18:07:01] Explicit valence for atom # 21 C, 5, is greater than permitted\n",
      "[18:07:02] Explicit valence for atom # 7 C, 5, is greater than permitted\n",
      "[18:07:03] Explicit valence for atom # 18 C, 5, is greater than permitted\n",
      "[18:07:03] Explicit valence for atom # 15 C, 5, is greater than permitted\n"
     ]
    },
    {
     "name": "stdout",
     "output_type": "stream",
     "text": [
      "Epoch 14/50, Train Loss: 0.3260, LR: 0.000450\n",
      "Validation - AUC: 0.7477, Accuracy: 0.6905, F1: 0.6061, Precision: 0.6667, Recall: 0.5556\n"
     ]
    },
    {
     "name": "stderr",
     "output_type": "stream",
     "text": [
      "[18:07:05] Explicit valence for atom # 14 C, 5, is greater than permitted\n",
      "[18:07:06] Explicit valence for atom # 1 C, 5, is greater than permitted\n",
      "[18:07:06] Explicit valence for atom # 19 C, 5, is greater than permitted\n",
      "[18:07:07] Can't kekulize mol.  Unkekulized atoms: 2\n",
      "[18:07:09] Explicit valence for atom # 23 C, 5, is greater than permitted\n",
      "[18:07:09] Explicit valence for atom # 6 C, 5, is greater than permitted\n",
      "[18:07:13] Can't kekulize mol.  Unkekulized atoms: 8 9 10 11 13\n",
      "[18:07:13] Explicit valence for atom # 12 C, 5, is greater than permitted\n",
      "[18:07:14] Explicit valence for atom # 3 C, 5, is greater than permitted\n"
     ]
    },
    {
     "name": "stdout",
     "output_type": "stream",
     "text": [
      "Epoch 15/50, Train Loss: 0.2507, LR: 0.000450\n",
      "Validation - AUC: 0.7106, Accuracy: 0.5714, F1: 0.6087, Precision: 0.5000, Recall: 0.7778\n"
     ]
    },
    {
     "name": "stderr",
     "output_type": "stream",
     "text": [
      "[18:07:17] Explicit valence for atom # 1 C, 5, is greater than permitted\n",
      "[18:07:17] Can't kekulize mol.  Unkekulized atoms: 2 3 4 15 16\n",
      "[18:07:17] Explicit valence for atom # 1 C, 5, is greater than permitted\n",
      "[18:07:18] Explicit valence for atom # 1 C, 5, is greater than permitted\n",
      "[18:07:20] Explicit valence for atom # 10 C, 5, is greater than permitted\n",
      "[18:07:21] Explicit valence for atom # 3 C, 5, is greater than permitted\n",
      "[18:07:23] Explicit valence for atom # 0 C, 5, is greater than permitted\n",
      "[18:07:24] Explicit valence for atom # 14 C, 5, is greater than permitted\n",
      "[18:07:24] Explicit valence for atom # 21 C, 5, is greater than permitted\n",
      "[18:07:26] Explicit valence for atom # 10 C, 5, is greater than permitted\n"
     ]
    },
    {
     "name": "stdout",
     "output_type": "stream",
     "text": [
      "Epoch 16/50, Train Loss: 0.2788, LR: 0.000405\n",
      "Validation - AUC: 0.7477, Accuracy: 0.7143, F1: 0.6250, Precision: 0.7143, Recall: 0.5556\n"
     ]
    },
    {
     "name": "stderr",
     "output_type": "stream",
     "text": [
      "[18:07:29] Explicit valence for atom # 4 C, 5, is greater than permitted\n",
      "[18:07:31] Explicit valence for atom # 14 C, 5, is greater than permitted\n",
      "[18:07:32] Explicit valence for atom # 5 C, 5, is greater than permitted\n",
      "[18:07:34] Explicit valence for atom # 3 C, 5, is greater than permitted\n",
      "[18:07:34] Explicit valence for atom # 4 C, 5, is greater than permitted\n",
      "[18:07:35] Explicit valence for atom # 12 C, 5, is greater than permitted\n",
      "[18:07:35] Explicit valence for atom # 4 C, 5, is greater than permitted\n",
      "[18:07:36] Explicit valence for atom # 0 C, 5, is greater than permitted\n",
      "[18:07:37] Explicit valence for atom # 7 C, 5, is greater than permitted\n"
     ]
    },
    {
     "name": "stdout",
     "output_type": "stream",
     "text": [
      "Epoch 17/50, Train Loss: 0.2450, LR: 0.000405\n",
      "Validation - AUC: 0.7523, Accuracy: 0.7143, F1: 0.6250, Precision: 0.7143, Recall: 0.5556\n"
     ]
    },
    {
     "name": "stderr",
     "output_type": "stream",
     "text": [
      "[18:07:39] Explicit valence for atom # 8 Cl, 2, is greater than permitted\n",
      "[18:07:40] Can't kekulize mol.  Unkekulized atoms: 3 4 5 17 18\n",
      "[18:07:41] Explicit valence for atom # 4 C, 5, is greater than permitted\n",
      "[18:07:44] Can't kekulize mol.  Unkekulized atoms: 1 2 11 12 13\n",
      "[18:07:44] Can't kekulize mol.  Unkekulized atoms: 9 10 11 12 13\n",
      "[18:07:45] Explicit valence for atom # 5 C, 5, is greater than permitted\n",
      "[18:07:45] Explicit valence for atom # 8 C, 5, is greater than permitted\n",
      "[18:07:45] Explicit valence for atom # 3 O, 3, is greater than permitted\n",
      "[18:07:46] Explicit valence for atom # 22 C, 5, is greater than permitted\n",
      "[18:07:47] Explicit valence for atom # 4 C, 5, is greater than permitted\n",
      "[18:07:47] Explicit valence for atom # 2 C, 5, is greater than permitted\n",
      "[18:07:48] Explicit valence for atom # 12 C, 5, is greater than permitted\n"
     ]
    },
    {
     "name": "stdout",
     "output_type": "stream",
     "text": [
      "Epoch 18/50, Train Loss: 0.2510, LR: 0.000405\n",
      "Validation - AUC: 0.6806, Accuracy: 0.6667, F1: 0.5882, Precision: 0.6250, Recall: 0.5556\n"
     ]
    },
    {
     "name": "stderr",
     "output_type": "stream",
     "text": [
      "[18:07:51] Explicit valence for atom # 5 C, 5, is greater than permitted\n",
      "[18:07:51] Explicit valence for atom # 6 C, 5, is greater than permitted\n",
      "[18:07:53] Explicit valence for atom # 10 C, 5, is greater than permitted\n",
      "[18:07:53] Explicit valence for atom # 2 C, 5, is greater than permitted\n",
      "[18:07:54] Explicit valence for atom # 7 C, 5, is greater than permitted\n",
      "[18:07:56] Explicit valence for atom # 11 C, 5, is greater than permitted\n",
      "[18:07:57] Explicit valence for atom # 10 C, 5, is greater than permitted\n",
      "[18:07:58] Explicit valence for atom # 9 C, 5, is greater than permitted\n",
      "[18:07:58] Explicit valence for atom # 8 C, 5, is greater than permitted\n",
      "[18:07:58] Explicit valence for atom # 3 C, 5, is greater than permitted\n",
      "[18:07:58] Explicit valence for atom # 8 C, 5, is greater than permitted\n",
      "[18:07:58] Explicit valence for atom # 1 O, 3, is greater than permitted\n",
      "[18:07:59] Can't kekulize mol.  Unkekulized atoms: 1 2 3 5 6 9 10 11 12 13\n"
     ]
    },
    {
     "name": "stdout",
     "output_type": "stream",
     "text": [
      "Epoch 19/50, Train Loss: 0.2353, LR: 0.000405\n",
      "Validation - AUC: 0.7477, Accuracy: 0.7143, F1: 0.6250, Precision: 0.7143, Recall: 0.5556\n"
     ]
    },
    {
     "name": "stderr",
     "output_type": "stream",
     "text": [
      "[18:08:01] Explicit valence for atom # 13 C, 5, is greater than permitted\n",
      "[18:08:01] Explicit valence for atom # 1 C, 5, is greater than permitted\n",
      "[18:08:02] Explicit valence for atom # 1 C, 5, is greater than permitted\n",
      "[18:08:03] Explicit valence for atom # 22 C, 5, is greater than permitted\n",
      "[18:08:04] Explicit valence for atom # 19 C, 5, is greater than permitted\n",
      "[18:08:08] Explicit valence for atom # 1 C, 5, is greater than permitted\n",
      "[18:08:10] Explicit valence for atom # 17 C, 5, is greater than permitted\n",
      "[18:08:10] Explicit valence for atom # 22 C, 5, is greater than permitted\n"
     ]
    },
    {
     "name": "stdout",
     "output_type": "stream",
     "text": [
      "Epoch 20/50, Train Loss: 0.2733, LR: 0.000405\n",
      "Validation - AUC: 0.7778, Accuracy: 0.7381, F1: 0.6452, Precision: 0.7692, Recall: 0.5556\n",
      "New best model saved! AUC: 0.7778\n"
     ]
    },
    {
     "name": "stderr",
     "output_type": "stream",
     "text": [
      "[18:08:12] Can't kekulize mol.  Unkekulized atoms: 2 3 4 15 16\n",
      "[18:08:12] Explicit valence for atom # 15 C, 5, is greater than permitted\n",
      "[18:08:13] Explicit valence for atom # 4 C, 5, is greater than permitted\n",
      "[18:08:13] Explicit valence for atom # 4 C, 5, is greater than permitted\n",
      "[18:08:15] Explicit valence for atom # 3 C, 5, is greater than permitted\n",
      "[18:08:16] Can't kekulize mol.  Unkekulized atoms: 4 5 6 13 16\n",
      "[18:08:17] Explicit valence for atom # 1 C, 5, is greater than permitted\n",
      "[18:08:17] Explicit valence for atom # 1 C, 5, is greater than permitted\n",
      "[18:08:18] Explicit valence for atom # 5 C, 5, is greater than permitted\n",
      "[18:08:22] Can't kekulize mol.  Unkekulized atoms: 12 13 14 16 20 21 22 23 25\n"
     ]
    },
    {
     "name": "stdout",
     "output_type": "stream",
     "text": [
      "Epoch 21/50, Train Loss: 0.2405, LR: 0.000365\n",
      "Validation - AUC: 0.7546, Accuracy: 0.7143, F1: 0.6250, Precision: 0.7143, Recall: 0.5556\n"
     ]
    },
    {
     "name": "stderr",
     "output_type": "stream",
     "text": [
      "[18:08:24] Explicit valence for atom # 1 C, 5, is greater than permitted\n",
      "[18:08:25] Explicit valence for atom # 5 C, 5, is greater than permitted\n",
      "[18:08:26] Explicit valence for atom # 5 C, 5, is greater than permitted\n",
      "[18:08:27] Can't kekulize mol.  Unkekulized atoms: 9 10 11 15 16\n",
      "[18:08:27] Explicit valence for atom # 5 C, 5, is greater than permitted\n",
      "[18:08:27] Explicit valence for atom # 1 C, 5, is greater than permitted\n",
      "[18:08:28] Explicit valence for atom # 20 C, 5, is greater than permitted\n",
      "[18:08:29] Explicit valence for atom # 12 C, 5, is greater than permitted\n",
      "[18:08:30] Explicit valence for atom # 5 C, 5, is greater than permitted\n",
      "[18:08:32] Explicit valence for atom # 10 C, 5, is greater than permitted\n",
      "[18:08:33] Explicit valence for atom # 14 C, 5, is greater than permitted\n"
     ]
    },
    {
     "name": "stdout",
     "output_type": "stream",
     "text": [
      "Epoch 22/50, Train Loss: 0.1969, LR: 0.000365\n",
      "Validation - AUC: 0.7755, Accuracy: 0.7381, F1: 0.6452, Precision: 0.7692, Recall: 0.5556\n"
     ]
    },
    {
     "name": "stderr",
     "output_type": "stream",
     "text": [
      "[18:08:35] Explicit valence for atom # 7 C, 5, is greater than permitted\n",
      "[18:08:35] Explicit valence for atom # 4 C, 5, is greater than permitted\n",
      "[18:08:35] Explicit valence for atom # 7 C, 5, is greater than permitted\n",
      "[18:08:36] Explicit valence for atom # 8 C, 5, is greater than permitted\n",
      "[18:08:37] Explicit valence for atom # 12 C, 5, is greater than permitted\n",
      "[18:08:38] Explicit valence for atom # 14 C, 5, is greater than permitted\n",
      "[18:08:38] Explicit valence for atom # 6 C, 5, is greater than permitted\n",
      "[18:08:39] Explicit valence for atom # 15 C, 5, is greater than permitted\n",
      "[18:08:40] Can't kekulize mol.  Unkekulized atoms: 9 10 11 15 16\n",
      "[18:08:40] Explicit valence for atom # 8 C, 5, is greater than permitted\n",
      "[18:08:41] Explicit valence for atom # 5 C, 5, is greater than permitted\n",
      "[18:08:41] Explicit valence for atom # 6 C, 5, is greater than permitted\n",
      "[18:08:42] Explicit valence for atom # 8 C, 5, is greater than permitted\n",
      "[18:08:43] Can't kekulize mol.  Unkekulized atoms: 3 4 5 6 9\n",
      "[18:08:45] Explicit valence for atom # 14 C, 5, is greater than permitted\n"
     ]
    },
    {
     "name": "stdout",
     "output_type": "stream",
     "text": [
      "Epoch 23/50, Train Loss: 0.2256, LR: 0.000365\n",
      "Validation - AUC: 0.7569, Accuracy: 0.6905, F1: 0.6061, Precision: 0.6667, Recall: 0.5556\n"
     ]
    },
    {
     "name": "stderr",
     "output_type": "stream",
     "text": [
      "[18:08:47] Explicit valence for atom # 4 C, 5, is greater than permitted\n",
      "[18:08:48] Explicit valence for atom # 25 C, 5, is greater than permitted\n",
      "[18:08:48] Explicit valence for atom # 3 C, 5, is greater than permitted\n",
      "[18:08:51] Explicit valence for atom # 8 C, 5, is greater than permitted\n",
      "[18:08:52] Explicit valence for atom # 21 C, 5, is greater than permitted\n",
      "[18:08:52] Can't kekulize mol.  Unkekulized atoms: 2 3 6 9 10 11 12\n",
      "[18:08:54] Explicit valence for atom # 15 C, 5, is greater than permitted\n",
      "[18:08:55] Explicit valence for atom # 6 C, 5, is greater than permitted\n",
      "[18:08:56] Explicit valence for atom # 1 C, 5, is greater than permitted\n",
      "[18:08:56] Explicit valence for atom # 5 O, 3, is greater than permitted\n",
      "[18:08:56] Explicit valence for atom # 1 C, 5, is greater than permitted\n",
      "[18:08:57] Explicit valence for atom # 5 C, 5, is greater than permitted\n",
      "[18:08:59] Explicit valence for atom # 6 C, 5, is greater than permitted\n"
     ]
    },
    {
     "name": "stdout",
     "output_type": "stream",
     "text": [
      "Epoch 24/50, Train Loss: 0.2346, LR: 0.000365\n",
      "Validation - AUC: 0.7593, Accuracy: 0.7143, F1: 0.6250, Precision: 0.7143, Recall: 0.5556\n"
     ]
    },
    {
     "name": "stderr",
     "output_type": "stream",
     "text": [
      "[18:09:01] Explicit valence for atom # 7 C, 5, is greater than permitted\n",
      "[18:09:03] Can't kekulize mol.  Unkekulized atoms: 9 10 11 12 13\n",
      "[18:09:04] Explicit valence for atom # 15 C, 5, is greater than permitted\n",
      "[18:09:04] Explicit valence for atom # 4 C, 5, is greater than permitted\n",
      "[18:09:05] Can't kekulize mol.  Unkekulized atoms: 3 4 5 17 18\n",
      "[18:09:05] Explicit valence for atom # 5 C, 5, is greater than permitted\n",
      "[18:09:08] Explicit valence for atom # 23 C, 5, is greater than permitted\n",
      "[18:09:10] Explicit valence for atom # 1 C, 5, is greater than permitted\n",
      "[18:09:10] Explicit valence for atom # 6 C, 5, is greater than permitted\n"
     ]
    },
    {
     "name": "stdout",
     "output_type": "stream",
     "text": [
      "Epoch 25/50, Train Loss: 0.2025, LR: 0.000365\n",
      "Validation - AUC: 0.7500, Accuracy: 0.6667, F1: 0.6111, Precision: 0.6111, Recall: 0.6111\n"
     ]
    },
    {
     "name": "stderr",
     "output_type": "stream",
     "text": [
      "[18:09:12] Can't kekulize mol.  Unkekulized atoms: 0 1 5 6 7\n",
      "[18:09:12] Explicit valence for atom # 0 C, 5, is greater than permitted\n",
      "[18:09:12] Explicit valence for atom # 8 C, 5, is greater than permitted\n",
      "[18:09:14] Can't kekulize mol.  Unkekulized atoms: 2 3 4 17 18\n",
      "[18:09:14] Explicit valence for atom # 14 C, 5, is greater than permitted\n",
      "[18:09:15] Explicit valence for atom # 1 C, 5, is greater than permitted\n",
      "[18:09:18] Explicit valence for atom # 3 C, 5, is greater than permitted\n",
      "[18:09:20] Can't kekulize mol.  Unkekulized atoms: 2 3 4 5 6 9 10 11 12\n",
      "[18:09:20] Explicit valence for atom # 8 C, 5, is greater than permitted\n",
      "[18:09:21] Explicit valence for atom # 1 C, 5, is greater than permitted\n"
     ]
    },
    {
     "name": "stdout",
     "output_type": "stream",
     "text": [
      "Epoch 26/50, Train Loss: 0.2335, LR: 0.000328\n",
      "Validation - AUC: 0.7176, Accuracy: 0.7381, F1: 0.6452, Precision: 0.7692, Recall: 0.5556\n"
     ]
    },
    {
     "name": "stderr",
     "output_type": "stream",
     "text": [
      "[18:09:23] Can't kekulize mol.  Unkekulized atoms: 4 5 6 7 9\n",
      "[18:09:24] Explicit valence for atom # 7 C, 5, is greater than permitted\n",
      "[18:09:25] Explicit valence for atom # 5 C, 5, is greater than permitted\n",
      "[18:09:27] Explicit valence for atom # 7 C, 5, is greater than permitted\n",
      "[18:09:28] Explicit valence for atom # 16 C, 5, is greater than permitted\n",
      "[18:09:28] Explicit valence for atom # 0 C, 5, is greater than permitted\n",
      "[18:09:28] Explicit valence for atom # 16 C, 5, is greater than permitted\n",
      "[18:09:32] Explicit valence for atom # 18 C, 5, is greater than permitted\n"
     ]
    },
    {
     "name": "stdout",
     "output_type": "stream",
     "text": [
      "Epoch 27/50, Train Loss: 0.2047, LR: 0.000328\n",
      "Validation - AUC: 0.7477, Accuracy: 0.7381, F1: 0.6452, Precision: 0.7692, Recall: 0.5556\n"
     ]
    },
    {
     "name": "stderr",
     "output_type": "stream",
     "text": [
      "[18:09:35] Explicit valence for atom # 1 C, 5, is greater than permitted\n",
      "[18:09:36] Explicit valence for atom # 12 C, 5, is greater than permitted\n",
      "[18:09:37] Explicit valence for atom # 12 C, 5, is greater than permitted\n",
      "[18:09:37] Explicit valence for atom # 6 C, 5, is greater than permitted\n",
      "[18:09:37] Can't kekulize mol.  Unkekulized atoms: 10 11 12 14 15\n",
      "[18:09:38] Explicit valence for atom # 14 C, 5, is greater than permitted\n",
      "[18:09:39] Can't kekulize mol.  Unkekulized atoms: 1 2 3 4 5 6 9 10 11 12 13\n",
      "[18:09:40] Explicit valence for atom # 8 C, 5, is greater than permitted\n",
      "[18:09:40] Explicit valence for atom # 8 C, 5, is greater than permitted\n",
      "[18:09:43] Explicit valence for atom # 1 C, 5, is greater than permitted\n",
      "[18:09:43] Explicit valence for atom # 21 C, 5, is greater than permitted\n"
     ]
    },
    {
     "name": "stdout",
     "output_type": "stream",
     "text": [
      "Epoch 28/50, Train Loss: 0.2020, LR: 0.000328\n",
      "Validation - AUC: 0.7569, Accuracy: 0.7143, F1: 0.6471, Precision: 0.6875, Recall: 0.6111\n"
     ]
    },
    {
     "name": "stderr",
     "output_type": "stream",
     "text": [
      "[18:09:46] Can't kekulize mol.  Unkekulized atoms: 8 9 10 11 13\n",
      "[18:09:47] Explicit valence for atom # 1 C, 5, is greater than permitted\n",
      "[18:09:49] Explicit valence for atom # 2 C, 5, is greater than permitted\n",
      "[18:09:51] Explicit valence for atom # 1 C, 5, is greater than permitted\n",
      "[18:09:51] Can't kekulize mol.  Unkekulized atoms: 3 4 5 17 18\n",
      "[18:09:52] Explicit valence for atom # 4 C, 5, is greater than permitted\n",
      "[18:09:53] Can't kekulize mol.  Unkekulized atoms: 1 2 3 15 16\n",
      "[18:09:53] Explicit valence for atom # 0 C, 5, is greater than permitted\n",
      "[18:09:54] Explicit valence for atom # 10 C, 5, is greater than permitted\n",
      "[18:09:55] Explicit valence for atom # 4 C, 5, is greater than permitted\n",
      "[18:09:55] Explicit valence for atom # 4 C, 5, is greater than permitted\n",
      "[18:09:56] Explicit valence for atom # 12 C, 5, is greater than permitted\n"
     ]
    },
    {
     "name": "stdout",
     "output_type": "stream",
     "text": [
      "Epoch 29/50, Train Loss: 0.2052, LR: 0.000328\n",
      "Validation - AUC: 0.7778, Accuracy: 0.7143, F1: 0.6250, Precision: 0.7143, Recall: 0.5556\n"
     ]
    },
    {
     "name": "stderr",
     "output_type": "stream",
     "text": [
      "[18:09:57] Explicit valence for atom # 1 C, 5, is greater than permitted\n",
      "[18:09:58] Can't kekulize mol.  Unkekulized atoms: 5 6 7 10 11\n",
      "[18:10:02] Explicit valence for atom # 3 C, 5, is greater than permitted\n",
      "[18:10:04] Explicit valence for atom # 9 C, 5, is greater than permitted\n",
      "[18:10:04] Explicit valence for atom # 16 C, 5, is greater than permitted\n",
      "[18:10:04] Explicit valence for atom # 3 C, 5, is greater than permitted\n",
      "[18:10:05] Explicit valence for atom # 4 C, 5, is greater than permitted\n"
     ]
    },
    {
     "name": "stdout",
     "output_type": "stream",
     "text": [
      "Epoch 30/50, Train Loss: 0.1912, LR: 0.000328\n",
      "Validation - AUC: 0.7731, Accuracy: 0.7143, F1: 0.6471, Precision: 0.6875, Recall: 0.6111\n"
     ]
    },
    {
     "name": "stderr",
     "output_type": "stream",
     "text": [
      "[18:10:09] Explicit valence for atom # 6 C, 5, is greater than permitted\n",
      "[18:10:09] Explicit valence for atom # 16 C, 5, is greater than permitted\n",
      "[18:10:09] Explicit valence for atom # 4 C, 5, is greater than permitted\n",
      "[18:10:10] Explicit valence for atom # 21 C, 5, is greater than permitted\n",
      "[18:10:14] Explicit valence for atom # 6 C, 5, is greater than permitted\n",
      "[18:10:15] Can't kekulize mol.  Unkekulized atoms: 0 12 13 14 16 17 19 20 21 22 25\n",
      "[18:10:15] Explicit valence for atom # 6 C, 5, is greater than permitted\n",
      "[18:10:16] Explicit valence for atom # 2 C, 5, is greater than permitted\n",
      "[18:10:16] Explicit valence for atom # 6 C, 5, is greater than permitted\n",
      "[18:10:16] Can't kekulize mol.  Unkekulized atoms: 4 5 6 7 16\n",
      "[18:10:18] Explicit valence for atom # 8 C, 5, is greater than permitted\n"
     ]
    },
    {
     "name": "stdout",
     "output_type": "stream",
     "text": [
      "Epoch 31/50, Train Loss: 0.1952, LR: 0.000295\n",
      "Validation - AUC: 0.7755, Accuracy: 0.7619, F1: 0.6875, Precision: 0.7857, Recall: 0.6111\n"
     ]
    },
    {
     "name": "stderr",
     "output_type": "stream",
     "text": [
      "[18:10:21] Explicit valence for atom # 1 C, 5, is greater than permitted\n",
      "[18:10:21] Explicit valence for atom # 19 C, 5, is greater than permitted\n",
      "[18:10:24] Explicit valence for atom # 5 C, 5, is greater than permitted\n",
      "[18:10:24] Explicit valence for atom # 8 C, 5, is greater than permitted\n",
      "[18:10:26] Explicit valence for atom # 10 C, 5, is greater than permitted\n"
     ]
    },
    {
     "name": "stdout",
     "output_type": "stream",
     "text": [
      "Epoch 32/50, Train Loss: 0.1647, LR: 0.000295\n",
      "Validation - AUC: 0.7824, Accuracy: 0.7381, F1: 0.6452, Precision: 0.7692, Recall: 0.5556\n",
      "New best model saved! AUC: 0.7824\n"
     ]
    },
    {
     "name": "stderr",
     "output_type": "stream",
     "text": [
      "[18:10:35] Explicit valence for atom # 14 C, 5, is greater than permitted\n",
      "[18:10:37] Can't kekulize mol.  Unkekulized atoms: 1 2 3\n",
      "[18:10:37] Explicit valence for atom # 17 C, 5, is greater than permitted\n",
      "[18:10:38] Explicit valence for atom # 3 C, 5, is greater than permitted\n",
      "[18:10:39] Can't kekulize mol.  Unkekulized atoms: 10 11 12 15 16\n",
      "[18:10:40] Explicit valence for atom # 21 C, 5, is greater than permitted\n",
      "[18:10:40] Explicit valence for atom # 6 C, 5, is greater than permitted\n",
      "[18:10:41] Explicit valence for atom # 1 C, 5, is greater than permitted\n",
      "[18:10:42] Explicit valence for atom # 3 C, 5, is greater than permitted\n",
      "[18:10:42] Explicit valence for atom # 4 C, 5, is greater than permitted\n",
      "[18:10:43] Explicit valence for atom # 5 C, 5, is greater than permitted\n"
     ]
    },
    {
     "name": "stdout",
     "output_type": "stream",
     "text": [
      "Epoch 33/50, Train Loss: 0.1986, LR: 0.000295\n",
      "Validation - AUC: 0.8032, Accuracy: 0.7619, F1: 0.6875, Precision: 0.7857, Recall: 0.6111\n",
      "New best model saved! AUC: 0.8032\n"
     ]
    },
    {
     "name": "stderr",
     "output_type": "stream",
     "text": [
      "[18:10:47] Explicit valence for atom # 7 C, 5, is greater than permitted\n",
      "[18:10:47] Can't kekulize mol.  Unkekulized atoms: 0 9 10 11 12\n",
      "[18:10:48] Can't kekulize mol.  Unkekulized atoms: 10 11 12 14 15\n",
      "[18:10:49] Explicit valence for atom # 19 C, 5, is greater than permitted\n",
      "[18:10:49] Explicit valence for atom # 5 C, 5, is greater than permitted\n",
      "[18:10:52] Explicit valence for atom # 20 C, 5, is greater than permitted\n",
      "[18:10:52] Explicit valence for atom # 1 C, 5, is greater than permitted\n",
      "[18:10:53] Can't kekulize mol.  Unkekulized atoms: 1 2 3 4 6 8 9 10 11 12 13\n",
      "[18:10:53] Explicit valence for atom # 7 C, 5, is greater than permitted\n",
      "[18:10:54] Explicit valence for atom # 4 C, 5, is greater than permitted\n",
      "[18:10:55] Explicit valence for atom # 1 C, 5, is greater than permitted\n"
     ]
    },
    {
     "name": "stdout",
     "output_type": "stream",
     "text": [
      "Epoch 34/50, Train Loss: 0.1620, LR: 0.000295\n",
      "Validation - AUC: 0.8056, Accuracy: 0.7381, F1: 0.6452, Precision: 0.7692, Recall: 0.5556\n",
      "New best model saved! AUC: 0.8056\n"
     ]
    },
    {
     "name": "stderr",
     "output_type": "stream",
     "text": [
      "[18:11:00] Explicit valence for atom # 7 O, 3, is greater than permitted\n",
      "[18:11:00] Explicit valence for atom # 3 C, 5, is greater than permitted\n",
      "[18:11:01] Explicit valence for atom # 1 C, 5, is greater than permitted\n",
      "[18:11:02] Explicit valence for atom # 6 C, 5, is greater than permitted\n",
      "[18:11:02] Explicit valence for atom # 4 C, 5, is greater than permitted\n",
      "[18:11:04] Explicit valence for atom # 21 C, 5, is greater than permitted\n",
      "[18:11:04] Explicit valence for atom # 14 C, 5, is greater than permitted\n",
      "[18:11:06] Can't kekulize mol.  Unkekulized atoms: 10 11 12 14 15\n",
      "[18:11:06] Explicit valence for atom # 17 C, 5, is greater than permitted\n",
      "[18:11:07] Explicit valence for atom # 6 C, 5, is greater than permitted\n",
      "[18:11:07] Explicit valence for atom # 1 C, 5, is greater than permitted\n",
      "[18:11:08] Explicit valence for atom # 1 C, 5, is greater than permitted\n",
      "[18:11:09] Explicit valence for atom # 5 C, 5, is greater than permitted\n",
      "[18:11:09] Explicit valence for atom # 1 C, 5, is greater than permitted\n"
     ]
    },
    {
     "name": "stdout",
     "output_type": "stream",
     "text": [
      "Epoch 35/50, Train Loss: 0.1757, LR: 0.000295\n",
      "Validation - AUC: 0.8056, Accuracy: 0.7381, F1: 0.6452, Precision: 0.7692, Recall: 0.5556\n"
     ]
    },
    {
     "name": "stderr",
     "output_type": "stream",
     "text": [
      "[18:11:15] Explicit valence for atom # 33 C, 5, is greater than permitted\n",
      "[18:11:19] Explicit valence for atom # 11 S, 7, is greater than permitted\n",
      "[18:11:20] Explicit valence for atom # 3 C, 5, is greater than permitted\n",
      "[18:11:20] Explicit valence for atom # 15 C, 5, is greater than permitted\n",
      "[18:11:22] Explicit valence for atom # 5 C, 5, is greater than permitted\n"
     ]
    },
    {
     "name": "stdout",
     "output_type": "stream",
     "text": [
      "Epoch 36/50, Train Loss: 0.1393, LR: 0.000266\n",
      "Validation - AUC: 0.7847, Accuracy: 0.7381, F1: 0.6667, Precision: 0.7333, Recall: 0.6111\n"
     ]
    },
    {
     "name": "stderr",
     "output_type": "stream",
     "text": [
      "[18:11:25] Can't kekulize mol.  Unkekulized atoms: 4 5 6 9\n",
      "[18:11:29] Can't kekulize mol.  Unkekulized atoms: 9 10 11 12 13\n",
      "[18:11:30] Can't kekulize mol.  Unkekulized atoms: 3 4 6\n",
      "[18:11:30] Explicit valence for atom # 2 C, 5, is greater than permitted\n",
      "[18:11:31] Explicit valence for atom # 8 C, 5, is greater than permitted\n",
      "[18:11:31] Explicit valence for atom # 3 C, 5, is greater than permitted\n",
      "[18:11:32] Explicit valence for atom # 11 C, 5, is greater than permitted\n",
      "[18:11:38] Explicit valence for atom # 18 C, 5, is greater than permitted\n"
     ]
    },
    {
     "name": "stdout",
     "output_type": "stream",
     "text": [
      "Epoch 37/50, Train Loss: 0.1751, LR: 0.000266\n",
      "Validation - AUC: 0.8009, Accuracy: 0.7619, F1: 0.6875, Precision: 0.7857, Recall: 0.6111\n"
     ]
    },
    {
     "name": "stderr",
     "output_type": "stream",
     "text": [
      "[18:11:42] Explicit valence for atom # 6 C, 5, is greater than permitted\n",
      "[18:11:44] Explicit valence for atom # 19 C, 5, is greater than permitted\n",
      "[18:11:46] Explicit valence for atom # 6 C, 5, is greater than permitted\n",
      "[18:11:46] Explicit valence for atom # 15 C, 5, is greater than permitted\n",
      "[18:11:48] Can't kekulize mol.  Unkekulized atoms: 9 10 11 12 13\n",
      "[18:11:49] Explicit valence for atom # 4 C, 5, is greater than permitted\n",
      "[18:11:49] Explicit valence for atom # 14 C, 5, is greater than permitted\n",
      "[18:11:50] Explicit valence for atom # 1 C, 5, is greater than permitted\n",
      "[18:11:52] Explicit valence for atom # 1 C, 5, is greater than permitted\n",
      "[18:11:53] Explicit valence for atom # 19 C, 5, is greater than permitted\n",
      "[18:11:53] Explicit valence for atom # 4 C, 5, is greater than permitted\n",
      "[18:11:54] Can't kekulize mol.  Unkekulized atoms: 4 5 6 13 16\n"
     ]
    },
    {
     "name": "stdout",
     "output_type": "stream",
     "text": [
      "Epoch 38/50, Train Loss: 0.1544, LR: 0.000266\n",
      "Validation - AUC: 0.7801, Accuracy: 0.7143, F1: 0.6250, Precision: 0.7143, Recall: 0.5556\n"
     ]
    },
    {
     "name": "stderr",
     "output_type": "stream",
     "text": [
      "[18:11:56] Explicit valence for atom # 1 C, 5, is greater than permitted\n",
      "[18:11:57] Explicit valence for atom # 8 C, 5, is greater than permitted\n",
      "[18:11:57] Explicit valence for atom # 7 C, 5, is greater than permitted\n",
      "[18:11:58] Explicit valence for atom # 5 C, 5, is greater than permitted\n",
      "[18:11:58] Explicit valence for atom # 19 C, 5, is greater than permitted\n",
      "[18:11:59] Explicit valence for atom # 1 C, 5, is greater than permitted\n",
      "[18:11:59] Explicit valence for atom # 17 C, 5, is greater than permitted\n",
      "[18:12:00] Explicit valence for atom # 17 C, 5, is greater than permitted\n",
      "[18:12:02] Explicit valence for atom # 12 C, 5, is greater than permitted\n",
      "[18:12:04] Can't kekulize mol.  Unkekulized atoms: 2 18\n",
      "[18:12:05] Explicit valence for atom # 1 C, 5, is greater than permitted\n",
      "[18:12:08] Can't kekulize mol.  Unkekulized atoms: 9 10 11 12 13\n",
      "[18:12:08] Explicit valence for atom # 3 C, 5, is greater than permitted\n"
     ]
    },
    {
     "name": "stdout",
     "output_type": "stream",
     "text": [
      "Epoch 39/50, Train Loss: 0.1521, LR: 0.000266\n",
      "Validation - AUC: 0.7801, Accuracy: 0.7619, F1: 0.6875, Precision: 0.7857, Recall: 0.6111\n"
     ]
    },
    {
     "name": "stderr",
     "output_type": "stream",
     "text": [
      "[18:12:15] Explicit valence for atom # 4 C, 5, is greater than permitted\n",
      "[18:12:15] Explicit valence for atom # 1 C, 5, is greater than permitted\n",
      "[18:12:16] Explicit valence for atom # 8 C, 5, is greater than permitted\n",
      "[18:12:17] Can't kekulize mol.  Unkekulized atoms: 0 12 13 14 16 20 21 22 23 25\n",
      "[18:12:18] Explicit valence for atom # 5 C, 5, is greater than permitted\n",
      "[18:12:20] Explicit valence for atom # 1 C, 5, is greater than permitted\n",
      "[18:12:22] Explicit valence for atom # 1 C, 5, is greater than permitted\n",
      "[18:12:22] Explicit valence for atom # 24 C, 5, is greater than permitted\n"
     ]
    },
    {
     "name": "stdout",
     "output_type": "stream",
     "text": [
      "Epoch 40/50, Train Loss: 0.2066, LR: 0.000266\n",
      "Validation - AUC: 0.7801, Accuracy: 0.6905, F1: 0.6286, Precision: 0.6471, Recall: 0.6111\n"
     ]
    },
    {
     "name": "stderr",
     "output_type": "stream",
     "text": [
      "[18:12:24] Can't kekulize mol.  Unkekulized atoms: 8 9 10 11 13\n",
      "[18:12:29] Explicit valence for atom # 18 C, 5, is greater than permitted\n",
      "[18:12:34] Can't kekulize mol.  Unkekulized atoms: 9 10 11 12 13\n",
      "[18:12:34] Explicit valence for atom # 14 C, 5, is greater than permitted\n",
      "[18:12:36] Explicit valence for atom # 10 C, 5, is greater than permitted\n"
     ]
    },
    {
     "name": "stdout",
     "output_type": "stream",
     "text": [
      "Epoch 41/50, Train Loss: 0.1873, LR: 0.000239\n",
      "Validation - AUC: 0.8079, Accuracy: 0.7619, F1: 0.6875, Precision: 0.7857, Recall: 0.6111\n",
      "New best model saved! AUC: 0.8079\n"
     ]
    },
    {
     "name": "stderr",
     "output_type": "stream",
     "text": [
      "[18:12:38] Can't kekulize mol.  Unkekulized atoms: 2 11 12\n",
      "[18:12:38] Explicit valence for atom # 1 C, 5, is greater than permitted\n",
      "[18:12:40] Can't kekulize mol.  Unkekulized atoms: 1 2 18\n",
      "[18:12:41] Explicit valence for atom # 6 C, 5, is greater than permitted\n",
      "[18:12:43] Explicit valence for atom # 17 C, 5, is greater than permitted\n",
      "[18:12:44] Explicit valence for atom # 6 O, 3, is greater than permitted\n",
      "[18:12:45] Explicit valence for atom # 5 C, 5, is greater than permitted\n",
      "[18:12:46] Explicit valence for atom # 5 C, 5, is greater than permitted\n",
      "[18:12:48] Can't kekulize mol.  Unkekulized atoms: 3 4 5 17 18\n",
      "[18:12:49] Explicit valence for atom # 19 C, 5, is greater than permitted\n",
      "[18:12:49] Explicit valence for atom # 5 C, 5, is greater than permitted\n",
      "[18:12:50] Explicit valence for atom # 6 N, 4, is greater than permitted\n"
     ]
    },
    {
     "name": "stdout",
     "output_type": "stream",
     "text": [
      "Epoch 42/50, Train Loss: 0.1079, LR: 0.000239\n",
      "Validation - AUC: 0.8194, Accuracy: 0.7619, F1: 0.6875, Precision: 0.7857, Recall: 0.6111\n",
      "New best model saved! AUC: 0.8194\n"
     ]
    },
    {
     "name": "stderr",
     "output_type": "stream",
     "text": [
      "[18:12:52] Explicit valence for atom # 23 C, 5, is greater than permitted\n",
      "[18:12:53] Explicit valence for atom # 5 C, 5, is greater than permitted\n",
      "[18:12:53] Explicit valence for atom # 1 C, 5, is greater than permitted\n",
      "[18:12:54] Can't kekulize mol.  Unkekulized atoms: 0 12 13 14 17 19 20 21 22 23 25\n",
      "[18:12:54] Can't kekulize mol.  Unkekulized atoms: 9 10 11 15 16\n",
      "[18:12:56] Explicit valence for atom # 1 N, 4, is greater than permitted\n",
      "[18:12:58] Explicit valence for atom # 1 C, 5, is greater than permitted\n",
      "[18:13:00] Explicit valence for atom # 1 C, 5, is greater than permitted\n",
      "[18:13:01] Explicit valence for atom # 4 C, 5, is greater than permitted\n",
      "[18:13:01] Explicit valence for atom # 1 C, 5, is greater than permitted\n",
      "[18:13:02] Explicit valence for atom # 3 C, 5, is greater than permitted\n",
      "[18:13:03] Explicit valence for atom # 5 C, 5, is greater than permitted\n"
     ]
    },
    {
     "name": "stdout",
     "output_type": "stream",
     "text": [
      "Epoch 43/50, Train Loss: 0.1444, LR: 0.000239\n",
      "Validation - AUC: 0.8102, Accuracy: 0.7619, F1: 0.6875, Precision: 0.7857, Recall: 0.6111\n"
     ]
    },
    {
     "name": "stderr",
     "output_type": "stream",
     "text": [
      "[18:13:06] Can't kekulize mol.  Unkekulized atoms: 11 12 13 14 15\n",
      "[18:13:06] Explicit valence for atom # 3 C, 5, is greater than permitted\n",
      "[18:13:07] Explicit valence for atom # 3 C, 5, is greater than permitted\n",
      "[18:13:08] Explicit valence for atom # 4 C, 5, is greater than permitted\n",
      "[18:13:08] Explicit valence for atom # 7 C, 5, is greater than permitted\n",
      "[18:13:10] Explicit valence for atom # 7 C, 5, is greater than permitted\n",
      "[18:13:15] Explicit valence for atom # 4 C, 5, is greater than permitted\n"
     ]
    },
    {
     "name": "stdout",
     "output_type": "stream",
     "text": [
      "Epoch 44/50, Train Loss: 0.1646, LR: 0.000239\n",
      "Validation - AUC: 0.7917, Accuracy: 0.7381, F1: 0.6667, Precision: 0.7333, Recall: 0.6111\n"
     ]
    },
    {
     "name": "stderr",
     "output_type": "stream",
     "text": [
      "[18:13:21] Explicit valence for atom # 16 C, 5, is greater than permitted\n",
      "[18:13:21] Can't kekulize mol.  Unkekulized atoms: 4 5 6 7 9\n",
      "[18:13:21] Can't kekulize mol.  Unkekulized atoms: 1 2 18\n",
      "[18:13:24] Can't kekulize mol.  Unkekulized atoms: 8 9 10 11 12\n",
      "[18:13:25] Explicit valence for atom # 6 C, 5, is greater than permitted\n",
      "[18:13:27] Explicit valence for atom # 12 C, 5, is greater than permitted\n",
      "[18:13:27] Explicit valence for atom # 23 C, 5, is greater than permitted\n",
      "[18:13:27] Explicit valence for atom # 7 C, 5, is greater than permitted\n",
      "[18:13:29] Explicit valence for atom # 5 C, 5, is greater than permitted\n"
     ]
    },
    {
     "name": "stdout",
     "output_type": "stream",
     "text": [
      "Epoch 45/50, Train Loss: 0.1480, LR: 0.000239\n",
      "Validation - AUC: 0.7917, Accuracy: 0.7381, F1: 0.7027, Precision: 0.6842, Recall: 0.7222\n"
     ]
    },
    {
     "name": "stderr",
     "output_type": "stream",
     "text": [
      "[18:13:36] Explicit valence for atom # 25 C, 5, is greater than permitted\n",
      "[18:13:37] Explicit valence for atom # 4 C, 5, is greater than permitted\n",
      "[18:13:38] Can't kekulize mol.  Unkekulized atoms: 3 4 5 15 16\n",
      "[18:13:39] Explicit valence for atom # 1 C, 5, is greater than permitted\n",
      "[18:13:39] Explicit valence for atom # 12 C, 5, is greater than permitted\n",
      "[18:13:39] Explicit valence for atom # 8 C, 5, is greater than permitted\n",
      "[18:13:43] Explicit valence for atom # 11 C, 5, is greater than permitted\n",
      "[18:13:43] Explicit valence for atom # 1 C, 5, is greater than permitted\n",
      "[18:13:45] Explicit valence for atom # 19 C, 5, is greater than permitted\n"
     ]
    },
    {
     "name": "stdout",
     "output_type": "stream",
     "text": [
      "Epoch 46/50, Train Loss: 0.1110, LR: 0.000215\n",
      "Validation - AUC: 0.7685, Accuracy: 0.7857, F1: 0.7273, Precision: 0.8000, Recall: 0.6667\n"
     ]
    },
    {
     "name": "stderr",
     "output_type": "stream",
     "text": [
      "[18:13:48] Explicit valence for atom # 15 C, 5, is greater than permitted\n",
      "[18:13:51] Can't kekulize mol.  Unkekulized atoms: 1 2 3 15 16\n",
      "[18:13:52] Explicit valence for atom # 5 C, 5, is greater than permitted\n",
      "[18:13:53] Explicit valence for atom # 1 C, 5, is greater than permitted\n",
      "[18:13:53] Explicit valence for atom # 17 C, 5, is greater than permitted\n",
      "[18:13:54] Explicit valence for atom # 1 C, 5, is greater than permitted\n",
      "[18:13:54] Explicit valence for atom # 5 C, 5, is greater than permitted\n",
      "[18:13:58] Explicit valence for atom # 6 C, 5, is greater than permitted\n",
      "[18:13:58] Explicit valence for atom # 15 C, 5, is greater than permitted\n"
     ]
    },
    {
     "name": "stdout",
     "output_type": "stream",
     "text": [
      "Epoch 47/50, Train Loss: 0.1354, LR: 0.000215\n",
      "Validation - AUC: 0.7824, Accuracy: 0.7143, F1: 0.6667, Precision: 0.6667, Recall: 0.6667\n"
     ]
    },
    {
     "name": "stderr",
     "output_type": "stream",
     "text": [
      "[18:14:02] Can't kekulize mol.  Unkekulized atoms: 1 2 3 6 8 9 10 11 12\n",
      "[18:14:03] Can't kekulize mol.  Unkekulized atoms: 9 10 11 13\n",
      "[18:14:09] Explicit valence for atom # 8 C, 5, is greater than permitted\n",
      "[18:14:12] Can't kekulize mol.  Unkekulized atoms: 9 10 11 15 16\n",
      "[18:14:12] Can't kekulize mol.  Unkekulized atoms: 12 13 14 16 20 21 22 25\n",
      "[18:14:13] Explicit valence for atom # 7 C, 5, is greater than permitted\n",
      "[18:14:13] Explicit valence for atom # 5 C, 5, is greater than permitted\n",
      "[18:14:13] Explicit valence for atom # 13 C, 5, is greater than permitted\n"
     ]
    },
    {
     "name": "stdout",
     "output_type": "stream",
     "text": [
      "Epoch 48/50, Train Loss: 0.1410, LR: 0.000215\n",
      "Validation - AUC: 0.8079, Accuracy: 0.7143, F1: 0.7000, Precision: 0.6364, Recall: 0.7778\n"
     ]
    },
    {
     "name": "stderr",
     "output_type": "stream",
     "text": [
      "[18:14:16] Explicit valence for atom # 4 C, 5, is greater than permitted\n",
      "[18:14:16] Can't kekulize mol.  Unkekulized atoms: 4 5 6 7 16\n",
      "[18:14:17] Explicit valence for atom # 3 C, 5, is greater than permitted\n",
      "[18:14:18] Explicit valence for atom # 4 C, 5, is greater than permitted\n",
      "[18:14:19] Explicit valence for atom # 7 C, 5, is greater than permitted\n",
      "[18:14:19] Explicit valence for atom # 0 C, 5, is greater than permitted\n",
      "[18:14:19] Explicit valence for atom # 8 C, 5, is greater than permitted\n",
      "[18:14:21] Can't kekulize mol.  Unkekulized atoms: 0 12 13 14 16 17 19 20 21 22 25\n",
      "[18:14:21] Explicit valence for atom # 12 C, 5, is greater than permitted\n",
      "[18:14:24] Explicit valence for atom # 18 C, 5, is greater than permitted\n",
      "[18:14:24] Can't kekulize mol.  Unkekulized atoms: 0 1 10 19\n",
      "[18:14:25] Can't kekulize mol.  Unkekulized atoms: 9 10 11 15 16\n"
     ]
    },
    {
     "name": "stdout",
     "output_type": "stream",
     "text": [
      "Epoch 49/50, Train Loss: 0.1157, LR: 0.000215\n",
      "Validation - AUC: 0.8148, Accuracy: 0.7619, F1: 0.6875, Precision: 0.7857, Recall: 0.6111\n"
     ]
    },
    {
     "name": "stderr",
     "output_type": "stream",
     "text": [
      "[18:14:29] Explicit valence for atom # 20 C, 5, is greater than permitted\n",
      "[18:14:31] Explicit valence for atom # 6 C, 5, is greater than permitted\n",
      "[18:14:33] Explicit valence for atom # 8 C, 5, is greater than permitted\n",
      "[18:14:34] Explicit valence for atom # 1 C, 5, is greater than permitted\n",
      "[18:14:36] Can't kekulize mol.  Unkekulized atoms: 9 10 11 12 13\n",
      "[18:14:37] Can't kekulize mol.  Unkekulized atoms: 3 4 5 6 7\n",
      "[18:14:37] Explicit valence for atom # 3 C, 5, is greater than permitted\n",
      "[18:14:38] Explicit valence for atom # 12 C, 5, is greater than permitted\n",
      "[18:14:40] Explicit valence for atom # 4 C, 5, is greater than permitted\n",
      "[18:14:40] Explicit valence for atom # 4 C, 5, is greater than permitted\n",
      "[18:14:41] Explicit valence for atom # 4 C, 5, is greater than permitted\n"
     ]
    },
    {
     "name": "stdout",
     "output_type": "stream",
     "text": [
      "Epoch 50/50, Train Loss: 0.0783, LR: 0.000215\n",
      "Validation - AUC: 0.8032, Accuracy: 0.7381, F1: 0.6667, Precision: 0.7333, Recall: 0.6111\n",
      "Fold 1 - Validation AUC: 0.8032, Accuracy: 0.7381, F1: 0.6667, Precision: 0.7333, Recall: 0.6111\n",
      "\n",
      "--- Fold 2/5 ---\n",
      "Training set: 200, Validation set: 42\n"
     ]
    },
    {
     "name": "stderr",
     "output_type": "stream",
     "text": [
      "[18:14:45] Explicit valence for atom # 3 C, 5, is greater than permitted\n",
      "[18:14:46] Explicit valence for atom # 16 C, 5, is greater than permitted\n",
      "[18:14:48] Explicit valence for atom # 3 C, 5, is greater than permitted\n",
      "[18:14:48] Explicit valence for atom # 1 C, 5, is greater than permitted\n",
      "[18:14:49] Explicit valence for atom # 6 C, 5, is greater than permitted\n",
      "[18:14:50] Can't kekulize mol.  Unkekulized atoms: 1 2 3 4 17\n",
      "[18:14:51] Explicit valence for atom # 29 C, 5, is greater than permitted\n",
      "[18:14:51] Explicit valence for atom # 14 C, 5, is greater than permitted\n",
      "[18:14:52] Explicit valence for atom # 8 C, 5, is greater than permitted\n",
      "[18:14:52] Explicit valence for atom # 4 C, 5, is greater than permitted\n"
     ]
    },
    {
     "name": "stdout",
     "output_type": "stream",
     "text": [
      "Epoch 1/50, Train Loss: 0.3324, LR: 0.000100\n",
      "Validation - AUC: 0.7431, Accuracy: 0.4524, F1: 0.6102, Precision: 0.4390, Recall: 1.0000\n",
      "New best model saved! AUC: 0.7431\n"
     ]
    },
    {
     "name": "stderr",
     "output_type": "stream",
     "text": [
      "[18:14:56] Explicit valence for atom # 14 C, 5, is greater than permitted\n",
      "[18:14:57] Explicit valence for atom # 7 C, 5, is greater than permitted\n",
      "[18:14:58] Explicit valence for atom # 10 C, 5, is greater than permitted\n",
      "[18:14:59] Explicit valence for atom # 7 C, 5, is greater than permitted\n",
      "[18:15:02] Explicit valence for atom # 4 C, 5, is greater than permitted\n",
      "[18:15:03] Explicit valence for atom # 5 C, 5, is greater than permitted\n",
      "[18:15:03] Explicit valence for atom # 15 C, 5, is greater than permitted\n",
      "[18:15:03] Explicit valence for atom # 26 C, 5, is greater than permitted\n",
      "[18:15:04] Explicit valence for atom # 15 C, 5, is greater than permitted\n",
      "[18:15:05] Explicit valence for atom # 3 C, 5, is greater than permitted\n"
     ]
    },
    {
     "name": "stdout",
     "output_type": "stream",
     "text": [
      "Epoch 2/50, Train Loss: 0.3401, LR: 0.000180\n",
      "Validation - AUC: 0.7616, Accuracy: 0.7619, F1: 0.6875, Precision: 0.7857, Recall: 0.6111\n",
      "New best model saved! AUC: 0.7616\n"
     ]
    },
    {
     "name": "stderr",
     "output_type": "stream",
     "text": [
      "[18:15:10] Explicit valence for atom # 1 C, 5, is greater than permitted\n",
      "[18:15:10] Explicit valence for atom # 23 C, 5, is greater than permitted\n",
      "[18:15:12] Can't kekulize mol.  Unkekulized atoms: 2 3 4 17 18\n",
      "[18:15:12] Explicit valence for atom # 10 C, 5, is greater than permitted\n",
      "[18:15:12] Explicit valence for atom # 5 C, 5, is greater than permitted\n",
      "[18:15:13] Explicit valence for atom # 17 C, 5, is greater than permitted\n",
      "[18:15:15] Explicit valence for atom # 4 C, 5, is greater than permitted\n",
      "[18:15:17] Explicit valence for atom # 10 C, 5, is greater than permitted\n",
      "[18:15:17] Can't kekulize mol.  Unkekulized atoms: 2 3 18\n",
      "[18:15:17] Explicit valence for atom # 13 C, 5, is greater than permitted\n",
      "[18:15:18] Explicit valence for atom # 10 C, 5, is greater than permitted\n",
      "[18:15:18] Explicit valence for atom # 13 C, 5, is greater than permitted\n",
      "[18:15:18] Explicit valence for atom # 15 C, 5, is greater than permitted\n"
     ]
    },
    {
     "name": "stdout",
     "output_type": "stream",
     "text": [
      "Epoch 3/50, Train Loss: 0.4483, LR: 0.000260\n",
      "Validation - AUC: 0.8032, Accuracy: 0.5238, F1: 0.6154, Precision: 0.4706, Recall: 0.8889\n",
      "New best model saved! AUC: 0.8032\n"
     ]
    },
    {
     "name": "stderr",
     "output_type": "stream",
     "text": [
      "[18:15:22] Explicit valence for atom # 14 C, 5, is greater than permitted\n",
      "[18:15:23] Explicit valence for atom # 13 C, 5, is greater than permitted\n",
      "[18:15:25] Explicit valence for atom # 10 C, 5, is greater than permitted\n",
      "[18:15:27] Explicit valence for atom # 10 C, 5, is greater than permitted\n",
      "[18:15:27] Explicit valence for atom # 8 C, 5, is greater than permitted\n",
      "[18:15:31] Can't kekulize mol.  Unkekulized atoms: 1 2 3 5 6 8 9 10 11 12 13\n",
      "[18:15:32] Can't kekulize mol.  Unkekulized atoms: 3 4 5 28 31\n"
     ]
    },
    {
     "name": "stdout",
     "output_type": "stream",
     "text": [
      "Epoch 4/50, Train Loss: 0.3867, LR: 0.000340\n",
      "Validation - AUC: 0.7940, Accuracy: 0.7143, F1: 0.6471, Precision: 0.6875, Recall: 0.6111\n"
     ]
    },
    {
     "name": "stderr",
     "output_type": "stream",
     "text": [
      "[18:15:34] Explicit valence for atom # 17 C, 5, is greater than permitted\n",
      "[18:15:35] Explicit valence for atom # 3 O, 3, is greater than permitted\n",
      "[18:15:35] Explicit valence for atom # 14 C, 5, is greater than permitted\n",
      "[18:15:37] Explicit valence for atom # 1 C, 5, is greater than permitted\n",
      "[18:15:38] Explicit valence for atom # 9 C, 5, is greater than permitted\n",
      "[18:15:40] Explicit valence for atom # 7 C, 5, is greater than permitted\n",
      "[18:15:40] Explicit valence for atom # 13 C, 5, is greater than permitted\n",
      "[18:15:41] Can't kekulize mol.  Unkekulized atoms: 1 2 3 4 17\n",
      "[18:15:42] Explicit valence for atom # 11 C, 5, is greater than permitted\n",
      "[18:15:42] Explicit valence for atom # 8 C, 5, is greater than permitted\n",
      "[18:15:43] Explicit valence for atom # 4 C, 5, is greater than permitted\n",
      "[18:15:43] Explicit valence for atom # 26 C, 5, is greater than permitted\n",
      "[18:15:43] Explicit valence for atom # 15 C, 5, is greater than permitted\n",
      "[18:15:43] Explicit valence for atom # 6 C, 5, is greater than permitted\n"
     ]
    },
    {
     "name": "stdout",
     "output_type": "stream",
     "text": [
      "Epoch 5/50, Train Loss: 0.3651, LR: 0.000420\n",
      "Validation - AUC: 0.7917, Accuracy: 0.7381, F1: 0.6667, Precision: 0.7333, Recall: 0.6111\n"
     ]
    },
    {
     "name": "stderr",
     "output_type": "stream",
     "text": [
      "[18:15:50] Can't kekulize mol.  Unkekulized atoms: 3 4 5 17 18\n",
      "[18:15:53] Explicit valence for atom # 9 C, 5, is greater than permitted\n",
      "[18:15:53] Explicit valence for atom # 8 C, 5, is greater than permitted\n",
      "[18:15:53] Can't kekulize mol.  Unkekulized atoms: 2 3 4 5 28\n",
      "[18:15:54] Explicit valence for atom # 1 C, 5, is greater than permitted\n",
      "[18:15:55] Explicit valence for atom # 14 N, 4, is greater than permitted\n",
      "[18:15:56] Explicit valence for atom # 12 N, 4, is greater than permitted\n",
      "[18:15:56] Explicit valence for atom # 33 C, 5, is greater than permitted\n"
     ]
    },
    {
     "name": "stdout",
     "output_type": "stream",
     "text": [
      "Epoch 6/50, Train Loss: 0.3620, LR: 0.000500\n",
      "Validation - AUC: 0.7824, Accuracy: 0.7143, F1: 0.6471, Precision: 0.6875, Recall: 0.6111\n"
     ]
    },
    {
     "name": "stderr",
     "output_type": "stream",
     "text": [
      "[18:16:02] Explicit valence for atom # 0 C, 5, is greater than permitted\n",
      "[18:16:04] Explicit valence for atom # 1 C, 5, is greater than permitted\n",
      "[18:16:05] Explicit valence for atom # 1 C, 5, is greater than permitted\n",
      "[18:16:06] Explicit valence for atom # 5 C, 5, is greater than permitted\n",
      "[18:16:07] Explicit valence for atom # 1 C, 5, is greater than permitted\n",
      "[18:16:07] Explicit valence for atom # 2 C, 5, is greater than permitted\n",
      "[18:16:08] Explicit valence for atom # 6 C, 5, is greater than permitted\n",
      "[18:16:08] Explicit valence for atom # 1 C, 5, is greater than permitted\n",
      "[18:16:09] Can't kekulize mol.  Unkekulized atoms: 8 9 10 11 12\n"
     ]
    },
    {
     "name": "stdout",
     "output_type": "stream",
     "text": [
      "Epoch 7/50, Train Loss: 0.3223, LR: 0.000500\n",
      "Validation - AUC: 0.7500, Accuracy: 0.7143, F1: 0.6471, Precision: 0.6875, Recall: 0.6111\n"
     ]
    },
    {
     "name": "stderr",
     "output_type": "stream",
     "text": [
      "[18:16:12] Explicit valence for atom # 18 C, 5, is greater than permitted\n",
      "[18:16:14] Explicit valence for atom # 8 C, 5, is greater than permitted\n",
      "[18:16:17] Explicit valence for atom # 5 C, 5, is greater than permitted\n",
      "[18:16:18] Can't kekulize mol.  Unkekulized atoms: 2 18\n",
      "[18:16:19] Explicit valence for atom # 4 C, 5, is greater than permitted\n",
      "[18:16:21] Explicit valence for atom # 5 C, 5, is greater than permitted\n",
      "[18:16:21] Explicit valence for atom # 11 C, 5, is greater than permitted\n"
     ]
    },
    {
     "name": "stdout",
     "output_type": "stream",
     "text": [
      "Epoch 8/50, Train Loss: 0.3552, LR: 0.000500\n",
      "Validation - AUC: 0.7870, Accuracy: 0.7381, F1: 0.6667, Precision: 0.7333, Recall: 0.6111\n"
     ]
    },
    {
     "name": "stderr",
     "output_type": "stream",
     "text": [
      "[18:16:23] Explicit valence for atom # 6 C, 5, is greater than permitted\n",
      "[18:16:24] Explicit valence for atom # 2 C, 5, is greater than permitted\n",
      "[18:16:25] Can't kekulize mol.  Unkekulized atoms: 2 3 4 28 31\n",
      "[18:16:26] Can't kekulize mol.  Unkekulized atoms: 0 1 2 5 6 11 12 13 14 15 16\n",
      "[18:16:28] Explicit valence for atom # 8 C, 5, is greater than permitted\n",
      "[18:16:30] Explicit valence for atom # 12 C, 5, is greater than permitted\n",
      "[18:16:30] Explicit valence for atom # 5 C, 5, is greater than permitted\n",
      "[18:16:31] Explicit valence for atom # 6 C, 5, is greater than permitted\n",
      "[18:16:32] Explicit valence for atom # 25 C, 5, is greater than permitted\n",
      "[18:16:32] Explicit valence for atom # 14 C, 5, is greater than permitted\n"
     ]
    },
    {
     "name": "stdout",
     "output_type": "stream",
     "text": [
      "Epoch 9/50, Train Loss: 0.3397, LR: 0.000500\n",
      "Validation - AUC: 0.7917, Accuracy: 0.7381, F1: 0.6667, Precision: 0.7333, Recall: 0.6111\n"
     ]
    },
    {
     "name": "stderr",
     "output_type": "stream",
     "text": [
      "[18:16:36] Explicit valence for atom # 3 C, 5, is greater than permitted\n",
      "[18:16:37] Explicit valence for atom # 1 C, 5, is greater than permitted\n",
      "[18:16:40] Explicit valence for atom # 4 C, 5, is greater than permitted\n",
      "[18:16:41] Explicit valence for atom # 1 C, 5, is greater than permitted\n",
      "[18:16:44] Explicit valence for atom # 11 C, 5, is greater than permitted\n",
      "[18:16:45] Explicit valence for atom # 1 C, 5, is greater than permitted\n"
     ]
    },
    {
     "name": "stdout",
     "output_type": "stream",
     "text": [
      "Epoch 10/50, Train Loss: 0.3431, LR: 0.000500\n",
      "Validation - AUC: 0.7616, Accuracy: 0.7143, F1: 0.6250, Precision: 0.7143, Recall: 0.5556\n"
     ]
    },
    {
     "name": "stderr",
     "output_type": "stream",
     "text": [
      "[18:16:47] Explicit valence for atom # 1 C, 5, is greater than permitted\n",
      "[18:16:47] Explicit valence for atom # 6 C, 5, is greater than permitted\n",
      "[18:16:47] Explicit valence for atom # 16 C, 5, is greater than permitted\n",
      "[18:16:49] Can't kekulize mol.  Unkekulized atoms: 1 2 3 4 17\n",
      "[18:16:51] Can't kekulize mol.  Unkekulized atoms: 4 5 6 7 9\n",
      "[18:16:53] Can't kekulize mol.  Unkekulized atoms: 3 4 5 17 18\n",
      "[18:16:54] Explicit valence for atom # 8 C, 5, is greater than permitted\n",
      "[18:16:54] Explicit valence for atom # 18 C, 5, is greater than permitted\n",
      "[18:16:54] Explicit valence for atom # 4 C, 5, is greater than permitted\n"
     ]
    },
    {
     "name": "stdout",
     "output_type": "stream",
     "text": [
      "Epoch 11/50, Train Loss: 0.3029, LR: 0.000450\n",
      "Validation - AUC: 0.7824, Accuracy: 0.7381, F1: 0.6667, Precision: 0.7333, Recall: 0.6111\n"
     ]
    },
    {
     "name": "stderr",
     "output_type": "stream",
     "text": [
      "[18:16:58] Explicit valence for atom # 4 C, 5, is greater than permitted\n",
      "[18:17:00] Explicit valence for atom # 15 C, 5, is greater than permitted\n",
      "[18:17:01] Can't kekulize mol.  Unkekulized atoms: 3 4 28\n",
      "[18:17:03] Can't kekulize mol.  Unkekulized atoms: 8 9 10 28 29\n",
      "[18:17:05] Explicit valence for atom # 6 C, 5, is greater than permitted\n",
      "[18:17:06] Explicit valence for atom # 1 C, 5, is greater than permitted\n",
      "[18:17:07] Explicit valence for atom # 7 C, 5, is greater than permitted\n",
      "[18:17:08] Can't kekulize mol.  Unkekulized atoms: 1 2 3 4 17\n",
      "[18:17:09] Explicit valence for atom # 4 C, 5, is greater than permitted\n",
      "[18:17:09] Explicit valence for atom # 14 C, 5, is greater than permitted\n",
      "[18:17:09] Explicit valence for atom # 1 C, 5, is greater than permitted\n"
     ]
    },
    {
     "name": "stdout",
     "output_type": "stream",
     "text": [
      "Epoch 12/50, Train Loss: 0.2448, LR: 0.000450\n",
      "Validation - AUC: 0.7940, Accuracy: 0.7619, F1: 0.6667, Precision: 0.8333, Recall: 0.5556\n"
     ]
    },
    {
     "name": "stderr",
     "output_type": "stream",
     "text": [
      "[18:17:11] Explicit valence for atom # 20 C, 5, is greater than permitted\n",
      "[18:17:12] Explicit valence for atom # 11 C, 5, is greater than permitted\n",
      "[18:17:14] Can't kekulize mol.  Unkekulized atoms: 1 2 11 12 13\n",
      "[18:17:15] Explicit valence for atom # 9 C, 5, is greater than permitted\n",
      "[18:17:16] Explicit valence for atom # 6 C, 5, is greater than permitted\n",
      "[18:17:17] Can't kekulize mol.  Unkekulized atoms: 0 12 13 19 20 21 22 25\n",
      "[18:17:17] Explicit valence for atom # 19 C, 5, is greater than permitted\n",
      "[18:17:17] Explicit valence for atom # 7 C, 5, is greater than permitted\n",
      "[18:17:19] Explicit valence for atom # 14 C, 5, is greater than permitted\n",
      "[18:17:19] Explicit valence for atom # 14 C, 5, is greater than permitted\n",
      "[18:17:20] Can't kekulize mol.  Unkekulized atoms: 2 3 18\n"
     ]
    },
    {
     "name": "stdout",
     "output_type": "stream",
     "text": [
      "Epoch 13/50, Train Loss: 0.3298, LR: 0.000450\n",
      "Validation - AUC: 0.8125, Accuracy: 0.6190, F1: 0.6364, Precision: 0.5385, Recall: 0.7778\n",
      "New best model saved! AUC: 0.8125\n"
     ]
    },
    {
     "name": "stderr",
     "output_type": "stream",
     "text": [
      "[18:17:23] Explicit valence for atom # 6 C, 5, is greater than permitted\n",
      "[18:17:27] Explicit valence for atom # 5 C, 5, is greater than permitted\n",
      "[18:17:28] Explicit valence for atom # 3 C, 5, is greater than permitted\n",
      "[18:17:29] Explicit valence for atom # 1 C, 5, is greater than permitted\n",
      "[18:17:30] Explicit valence for atom # 3 C, 5, is greater than permitted\n",
      "[18:17:30] Explicit valence for atom # 1 C, 5, is greater than permitted\n",
      "[18:17:31] Explicit valence for atom # 25 C, 5, is greater than permitted\n",
      "[18:17:32] Can't kekulize mol.  Unkekulized atoms: 20 21 22 24 25\n"
     ]
    },
    {
     "name": "stdout",
     "output_type": "stream",
     "text": [
      "Epoch 14/50, Train Loss: 0.2562, LR: 0.000450\n",
      "Validation - AUC: 0.7917, Accuracy: 0.7857, F1: 0.6897, Precision: 0.9091, Recall: 0.5556\n"
     ]
    },
    {
     "name": "stderr",
     "output_type": "stream",
     "text": [
      "[18:17:34] Explicit valence for atom # 6 C, 5, is greater than permitted\n",
      "[18:17:34] Explicit valence for atom # 4 C, 5, is greater than permitted\n",
      "[18:17:34] Explicit valence for atom # 27 C, 5, is greater than permitted\n",
      "[18:17:35] Explicit valence for atom # 5 C, 5, is greater than permitted\n",
      "[18:17:36] Explicit valence for atom # 5 C, 5, is greater than permitted\n",
      "[18:17:37] Explicit valence for atom # 1 C, 5, is greater than permitted\n",
      "[18:17:39] Explicit valence for atom # 6 C, 5, is greater than permitted\n",
      "[18:17:39] Can't kekulize mol.  Unkekulized atoms: 9 10 11 15 16\n",
      "[18:17:41] Explicit valence for atom # 6 C, 5, is greater than permitted\n",
      "[18:17:42] Explicit valence for atom # 13 C, 5, is greater than permitted\n",
      "[18:17:42] Explicit valence for atom # 18 C, 5, is greater than permitted\n",
      "[18:17:43] Explicit valence for atom # 4 C, 5, is greater than permitted\n",
      "[18:17:44] Explicit valence for atom # 4 C, 5, is greater than permitted\n",
      "[18:17:44] Explicit valence for atom # 18 C, 5, is greater than permitted\n"
     ]
    },
    {
     "name": "stdout",
     "output_type": "stream",
     "text": [
      "Epoch 15/50, Train Loss: 0.2671, LR: 0.000450\n",
      "Validation - AUC: 0.7870, Accuracy: 0.7143, F1: 0.6250, Precision: 0.7143, Recall: 0.5556\n"
     ]
    },
    {
     "name": "stderr",
     "output_type": "stream",
     "text": [
      "[18:17:47] Can't kekulize mol.  Unkekulized atoms: 9 10 11 15 16\n",
      "[18:17:47] Explicit valence for atom # 6 C, 5, is greater than permitted\n",
      "[18:17:51] Explicit valence for atom # 5 C, 5, is greater than permitted\n",
      "[18:17:51] Explicit valence for atom # 4 C, 5, is greater than permitted\n",
      "[18:17:52] Explicit valence for atom # 14 N, 4, is greater than permitted\n",
      "[18:17:52] Explicit valence for atom # 3 C, 5, is greater than permitted\n",
      "[18:17:53] Explicit valence for atom # 5 C, 5, is greater than permitted\n",
      "[18:17:53] Explicit valence for atom # 5 C, 5, is greater than permitted\n",
      "[18:17:55] Explicit valence for atom # 1 C, 5, is greater than permitted\n",
      "[18:17:55] Explicit valence for atom # 1 C, 5, is greater than permitted\n"
     ]
    },
    {
     "name": "stdout",
     "output_type": "stream",
     "text": [
      "Epoch 16/50, Train Loss: 0.2682, LR: 0.000405\n",
      "Validation - AUC: 0.7755, Accuracy: 0.6667, F1: 0.6667, Precision: 0.5833, Recall: 0.7778\n"
     ]
    },
    {
     "name": "stderr",
     "output_type": "stream",
     "text": [
      "[18:17:58] Explicit valence for atom # 19 C, 5, is greater than permitted\n",
      "[18:18:01] Explicit valence for atom # 14 C, 5, is greater than permitted\n",
      "[18:18:01] Explicit valence for atom # 2 N, 4, is greater than permitted\n",
      "[18:18:01] Explicit valence for atom # 14 C, 5, is greater than permitted\n",
      "[18:18:03] Explicit valence for atom # 8 C, 5, is greater than permitted\n",
      "[18:18:03] Explicit valence for atom # 2 C, 5, is greater than permitted\n",
      "[18:18:04] Explicit valence for atom # 19 C, 5, is greater than permitted\n",
      "[18:18:05] Explicit valence for atom # 19 C, 5, is greater than permitted\n"
     ]
    },
    {
     "name": "stdout",
     "output_type": "stream",
     "text": [
      "Epoch 17/50, Train Loss: 0.2744, LR: 0.000405\n",
      "Validation - AUC: 0.7917, Accuracy: 0.6190, F1: 0.6000, Precision: 0.5455, Recall: 0.6667\n"
     ]
    },
    {
     "name": "stderr",
     "output_type": "stream",
     "text": [
      "[18:18:09] Explicit valence for atom # 1 C, 5, is greater than permitted\n",
      "[18:18:13] Explicit valence for atom # 5 C, 5, is greater than permitted\n",
      "[18:18:14] Explicit valence for atom # 1 C, 5, is greater than permitted\n",
      "[18:18:15] Explicit valence for atom # 30 C, 5, is greater than permitted\n",
      "[18:18:16] Can't kekulize mol.  Unkekulized atoms: 10 11 12 15 16\n",
      "[18:18:18] Explicit valence for atom # 9 C, 5, is greater than permitted\n",
      "[18:18:18] Can't kekulize mol.  Unkekulized atoms: 2 3 4 5 28\n",
      "[18:18:18] Explicit valence for atom # 1 C, 5, is greater than permitted\n",
      "[18:18:19] Explicit valence for atom # 20 C, 5, is greater than permitted\n"
     ]
    },
    {
     "name": "stdout",
     "output_type": "stream",
     "text": [
      "Epoch 18/50, Train Loss: 0.2692, LR: 0.000405\n",
      "Validation - AUC: 0.8264, Accuracy: 0.6429, F1: 0.6341, Precision: 0.5652, Recall: 0.7222\n",
      "New best model saved! AUC: 0.8264\n"
     ]
    },
    {
     "name": "stderr",
     "output_type": "stream",
     "text": [
      "[18:18:20] Explicit valence for atom # 2 C, 5, is greater than permitted\n",
      "[18:18:21] Explicit valence for atom # 5 C, 5, is greater than permitted\n",
      "[18:18:21] Explicit valence for atom # 4 C, 5, is greater than permitted\n",
      "[18:18:22] Explicit valence for atom # 8 C, 5, is greater than permitted\n",
      "[18:18:22] Explicit valence for atom # 22 C, 5, is greater than permitted\n",
      "[18:18:22] Explicit valence for atom # 6 C, 5, is greater than permitted\n",
      "[18:18:24] Explicit valence for atom # 6 C, 5, is greater than permitted\n",
      "[18:18:24] Explicit valence for atom # 13 C, 5, is greater than permitted\n",
      "[18:18:25] Can't kekulize mol.  Unkekulized atoms: 12 13 14 17 18\n",
      "[18:18:26] Explicit valence for atom # 4 C, 5, is greater than permitted\n",
      "[18:18:29] Explicit valence for atom # 1 C, 5, is greater than permitted\n",
      "[18:18:29] Can't kekulize mol.  Unkekulized atoms: 2 3 4 17 18\n",
      "[18:18:29] Explicit valence for atom # 4 C, 5, is greater than permitted\n",
      "[18:18:30] Explicit valence for atom # 16 C, 5, is greater than permitted\n",
      "[18:18:30] Explicit valence for atom # 6 C, 5, is greater than permitted\n"
     ]
    },
    {
     "name": "stdout",
     "output_type": "stream",
     "text": [
      "Epoch 19/50, Train Loss: 0.2498, LR: 0.000405\n",
      "Validation - AUC: 0.8403, Accuracy: 0.7381, F1: 0.6857, Precision: 0.7059, Recall: 0.6667\n",
      "New best model saved! AUC: 0.8403\n"
     ]
    },
    {
     "name": "stderr",
     "output_type": "stream",
     "text": [
      "[18:18:32] Explicit valence for atom # 1 C, 5, is greater than permitted\n",
      "[18:18:32] Explicit valence for atom # 2 C, 5, is greater than permitted\n",
      "[18:18:32] Explicit valence for atom # 14 C, 5, is greater than permitted\n",
      "[18:18:32] Explicit valence for atom # 1 C, 5, is greater than permitted\n",
      "[18:18:33] Explicit valence for atom # 3 C, 5, is greater than permitted\n",
      "[18:18:34] Explicit valence for atom # 1 C, 5, is greater than permitted\n",
      "[18:18:35] Explicit valence for atom # 1 C, 5, is greater than permitted\n",
      "[18:18:39] Explicit valence for atom # 1 O, 3, is greater than permitted\n",
      "[18:18:39] Explicit valence for atom # 1 C, 5, is greater than permitted\n",
      "[18:18:39] Explicit valence for atom # 2 C, 5, is greater than permitted\n",
      "[18:18:40] Explicit valence for atom # 13 C, 5, is greater than permitted\n",
      "[18:18:41] Can't kekulize mol.  Unkekulized atoms: 0 12 13 14 17 19 20 21 22 23 25\n"
     ]
    },
    {
     "name": "stdout",
     "output_type": "stream",
     "text": [
      "Epoch 20/50, Train Loss: 0.2693, LR: 0.000405\n",
      "Validation - AUC: 0.8495, Accuracy: 0.6190, F1: 0.6667, Precision: 0.5333, Recall: 0.8889\n",
      "New best model saved! AUC: 0.8495\n"
     ]
    },
    {
     "name": "stderr",
     "output_type": "stream",
     "text": [
      "[18:18:47] Explicit valence for atom # 14 C, 5, is greater than permitted\n",
      "[18:18:47] Explicit valence for atom # 20 C, 5, is greater than permitted\n",
      "[18:18:48] Explicit valence for atom # 2 O, 3, is greater than permitted\n",
      "[18:18:49] Explicit valence for atom # 2 C, 5, is greater than permitted\n",
      "[18:18:50] Explicit valence for atom # 2 N, 4, is greater than permitted\n",
      "[18:18:50] Explicit valence for atom # 2 C, 5, is greater than permitted\n",
      "[18:18:52] Explicit valence for atom # 1 C, 5, is greater than permitted\n"
     ]
    },
    {
     "name": "stdout",
     "output_type": "stream",
     "text": [
      "Epoch 21/50, Train Loss: 0.2367, LR: 0.000365\n",
      "Validation - AUC: 0.8657, Accuracy: 0.6429, F1: 0.6939, Precision: 0.5484, Recall: 0.9444\n",
      "New best model saved! AUC: 0.8657\n"
     ]
    },
    {
     "name": "stderr",
     "output_type": "stream",
     "text": [
      "[18:18:54] Explicit valence for atom # 4 C, 5, is greater than permitted\n",
      "[18:18:56] Explicit valence for atom # 4 C, 5, is greater than permitted\n",
      "[18:18:58] Explicit valence for atom # 6 C, 5, is greater than permitted\n",
      "[18:18:58] Can't kekulize mol.  Unkekulized atoms: 0 1 2 5 6 11 12 13 14 15 16\n",
      "[18:18:58] Explicit valence for atom # 15 C, 5, is greater than permitted\n",
      "[18:18:59] Explicit valence for atom # 10 C, 5, is greater than permitted\n",
      "[18:19:00] Explicit valence for atom # 1 C, 5, is greater than permitted\n",
      "[18:19:01] Explicit valence for atom # 15 C, 5, is greater than permitted\n",
      "[18:19:01] Can't kekulize mol.  Unkekulized atoms: 20 21 22 27 28\n",
      "[18:19:02] Explicit valence for atom # 1 C, 5, is greater than permitted\n",
      "[18:19:03] Explicit valence for atom # 26 C, 5, is greater than permitted\n",
      "[18:19:04] Can't kekulize mol.  Unkekulized atoms: 2 3 4 15 16\n"
     ]
    },
    {
     "name": "stdout",
     "output_type": "stream",
     "text": [
      "Epoch 22/50, Train Loss: 0.2128, LR: 0.000365\n",
      "Validation - AUC: 0.8241, Accuracy: 0.6190, F1: 0.6667, Precision: 0.5333, Recall: 0.8889\n"
     ]
    },
    {
     "name": "stderr",
     "output_type": "stream",
     "text": [
      "[18:19:06] Explicit valence for atom # 9 C, 5, is greater than permitted\n",
      "[18:19:06] Explicit valence for atom # 7 N, 4, is greater than permitted\n",
      "[18:19:06] Explicit valence for atom # 16 C, 5, is greater than permitted\n",
      "[18:19:07] Explicit valence for atom # 20 C, 5, is greater than permitted\n",
      "[18:19:07] Explicit valence for atom # 1 C, 5, is greater than permitted\n",
      "[18:19:07] Explicit valence for atom # 1 C, 5, is greater than permitted\n",
      "[18:19:10] Explicit valence for atom # 8 C, 5, is greater than permitted\n",
      "[18:19:12] Explicit valence for atom # 12 C, 5, is greater than permitted\n",
      "[18:19:12] Explicit valence for atom # 1 C, 5, is greater than permitted\n",
      "[18:19:13] Explicit valence for atom # 1 C, 5, is greater than permitted\n",
      "[18:19:13] Explicit valence for atom # 15 C, 5, is greater than permitted\n",
      "[18:19:14] Can't kekulize mol.  Unkekulized atoms: 0 12 13 14 19 20 21 22 25\n",
      "[18:19:14] Explicit valence for atom # 8 C, 5, is greater than permitted\n",
      "[18:19:14] Can't kekulize mol.  Unkekulized atoms: 9 10 11 12 13\n"
     ]
    },
    {
     "name": "stdout",
     "output_type": "stream",
     "text": [
      "Epoch 23/50, Train Loss: 0.1922, LR: 0.000365\n",
      "Validation - AUC: 0.8171, Accuracy: 0.7619, F1: 0.7368, Precision: 0.7000, Recall: 0.7778\n"
     ]
    },
    {
     "name": "stderr",
     "output_type": "stream",
     "text": [
      "[18:19:20] Explicit valence for atom # 11 C, 5, is greater than permitted\n",
      "[18:19:20] Explicit valence for atom # 5 C, 5, is greater than permitted\n",
      "[18:19:22] Explicit valence for atom # 7 C, 5, is greater than permitted\n",
      "[18:19:23] Explicit valence for atom # 6 C, 5, is greater than permitted\n",
      "[18:19:24] Can't kekulize mol.  Unkekulized atoms: 2 3 4 5 17\n",
      "[18:19:24] Can't kekulize mol.  Unkekulized atoms: 12 13 14 17 19 20 21 22 23 25\n",
      "[18:19:24] Explicit valence for atom # 25 C, 5, is greater than permitted\n",
      "[18:19:24] Explicit valence for atom # 1 C, 5, is greater than permitted\n",
      "[18:19:25] Explicit valence for atom # 6 C, 5, is greater than permitted\n",
      "[18:19:26] Explicit valence for atom # 19 C, 5, is greater than permitted\n",
      "[18:19:27] Explicit valence for atom # 9 C, 5, is greater than permitted\n"
     ]
    },
    {
     "name": "stdout",
     "output_type": "stream",
     "text": [
      "Epoch 24/50, Train Loss: 0.1877, LR: 0.000365\n",
      "Validation - AUC: 0.8356, Accuracy: 0.7857, F1: 0.7097, Precision: 0.8462, Recall: 0.6111\n"
     ]
    },
    {
     "name": "stderr",
     "output_type": "stream",
     "text": [
      "[18:19:32] Can't kekulize mol.  Unkekulized atoms: 8 9 10 15 16\n",
      "[18:19:37] Explicit valence for atom # 19 O, 3, is greater than permitted\n",
      "[18:19:38] Explicit valence for atom # 1 C, 5, is greater than permitted\n"
     ]
    },
    {
     "name": "stdout",
     "output_type": "stream",
     "text": [
      "Epoch 25/50, Train Loss: 0.2523, LR: 0.000365\n",
      "Validation - AUC: 0.8634, Accuracy: 0.8095, F1: 0.7333, Precision: 0.9167, Recall: 0.6111\n"
     ]
    },
    {
     "name": "stderr",
     "output_type": "stream",
     "text": [
      "[18:19:43] Explicit valence for atom # 4 C, 5, is greater than permitted\n",
      "[18:19:43] Explicit valence for atom # 5 C, 5, is greater than permitted\n",
      "[18:19:44] Explicit valence for atom # 15 C, 5, is greater than permitted\n",
      "[18:19:45] Explicit valence for atom # 8 C, 5, is greater than permitted\n",
      "[18:19:45] Explicit valence for atom # 9 C, 5, is greater than permitted\n",
      "[18:19:46] Explicit valence for atom # 7 C, 5, is greater than permitted\n",
      "[18:19:46] Explicit valence for atom # 6 C, 5, is greater than permitted\n",
      "[18:19:48] Explicit valence for atom # 1 C, 5, is greater than permitted\n",
      "[18:19:49] Explicit valence for atom # 9 C, 5, is greater than permitted\n",
      "[18:19:51] Explicit valence for atom # 1 C, 5, is greater than permitted\n",
      "[18:19:51] Explicit valence for atom # 2 C, 5, is greater than permitted\n",
      "[18:19:51] Explicit valence for atom # 9 C, 5, is greater than permitted\n",
      "[18:19:51] Explicit valence for atom # 27 C, 5, is greater than permitted\n"
     ]
    },
    {
     "name": "stdout",
     "output_type": "stream",
     "text": [
      "Epoch 26/50, Train Loss: 0.1841, LR: 0.000328\n",
      "Validation - AUC: 0.8657, Accuracy: 0.7619, F1: 0.7500, Precision: 0.6818, Recall: 0.8333\n",
      "New best model saved! AUC: 0.8657\n"
     ]
    },
    {
     "name": "stderr",
     "output_type": "stream",
     "text": [
      "[18:19:52] Explicit valence for atom # 4 C, 5, is greater than permitted\n",
      "[18:19:53] Explicit valence for atom # 1 C, 5, is greater than permitted\n",
      "[18:19:55] Explicit valence for atom # 4 C, 5, is greater than permitted\n",
      "[18:19:55] Explicit valence for atom # 14 C, 5, is greater than permitted\n",
      "[18:19:55] Can't kekulize mol.  Unkekulized atoms: 3 4 31\n",
      "[18:19:56] Explicit valence for atom # 7 C, 5, is greater than permitted\n",
      "[18:19:57] Explicit valence for atom # 5 C, 5, is greater than permitted\n",
      "[18:19:58] Explicit valence for atom # 7 C, 5, is greater than permitted\n",
      "[18:19:58] Explicit valence for atom # 2 C, 5, is greater than permitted\n",
      "[18:20:00] Explicit valence for atom # 8 C, 5, is greater than permitted\n",
      "[18:20:00] Explicit valence for atom # 17 C, 5, is greater than permitted\n",
      "[18:20:01] Can't kekulize mol.  Unkekulized atoms: 9 10 11 12 13\n"
     ]
    },
    {
     "name": "stdout",
     "output_type": "stream",
     "text": [
      "Epoch 27/50, Train Loss: 0.2147, LR: 0.000328\n",
      "Validation - AUC: 0.8426, Accuracy: 0.7381, F1: 0.6667, Precision: 0.7333, Recall: 0.6111\n"
     ]
    },
    {
     "name": "stderr",
     "output_type": "stream",
     "text": [
      "[18:20:04] Explicit valence for atom # 13 C, 5, is greater than permitted\n",
      "[18:20:05] Explicit valence for atom # 2 C, 5, is greater than permitted\n",
      "[18:20:05] Explicit valence for atom # 15 C, 5, is greater than permitted\n",
      "[18:20:06] Explicit valence for atom # 2 C, 5, is greater than permitted\n",
      "[18:20:07] Explicit valence for atom # 9 C, 5, is greater than permitted\n",
      "[18:20:08] Explicit valence for atom # 7 C, 5, is greater than permitted\n",
      "[18:20:08] Explicit valence for atom # 24 C, 5, is greater than permitted\n",
      "[18:20:09] Explicit valence for atom # 8 C, 5, is greater than permitted\n",
      "[18:20:09] Explicit valence for atom # 1 C, 5, is greater than permitted\n",
      "[18:20:10] Explicit valence for atom # 6 C, 5, is greater than permitted\n",
      "[18:20:11] Explicit valence for atom # 4 C, 5, is greater than permitted\n",
      "[18:20:12] Explicit valence for atom # 1 C, 5, is greater than permitted\n",
      "[18:20:13] Can't kekulize mol.  Unkekulized atoms: 2 3 4 15 16\n"
     ]
    },
    {
     "name": "stdout",
     "output_type": "stream",
     "text": [
      "Epoch 28/50, Train Loss: 0.1482, LR: 0.000328\n",
      "Validation - AUC: 0.8727, Accuracy: 0.6667, F1: 0.6957, Precision: 0.5714, Recall: 0.8889\n",
      "New best model saved! AUC: 0.8727\n"
     ]
    },
    {
     "name": "stderr",
     "output_type": "stream",
     "text": [
      "[18:20:17] Explicit valence for atom # 4 C, 5, is greater than permitted\n",
      "[18:20:18] Explicit valence for atom # 5 C, 5, is greater than permitted\n",
      "[18:20:19] Explicit valence for atom # 3 C, 5, is greater than permitted\n",
      "[18:20:20] Explicit valence for atom # 1 C, 5, is greater than permitted\n",
      "[18:20:21] Explicit valence for atom # 10 C, 5, is greater than permitted\n",
      "[18:20:23] Explicit valence for atom # 1 C, 5, is greater than permitted\n",
      "[18:20:24] Can't kekulize mol.  Unkekulized atoms: 2 3 4 15 16\n",
      "[18:20:24] Explicit valence for atom # 14 C, 5, is greater than permitted\n",
      "[18:20:27] Explicit valence for atom # 8 C, 5, is greater than permitted\n"
     ]
    },
    {
     "name": "stdout",
     "output_type": "stream",
     "text": [
      "Epoch 29/50, Train Loss: 0.1681, LR: 0.000328\n",
      "Validation - AUC: 0.8843, Accuracy: 0.7619, F1: 0.7619, Precision: 0.6667, Recall: 0.8889\n",
      "New best model saved! AUC: 0.8843\n"
     ]
    },
    {
     "name": "stderr",
     "output_type": "stream",
     "text": [
      "[18:20:29] Explicit valence for atom # 1 C, 5, is greater than permitted\n",
      "[18:20:30] Explicit valence for atom # 5 C, 5, is greater than permitted\n",
      "[18:20:31] Explicit valence for atom # 7 C, 5, is greater than permitted\n",
      "[18:20:32] Explicit valence for atom # 19 C, 5, is greater than permitted\n",
      "[18:20:32] Can't kekulize mol.  Unkekulized atoms: 2 11 12 13\n",
      "[18:20:33] Explicit valence for atom # 9 C, 5, is greater than permitted\n",
      "[18:20:33] Can't kekulize mol.  Unkekulized atoms: 1 2 3 4 5 6 9 10 11 12 13\n",
      "[18:20:39] Explicit valence for atom # 14 C, 5, is greater than permitted\n"
     ]
    },
    {
     "name": "stdout",
     "output_type": "stream",
     "text": [
      "Epoch 30/50, Train Loss: 0.1509, LR: 0.000328\n",
      "Validation - AUC: 0.8704, Accuracy: 0.7381, F1: 0.7317, Precision: 0.6522, Recall: 0.8333\n"
     ]
    },
    {
     "name": "stderr",
     "output_type": "stream",
     "text": [
      "[18:20:42] Explicit valence for atom # 3 C, 5, is greater than permitted\n",
      "[18:20:42] Explicit valence for atom # 1 C, 5, is greater than permitted\n",
      "[18:20:42] Explicit valence for atom # 16 C, 5, is greater than permitted\n",
      "[18:20:44] Explicit valence for atom # 15 C, 5, is greater than permitted\n",
      "[18:20:45] Explicit valence for atom # 1 C, 5, is greater than permitted\n",
      "[18:20:45] Explicit valence for atom # 5 C, 5, is greater than permitted\n",
      "[18:20:46] Explicit valence for atom # 1 C, 5, is greater than permitted\n",
      "[18:20:48] Explicit valence for atom # 6 C, 5, is greater than permitted\n",
      "[18:20:49] Explicit valence for atom # 5 C, 5, is greater than permitted\n",
      "[18:20:51] Explicit valence for atom # 18 C, 5, is greater than permitted\n",
      "[18:20:53] Explicit valence for atom # 1 C, 5, is greater than permitted\n",
      "[18:20:53] Explicit valence for atom # 5 C, 5, is greater than permitted\n",
      "[18:20:54] Explicit valence for atom # 16 C, 5, is greater than permitted\n",
      "[18:20:54] Explicit valence for atom # 1 O, 3, is greater than permitted\n"
     ]
    },
    {
     "name": "stdout",
     "output_type": "stream",
     "text": [
      "Epoch 31/50, Train Loss: 0.1601, LR: 0.000295\n",
      "Validation - AUC: 0.8819, Accuracy: 0.7143, F1: 0.7143, Precision: 0.6250, Recall: 0.8333\n"
     ]
    },
    {
     "name": "stderr",
     "output_type": "stream",
     "text": [
      "[18:20:56] Explicit valence for atom # 17 N, 4, is greater than permitted\n",
      "[18:20:56] Explicit valence for atom # 4 C, 5, is greater than permitted\n",
      "[18:20:57] Explicit valence for atom # 6 C, 5, is greater than permitted\n",
      "[18:20:59] Can't kekulize mol.  Unkekulized atoms: 10 11 12 15 16\n",
      "[18:21:00] Explicit valence for atom # 6 C, 5, is greater than permitted\n",
      "[18:21:01] Explicit valence for atom # 19 C, 5, is greater than permitted\n",
      "[18:21:01] Explicit valence for atom # 14 C, 5, is greater than permitted\n",
      "[18:21:02] Explicit valence for atom # 3 C, 5, is greater than permitted\n",
      "[18:21:03] Explicit valence for atom # 1 C, 5, is greater than permitted\n",
      "[18:21:05] Explicit valence for atom # 19 C, 5, is greater than permitted\n",
      "[18:21:06] Explicit valence for atom # 1 C, 5, is greater than permitted\n",
      "[18:21:07] Explicit valence for atom # 9 C, 5, is greater than permitted\n",
      "[18:21:08] Explicit valence for atom # 1 C, 5, is greater than permitted\n"
     ]
    },
    {
     "name": "stdout",
     "output_type": "stream",
     "text": [
      "Epoch 32/50, Train Loss: 0.1515, LR: 0.000295\n",
      "Validation - AUC: 0.8565, Accuracy: 0.7857, F1: 0.7692, Precision: 0.7143, Recall: 0.8333\n"
     ]
    },
    {
     "name": "stderr",
     "output_type": "stream",
     "text": [
      "[18:21:10] Explicit valence for atom # 6 C, 5, is greater than permitted\n",
      "[18:21:11] Explicit valence for atom # 4 C, 5, is greater than permitted\n",
      "[18:21:15] Explicit valence for atom # 2 C, 5, is greater than permitted\n",
      "[18:21:16] Explicit valence for atom # 7 N, 4, is greater than permitted\n",
      "[18:21:17] Explicit valence for atom # 3 C, 5, is greater than permitted\n",
      "[18:21:17] Explicit valence for atom # 14 C, 5, is greater than permitted\n",
      "[18:21:17] Explicit valence for atom # 1 C, 5, is greater than permitted\n",
      "[18:21:21] Explicit valence for atom # 14 C, 5, is greater than permitted\n"
     ]
    },
    {
     "name": "stdout",
     "output_type": "stream",
     "text": [
      "Epoch 33/50, Train Loss: 0.1310, LR: 0.000295\n",
      "Validation - AUC: 0.8889, Accuracy: 0.8333, F1: 0.8205, Precision: 0.7619, Recall: 0.8889\n",
      "New best model saved! AUC: 0.8889\n"
     ]
    },
    {
     "name": "stderr",
     "output_type": "stream",
     "text": [
      "[18:21:24] Explicit valence for atom # 17 C, 5, is greater than permitted\n",
      "[18:21:24] Explicit valence for atom # 6 C, 5, is greater than permitted\n",
      "[18:21:24] Explicit valence for atom # 5 C, 5, is greater than permitted\n",
      "[18:21:24] Explicit valence for atom # 14 C, 5, is greater than permitted\n",
      "[18:21:29] Explicit valence for atom # 3 C, 5, is greater than permitted\n",
      "[18:21:31] Explicit valence for atom # 8 C, 5, is greater than permitted\n",
      "[18:21:31] Explicit valence for atom # 20 C, 5, is greater than permitted\n",
      "[18:21:32] Explicit valence for atom # 2 C, 5, is greater than permitted\n",
      "[18:21:33] Explicit valence for atom # 23 C, 5, is greater than permitted\n"
     ]
    },
    {
     "name": "stdout",
     "output_type": "stream",
     "text": [
      "Epoch 34/50, Train Loss: 0.1400, LR: 0.000295\n",
      "Validation - AUC: 0.8866, Accuracy: 0.6905, F1: 0.7111, Precision: 0.5926, Recall: 0.8889\n"
     ]
    },
    {
     "name": "stderr",
     "output_type": "stream",
     "text": [
      "[18:21:38] Explicit valence for atom # 24 N, 4, is greater than permitted\n",
      "[18:21:39] Can't kekulize mol.  Unkekulized atoms: 20 21 22 24 25\n",
      "[18:21:41] Explicit valence for atom # 3 C, 5, is greater than permitted\n",
      "[18:21:41] Explicit valence for atom # 1 C, 5, is greater than permitted\n",
      "[18:21:45] Explicit valence for atom # 17 C, 5, is greater than permitted\n",
      "[18:21:45] Explicit valence for atom # 14 C, 5, is greater than permitted\n",
      "[18:21:46] Explicit valence for atom # 4 C, 5, is greater than permitted\n",
      "[18:21:49] Explicit valence for atom # 4 C, 5, is greater than permitted\n",
      "[18:21:49] Explicit valence for atom # 2 C, 5, is greater than permitted\n",
      "[18:21:50] Explicit valence for atom # 4 C, 5, is greater than permitted\n"
     ]
    },
    {
     "name": "stdout",
     "output_type": "stream",
     "text": [
      "Epoch 35/50, Train Loss: 0.1209, LR: 0.000295\n",
      "Validation - AUC: 0.8773, Accuracy: 0.8095, F1: 0.7895, Precision: 0.7500, Recall: 0.8333\n"
     ]
    },
    {
     "name": "stderr",
     "output_type": "stream",
     "text": [
      "[18:21:52] Explicit valence for atom # 1 C, 5, is greater than permitted\n",
      "[18:21:54] Explicit valence for atom # 8 C, 5, is greater than permitted\n",
      "[18:21:54] Can't kekulize mol.  Unkekulized atoms: 9 10 12\n",
      "[18:21:55] Explicit valence for atom # 1 C, 5, is greater than permitted\n",
      "[18:21:56] Can't kekulize mol.  Unkekulized atoms: 6 7 8 10 11\n",
      "[18:21:56] Can't kekulize mol.  Unkekulized atoms: 2 3 18\n",
      "[18:21:56] Can't kekulize mol.  Unkekulized atoms: 2 3 4 15 16\n",
      "[18:21:57] Explicit valence for atom # 18 C, 5, is greater than permitted\n",
      "[18:21:58] Can't kekulize mol.  Unkekulized atoms: 3 4 28\n",
      "[18:22:02] Explicit valence for atom # 6 C, 5, is greater than permitted\n"
     ]
    },
    {
     "name": "stdout",
     "output_type": "stream",
     "text": [
      "Epoch 36/50, Train Loss: 0.1490, LR: 0.000266\n",
      "Validation - AUC: 0.8727, Accuracy: 0.7381, F1: 0.7317, Precision: 0.6522, Recall: 0.8333\n"
     ]
    },
    {
     "name": "stderr",
     "output_type": "stream",
     "text": [
      "[18:22:05] Explicit valence for atom # 13 C, 5, is greater than permitted\n",
      "[18:22:05] Explicit valence for atom # 12 C, 5, is greater than permitted\n",
      "[18:22:05] Explicit valence for atom # 22 C, 5, is greater than permitted\n",
      "[18:22:07] Explicit valence for atom # 11 C, 5, is greater than permitted\n",
      "[18:22:08] Can't kekulize mol.  Unkekulized atoms: 0 9 10 11 12\n",
      "[18:22:15] Explicit valence for atom # 6 C, 5, is greater than permitted\n"
     ]
    },
    {
     "name": "stdout",
     "output_type": "stream",
     "text": [
      "Epoch 37/50, Train Loss: 0.1071, LR: 0.000266\n",
      "Validation - AUC: 0.8611, Accuracy: 0.7857, F1: 0.7568, Precision: 0.7368, Recall: 0.7778\n"
     ]
    },
    {
     "name": "stderr",
     "output_type": "stream",
     "text": [
      "[18:22:20] Can't kekulize mol.  Unkekulized atoms: 2 3 4 5 28\n",
      "[18:22:22] Explicit valence for atom # 26 C, 5, is greater than permitted\n",
      "[18:22:22] Explicit valence for atom # 4 C, 5, is greater than permitted\n",
      "[18:22:23] Explicit valence for atom # 0 C, 5, is greater than permitted\n",
      "[18:22:24] Explicit valence for atom # 27 C, 5, is greater than permitted\n",
      "[18:22:26] Explicit valence for atom # 15 C, 5, is greater than permitted\n",
      "[18:22:30] Explicit valence for atom # 11 C, 5, is greater than permitted\n"
     ]
    },
    {
     "name": "stdout",
     "output_type": "stream",
     "text": [
      "Epoch 38/50, Train Loss: 0.0965, LR: 0.000266\n",
      "Validation - AUC: 0.8704, Accuracy: 0.7381, F1: 0.7179, Precision: 0.6667, Recall: 0.7778\n"
     ]
    },
    {
     "name": "stderr",
     "output_type": "stream",
     "text": [
      "[18:22:32] Explicit valence for atom # 4 C, 5, is greater than permitted\n",
      "[18:22:32] Explicit valence for atom # 1 C, 5, is greater than permitted\n",
      "[18:22:33] Explicit valence for atom # 8 C, 5, is greater than permitted\n",
      "[18:22:36] Explicit valence for atom # 1 C, 5, is greater than permitted\n",
      "[18:22:36] Explicit valence for atom # 5 C, 5, is greater than permitted\n",
      "[18:22:38] Can't kekulize mol.  Unkekulized atoms: 2 3 4 5 6 9 10 11 12 13\n",
      "[18:22:38] Can't kekulize mol.  Unkekulized atoms: 8 9 10 28 29\n",
      "[18:22:39] Explicit valence for atom # 7 C, 5, is greater than permitted\n",
      "[18:22:42] Explicit valence for atom # 2 C, 5, is greater than permitted\n",
      "[18:22:43] Can't kekulize mol.  Unkekulized atoms: 5 9 10 11 12\n",
      "[18:22:43] Can't kekulize mol.  Unkekulized atoms: 8 9 10 11 12\n",
      "[18:22:44] Explicit valence for atom # 5 C, 5, is greater than permitted\n"
     ]
    },
    {
     "name": "stdout",
     "output_type": "stream",
     "text": [
      "Epoch 39/50, Train Loss: 0.1396, LR: 0.000266\n",
      "Validation - AUC: 0.8843, Accuracy: 0.7619, F1: 0.7619, Precision: 0.6667, Recall: 0.8889\n"
     ]
    },
    {
     "name": "stderr",
     "output_type": "stream",
     "text": [
      "[18:22:46] Explicit valence for atom # 14 C, 5, is greater than permitted\n",
      "[18:22:50] Explicit valence for atom # 10 C, 5, is greater than permitted\n",
      "[18:22:50] Can't kekulize mol.  Unkekulized atoms: 9 10 11 15 16\n",
      "[18:22:52] Explicit valence for atom # 6 C, 5, is greater than permitted\n",
      "[18:22:52] Can't kekulize mol.  Unkekulized atoms: 2 3 4 15 16\n",
      "[18:22:52] Explicit valence for atom # 1 C, 5, is greater than permitted\n",
      "[18:22:55] Explicit valence for atom # 34 C, 5, is greater than permitted\n",
      "[18:22:55] Explicit valence for atom # 15 C, 5, is greater than permitted\n",
      "[18:22:56] Explicit valence for atom # 1 O, 3, is greater than permitted\n",
      "[18:22:57] Explicit valence for atom # 11 C, 5, is greater than permitted\n",
      "[18:22:57] Explicit valence for atom # 14 C, 5, is greater than permitted\n"
     ]
    },
    {
     "name": "stdout",
     "output_type": "stream",
     "text": [
      "Epoch 40/50, Train Loss: 0.1399, LR: 0.000266\n",
      "Validation - AUC: 0.9005, Accuracy: 0.6667, F1: 0.6957, Precision: 0.5714, Recall: 0.8889\n",
      "New best model saved! AUC: 0.9005\n"
     ]
    },
    {
     "name": "stderr",
     "output_type": "stream",
     "text": [
      "[18:23:01] Explicit valence for atom # 22 C, 5, is greater than permitted\n",
      "[18:23:05] Explicit valence for atom # 17 C, 5, is greater than permitted\n",
      "[18:23:05] Explicit valence for atom # 4 C, 5, is greater than permitted\n",
      "[18:23:06] Can't kekulize mol.  Unkekulized atoms: 9 10 11 12 13\n",
      "[18:23:12] Explicit valence for atom # 1 C, 5, is greater than permitted\n"
     ]
    },
    {
     "name": "stdout",
     "output_type": "stream",
     "text": [
      "Epoch 41/50, Train Loss: 0.1258, LR: 0.000239\n",
      "Validation - AUC: 0.8819, Accuracy: 0.8333, F1: 0.8108, Precision: 0.7895, Recall: 0.8333\n"
     ]
    },
    {
     "name": "stderr",
     "output_type": "stream",
     "text": [
      "[18:23:20] Explicit valence for atom # 1 C, 5, is greater than permitted\n",
      "[18:23:20] Explicit valence for atom # 14 C, 5, is greater than permitted\n",
      "[18:23:21] Explicit valence for atom # 4 C, 5, is greater than permitted\n",
      "[18:23:22] Can't kekulize mol.  Unkekulized atoms: 3 4 5 6 9\n",
      "[18:23:22] Explicit valence for atom # 21 C, 5, is greater than permitted\n",
      "[18:23:23] Explicit valence for atom # 2 C, 5, is greater than permitted\n",
      "[18:23:24] Explicit valence for atom # 9 C, 5, is greater than permitted\n",
      "[18:23:25] Can't kekulize mol.  Unkekulized atoms: 16 17 18 20 21\n",
      "[18:23:26] Can't kekulize mol.  Unkekulized atoms: 9 10 11 15 16\n"
     ]
    },
    {
     "name": "stdout",
     "output_type": "stream",
     "text": [
      "Epoch 42/50, Train Loss: 0.0939, LR: 0.000239\n",
      "Validation - AUC: 0.8912, Accuracy: 0.7619, F1: 0.7619, Precision: 0.6667, Recall: 0.8889\n"
     ]
    },
    {
     "name": "stderr",
     "output_type": "stream",
     "text": [
      "[18:23:30] Explicit valence for atom # 1 C, 5, is greater than permitted\n",
      "[18:23:31] Explicit valence for atom # 6 C, 5, is greater than permitted\n",
      "[18:23:31] Explicit valence for atom # 6 C, 5, is greater than permitted\n",
      "[18:23:32] Explicit valence for atom # 9 C, 5, is greater than permitted\n",
      "[18:23:34] Can't kekulize mol.  Unkekulized atoms: 17 20 21\n",
      "[18:23:35] Can't kekulize mol.  Unkekulized atoms: 2 3 4 5 6 8 9 10 11 12 13\n",
      "[18:23:35] Explicit valence for atom # 9 C, 5, is greater than permitted\n",
      "[18:23:36] Explicit valence for atom # 3 O, 3, is greater than permitted\n",
      "[18:23:37] Explicit valence for atom # 4 C, 5, is greater than permitted\n",
      "[18:23:39] Explicit valence for atom # 1 C, 5, is greater than permitted\n",
      "[18:23:39] Explicit valence for atom # 6 C, 5, is greater than permitted\n",
      "[18:23:39] Explicit valence for atom # 27 C, 5, is greater than permitted\n",
      "[18:23:39] Explicit valence for atom # 1 C, 5, is greater than permitted\n",
      "[18:23:40] Explicit valence for atom # 18 C, 5, is greater than permitted\n",
      "[18:23:42] Explicit valence for atom # 4 C, 5, is greater than permitted\n"
     ]
    },
    {
     "name": "stdout",
     "output_type": "stream",
     "text": [
      "Epoch 43/50, Train Loss: 0.1179, LR: 0.000239\n",
      "Validation - AUC: 0.8958, Accuracy: 0.8571, F1: 0.8333, Precision: 0.8333, Recall: 0.8333\n"
     ]
    },
    {
     "name": "stderr",
     "output_type": "stream",
     "text": [
      "[18:23:43] Explicit valence for atom # 5 C, 5, is greater than permitted\n",
      "[18:23:44] Explicit valence for atom # 5 C, 5, is greater than permitted\n",
      "[18:23:49] Explicit valence for atom # 5 C, 5, is greater than permitted\n",
      "[18:23:49] Can't kekulize mol.  Unkekulized atoms: 10 11 12 15 16\n",
      "[18:23:52] Explicit valence for atom # 21 C, 5, is greater than permitted\n",
      "[18:23:52] Explicit valence for atom # 1 C, 5, is greater than permitted\n",
      "[18:23:52] Explicit valence for atom # 12 C, 5, is greater than permitted\n",
      "[18:23:53] Explicit valence for atom # 1 C, 5, is greater than permitted\n"
     ]
    },
    {
     "name": "stdout",
     "output_type": "stream",
     "text": [
      "Epoch 44/50, Train Loss: 0.1075, LR: 0.000239\n",
      "Validation - AUC: 0.8588, Accuracy: 0.7619, F1: 0.7619, Precision: 0.6667, Recall: 0.8889\n"
     ]
    },
    {
     "name": "stderr",
     "output_type": "stream",
     "text": [
      "[18:23:57] Explicit valence for atom # 4 C, 5, is greater than permitted\n",
      "[18:23:57] Explicit valence for atom # 2 C, 5, is greater than permitted\n",
      "[18:23:59] Explicit valence for atom # 1 C, 5, is greater than permitted\n",
      "[18:24:00] Explicit valence for atom # 3 C, 5, is greater than permitted\n",
      "[18:24:01] Can't kekulize mol.  Unkekulized atoms: 3 4 5 17 18\n",
      "[18:24:02] Explicit valence for atom # 1 C, 5, is greater than permitted\n",
      "[18:24:03] Explicit valence for atom # 1 C, 5, is greater than permitted\n",
      "[18:24:03] Explicit valence for atom # 1 C, 5, is greater than permitted\n",
      "[18:24:05] Explicit valence for atom # 1 C, 5, is greater than permitted\n",
      "[18:24:06] Explicit valence for atom # 9 C, 5, is greater than permitted\n",
      "[18:24:06] Can't kekulize mol.  Unkekulized atoms: 2 3 4 28 31\n",
      "[18:24:07] Explicit valence for atom # 19 C, 5, is greater than permitted\n"
     ]
    },
    {
     "name": "stdout",
     "output_type": "stream",
     "text": [
      "Epoch 45/50, Train Loss: 0.1035, LR: 0.000239\n",
      "Validation - AUC: 0.8588, Accuracy: 0.7857, F1: 0.7429, Precision: 0.7647, Recall: 0.7222\n"
     ]
    },
    {
     "name": "stderr",
     "output_type": "stream",
     "text": [
      "[18:24:10] Explicit valence for atom # 2 C, 5, is greater than permitted\n",
      "[18:24:11] Explicit valence for atom # 27 C, 5, is greater than permitted\n",
      "[18:24:15] Explicit valence for atom # 4 C, 5, is greater than permitted\n",
      "[18:24:17] Explicit valence for atom # 1 O, 3, is greater than permitted\n",
      "[18:24:18] Explicit valence for atom # 1 C, 5, is greater than permitted\n",
      "[18:24:19] Can't kekulize mol.  Unkekulized atoms: 0 2 3 5 11 12 13 14 15 16\n",
      "[18:24:19] Can't kekulize mol.  Unkekulized atoms: 0 1 10 11 19\n"
     ]
    },
    {
     "name": "stdout",
     "output_type": "stream",
     "text": [
      "Epoch 46/50, Train Loss: 0.1106, LR: 0.000215\n",
      "Validation - AUC: 0.8958, Accuracy: 0.7857, F1: 0.7805, Precision: 0.6957, Recall: 0.8889\n"
     ]
    },
    {
     "name": "stderr",
     "output_type": "stream",
     "text": [
      "[18:24:21] Explicit valence for atom # 7 C, 5, is greater than permitted\n",
      "[18:24:22] Explicit valence for atom # 12 C, 5, is greater than permitted\n",
      "[18:24:23] Explicit valence for atom # 17 C, 5, is greater than permitted\n",
      "[18:24:24] Explicit valence for atom # 7 C, 5, is greater than permitted\n",
      "[18:24:27] Explicit valence for atom # 14 C, 5, is greater than permitted\n",
      "[18:24:27] Can't kekulize mol.  Unkekulized atoms: 9 10 11 15 16\n",
      "[18:24:28] Explicit valence for atom # 6 C, 5, is greater than permitted\n"
     ]
    },
    {
     "name": "stdout",
     "output_type": "stream",
     "text": [
      "Epoch 47/50, Train Loss: 0.1047, LR: 0.000215\n",
      "Validation - AUC: 0.8681, Accuracy: 0.7857, F1: 0.7692, Precision: 0.7143, Recall: 0.8333\n"
     ]
    },
    {
     "name": "stderr",
     "output_type": "stream",
     "text": [
      "[18:24:33] Explicit valence for atom # 2 C, 5, is greater than permitted\n",
      "[18:24:33] Explicit valence for atom # 1 C, 5, is greater than permitted\n",
      "[18:24:34] Explicit valence for atom # 1 C, 5, is greater than permitted\n",
      "[18:24:37] Explicit valence for atom # 1 C, 5, is greater than permitted\n",
      "[18:24:39] Can't kekulize mol.  Unkekulized atoms: 0 1 10 11 19\n",
      "[18:24:39] Explicit valence for atom # 2 C, 5, is greater than permitted\n",
      "[18:24:42] Can't kekulize mol.  Unkekulized atoms: 5 6 7 13 16\n"
     ]
    },
    {
     "name": "stdout",
     "output_type": "stream",
     "text": [
      "Epoch 48/50, Train Loss: 0.1235, LR: 0.000215\n",
      "Validation - AUC: 0.8866, Accuracy: 0.7619, F1: 0.7619, Precision: 0.6667, Recall: 0.8889\n"
     ]
    },
    {
     "name": "stderr",
     "output_type": "stream",
     "text": [
      "[18:24:47] Explicit valence for atom # 14 C, 5, is greater than permitted\n",
      "[18:24:47] Can't kekulize mol.  Unkekulized atoms: 19 20 21 24 25\n",
      "[18:24:48] Explicit valence for atom # 13 C, 5, is greater than permitted\n",
      "[18:24:48] Explicit valence for atom # 14 C, 5, is greater than permitted\n",
      "[18:24:51] Explicit valence for atom # 1 C, 5, is greater than permitted\n",
      "[18:24:51] Explicit valence for atom # 3 C, 5, is greater than permitted\n",
      "[18:24:52] Explicit valence for atom # 24 C, 5, is greater than permitted\n",
      "[18:24:52] Explicit valence for atom # 6 C, 5, is greater than permitted\n",
      "[18:24:53] Explicit valence for atom # 1 C, 5, is greater than permitted\n",
      "[18:24:55] Explicit valence for atom # 14 C, 5, is greater than permitted\n"
     ]
    },
    {
     "name": "stdout",
     "output_type": "stream",
     "text": [
      "Epoch 49/50, Train Loss: 0.1133, LR: 0.000215\n",
      "Validation - AUC: 0.8889, Accuracy: 0.7619, F1: 0.7619, Precision: 0.6667, Recall: 0.8889\n"
     ]
    },
    {
     "name": "stderr",
     "output_type": "stream",
     "text": [
      "[18:24:58] Explicit valence for atom # 1 C, 5, is greater than permitted\n",
      "[18:25:00] Explicit valence for atom # 7 C, 5, is greater than permitted\n",
      "[18:25:01] Explicit valence for atom # 5 C, 5, is greater than permitted\n",
      "[18:25:02] Explicit valence for atom # 5 C, 5, is greater than permitted\n",
      "[18:25:03] Explicit valence for atom # 1 C, 5, is greater than permitted\n",
      "[18:25:06] Explicit valence for atom # 8 C, 5, is greater than permitted\n",
      "[18:25:07] Explicit valence for atom # 14 C, 5, is greater than permitted\n"
     ]
    },
    {
     "name": "stdout",
     "output_type": "stream",
     "text": [
      "Epoch 50/50, Train Loss: 0.0984, LR: 0.000215\n",
      "Validation - AUC: 0.8449, Accuracy: 0.7857, F1: 0.7805, Precision: 0.6957, Recall: 0.8889\n",
      "Fold 2 - Validation AUC: 0.8449, Accuracy: 0.7857, F1: 0.7805, Precision: 0.6957, Recall: 0.8889\n",
      "\n",
      "--- Fold 3/5 ---\n",
      "Training set: 201, Validation set: 41\n"
     ]
    },
    {
     "name": "stderr",
     "output_type": "stream",
     "text": [
      "[18:25:10] Explicit valence for atom # 18 C, 5, is greater than permitted\n",
      "[18:25:10] Explicit valence for atom # 18 C, 5, is greater than permitted\n",
      "[18:25:13] Explicit valence for atom # 13 C, 5, is greater than permitted\n",
      "[18:25:13] Explicit valence for atom # 1 C, 5, is greater than permitted\n",
      "[18:25:14] Explicit valence for atom # 27 C, 5, is greater than permitted\n",
      "[18:25:15] Explicit valence for atom # 7 C, 5, is greater than permitted\n"
     ]
    },
    {
     "name": "stdout",
     "output_type": "stream",
     "text": [
      "Epoch 1/50, Train Loss: 0.2636, LR: 0.000100\n",
      "Validation - AUC: 0.7574, Accuracy: 0.6098, F1: 0.5000, Precision: 0.5333, Recall: 0.4706\n",
      "New best model saved! AUC: 0.7574\n"
     ]
    },
    {
     "name": "stderr",
     "output_type": "stream",
     "text": [
      "[18:25:18] Explicit valence for atom # 5 C, 5, is greater than permitted\n",
      "[18:25:18] Explicit valence for atom # 3 O, 3, is greater than permitted\n",
      "[18:25:19] Explicit valence for atom # 5 C, 5, is greater than permitted\n",
      "[18:25:20] Explicit valence for atom # 30 C, 5, is greater than permitted\n",
      "[18:25:21] Explicit valence for atom # 1 C, 5, is greater than permitted\n",
      "[18:25:21] Explicit valence for atom # 17 C, 5, is greater than permitted\n",
      "[18:25:22] Explicit valence for atom # 7 C, 5, is greater than permitted\n",
      "[18:25:23] Explicit valence for atom # 4 C, 5, is greater than permitted\n",
      "[18:25:24] Explicit valence for atom # 6 C, 5, is greater than permitted\n",
      "[18:25:29] Can't kekulize mol.  Unkekulized atoms: 0 1 2 5 6\n",
      "[18:25:29] Explicit valence for atom # 6 C, 5, is greater than permitted\n",
      "[18:25:29] Explicit valence for atom # 1 C, 5, is greater than permitted\n",
      "[18:25:30] Explicit valence for atom # 18 C, 5, is greater than permitted\n"
     ]
    },
    {
     "name": "stdout",
     "output_type": "stream",
     "text": [
      "Epoch 2/50, Train Loss: 0.3782, LR: 0.000180\n",
      "Validation - AUC: 0.7819, Accuracy: 0.6585, F1: 0.5625, Precision: 0.6000, Recall: 0.5294\n",
      "New best model saved! AUC: 0.7819\n"
     ]
    },
    {
     "name": "stderr",
     "output_type": "stream",
     "text": [
      "[18:25:33] Explicit valence for atom # 6 C, 5, is greater than permitted\n",
      "[18:25:35] Explicit valence for atom # 13 O, 3, is greater than permitted\n",
      "[18:25:40] Explicit valence for atom # 7 C, 5, is greater than permitted\n",
      "[18:25:40] Explicit valence for atom # 1 C, 5, is greater than permitted\n",
      "[18:25:42] Explicit valence for atom # 3 C, 5, is greater than permitted\n"
     ]
    },
    {
     "name": "stdout",
     "output_type": "stream",
     "text": [
      "Epoch 3/50, Train Loss: 0.4031, LR: 0.000260\n",
      "Validation - AUC: 0.7868, Accuracy: 0.7805, F1: 0.6667, Precision: 0.9000, Recall: 0.5294\n",
      "New best model saved! AUC: 0.7868\n"
     ]
    },
    {
     "name": "stderr",
     "output_type": "stream",
     "text": [
      "[18:25:47] Can't kekulize mol.  Unkekulized atoms: 9 10 11 15 16\n",
      "[18:25:47] Explicit valence for atom # 2 C, 5, is greater than permitted\n",
      "[18:25:47] Explicit valence for atom # 16 C, 5, is greater than permitted\n",
      "[18:25:48] Explicit valence for atom # 1 C, 5, is greater than permitted\n",
      "[18:25:48] Can't kekulize mol.  Unkekulized atoms: 2 3 4 28 31\n",
      "[18:25:49] Explicit valence for atom # 11 C, 5, is greater than permitted\n",
      "[18:25:50] Explicit valence for atom # 26 C, 5, is greater than permitted\n",
      "[18:25:50] Can't kekulize mol.  Unkekulized atoms: 10 11 12 14 15\n",
      "[18:25:51] Explicit valence for atom # 15 C, 5, is greater than permitted\n"
     ]
    },
    {
     "name": "stdout",
     "output_type": "stream",
     "text": [
      "Epoch 4/50, Train Loss: 0.3985, LR: 0.000340\n",
      "Validation - AUC: 0.8137, Accuracy: 0.7805, F1: 0.6667, Precision: 0.9000, Recall: 0.5294\n",
      "New best model saved! AUC: 0.8137\n"
     ]
    },
    {
     "name": "stderr",
     "output_type": "stream",
     "text": [
      "[18:25:52] Explicit valence for atom # 1 C, 5, is greater than permitted\n",
      "[18:25:53] Explicit valence for atom # 9 C, 5, is greater than permitted\n",
      "[18:25:54] Explicit valence for atom # 3 C, 5, is greater than permitted\n",
      "[18:25:55] Explicit valence for atom # 11 C, 5, is greater than permitted\n",
      "[18:25:56] Explicit valence for atom # 5 C, 5, is greater than permitted\n",
      "[18:25:57] Can't kekulize mol.  Unkekulized atoms: 8 9 10 11 13\n",
      "[18:25:57] Explicit valence for atom # 27 C, 5, is greater than permitted\n"
     ]
    },
    {
     "name": "stdout",
     "output_type": "stream",
     "text": [
      "Epoch 5/50, Train Loss: 0.3866, LR: 0.000420\n",
      "Validation - AUC: 0.8211, Accuracy: 0.7805, F1: 0.6667, Precision: 0.9000, Recall: 0.5294\n",
      "New best model saved! AUC: 0.8211\n"
     ]
    },
    {
     "name": "stderr",
     "output_type": "stream",
     "text": [
      "[18:26:02] Explicit valence for atom # 15 C, 5, is greater than permitted\n",
      "[18:26:03] Explicit valence for atom # 7 C, 5, is greater than permitted\n",
      "[18:26:04] Explicit valence for atom # 7 O, 3, is greater than permitted\n",
      "[18:26:05] Explicit valence for atom # 10 C, 5, is greater than permitted\n",
      "[18:26:06] Can't kekulize mol.  Unkekulized atoms: 0 1 2 5 6\n",
      "[18:26:06] Explicit valence for atom # 1 C, 5, is greater than permitted\n",
      "[18:26:08] Explicit valence for atom # 27 C, 5, is greater than permitted\n",
      "[18:26:10] Explicit valence for atom # 14 C, 5, is greater than permitted\n",
      "[18:26:10] Explicit valence for atom # 6 C, 5, is greater than permitted\n"
     ]
    },
    {
     "name": "stdout",
     "output_type": "stream",
     "text": [
      "Epoch 6/50, Train Loss: 0.3034, LR: 0.000500\n",
      "Validation - AUC: 0.8382, Accuracy: 0.7805, F1: 0.6400, Precision: 1.0000, Recall: 0.4706\n",
      "New best model saved! AUC: 0.8382\n"
     ]
    },
    {
     "name": "stderr",
     "output_type": "stream",
     "text": [
      "[18:26:11] Explicit valence for atom # 4 C, 5, is greater than permitted\n",
      "[18:26:12] Explicit valence for atom # 11 C, 5, is greater than permitted\n",
      "[18:26:13] Explicit valence for atom # 23 C, 5, is greater than permitted\n",
      "[18:26:14] Explicit valence for atom # 1 C, 5, is greater than permitted\n",
      "[18:26:14] Explicit valence for atom # 10 C, 5, is greater than permitted\n",
      "[18:26:16] Explicit valence for atom # 14 C, 5, is greater than permitted\n",
      "[18:26:16] Explicit valence for atom # 5 C, 5, is greater than permitted\n",
      "[18:26:18] Explicit valence for atom # 3 C, 5, is greater than permitted\n",
      "[18:26:18] Explicit valence for atom # 3 C, 5, is greater than permitted\n",
      "[18:26:19] Explicit valence for atom # 6 C, 5, is greater than permitted\n",
      "[18:26:19] Explicit valence for atom # 29 C, 5, is greater than permitted\n",
      "[18:26:20] Explicit valence for atom # 20 C, 5, is greater than permitted\n",
      "[18:26:20] Can't kekulize mol.  Unkekulized atoms: 0 1 10 19\n",
      "[18:26:21] Explicit valence for atom # 16 F, 2, is greater than permitted\n"
     ]
    },
    {
     "name": "stdout",
     "output_type": "stream",
     "text": [
      "Epoch 7/50, Train Loss: 0.3065, LR: 0.000500\n",
      "Validation - AUC: 0.8137, Accuracy: 0.7805, F1: 0.6400, Precision: 1.0000, Recall: 0.4706\n"
     ]
    },
    {
     "name": "stderr",
     "output_type": "stream",
     "text": [
      "[18:26:22] Explicit valence for atom # 1 C, 5, is greater than permitted\n",
      "[18:26:22] Explicit valence for atom # 18 C, 5, is greater than permitted\n",
      "[18:26:23] Explicit valence for atom # 1 C, 5, is greater than permitted\n",
      "[18:26:25] Explicit valence for atom # 13 N, 4, is greater than permitted\n",
      "[18:26:26] Can't kekulize mol.  Unkekulized atoms: 0 1 2 5 6\n",
      "[18:26:27] Explicit valence for atom # 5 C, 5, is greater than permitted\n",
      "[18:26:31] Explicit valence for atom # 5 C, 5, is greater than permitted\n"
     ]
    },
    {
     "name": "stdout",
     "output_type": "stream",
     "text": [
      "Epoch 8/50, Train Loss: 0.3433, LR: 0.000500\n",
      "Validation - AUC: 0.8064, Accuracy: 0.7561, F1: 0.6429, Precision: 0.8182, Recall: 0.5294\n"
     ]
    },
    {
     "name": "stderr",
     "output_type": "stream",
     "text": [
      "[18:26:34] Explicit valence for atom # 8 C, 5, is greater than permitted\n",
      "[18:26:35] Explicit valence for atom # 4 C, 5, is greater than permitted\n",
      "[18:26:35] Explicit valence for atom # 14 C, 5, is greater than permitted\n",
      "[18:26:37] Explicit valence for atom # 10 C, 5, is greater than permitted\n",
      "[18:26:37] Explicit valence for atom # 1 C, 5, is greater than permitted\n",
      "[18:26:38] Explicit valence for atom # 5 C, 5, is greater than permitted\n",
      "[18:26:38] Explicit valence for atom # 1 C, 5, is greater than permitted\n",
      "[18:26:39] Explicit valence for atom # 14 N, 4, is greater than permitted\n",
      "[18:26:40] Explicit valence for atom # 1 C, 5, is greater than permitted\n"
     ]
    },
    {
     "name": "stdout",
     "output_type": "stream",
     "text": [
      "Epoch 9/50, Train Loss: 0.3660, LR: 0.000500\n",
      "Validation - AUC: 0.8235, Accuracy: 0.7805, F1: 0.6667, Precision: 0.9000, Recall: 0.5294\n"
     ]
    },
    {
     "name": "stderr",
     "output_type": "stream",
     "text": [
      "[18:26:41] Explicit valence for atom # 4 C, 5, is greater than permitted\n",
      "[18:26:41] Explicit valence for atom # 1 C, 5, is greater than permitted\n",
      "[18:26:42] Explicit valence for atom # 9 C, 5, is greater than permitted\n",
      "[18:26:43] Explicit valence for atom # 8 C, 5, is greater than permitted\n",
      "[18:26:43] Explicit valence for atom # 14 C, 5, is greater than permitted\n",
      "[18:26:43] Can't kekulize mol.  Unkekulized atoms: 3 4 5 17 18\n",
      "[18:26:43] Can't kekulize mol.  Unkekulized atoms: 2 3 4 28 31\n",
      "[18:26:44] Explicit valence for atom # 18 C, 5, is greater than permitted\n",
      "[18:26:44] Explicit valence for atom # 4 C, 5, is greater than permitted\n",
      "[18:26:47] Explicit valence for atom # 27 C, 5, is greater than permitted\n",
      "[18:26:47] Explicit valence for atom # 8 C, 5, is greater than permitted\n",
      "[18:26:48] Explicit valence for atom # 3 C, 5, is greater than permitted\n",
      "[18:26:48] Explicit valence for atom # 21 C, 5, is greater than permitted\n"
     ]
    },
    {
     "name": "stdout",
     "output_type": "stream",
     "text": [
      "Epoch 10/50, Train Loss: 0.3162, LR: 0.000500\n",
      "Validation - AUC: 0.8480, Accuracy: 0.7805, F1: 0.6400, Precision: 1.0000, Recall: 0.4706\n",
      "New best model saved! AUC: 0.8480\n"
     ]
    },
    {
     "name": "stderr",
     "output_type": "stream",
     "text": [
      "[18:26:49] Explicit valence for atom # 4 C, 5, is greater than permitted\n",
      "[18:26:50] Explicit valence for atom # 15 C, 5, is greater than permitted\n",
      "[18:26:50] Explicit valence for atom # 15 C, 5, is greater than permitted\n",
      "[18:26:50] Explicit valence for atom # 3 C, 5, is greater than permitted\n",
      "[18:26:52] Explicit valence for atom # 7 C, 5, is greater than permitted\n",
      "[18:26:52] Explicit valence for atom # 18 C, 5, is greater than permitted\n",
      "[18:26:53] Explicit valence for atom # 14 C, 5, is greater than permitted\n",
      "[18:26:55] Explicit valence for atom # 4 C, 5, is greater than permitted\n",
      "[18:26:57] Explicit valence for atom # 1 C, 5, is greater than permitted\n",
      "[18:26:58] Explicit valence for atom # 4 C, 5, is greater than permitted\n",
      "[18:26:58] Explicit valence for atom # 1 C, 5, is greater than permitted\n"
     ]
    },
    {
     "name": "stdout",
     "output_type": "stream",
     "text": [
      "Epoch 11/50, Train Loss: 0.3075, LR: 0.000450\n",
      "Validation - AUC: 0.8309, Accuracy: 0.7805, F1: 0.6400, Precision: 1.0000, Recall: 0.4706\n"
     ]
    },
    {
     "name": "stderr",
     "output_type": "stream",
     "text": [
      "[18:27:01] Explicit valence for atom # 10 C, 5, is greater than permitted\n",
      "[18:27:01] Explicit valence for atom # 2 C, 5, is greater than permitted\n",
      "[18:27:01] Explicit valence for atom # 23 C, 5, is greater than permitted\n",
      "[18:27:04] Explicit valence for atom # 2 C, 5, is greater than permitted\n",
      "[18:27:06] Explicit valence for atom # 22 C, 5, is greater than permitted\n"
     ]
    },
    {
     "name": "stdout",
     "output_type": "stream",
     "text": [
      "Epoch 12/50, Train Loss: 0.3377, LR: 0.000450\n",
      "Validation - AUC: 0.8235, Accuracy: 0.7805, F1: 0.6400, Precision: 1.0000, Recall: 0.4706\n"
     ]
    },
    {
     "name": "stderr",
     "output_type": "stream",
     "text": [
      "[18:27:10] Explicit valence for atom # 6 C, 5, is greater than permitted\n",
      "[18:27:11] Explicit valence for atom # 2 C, 5, is greater than permitted\n",
      "[18:27:12] Explicit valence for atom # 17 C, 5, is greater than permitted\n",
      "[18:27:12] Explicit valence for atom # 2 C, 5, is greater than permitted\n",
      "[18:27:13] Explicit valence for atom # 4 C, 5, is greater than permitted\n",
      "[18:27:13] Explicit valence for atom # 4 C, 5, is greater than permitted\n",
      "[18:27:13] Explicit valence for atom # 4 C, 5, is greater than permitted\n",
      "[18:27:15] Explicit valence for atom # 21 C, 5, is greater than permitted\n"
     ]
    },
    {
     "name": "stdout",
     "output_type": "stream",
     "text": [
      "Epoch 13/50, Train Loss: 0.2738, LR: 0.000450\n",
      "Validation - AUC: 0.8162, Accuracy: 0.7561, F1: 0.6154, Precision: 0.8889, Recall: 0.4706\n"
     ]
    },
    {
     "name": "stderr",
     "output_type": "stream",
     "text": [
      "[18:27:17] Explicit valence for atom # 5 C, 5, is greater than permitted\n",
      "[18:27:17] Can't kekulize mol.  Unkekulized atoms: 6 7 8 10 11\n",
      "[18:27:18] Explicit valence for atom # 0 C, 5, is greater than permitted\n",
      "[18:27:18] Explicit valence for atom # 2 C, 5, is greater than permitted\n",
      "[18:27:19] Explicit valence for atom # 1 C, 5, is greater than permitted\n",
      "[18:27:20] Explicit valence for atom # 8 C, 5, is greater than permitted\n",
      "[18:27:21] Explicit valence for atom # 1 C, 5, is greater than permitted\n",
      "[18:27:21] Explicit valence for atom # 25 C, 5, is greater than permitted\n",
      "[18:27:23] Explicit valence for atom # 8 C, 5, is greater than permitted\n",
      "[18:27:23] Explicit valence for atom # 8 C, 5, is greater than permitted\n",
      "[18:27:24] Explicit valence for atom # 4 C, 5, is greater than permitted\n",
      "[18:27:25] Explicit valence for atom # 12 C, 5, is greater than permitted\n"
     ]
    },
    {
     "name": "stdout",
     "output_type": "stream",
     "text": [
      "Epoch 14/50, Train Loss: 0.2903, LR: 0.000450\n",
      "Validation - AUC: 0.8358, Accuracy: 0.7805, F1: 0.6400, Precision: 1.0000, Recall: 0.4706\n"
     ]
    },
    {
     "name": "stderr",
     "output_type": "stream",
     "text": [
      "[18:27:26] Explicit valence for atom # 10 C, 5, is greater than permitted\n",
      "[18:27:27] Can't kekulize mol.  Unkekulized atoms: 10 11 12 15 16\n",
      "[18:27:28] Explicit valence for atom # 10 C, 5, is greater than permitted\n",
      "[18:27:29] Explicit valence for atom # 13 C, 5, is greater than permitted\n",
      "[18:27:32] Explicit valence for atom # 1 C, 5, is greater than permitted\n"
     ]
    },
    {
     "name": "stdout",
     "output_type": "stream",
     "text": [
      "Epoch 15/50, Train Loss: 0.2902, LR: 0.000450\n",
      "Validation - AUC: 0.8284, Accuracy: 0.7805, F1: 0.6400, Precision: 1.0000, Recall: 0.4706\n"
     ]
    },
    {
     "name": "stderr",
     "output_type": "stream",
     "text": [
      "[18:27:36] Explicit valence for atom # 17 C, 5, is greater than permitted\n",
      "[18:27:38] Explicit valence for atom # 4 C, 5, is greater than permitted\n",
      "[18:27:39] Explicit valence for atom # 15 C, 5, is greater than permitted\n",
      "[18:27:41] Explicit valence for atom # 20 C, 5, is greater than permitted\n",
      "[18:27:43] Can't kekulize mol.  Unkekulized atoms: 12 13 14 16 17 19 20 21 22 23 25\n"
     ]
    },
    {
     "name": "stdout",
     "output_type": "stream",
     "text": [
      "Epoch 16/50, Train Loss: 0.2753, LR: 0.000405\n",
      "Validation - AUC: 0.8260, Accuracy: 0.7805, F1: 0.6400, Precision: 1.0000, Recall: 0.4706\n"
     ]
    },
    {
     "name": "stderr",
     "output_type": "stream",
     "text": [
      "[18:27:45] Explicit valence for atom # 1 C, 5, is greater than permitted\n",
      "[18:27:45] Explicit valence for atom # 2 C, 5, is greater than permitted\n",
      "[18:27:48] Can't kekulize mol.  Unkekulized atoms: 2 3 4 15 16\n",
      "[18:27:48] Explicit valence for atom # 4 C, 5, is greater than permitted\n",
      "[18:27:48] Can't kekulize mol.  Unkekulized atoms: 11 12 13 14 15\n",
      "[18:27:49] Can't kekulize mol.  Unkekulized atoms: 17 20 21 22\n",
      "[18:27:49] Explicit valence for atom # 14 C, 5, is greater than permitted\n",
      "[18:27:49] Explicit valence for atom # 14 C, 5, is greater than permitted\n",
      "[18:27:50] Explicit valence for atom # 5 C, 5, is greater than permitted\n",
      "[18:27:50] Explicit valence for atom # 1 C, 5, is greater than permitted\n"
     ]
    },
    {
     "name": "stdout",
     "output_type": "stream",
     "text": [
      "Epoch 17/50, Train Loss: 0.2662, LR: 0.000405\n",
      "Validation - AUC: 0.8529, Accuracy: 0.7805, F1: 0.6400, Precision: 1.0000, Recall: 0.4706\n",
      "New best model saved! AUC: 0.8529\n"
     ]
    },
    {
     "name": "stderr",
     "output_type": "stream",
     "text": [
      "[18:27:54] Explicit valence for atom # 15 C, 5, is greater than permitted\n",
      "[18:27:55] Can't kekulize mol.  Unkekulized atoms: 1 2 3 4 6 8 9 10 11 12 13\n",
      "[18:27:56] Explicit valence for atom # 9 C, 5, is greater than permitted\n",
      "[18:27:56] Explicit valence for atom # 7 C, 5, is greater than permitted\n",
      "[18:27:57] Explicit valence for atom # 13 C, 5, is greater than permitted\n",
      "[18:27:57] Explicit valence for atom # 4 C, 5, is greater than permitted\n",
      "[18:27:57] Can't kekulize mol.  Unkekulized atoms: 0 5 10 11 19\n",
      "[18:27:58] Explicit valence for atom # 6 C, 5, is greater than permitted\n",
      "[18:27:58] Explicit valence for atom # 17 C, 5, is greater than permitted\n",
      "[18:28:00] Explicit valence for atom # 11 S, 7, is greater than permitted\n",
      "[18:28:01] Explicit valence for atom # 23 C, 5, is greater than permitted\n"
     ]
    },
    {
     "name": "stdout",
     "output_type": "stream",
     "text": [
      "Epoch 18/50, Train Loss: 0.2815, LR: 0.000405\n",
      "Validation - AUC: 0.8211, Accuracy: 0.7805, F1: 0.6400, Precision: 1.0000, Recall: 0.4706\n"
     ]
    },
    {
     "name": "stderr",
     "output_type": "stream",
     "text": [
      "[18:28:03] Explicit valence for atom # 19 C, 5, is greater than permitted\n",
      "[18:28:05] Explicit valence for atom # 9 C, 5, is greater than permitted\n",
      "[18:28:08] Explicit valence for atom # 12 C, 5, is greater than permitted\n",
      "[18:28:09] Explicit valence for atom # 1 C, 5, is greater than permitted\n",
      "[18:28:10] Explicit valence for atom # 15 O, 3, is greater than permitted\n",
      "[18:28:11] Can't kekulize mol.  Unkekulized atoms: 1 2 3 4 6 8 9 10 11 12 13\n"
     ]
    },
    {
     "name": "stdout",
     "output_type": "stream",
     "text": [
      "Epoch 19/50, Train Loss: 0.2611, LR: 0.000405\n",
      "Validation - AUC: 0.8113, Accuracy: 0.6341, F1: 0.6512, Precision: 0.5385, Recall: 0.8235\n"
     ]
    },
    {
     "name": "stderr",
     "output_type": "stream",
     "text": [
      "[18:28:12] Explicit valence for atom # 1 C, 5, is greater than permitted\n",
      "[18:28:12] Explicit valence for atom # 11 C, 5, is greater than permitted\n",
      "[18:28:13] Explicit valence for atom # 4 C, 5, is greater than permitted\n",
      "[18:28:13] Can't kekulize mol.  Unkekulized atoms: 9 10 11 15 16\n",
      "[18:28:14] Explicit valence for atom # 17 C, 5, is greater than permitted\n",
      "[18:28:15] Explicit valence for atom # 13 C, 5, is greater than permitted\n",
      "[18:28:15] Explicit valence for atom # 36 O, 3, is greater than permitted\n",
      "[18:28:15] Explicit valence for atom # 1 C, 5, is greater than permitted\n",
      "[18:28:15] Explicit valence for atom # 15 C, 5, is greater than permitted\n",
      "[18:28:19] Explicit valence for atom # 13 C, 5, is greater than permitted\n"
     ]
    },
    {
     "name": "stdout",
     "output_type": "stream",
     "text": [
      "Epoch 20/50, Train Loss: 0.2380, LR: 0.000405\n",
      "Validation - AUC: 0.8039, Accuracy: 0.7317, F1: 0.5926, Precision: 0.8000, Recall: 0.4706\n"
     ]
    },
    {
     "name": "stderr",
     "output_type": "stream",
     "text": [
      "[18:28:23] Explicit valence for atom # 15 C, 5, is greater than permitted\n",
      "[18:28:25] Explicit valence for atom # 1 C, 5, is greater than permitted\n",
      "[18:28:26] Explicit valence for atom # 19 C, 5, is greater than permitted\n",
      "[18:28:26] Explicit valence for atom # 6 C, 5, is greater than permitted\n",
      "[18:28:27] Explicit valence for atom # 3 O, 3, is greater than permitted\n",
      "[18:28:27] Can't kekulize mol.  Unkekulized atoms: 2 3 4 28 31\n",
      "[18:28:27] Explicit valence for atom # 1 C, 5, is greater than permitted\n",
      "[18:28:28] Explicit valence for atom # 15 C, 5, is greater than permitted\n",
      "[18:28:28] Explicit valence for atom # 11 C, 5, is greater than permitted\n",
      "[18:28:28] Can't kekulize mol.  Unkekulized atoms: 1 2 3 4 6 9 10 11 12 13\n"
     ]
    },
    {
     "name": "stdout",
     "output_type": "stream",
     "text": [
      "Epoch 21/50, Train Loss: 0.2352, LR: 0.000365\n",
      "Validation - AUC: 0.8162, Accuracy: 0.7561, F1: 0.6875, Precision: 0.7333, Recall: 0.6471\n"
     ]
    },
    {
     "name": "stderr",
     "output_type": "stream",
     "text": [
      "[18:28:30] Explicit valence for atom # 6 C, 5, is greater than permitted\n",
      "[18:28:30] Explicit valence for atom # 17 C, 5, is greater than permitted\n",
      "[18:28:31] Explicit valence for atom # 21 C, 5, is greater than permitted\n",
      "[18:28:32] Explicit valence for atom # 3 O, 3, is greater than permitted\n",
      "[18:28:32] Explicit valence for atom # 10 C, 5, is greater than permitted\n",
      "[18:28:35] Explicit valence for atom # 6 C, 5, is greater than permitted\n",
      "[18:28:35] Explicit valence for atom # 3 C, 5, is greater than permitted\n",
      "[18:28:35] Explicit valence for atom # 9 C, 5, is greater than permitted\n",
      "[18:28:36] Can't kekulize mol.  Unkekulized atoms: 17 20 21\n",
      "[18:28:36] Explicit valence for atom # 5 C, 5, is greater than permitted\n",
      "[18:28:36] Explicit valence for atom # 8 C, 5, is greater than permitted\n",
      "[18:28:37] Explicit valence for atom # 1 C, 5, is greater than permitted\n",
      "[18:28:37] Explicit valence for atom # 4 C, 5, is greater than permitted\n",
      "[18:28:38] Explicit valence for atom # 25 C, 5, is greater than permitted\n"
     ]
    },
    {
     "name": "stdout",
     "output_type": "stream",
     "text": [
      "Epoch 22/50, Train Loss: 0.2200, LR: 0.000365\n",
      "Validation - AUC: 0.7794, Accuracy: 0.7317, F1: 0.7027, Precision: 0.6500, Recall: 0.7647\n"
     ]
    },
    {
     "name": "stderr",
     "output_type": "stream",
     "text": [
      "[18:28:39] Explicit valence for atom # 2 C, 5, is greater than permitted\n",
      "[18:28:39] Explicit valence for atom # 3 O, 3, is greater than permitted\n",
      "[18:28:39] Explicit valence for atom # 4 C, 5, is greater than permitted\n",
      "[18:28:39] Explicit valence for atom # 1 C, 5, is greater than permitted\n",
      "[18:28:40] Explicit valence for atom # 23 C, 5, is greater than permitted\n",
      "[18:28:42] Explicit valence for atom # 1 C, 5, is greater than permitted\n",
      "[18:28:43] Explicit valence for atom # 23 F, 2, is greater than permitted\n",
      "[18:28:44] Explicit valence for atom # 14 C, 5, is greater than permitted\n",
      "[18:28:44] Explicit valence for atom # 9 C, 5, is greater than permitted\n",
      "[18:28:45] Can't kekulize mol.  Unkekulized atoms: 0 1 2 5 6\n",
      "[18:28:45] Explicit valence for atom # 15 C, 5, is greater than permitted\n",
      "[18:28:47] Explicit valence for atom # 4 C, 5, is greater than permitted\n"
     ]
    },
    {
     "name": "stdout",
     "output_type": "stream",
     "text": [
      "Epoch 23/50, Train Loss: 0.2190, LR: 0.000365\n",
      "Validation - AUC: 0.8113, Accuracy: 0.7561, F1: 0.7059, Precision: 0.7059, Recall: 0.7059\n"
     ]
    },
    {
     "name": "stderr",
     "output_type": "stream",
     "text": [
      "[18:28:47] Explicit valence for atom # 21 C, 5, is greater than permitted\n",
      "[18:28:48] Explicit valence for atom # 9 C, 5, is greater than permitted\n",
      "[18:28:48] Explicit valence for atom # 14 C, 5, is greater than permitted\n",
      "[18:28:48] Can't kekulize mol.  Unkekulized atoms: 0 1 5 6 7\n",
      "[18:28:50] Explicit valence for atom # 5 C, 5, is greater than permitted\n",
      "[18:28:51] Explicit valence for atom # 7 C, 5, is greater than permitted\n",
      "[18:28:52] Explicit valence for atom # 5 C, 5, is greater than permitted\n",
      "[18:28:53] Explicit valence for atom # 7 N, 4, is greater than permitted\n",
      "[18:28:55] Explicit valence for atom # 4 C, 5, is greater than permitted\n"
     ]
    },
    {
     "name": "stdout",
     "output_type": "stream",
     "text": [
      "Epoch 24/50, Train Loss: 0.2086, LR: 0.000365\n",
      "Validation - AUC: 0.7917, Accuracy: 0.8049, F1: 0.7333, Precision: 0.8462, Recall: 0.6471\n"
     ]
    },
    {
     "name": "stderr",
     "output_type": "stream",
     "text": [
      "[18:28:56] Explicit valence for atom # 19 C, 5, is greater than permitted\n",
      "[18:28:57] Explicit valence for atom # 25 C, 5, is greater than permitted\n",
      "[18:28:57] Explicit valence for atom # 6 C, 5, is greater than permitted\n",
      "[18:28:58] Explicit valence for atom # 3 C, 5, is greater than permitted\n",
      "[18:28:58] Explicit valence for atom # 3 C, 5, is greater than permitted\n",
      "[18:28:58] Explicit valence for atom # 11 C, 5, is greater than permitted\n",
      "[18:28:59] Explicit valence for atom # 8 C, 5, is greater than permitted\n",
      "[18:29:01] Can't kekulize mol.  Unkekulized atoms: 3 4 5 15 16\n",
      "[18:29:01] Explicit valence for atom # 1 C, 5, is greater than permitted\n",
      "[18:29:02] Explicit valence for atom # 1 C, 5, is greater than permitted\n",
      "[18:29:02] Explicit valence for atom # 5 C, 5, is greater than permitted\n",
      "[18:29:02] Explicit valence for atom # 5 C, 5, is greater than permitted\n",
      "[18:29:03] Explicit valence for atom # 7 C, 5, is greater than permitted\n",
      "[18:29:04] Explicit valence for atom # 7 C, 5, is greater than permitted\n",
      "[18:29:04] Explicit valence for atom # 4 C, 5, is greater than permitted\n"
     ]
    },
    {
     "name": "stdout",
     "output_type": "stream",
     "text": [
      "Epoch 25/50, Train Loss: 0.1946, LR: 0.000365\n",
      "Validation - AUC: 0.7868, Accuracy: 0.6829, F1: 0.6486, Precision: 0.6000, Recall: 0.7059\n"
     ]
    },
    {
     "name": "stderr",
     "output_type": "stream",
     "text": [
      "[18:29:07] Explicit valence for atom # 8 C, 5, is greater than permitted\n",
      "[18:29:08] Explicit valence for atom # 18 C, 5, is greater than permitted\n",
      "[18:29:08] Can't kekulize mol.  Unkekulized atoms: 2 3 4 6 7\n",
      "[18:29:08] Explicit valence for atom # 4 C, 5, is greater than permitted\n",
      "[18:29:08] Explicit valence for atom # 8 C, 5, is greater than permitted\n",
      "[18:29:11] Explicit valence for atom # 7 C, 5, is greater than permitted\n",
      "[18:29:11] Can't kekulize mol.  Unkekulized atoms: 0 5 10 11 19\n",
      "[18:29:11] Can't kekulize mol.  Unkekulized atoms: 13 14 15 17 18\n",
      "[18:29:12] Explicit valence for atom # 5 C, 5, is greater than permitted\n",
      "[18:29:14] Can't kekulize mol.  Unkekulized atoms: 0 12 13 16 17 19 20 21 22 25\n",
      "[18:29:14] Explicit valence for atom # 22 C, 5, is greater than permitted\n"
     ]
    },
    {
     "name": "stdout",
     "output_type": "stream",
     "text": [
      "Epoch 26/50, Train Loss: 0.2020, LR: 0.000328\n",
      "Validation - AUC: 0.7696, Accuracy: 0.7805, F1: 0.6897, Precision: 0.8333, Recall: 0.5882\n"
     ]
    },
    {
     "name": "stderr",
     "output_type": "stream",
     "text": [
      "[18:29:16] Explicit valence for atom # 7 C, 5, is greater than permitted\n",
      "[18:29:17] Explicit valence for atom # 6 C, 5, is greater than permitted\n",
      "[18:29:18] Explicit valence for atom # 8 C, 5, is greater than permitted\n",
      "[18:29:18] Explicit valence for atom # 13 C, 5, is greater than permitted\n",
      "[18:29:22] Explicit valence for atom # 5 C, 5, is greater than permitted\n",
      "[18:29:23] Explicit valence for atom # 1 C, 5, is greater than permitted\n",
      "[18:29:23] Explicit valence for atom # 15 C, 5, is greater than permitted\n",
      "[18:29:24] Explicit valence for atom # 21 C, 5, is greater than permitted\n",
      "[18:29:24] Explicit valence for atom # 2 C, 5, is greater than permitted\n",
      "[18:29:25] Explicit valence for atom # 6 C, 5, is greater than permitted\n"
     ]
    },
    {
     "name": "stdout",
     "output_type": "stream",
     "text": [
      "Epoch 27/50, Train Loss: 0.2226, LR: 0.000328\n",
      "Validation - AUC: 0.7990, Accuracy: 0.7561, F1: 0.6667, Precision: 0.7692, Recall: 0.5882\n"
     ]
    },
    {
     "name": "stderr",
     "output_type": "stream",
     "text": [
      "[18:29:26] Explicit valence for atom # 1 C, 5, is greater than permitted\n",
      "[18:29:27] Explicit valence for atom # 23 C, 5, is greater than permitted\n",
      "[18:29:28] Explicit valence for atom # 4 C, 5, is greater than permitted\n",
      "[18:29:28] Can't kekulize mol.  Unkekulized atoms: 17 18 20 21 22\n",
      "[18:29:32] Explicit valence for atom # 3 C, 5, is greater than permitted\n",
      "[18:29:33] Explicit valence for atom # 4 C, 5, is greater than permitted\n",
      "[18:29:34] Explicit valence for atom # 1 C, 5, is greater than permitted\n"
     ]
    },
    {
     "name": "stdout",
     "output_type": "stream",
     "text": [
      "Epoch 28/50, Train Loss: 0.1933, LR: 0.000328\n",
      "Validation - AUC: 0.7917, Accuracy: 0.7805, F1: 0.7273, Precision: 0.7500, Recall: 0.7059\n"
     ]
    },
    {
     "name": "stderr",
     "output_type": "stream",
     "text": [
      "[18:29:36] Explicit valence for atom # 1 C, 5, is greater than permitted\n",
      "[18:29:37] Explicit valence for atom # 15 C, 5, is greater than permitted\n",
      "[18:29:37] Can't kekulize mol.  Unkekulized atoms: 2 3 4 15 16\n",
      "[18:29:38] Explicit valence for atom # 8 C, 5, is greater than permitted\n",
      "[18:29:38] Explicit valence for atom # 3 O, 3, is greater than permitted\n",
      "[18:29:39] Explicit valence for atom # 13 C, 5, is greater than permitted\n",
      "[18:29:40] Explicit valence for atom # 17 C, 5, is greater than permitted\n",
      "[18:29:41] Explicit valence for atom # 6 C, 5, is greater than permitted\n",
      "[18:29:41] Explicit valence for atom # 7 C, 5, is greater than permitted\n",
      "[18:29:42] Can't kekulize mol.  Unkekulized atoms: 0 12 13 14 17 19 20 21 22 23 25\n",
      "[18:29:43] Can't kekulize mol.  Unkekulized atoms: 3 4 5 17 18\n",
      "[18:29:43] Can't kekulize mol.  Unkekulized atoms: 3 4 5 31\n",
      "[18:29:44] Explicit valence for atom # 1 C, 5, is greater than permitted\n",
      "[18:29:44] Can't kekulize mol.  Unkekulized atoms: 2 3 5 6 9 10 11 12 13\n"
     ]
    },
    {
     "name": "stdout",
     "output_type": "stream",
     "text": [
      "Epoch 29/50, Train Loss: 0.1894, LR: 0.000328\n",
      "Validation - AUC: 0.8064, Accuracy: 0.7073, F1: 0.6667, Precision: 0.6316, Recall: 0.7059\n"
     ]
    },
    {
     "name": "stderr",
     "output_type": "stream",
     "text": [
      "[18:29:45] Explicit valence for atom # 8 C, 5, is greater than permitted\n",
      "[18:29:46] Explicit valence for atom # 4 C, 5, is greater than permitted\n",
      "[18:29:48] Explicit valence for atom # 20 C, 5, is greater than permitted\n",
      "[18:29:49] Explicit valence for atom # 8 N, 4, is greater than permitted\n",
      "[18:29:50] Explicit valence for atom # 0 C, 5, is greater than permitted\n",
      "[18:29:50] Explicit valence for atom # 1 C, 5, is greater than permitted\n"
     ]
    },
    {
     "name": "stdout",
     "output_type": "stream",
     "text": [
      "Epoch 30/50, Train Loss: 0.1662, LR: 0.000328\n",
      "Validation - AUC: 0.8113, Accuracy: 0.7073, F1: 0.6667, Precision: 0.6316, Recall: 0.7059\n"
     ]
    },
    {
     "name": "stderr",
     "output_type": "stream",
     "text": [
      "[18:29:54] Explicit valence for atom # 1 C, 5, is greater than permitted\n",
      "[18:29:54] Explicit valence for atom # 6 C, 5, is greater than permitted\n",
      "[18:29:55] Explicit valence for atom # 3 C, 5, is greater than permitted\n",
      "[18:29:56] Can't kekulize mol.  Unkekulized atoms: 8 9 10 11 12\n",
      "[18:29:56] Explicit valence for atom # 13 C, 5, is greater than permitted\n",
      "[18:29:56] Explicit valence for atom # 1 C, 5, is greater than permitted\n",
      "[18:29:57] Explicit valence for atom # 6 C, 5, is greater than permitted\n",
      "[18:29:57] Explicit valence for atom # 7 C, 5, is greater than permitted\n",
      "[18:29:59] Can't kekulize mol.  Unkekulized atoms: 5 6 7 10 11\n",
      "[18:30:01] Explicit valence for atom # 13 C, 5, is greater than permitted\n",
      "[18:30:01] Can't kekulize mol.  Unkekulized atoms: 2 3 4 15 16\n",
      "[18:30:02] Explicit valence for atom # 13 C, 5, is greater than permitted\n",
      "[18:30:02] Explicit valence for atom # 2 C, 5, is greater than permitted\n",
      "[18:30:02] Can't kekulize mol.  Unkekulized atoms: 10 11 12 14 15\n"
     ]
    },
    {
     "name": "stdout",
     "output_type": "stream",
     "text": [
      "Epoch 31/50, Train Loss: 0.1534, LR: 0.000295\n",
      "Validation - AUC: 0.8088, Accuracy: 0.7805, F1: 0.7273, Precision: 0.7500, Recall: 0.7059\n"
     ]
    },
    {
     "name": "stderr",
     "output_type": "stream",
     "text": [
      "[18:30:03] Explicit valence for atom # 11 C, 5, is greater than permitted\n",
      "[18:30:04] Explicit valence for atom # 1 C, 5, is greater than permitted\n",
      "[18:30:05] Explicit valence for atom # 19 C, 5, is greater than permitted\n",
      "[18:30:06] Explicit valence for atom # 19 C, 5, is greater than permitted\n",
      "[18:30:07] Explicit valence for atom # 3 C, 5, is greater than permitted\n",
      "[18:30:07] Explicit valence for atom # 1 C, 5, is greater than permitted\n",
      "[18:30:08] Explicit valence for atom # 9 C, 5, is greater than permitted\n",
      "[18:30:09] Explicit valence for atom # 5 C, 5, is greater than permitted\n",
      "[18:30:10] Explicit valence for atom # 4 C, 5, is greater than permitted\n",
      "[18:30:10] Explicit valence for atom # 21 C, 5, is greater than permitted\n"
     ]
    },
    {
     "name": "stdout",
     "output_type": "stream",
     "text": [
      "Epoch 32/50, Train Loss: 0.1773, LR: 0.000295\n",
      "Validation - AUC: 0.8039, Accuracy: 0.7561, F1: 0.7059, Precision: 0.7059, Recall: 0.7059\n",
      "Early stopping after 32 epochs without improvement\n",
      "Fold 3 - Validation AUC: 0.8039, Accuracy: 0.7561, F1: 0.7059, Precision: 0.7059, Recall: 0.7059\n",
      "\n",
      "--- Fold 4/5 ---\n",
      "Training set: 201, Validation set: 41\n"
     ]
    },
    {
     "name": "stderr",
     "output_type": "stream",
     "text": [
      "[18:30:13] Can't kekulize mol.  Unkekulized atoms: 1 2 3 5 6 8 9 10 11 12 13\n",
      "[18:30:14] Explicit valence for atom # 3 C, 5, is greater than permitted\n",
      "[18:30:15] Explicit valence for atom # 6 C, 5, is greater than permitted\n",
      "[18:30:15] Explicit valence for atom # 7 N, 4, is greater than permitted\n",
      "[18:30:15] Explicit valence for atom # 6 C, 5, is greater than permitted\n",
      "[18:30:15] Explicit valence for atom # 5 C, 5, is greater than permitted\n",
      "[18:30:16] Explicit valence for atom # 5 C, 5, is greater than permitted\n",
      "[18:30:16] Explicit valence for atom # 0 C, 5, is greater than permitted\n",
      "[18:30:16] Explicit valence for atom # 1 C, 5, is greater than permitted\n",
      "[18:30:17] Explicit valence for atom # 1 C, 5, is greater than permitted\n",
      "[18:30:18] Explicit valence for atom # 7 C, 5, is greater than permitted\n",
      "[18:30:18] Explicit valence for atom # 7 C, 5, is greater than permitted\n",
      "[18:30:19] Explicit valence for atom # 6 C, 5, is greater than permitted\n",
      "[18:30:20] Can't kekulize mol.  Unkekulized atoms: 10 11 12 14 15\n"
     ]
    },
    {
     "name": "stdout",
     "output_type": "stream",
     "text": [
      "Epoch 1/50, Train Loss: 0.3787, LR: 0.000100\n",
      "Validation - AUC: 0.8382, Accuracy: 0.5854, F1: 0.0000, Precision: 0.0000, Recall: 0.0000\n",
      "New best model saved! AUC: 0.8382\n"
     ]
    },
    {
     "name": "stderr",
     "output_type": "stream",
     "text": [
      "[18:30:24] Explicit valence for atom # 1 C, 5, is greater than permitted\n",
      "[18:30:25] Explicit valence for atom # 5 C, 5, is greater than permitted\n",
      "[18:30:25] Explicit valence for atom # 7 C, 5, is greater than permitted\n",
      "[18:30:26] Explicit valence for atom # 2 C, 5, is greater than permitted\n",
      "[18:30:26] Explicit valence for atom # 1 C, 5, is greater than permitted\n",
      "[18:30:26] Can't kekulize mol.  Unkekulized atoms: 2 3 4 15 16\n",
      "[18:30:27] Explicit valence for atom # 1 C, 5, is greater than permitted\n",
      "[18:30:27] Can't kekulize mol.  Unkekulized atoms: 2 3 4 5 17\n",
      "[18:30:29] Explicit valence for atom # 1 C, 5, is greater than permitted\n",
      "[18:30:29] Explicit valence for atom # 14 C, 5, is greater than permitted\n",
      "[18:30:29] Explicit valence for atom # 14 C, 5, is greater than permitted\n",
      "[18:30:30] Explicit valence for atom # 6 C, 5, is greater than permitted\n",
      "[18:30:31] Explicit valence for atom # 30 C, 5, is greater than permitted\n",
      "[18:30:31] Explicit valence for atom # 1 C, 5, is greater than permitted\n",
      "[18:30:31] Explicit valence for atom # 10 C, 5, is greater than permitted\n",
      "[18:30:31] Can't kekulize mol.  Unkekulized atoms: 8 9 10 28 29\n"
     ]
    },
    {
     "name": "stdout",
     "output_type": "stream",
     "text": [
      "Epoch 2/50, Train Loss: 0.4479, LR: 0.000180\n",
      "Validation - AUC: 0.8431, Accuracy: 0.7561, F1: 0.7619, Precision: 0.6400, Recall: 0.9412\n",
      "New best model saved! AUC: 0.8431\n"
     ]
    },
    {
     "name": "stderr",
     "output_type": "stream",
     "text": [
      "[18:30:34] Explicit valence for atom # 4 C, 5, is greater than permitted\n",
      "[18:30:34] Explicit valence for atom # 13 C, 5, is greater than permitted\n",
      "[18:30:36] Explicit valence for atom # 6 C, 5, is greater than permitted\n",
      "[18:30:37] Explicit valence for atom # 14 C, 5, is greater than permitted\n",
      "[18:30:37] Can't kekulize mol.  Unkekulized atoms: 2 3 4 5 31\n"
     ]
    },
    {
     "name": "stdout",
     "output_type": "stream",
     "text": [
      "Epoch 3/50, Train Loss: 0.4654, LR: 0.000260\n",
      "Validation - AUC: 0.8701, Accuracy: 0.8049, F1: 0.7143, Precision: 0.9091, Recall: 0.5882\n",
      "New best model saved! AUC: 0.8701\n"
     ]
    },
    {
     "name": "stderr",
     "output_type": "stream",
     "text": [
      "[18:30:41] Explicit valence for atom # 5 C, 5, is greater than permitted\n",
      "[18:30:44] Explicit valence for atom # 30 C, 5, is greater than permitted\n",
      "[18:30:45] Explicit valence for atom # 18 O, 3, is greater than permitted\n",
      "[18:30:46] Explicit valence for atom # 1 C, 5, is greater than permitted\n",
      "[18:30:46] Explicit valence for atom # 18 C, 5, is greater than permitted\n",
      "[18:30:48] Explicit valence for atom # 7 C, 5, is greater than permitted\n",
      "[18:30:48] Explicit valence for atom # 1 C, 5, is greater than permitted\n"
     ]
    },
    {
     "name": "stdout",
     "output_type": "stream",
     "text": [
      "Epoch 4/50, Train Loss: 0.4169, LR: 0.000340\n",
      "Validation - AUC: 0.8480, Accuracy: 0.8049, F1: 0.7143, Precision: 0.9091, Recall: 0.5882\n"
     ]
    },
    {
     "name": "stderr",
     "output_type": "stream",
     "text": [
      "[18:30:53] Explicit valence for atom # 9 C, 5, is greater than permitted\n",
      "[18:30:53] Explicit valence for atom # 1 C, 5, is greater than permitted\n",
      "[18:30:53] Explicit valence for atom # 5 C, 5, is greater than permitted\n",
      "[18:30:53] Explicit valence for atom # 12 C, 5, is greater than permitted\n",
      "[18:30:54] Explicit valence for atom # 3 C, 5, is greater than permitted\n",
      "[18:30:55] Can't kekulize mol.  Unkekulized atoms: 3 4 5 15 16\n",
      "[18:30:56] Explicit valence for atom # 3 C, 5, is greater than permitted\n"
     ]
    },
    {
     "name": "stdout",
     "output_type": "stream",
     "text": [
      "Epoch 5/50, Train Loss: 0.3735, LR: 0.000420\n",
      "Validation - AUC: 0.8480, Accuracy: 0.8049, F1: 0.7143, Precision: 0.9091, Recall: 0.5882\n"
     ]
    },
    {
     "name": "stderr",
     "output_type": "stream",
     "text": [
      "[18:30:58] Explicit valence for atom # 19 C, 5, is greater than permitted\n",
      "[18:30:58] Explicit valence for atom # 1 C, 5, is greater than permitted\n",
      "[18:30:58] Explicit valence for atom # 26 C, 5, is greater than permitted\n",
      "[18:30:59] Explicit valence for atom # 1 C, 5, is greater than permitted\n",
      "[18:30:59] Can't kekulize mol.  Unkekulized atoms: 5 9 10 11 12\n",
      "[18:31:00] Explicit valence for atom # 2 C, 5, is greater than permitted\n",
      "[18:31:04] Can't kekulize mol.  Unkekulized atoms: 0 1 2 5 6\n",
      "[18:31:05] Explicit valence for atom # 10 C, 5, is greater than permitted\n",
      "[18:31:05] Can't kekulize mol.  Unkekulized atoms: 3 4 5 28 31\n",
      "[18:31:05] Explicit valence for atom # 4 C, 5, is greater than permitted\n"
     ]
    },
    {
     "name": "stdout",
     "output_type": "stream",
     "text": [
      "Epoch 6/50, Train Loss: 0.3689, LR: 0.000500\n",
      "Validation - AUC: 0.8529, Accuracy: 0.8049, F1: 0.7143, Precision: 0.9091, Recall: 0.5882\n"
     ]
    },
    {
     "name": "stderr",
     "output_type": "stream",
     "text": [
      "[18:31:07] Explicit valence for atom # 1 C, 5, is greater than permitted\n",
      "[18:31:07] Explicit valence for atom # 7 C, 5, is greater than permitted\n",
      "[18:31:08] Explicit valence for atom # 1 C, 5, is greater than permitted\n",
      "[18:31:09] Can't kekulize mol.  Unkekulized atoms: 5 6 7 10 11\n",
      "[18:31:10] Explicit valence for atom # 15 C, 5, is greater than permitted\n",
      "[18:31:10] Explicit valence for atom # 5 C, 5, is greater than permitted\n",
      "[18:31:11] Explicit valence for atom # 21 C, 5, is greater than permitted\n",
      "[18:31:12] Explicit valence for atom # 2 C, 5, is greater than permitted\n",
      "[18:31:13] Can't kekulize mol.  Unkekulized atoms: 2 3 4 17\n"
     ]
    },
    {
     "name": "stdout",
     "output_type": "stream",
     "text": [
      "Epoch 7/50, Train Loss: 0.4038, LR: 0.000500\n",
      "Validation - AUC: 0.8578, Accuracy: 0.8049, F1: 0.7143, Precision: 0.9091, Recall: 0.5882\n"
     ]
    },
    {
     "name": "stderr",
     "output_type": "stream",
     "text": [
      "[18:31:16] Explicit valence for atom # 7 C, 5, is greater than permitted\n",
      "[18:31:16] Can't kekulize mol.  Unkekulized atoms: 10 11 12 14 15\n",
      "[18:31:18] Explicit valence for atom # 10 C, 5, is greater than permitted\n",
      "[18:31:18] Can't kekulize mol.  Unkekulized atoms: 2 3 4 28 31\n",
      "[18:31:20] Explicit valence for atom # 14 C, 5, is greater than permitted\n",
      "[18:31:20] Explicit valence for atom # 5 C, 5, is greater than permitted\n",
      "[18:31:22] Explicit valence for atom # 14 C, 5, is greater than permitted\n",
      "[18:31:22] Explicit valence for atom # 14 C, 5, is greater than permitted\n",
      "[18:31:22] Can't kekulize mol.  Unkekulized atoms: 2 3 4 15 16\n"
     ]
    },
    {
     "name": "stdout",
     "output_type": "stream",
     "text": [
      "Epoch 8/50, Train Loss: 0.3017, LR: 0.000500\n",
      "Validation - AUC: 0.8407, Accuracy: 0.8049, F1: 0.7143, Precision: 0.9091, Recall: 0.5882\n"
     ]
    },
    {
     "name": "stderr",
     "output_type": "stream",
     "text": [
      "[18:31:24] Explicit valence for atom # 7 C, 5, is greater than permitted\n",
      "[18:31:25] Can't kekulize mol.  Unkekulized atoms: 16 17 18 19 20\n",
      "[18:31:26] Explicit valence for atom # 7 C, 5, is greater than permitted\n",
      "[18:31:27] Explicit valence for atom # 12 C, 5, is greater than permitted\n",
      "[18:31:28] Explicit valence for atom # 4 C, 5, is greater than permitted\n",
      "[18:31:29] Explicit valence for atom # 19 C, 5, is greater than permitted\n",
      "[18:31:30] Explicit valence for atom # 11 C, 5, is greater than permitted\n",
      "[18:31:30] Explicit valence for atom # 1 C, 5, is greater than permitted\n",
      "[18:31:30] Explicit valence for atom # 15 C, 5, is greater than permitted\n",
      "[18:31:31] Explicit valence for atom # 9 C, 5, is greater than permitted\n",
      "[18:31:32] Can't kekulize mol.  Unkekulized atoms: 8 9 10 11 13\n",
      "[18:31:32] Explicit valence for atom # 14 C, 5, is greater than permitted\n",
      "[18:31:32] Can't kekulize mol.  Unkekulized atoms: 0 1 2 5 6\n"
     ]
    },
    {
     "name": "stdout",
     "output_type": "stream",
     "text": [
      "Epoch 9/50, Train Loss: 0.3771, LR: 0.000500\n",
      "Validation - AUC: 0.8456, Accuracy: 0.8049, F1: 0.7143, Precision: 0.9091, Recall: 0.5882\n"
     ]
    },
    {
     "name": "stderr",
     "output_type": "stream",
     "text": [
      "[18:31:36] Explicit valence for atom # 14 C, 5, is greater than permitted\n",
      "[18:31:36] Explicit valence for atom # 21 C, 5, is greater than permitted\n",
      "[18:31:36] Explicit valence for atom # 4 C, 5, is greater than permitted\n",
      "[18:31:36] Can't kekulize mol.  Unkekulized atoms: 1 2 3 4 5 6 8 9 10 11 12\n",
      "[18:31:37] Explicit valence for atom # 16 C, 5, is greater than permitted\n",
      "[18:31:37] Explicit valence for atom # 1 C, 5, is greater than permitted\n",
      "[18:31:39] Explicit valence for atom # 1 C, 5, is greater than permitted\n",
      "[18:31:40] Explicit valence for atom # 1 C, 5, is greater than permitted\n",
      "[18:31:40] Explicit valence for atom # 23 C, 5, is greater than permitted\n",
      "[18:31:40] Explicit valence for atom # 19 C, 5, is greater than permitted\n",
      "[18:31:41] Explicit valence for atom # 10 C, 5, is greater than permitted\n",
      "[18:31:42] Explicit valence for atom # 3 C, 5, is greater than permitted\n"
     ]
    },
    {
     "name": "stdout",
     "output_type": "stream",
     "text": [
      "Epoch 10/50, Train Loss: 0.3212, LR: 0.000500\n",
      "Validation - AUC: 0.8505, Accuracy: 0.8049, F1: 0.7143, Precision: 0.9091, Recall: 0.5882\n"
     ]
    },
    {
     "name": "stderr",
     "output_type": "stream",
     "text": [
      "[18:31:43] Explicit valence for atom # 6 C, 5, is greater than permitted\n",
      "[18:31:45] Explicit valence for atom # 17 C, 5, is greater than permitted\n",
      "[18:31:45] Can't kekulize mol.  Unkekulized atoms: 9 10 11 12 13\n",
      "[18:31:45] Explicit valence for atom # 11 C, 5, is greater than permitted\n",
      "[18:31:46] Explicit valence for atom # 11 C, 5, is greater than permitted\n",
      "[18:31:46] Explicit valence for atom # 15 C, 5, is greater than permitted\n",
      "[18:31:46] Can't kekulize mol.  Unkekulized atoms: 0 1 2 5 6\n",
      "[18:31:46] Explicit valence for atom # 10 C, 5, is greater than permitted\n",
      "[18:31:46] Explicit valence for atom # 14 C, 5, is greater than permitted\n",
      "[18:31:47] Explicit valence for atom # 5 C, 5, is greater than permitted\n",
      "[18:31:47] Explicit valence for atom # 7 C, 5, is greater than permitted\n",
      "[18:31:47] Explicit valence for atom # 10 N, 4, is greater than permitted\n",
      "[18:31:48] Explicit valence for atom # 2 C, 5, is greater than permitted\n",
      "[18:31:50] Explicit valence for atom # 7 C, 5, is greater than permitted\n",
      "[18:31:50] Explicit valence for atom # 3 C, 5, is greater than permitted\n",
      "[18:31:51] Explicit valence for atom # 4 C, 5, is greater than permitted\n"
     ]
    },
    {
     "name": "stdout",
     "output_type": "stream",
     "text": [
      "Epoch 11/50, Train Loss: 0.3514, LR: 0.000450\n",
      "Validation - AUC: 0.8480, Accuracy: 0.8049, F1: 0.7143, Precision: 0.9091, Recall: 0.5882\n"
     ]
    },
    {
     "name": "stderr",
     "output_type": "stream",
     "text": [
      "[18:31:54] Can't kekulize mol.  Unkekulized atoms: 10 11 12 14 15\n",
      "[18:31:55] Explicit valence for atom # 3 C, 5, is greater than permitted\n",
      "[18:31:56] Explicit valence for atom # 10 C, 5, is greater than permitted\n",
      "[18:31:56] Explicit valence for atom # 29 C, 5, is greater than permitted\n",
      "[18:31:56] Explicit valence for atom # 4 C, 5, is greater than permitted\n",
      "[18:31:57] Explicit valence for atom # 2 C, 5, is greater than permitted\n",
      "[18:31:57] Explicit valence for atom # 25 C, 5, is greater than permitted\n",
      "[18:31:59] Explicit valence for atom # 6 C, 5, is greater than permitted\n",
      "[18:31:59] Can't kekulize mol.  Unkekulized atoms: 10 11 12 15 16\n",
      "[18:32:00] Explicit valence for atom # 5 C, 5, is greater than permitted\n"
     ]
    },
    {
     "name": "stdout",
     "output_type": "stream",
     "text": [
      "Epoch 12/50, Train Loss: 0.3488, LR: 0.000450\n",
      "Validation - AUC: 0.8431, Accuracy: 0.8049, F1: 0.7143, Precision: 0.9091, Recall: 0.5882\n"
     ]
    },
    {
     "name": "stderr",
     "output_type": "stream",
     "text": [
      "[18:32:02] Explicit valence for atom # 2 O, 3, is greater than permitted\n",
      "[18:32:03] Explicit valence for atom # 4 C, 5, is greater than permitted\n",
      "[18:32:03] Explicit valence for atom # 19 C, 5, is greater than permitted\n",
      "[18:32:03] Explicit valence for atom # 1 C, 5, is greater than permitted\n",
      "[18:32:05] Can't kekulize mol.  Unkekulized atoms: 3 4 5 31\n",
      "[18:32:06] Explicit valence for atom # 18 C, 5, is greater than permitted\n",
      "[18:32:07] Explicit valence for atom # 4 C, 5, is greater than permitted\n",
      "[18:32:07] Explicit valence for atom # 6 C, 5, is greater than permitted\n",
      "[18:32:08] Explicit valence for atom # 14 C, 5, is greater than permitted\n",
      "[18:32:08] Explicit valence for atom # 15 C, 5, is greater than permitted\n",
      "[18:32:09] Explicit valence for atom # 14 C, 5, is greater than permitted\n"
     ]
    },
    {
     "name": "stdout",
     "output_type": "stream",
     "text": [
      "Epoch 13/50, Train Loss: 0.3134, LR: 0.000450\n",
      "Validation - AUC: 0.8578, Accuracy: 0.8049, F1: 0.7143, Precision: 0.9091, Recall: 0.5882\n"
     ]
    },
    {
     "name": "stderr",
     "output_type": "stream",
     "text": [
      "[18:32:11] Explicit valence for atom # 8 C, 5, is greater than permitted\n",
      "[18:32:12] Explicit valence for atom # 18 C, 5, is greater than permitted\n",
      "[18:32:12] Explicit valence for atom # 18 C, 5, is greater than permitted\n",
      "[18:32:13] Explicit valence for atom # 1 C, 5, is greater than permitted\n",
      "[18:32:14] Can't kekulize mol.  Unkekulized atoms: 9 10 11 15 16\n",
      "[18:32:14] Explicit valence for atom # 1 C, 5, is greater than permitted\n",
      "[18:32:15] Explicit valence for atom # 2 C, 5, is greater than permitted\n",
      "[18:32:15] Explicit valence for atom # 13 C, 5, is greater than permitted\n",
      "[18:32:16] Explicit valence for atom # 1 C, 5, is greater than permitted\n",
      "[18:32:16] Explicit valence for atom # 0 C, 5, is greater than permitted\n",
      "[18:32:16] Explicit valence for atom # 6 C, 5, is greater than permitted\n",
      "[18:32:18] Explicit valence for atom # 1 C, 5, is greater than permitted\n"
     ]
    },
    {
     "name": "stdout",
     "output_type": "stream",
     "text": [
      "Epoch 14/50, Train Loss: 0.3417, LR: 0.000450\n",
      "Validation - AUC: 0.8480, Accuracy: 0.8049, F1: 0.7143, Precision: 0.9091, Recall: 0.5882\n"
     ]
    },
    {
     "name": "stderr",
     "output_type": "stream",
     "text": [
      "[18:32:20] Can't kekulize mol.  Unkekulized atoms: 9 10 11 15 16\n",
      "[18:32:21] Explicit valence for atom # 7 N, 4, is greater than permitted\n",
      "[18:32:21] Explicit valence for atom # 1 C, 5, is greater than permitted\n",
      "[18:32:21] Explicit valence for atom # 19 C, 5, is greater than permitted\n",
      "[18:32:21] Explicit valence for atom # 15 C, 5, is greater than permitted\n",
      "[18:32:22] Explicit valence for atom # 14 C, 5, is greater than permitted\n",
      "[18:32:22] Explicit valence for atom # 6 C, 5, is greater than permitted\n",
      "[18:32:23] Explicit valence for atom # 21 C, 5, is greater than permitted\n",
      "[18:32:24] Explicit valence for atom # 2 C, 5, is greater than permitted\n",
      "[18:32:25] Explicit valence for atom # 25 C, 5, is greater than permitted\n",
      "[18:32:26] Explicit valence for atom # 20 C, 5, is greater than permitted\n",
      "[18:32:27] Explicit valence for atom # 2 C, 5, is greater than permitted\n"
     ]
    },
    {
     "name": "stdout",
     "output_type": "stream",
     "text": [
      "Epoch 15/50, Train Loss: 0.2802, LR: 0.000450\n",
      "Validation - AUC: 0.8480, Accuracy: 0.8049, F1: 0.7143, Precision: 0.9091, Recall: 0.5882\n"
     ]
    },
    {
     "name": "stderr",
     "output_type": "stream",
     "text": [
      "[18:32:30] Explicit valence for atom # 5 C, 5, is greater than permitted\n",
      "[18:32:31] Explicit valence for atom # 1 C, 5, is greater than permitted\n",
      "[18:32:31] Explicit valence for atom # 9 C, 5, is greater than permitted\n",
      "[18:32:31] Explicit valence for atom # 0 C, 5, is greater than permitted\n",
      "[18:32:33] Explicit valence for atom # 1 C, 5, is greater than permitted\n",
      "[18:32:33] Can't kekulize mol.  Unkekulized atoms: 2 3 4 5 6 8 9 10 11 12 13\n",
      "[18:32:34] Explicit valence for atom # 5 C, 5, is greater than permitted\n",
      "[18:32:34] Explicit valence for atom # 4 C, 5, is greater than permitted\n",
      "[18:32:36] Explicit valence for atom # 14 C, 5, is greater than permitted\n"
     ]
    },
    {
     "name": "stdout",
     "output_type": "stream",
     "text": [
      "Epoch 16/50, Train Loss: 0.2880, LR: 0.000405\n",
      "Validation - AUC: 0.8456, Accuracy: 0.8049, F1: 0.7143, Precision: 0.9091, Recall: 0.5882\n"
     ]
    },
    {
     "name": "stderr",
     "output_type": "stream",
     "text": [
      "[18:32:40] Explicit valence for atom # 4 C, 5, is greater than permitted\n",
      "[18:32:41] Explicit valence for atom # 1 C, 5, is greater than permitted\n",
      "[18:32:42] Explicit valence for atom # 1 C, 5, is greater than permitted\n",
      "[18:32:43] Can't kekulize mol.  Unkekulized atoms: 0 1 5 6 7\n",
      "[18:32:43] Explicit valence for atom # 3 C, 5, is greater than permitted\n",
      "[18:32:43] Explicit valence for atom # 7 C, 5, is greater than permitted\n",
      "[18:32:43] Explicit valence for atom # 1 C, 5, is greater than permitted\n",
      "[18:32:45] Explicit valence for atom # 4 C, 5, is greater than permitted\n",
      "[18:32:45] Explicit valence for atom # 0 C, 5, is greater than permitted\n"
     ]
    },
    {
     "name": "stdout",
     "output_type": "stream",
     "text": [
      "Epoch 17/50, Train Loss: 0.2968, LR: 0.000405\n",
      "Validation - AUC: 0.8480, Accuracy: 0.8049, F1: 0.7143, Precision: 0.9091, Recall: 0.5882\n"
     ]
    },
    {
     "name": "stderr",
     "output_type": "stream",
     "text": [
      "[18:32:47] Explicit valence for atom # 5 C, 5, is greater than permitted\n",
      "[18:32:48] Explicit valence for atom # 1 C, 5, is greater than permitted\n",
      "[18:32:48] Explicit valence for atom # 2 C, 5, is greater than permitted\n",
      "[18:32:48] Explicit valence for atom # 14 C, 5, is greater than permitted\n",
      "[18:32:49] Explicit valence for atom # 1 C, 5, is greater than permitted\n",
      "[18:32:50] Explicit valence for atom # 5 C, 5, is greater than permitted\n",
      "[18:32:50] Can't kekulize mol.  Unkekulized atoms: 8 9 10 28 29\n",
      "[18:32:51] Explicit valence for atom # 9 C, 5, is greater than permitted\n",
      "[18:32:53] Explicit valence for atom # 1 C, 5, is greater than permitted\n",
      "[18:32:54] Can't kekulize mol.  Unkekulized atoms: 1 2 18\n"
     ]
    },
    {
     "name": "stdout",
     "output_type": "stream",
     "text": [
      "Epoch 18/50, Train Loss: 0.2924, LR: 0.000405\n",
      "Validation - AUC: 0.8578, Accuracy: 0.8049, F1: 0.7143, Precision: 0.9091, Recall: 0.5882\n",
      "Early stopping after 18 epochs without improvement\n",
      "Fold 4 - Validation AUC: 0.8578, Accuracy: 0.8049, F1: 0.7143, Precision: 0.9091, Recall: 0.5882\n",
      "\n",
      "--- Fold 5/5 ---\n",
      "Training set: 201, Validation set: 41\n"
     ]
    },
    {
     "name": "stderr",
     "output_type": "stream",
     "text": [
      "[18:32:56] Can't kekulize mol.  Unkekulized atoms: 2 3 4 5 31\n",
      "[18:32:57] Explicit valence for atom # 1 C, 5, is greater than permitted\n",
      "[18:32:57] Can't kekulize mol.  Unkekulized atoms: 0 12 13 16 19 20 21 22 23 25\n",
      "[18:32:58] Can't kekulize mol.  Unkekulized atoms: 2 3 4 5 6 9 10 11 12 13\n",
      "[18:32:58] Can't kekulize mol.  Unkekulized atoms: 0 1 10 19\n",
      "[18:32:58] Explicit valence for atom # 20 C, 5, is greater than permitted\n",
      "[18:32:59] Can't kekulize mol.  Unkekulized atoms: 1 2 3 15 16\n",
      "[18:33:01] Can't kekulize mol.  Unkekulized atoms: 2 11 12 13\n",
      "[18:33:01] Explicit valence for atom # 16 C, 5, is greater than permitted\n",
      "[18:33:02] Explicit valence for atom # 30 C, 5, is greater than permitted\n",
      "[18:33:02] Explicit valence for atom # 1 O, 3, is greater than permitted\n",
      "[18:33:02] Explicit valence for atom # 9 C, 5, is greater than permitted\n",
      "[18:33:04] Explicit valence for atom # 1 C, 5, is greater than permitted\n"
     ]
    },
    {
     "name": "stdout",
     "output_type": "stream",
     "text": [
      "Epoch 1/50, Train Loss: 0.3995, LR: 0.000100\n",
      "Validation - AUC: 0.8406, Accuracy: 0.4390, F1: 0.6102, Precision: 0.4390, Recall: 1.0000\n",
      "New best model saved! AUC: 0.8406\n"
     ]
    },
    {
     "name": "stderr",
     "output_type": "stream",
     "text": [
      "[18:33:05] Explicit valence for atom # 4 C, 5, is greater than permitted\n",
      "[18:33:07] Explicit valence for atom # 21 C, 5, is greater than permitted\n",
      "[18:33:08] Explicit valence for atom # 1 C, 5, is greater than permitted\n",
      "[18:33:08] Explicit valence for atom # 5 C, 5, is greater than permitted\n",
      "[18:33:09] Explicit valence for atom # 22 C, 5, is greater than permitted\n",
      "[18:33:10] Explicit valence for atom # 5 C, 5, is greater than permitted\n",
      "[18:33:11] Explicit valence for atom # 9 C, 5, is greater than permitted\n",
      "[18:33:11] Explicit valence for atom # 16 C, 5, is greater than permitted\n",
      "[18:33:11] Explicit valence for atom # 25 C, 5, is greater than permitted\n",
      "[18:33:11] Explicit valence for atom # 1 C, 5, is greater than permitted\n",
      "[18:33:11] Explicit valence for atom # 8 C, 5, is greater than permitted\n",
      "[18:33:12] Explicit valence for atom # 1 C, 5, is greater than permitted\n",
      "[18:33:12] Can't kekulize mol.  Unkekulized atoms: 3 4 5 15 16\n"
     ]
    },
    {
     "name": "stdout",
     "output_type": "stream",
     "text": [
      "Epoch 2/50, Train Loss: 0.3670, LR: 0.000180\n",
      "Validation - AUC: 0.8792, Accuracy: 0.5610, F1: 0.6667, Precision: 0.5000, Recall: 1.0000\n",
      "New best model saved! AUC: 0.8792\n"
     ]
    },
    {
     "name": "stderr",
     "output_type": "stream",
     "text": [
      "[18:33:13] Explicit valence for atom # 1 C, 5, is greater than permitted\n",
      "[18:33:14] Explicit valence for atom # 7 C, 5, is greater than permitted\n",
      "[18:33:14] Explicit valence for atom # 4 C, 5, is greater than permitted\n",
      "[18:33:15] Explicit valence for atom # 1 C, 5, is greater than permitted\n",
      "[18:33:15] Explicit valence for atom # 2 C, 5, is greater than permitted\n",
      "[18:33:16] Can't kekulize mol.  Unkekulized atoms: 2 3 4 15 16\n",
      "[18:33:16] Explicit valence for atom # 21 C, 5, is greater than permitted\n",
      "[18:33:17] Explicit valence for atom # 1 C, 5, is greater than permitted\n",
      "[18:33:17] Explicit valence for atom # 5 C, 5, is greater than permitted\n",
      "[18:33:19] Can't kekulize mol.  Unkekulized atoms: 2 3 4 28\n",
      "[18:33:20] Explicit valence for atom # 10 C, 5, is greater than permitted\n",
      "[18:33:20] Explicit valence for atom # 0 C, 5, is greater than permitted\n",
      "[18:33:21] Explicit valence for atom # 14 C, 5, is greater than permitted\n"
     ]
    },
    {
     "name": "stdout",
     "output_type": "stream",
     "text": [
      "Epoch 3/50, Train Loss: 0.4065, LR: 0.000260\n",
      "Validation - AUC: 0.8744, Accuracy: 0.7805, F1: 0.7273, Precision: 0.8000, Recall: 0.6667\n"
     ]
    },
    {
     "name": "stderr",
     "output_type": "stream",
     "text": [
      "[18:33:22] Explicit valence for atom # 6 C, 5, is greater than permitted\n",
      "[18:33:22] Explicit valence for atom # 23 C, 5, is greater than permitted\n",
      "[18:33:24] Explicit valence for atom # 6 C, 5, is greater than permitted\n",
      "[18:33:26] Explicit valence for atom # 11 C, 5, is greater than permitted\n",
      "[18:33:28] Explicit valence for atom # 19 C, 5, is greater than permitted\n",
      "[18:33:28] Explicit valence for atom # 9 C, 5, is greater than permitted\n",
      "[18:33:29] Can't kekulize mol.  Unkekulized atoms: 8 9 10 11 13\n",
      "[18:33:30] Explicit valence for atom # 1 C, 5, is greater than permitted\n"
     ]
    },
    {
     "name": "stdout",
     "output_type": "stream",
     "text": [
      "Epoch 4/50, Train Loss: 0.3570, LR: 0.000340\n",
      "Validation - AUC: 0.8647, Accuracy: 0.7805, F1: 0.7097, Precision: 0.8462, Recall: 0.6111\n"
     ]
    },
    {
     "name": "stderr",
     "output_type": "stream",
     "text": [
      "[18:33:32] Can't kekulize mol.  Unkekulized atoms: 0 1 2 3 5 6 11 13 14 15 16\n",
      "[18:33:32] Explicit valence for atom # 1 C, 5, is greater than permitted\n",
      "[18:33:33] Explicit valence for atom # 1 C, 5, is greater than permitted\n",
      "[18:33:34] Explicit valence for atom # 17 C, 5, is greater than permitted\n",
      "[18:33:36] Explicit valence for atom # 13 C, 5, is greater than permitted\n",
      "[18:33:36] Can't kekulize mol.  Unkekulized atoms: 5 6 7 10 11\n",
      "[18:33:37] Explicit valence for atom # 8 C, 5, is greater than permitted\n"
     ]
    },
    {
     "name": "stdout",
     "output_type": "stream",
     "text": [
      "Epoch 5/50, Train Loss: 0.3486, LR: 0.000420\n",
      "Validation - AUC: 0.8164, Accuracy: 0.7561, F1: 0.6429, Precision: 0.9000, Recall: 0.5000\n"
     ]
    },
    {
     "name": "stderr",
     "output_type": "stream",
     "text": [
      "[18:33:41] Explicit valence for atom # 9 C, 5, is greater than permitted\n",
      "[18:33:41] Explicit valence for atom # 12 C, 5, is greater than permitted\n",
      "[18:33:42] Explicit valence for atom # 8 C, 5, is greater than permitted\n",
      "[18:33:42] Explicit valence for atom # 1 C, 5, is greater than permitted\n",
      "[18:33:46] Explicit valence for atom # 1 C, 5, is greater than permitted\n",
      "[18:33:46] Explicit valence for atom # 18 O, 3, is greater than permitted\n",
      "[18:33:46] Explicit valence for atom # 22 C, 5, is greater than permitted\n",
      "[18:33:46] Explicit valence for atom # 4 C, 5, is greater than permitted\n",
      "[18:33:46] Explicit valence for atom # 10 C, 5, is greater than permitted\n",
      "[18:33:47] Explicit valence for atom # 2 C, 5, is greater than permitted\n",
      "[18:33:47] Can't kekulize mol.  Unkekulized atoms: 3 4 5 15 16\n",
      "[18:33:47] Can't kekulize mol.  Unkekulized atoms: 0 1 5 10 19\n"
     ]
    },
    {
     "name": "stdout",
     "output_type": "stream",
     "text": [
      "Epoch 6/50, Train Loss: 0.3379, LR: 0.000500\n",
      "Validation - AUC: 0.7874, Accuracy: 0.7561, F1: 0.6429, Precision: 0.9000, Recall: 0.5000\n"
     ]
    },
    {
     "name": "stderr",
     "output_type": "stream",
     "text": [
      "[18:33:49] Explicit valence for atom # 1 C, 5, is greater than permitted\n",
      "[18:33:51] Explicit valence for atom # 10 C, 5, is greater than permitted\n",
      "[18:33:51] Explicit valence for atom # 17 C, 5, is greater than permitted\n",
      "[18:33:52] Can't kekulize mol.  Unkekulized atoms: 1 2 3\n",
      "[18:33:52] Explicit valence for atom # 9 C, 5, is greater than permitted\n",
      "[18:33:52] Explicit valence for atom # 13 C, 5, is greater than permitted\n",
      "[18:33:52] Can't kekulize mol.  Unkekulized atoms: 0 1 5 6 7\n",
      "[18:33:53] Explicit valence for atom # 4 C, 5, is greater than permitted\n",
      "[18:33:53] Explicit valence for atom # 5 C, 5, is greater than permitted\n",
      "[18:33:53] Explicit valence for atom # 13 C, 5, is greater than permitted\n",
      "[18:33:54] Explicit valence for atom # 2 C, 5, is greater than permitted\n",
      "[18:33:54] Explicit valence for atom # 4 C, 5, is greater than permitted\n"
     ]
    },
    {
     "name": "stdout",
     "output_type": "stream",
     "text": [
      "Epoch 7/50, Train Loss: 0.3177, LR: 0.000500\n",
      "Validation - AUC: 0.7947, Accuracy: 0.7561, F1: 0.6429, Precision: 0.9000, Recall: 0.5000\n"
     ]
    },
    {
     "name": "stderr",
     "output_type": "stream",
     "text": [
      "[18:33:57] Explicit valence for atom # 4 C, 5, is greater than permitted\n",
      "[18:33:57] Explicit valence for atom # 4 C, 5, is greater than permitted\n",
      "[18:33:58] Explicit valence for atom # 0 C, 5, is greater than permitted\n",
      "[18:33:59] Can't kekulize mol.  Unkekulized atoms: 2 3 4 5 6 9 10 11 12 13\n",
      "[18:34:00] Can't kekulize mol.  Unkekulized atoms: 4 5 6 7 9\n",
      "[18:34:00] Explicit valence for atom # 13 C, 5, is greater than permitted\n",
      "[18:34:01] Explicit valence for atom # 17 C, 5, is greater than permitted\n",
      "[18:34:01] Can't kekulize mol.  Unkekulized atoms: 1 2 3 15 16\n",
      "[18:34:03] Explicit valence for atom # 6 C, 5, is greater than permitted\n",
      "[18:34:04] Explicit valence for atom # 4 C, 5, is greater than permitted\n",
      "[18:34:04] Explicit valence for atom # 5 C, 5, is greater than permitted\n",
      "[18:34:04] Can't kekulize mol.  Unkekulized atoms: 3 4 5 15 16\n"
     ]
    },
    {
     "name": "stdout",
     "output_type": "stream",
     "text": [
      "Epoch 8/50, Train Loss: 0.3432, LR: 0.000500\n",
      "Validation - AUC: 0.7802, Accuracy: 0.7561, F1: 0.6429, Precision: 0.9000, Recall: 0.5000\n"
     ]
    },
    {
     "name": "stderr",
     "output_type": "stream",
     "text": [
      "[18:34:06] Explicit valence for atom # 18 C, 5, is greater than permitted\n",
      "[18:34:06] Explicit valence for atom # 1 C, 5, is greater than permitted\n",
      "[18:34:07] Explicit valence for atom # 0 C, 5, is greater than permitted\n",
      "[18:34:07] Can't kekulize mol.  Unkekulized atoms: 12 13 14 17 18\n",
      "[18:34:08] Explicit valence for atom # 1 C, 5, is greater than permitted\n",
      "[18:34:08] Can't kekulize mol.  Unkekulized atoms: 1 2 3 5 6 9 10 11 12 13\n",
      "[18:34:10] Explicit valence for atom # 1 C, 5, is greater than permitted\n",
      "[18:34:10] Can't kekulize mol.  Unkekulized atoms: 8 9 10 11 13\n",
      "[18:34:11] Explicit valence for atom # 4 C, 5, is greater than permitted\n",
      "[18:34:12] Can't kekulize mol.  Unkekulized atoms: 0 12 13 14 16 17 20 21 22 23 25\n",
      "[18:34:13] Explicit valence for atom # 8 C, 5, is greater than permitted\n",
      "[18:34:14] Explicit valence for atom # 21 C, 5, is greater than permitted\n"
     ]
    },
    {
     "name": "stdout",
     "output_type": "stream",
     "text": [
      "Epoch 9/50, Train Loss: 0.3034, LR: 0.000500\n",
      "Validation - AUC: 0.7947, Accuracy: 0.7561, F1: 0.6429, Precision: 0.9000, Recall: 0.5000\n"
     ]
    },
    {
     "name": "stderr",
     "output_type": "stream",
     "text": [
      "[18:34:17] Explicit valence for atom # 10 C, 5, is greater than permitted\n",
      "[18:34:18] Explicit valence for atom # 1 C, 5, is greater than permitted\n",
      "[18:34:18] Explicit valence for atom # 1 C, 5, is greater than permitted\n",
      "[18:34:18] Can't kekulize mol.  Unkekulized atoms: 3 4 28\n",
      "[18:34:19] Explicit valence for atom # 10 C, 5, is greater than permitted\n",
      "[18:34:20] Explicit valence for atom # 9 C, 5, is greater than permitted\n",
      "[18:34:21] Explicit valence for atom # 8 C, 5, is greater than permitted\n",
      "[18:34:21] Explicit valence for atom # 6 C, 5, is greater than permitted\n",
      "[18:34:21] Can't kekulize mol.  Unkekulized atoms: 1 2 3 4 17\n",
      "[18:34:23] Explicit valence for atom # 9 C, 5, is greater than permitted\n"
     ]
    },
    {
     "name": "stdout",
     "output_type": "stream",
     "text": [
      "Epoch 10/50, Train Loss: 0.3161, LR: 0.000500\n",
      "Validation - AUC: 0.7850, Accuracy: 0.7561, F1: 0.6429, Precision: 0.9000, Recall: 0.5000\n"
     ]
    },
    {
     "name": "stderr",
     "output_type": "stream",
     "text": [
      "[18:34:24] Explicit valence for atom # 1 C, 5, is greater than permitted\n",
      "[18:34:24] Explicit valence for atom # 13 C, 5, is greater than permitted\n",
      "[18:34:26] Explicit valence for atom # 14 C, 5, is greater than permitted\n",
      "[18:34:26] Explicit valence for atom # 0 C, 5, is greater than permitted\n",
      "[18:34:27] Can't kekulize mol.  Unkekulized atoms: 3 4 5 15 16\n",
      "[18:34:28] Explicit valence for atom # 18 C, 5, is greater than permitted\n",
      "[18:34:29] Explicit valence for atom # 3 C, 5, is greater than permitted\n",
      "[18:34:30] Explicit valence for atom # 1 C, 5, is greater than permitted\n",
      "[18:34:30] Can't kekulize mol.  Unkekulized atoms: 10 11 12 14 15\n",
      "[18:34:31] Explicit valence for atom # 6 N, 4, is greater than permitted\n"
     ]
    },
    {
     "name": "stdout",
     "output_type": "stream",
     "text": [
      "Epoch 11/50, Train Loss: 0.3262, LR: 0.000450\n",
      "Validation - AUC: 0.7899, Accuracy: 0.7561, F1: 0.6429, Precision: 0.9000, Recall: 0.5000\n"
     ]
    },
    {
     "name": "stderr",
     "output_type": "stream",
     "text": [
      "[18:34:32] Explicit valence for atom # 6 C, 5, is greater than permitted\n",
      "[18:34:33] Explicit valence for atom # 1 C, 5, is greater than permitted\n",
      "[18:34:33] Explicit valence for atom # 29 O, 3, is greater than permitted\n",
      "[18:34:35] Can't kekulize mol.  Unkekulized atoms: 9 10 11 15 16\n",
      "[18:34:36] Explicit valence for atom # 8 C, 5, is greater than permitted\n",
      "[18:34:36] Can't kekulize mol.  Unkekulized atoms: 10 11 12 14 15\n"
     ]
    },
    {
     "name": "stdout",
     "output_type": "stream",
     "text": [
      "Epoch 12/50, Train Loss: 0.3097, LR: 0.000450\n",
      "Validation - AUC: 0.7850, Accuracy: 0.7561, F1: 0.6429, Precision: 0.9000, Recall: 0.5000\n"
     ]
    },
    {
     "name": "stderr",
     "output_type": "stream",
     "text": [
      "[18:34:42] Explicit valence for atom # 1 C, 5, is greater than permitted\n",
      "[18:34:43] Explicit valence for atom # 15 C, 5, is greater than permitted\n",
      "[18:34:45] Explicit valence for atom # 14 C, 5, is greater than permitted\n",
      "[18:34:47] Explicit valence for atom # 1 C, 5, is greater than permitted\n",
      "[18:34:48] Explicit valence for atom # 1 C, 5, is greater than permitted\n",
      "[18:34:48] Explicit valence for atom # 14 C, 5, is greater than permitted\n",
      "[18:34:49] Explicit valence for atom # 7 C, 5, is greater than permitted\n"
     ]
    },
    {
     "name": "stdout",
     "output_type": "stream",
     "text": [
      "Epoch 13/50, Train Loss: 0.2919, LR: 0.000450\n",
      "Validation - AUC: 0.7633, Accuracy: 0.7561, F1: 0.6429, Precision: 0.9000, Recall: 0.5000\n"
     ]
    },
    {
     "name": "stderr",
     "output_type": "stream",
     "text": [
      "[18:34:50] Explicit valence for atom # 17 C, 5, is greater than permitted\n",
      "[18:34:50] Explicit valence for atom # 14 C, 5, is greater than permitted\n",
      "[18:34:51] Explicit valence for atom # 11 C, 5, is greater than permitted\n",
      "[18:34:52] Can't kekulize mol.  Unkekulized atoms: 1 2 3 4 17\n",
      "[18:34:52] Explicit valence for atom # 6 C, 5, is greater than permitted\n",
      "[18:34:53] Explicit valence for atom # 9 C, 5, is greater than permitted\n",
      "[18:34:54] Explicit valence for atom # 0 C, 5, is greater than permitted\n",
      "[18:34:55] Can't kekulize mol.  Unkekulized atoms: 1 2 3 15 16\n",
      "[18:34:57] Explicit valence for atom # 4 C, 5, is greater than permitted\n",
      "[18:34:57] Explicit valence for atom # 5 C, 5, is greater than permitted\n",
      "[18:34:57] Explicit valence for atom # 1 C, 5, is greater than permitted\n"
     ]
    },
    {
     "name": "stdout",
     "output_type": "stream",
     "text": [
      "Epoch 14/50, Train Loss: 0.3227, LR: 0.000450\n",
      "Validation - AUC: 0.7778, Accuracy: 0.7561, F1: 0.6429, Precision: 0.9000, Recall: 0.5000\n"
     ]
    },
    {
     "name": "stderr",
     "output_type": "stream",
     "text": [
      "[18:34:59] Explicit valence for atom # 7 C, 5, is greater than permitted\n",
      "[18:35:00] Explicit valence for atom # 6 C, 5, is greater than permitted\n",
      "[18:35:00] Explicit valence for atom # 6 N, 4, is greater than permitted\n",
      "[18:35:02] Explicit valence for atom # 1 C, 5, is greater than permitted\n",
      "[18:35:02] Explicit valence for atom # 18 C, 5, is greater than permitted\n",
      "[18:35:02] Explicit valence for atom # 1 C, 5, is greater than permitted\n",
      "[18:35:03] Explicit valence for atom # 4 C, 5, is greater than permitted\n",
      "[18:35:03] Explicit valence for atom # 5 C, 5, is greater than permitted\n",
      "[18:35:04] Explicit valence for atom # 8 C, 5, is greater than permitted\n",
      "[18:35:05] Can't kekulize mol.  Unkekulized atoms: 1 2 3 4 17\n",
      "[18:35:06] Can't kekulize mol.  Unkekulized atoms: 0 1 2 5 6\n"
     ]
    },
    {
     "name": "stdout",
     "output_type": "stream",
     "text": [
      "Epoch 15/50, Train Loss: 0.3141, LR: 0.000450\n",
      "Validation - AUC: 0.7536, Accuracy: 0.7561, F1: 0.6429, Precision: 0.9000, Recall: 0.5000\n"
     ]
    },
    {
     "name": "stderr",
     "output_type": "stream",
     "text": [
      "[18:35:07] Explicit valence for atom # 2 C, 5, is greater than permitted\n",
      "[18:35:10] Explicit valence for atom # 1 C, 5, is greater than permitted\n",
      "[18:35:10] Explicit valence for atom # 1 C, 5, is greater than permitted\n",
      "[18:35:11] Explicit valence for atom # 15 O, 3, is greater than permitted\n",
      "[18:35:13] Explicit valence for atom # 14 C, 5, is greater than permitted\n",
      "[18:35:13] Explicit valence for atom # 2 C, 5, is greater than permitted\n",
      "[18:35:14] Explicit valence for atom # 14 C, 5, is greater than permitted\n",
      "[18:35:14] Explicit valence for atom # 4 C, 5, is greater than permitted\n",
      "[18:35:15] Explicit valence for atom # 15 C, 5, is greater than permitted\n"
     ]
    },
    {
     "name": "stdout",
     "output_type": "stream",
     "text": [
      "Epoch 16/50, Train Loss: 0.3261, LR: 0.000405\n",
      "Validation - AUC: 0.7609, Accuracy: 0.7561, F1: 0.6429, Precision: 0.9000, Recall: 0.5000\n"
     ]
    },
    {
     "name": "stderr",
     "output_type": "stream",
     "text": [
      "[18:35:16] Explicit valence for atom # 0 C, 5, is greater than permitted\n",
      "[18:35:16] Can't kekulize mol.  Unkekulized atoms: 19 20 21 24 25\n",
      "[18:35:17] Explicit valence for atom # 25 C, 5, is greater than permitted\n",
      "[18:35:18] Explicit valence for atom # 1 C, 5, is greater than permitted\n",
      "[18:35:19] Explicit valence for atom # 8 C, 5, is greater than permitted\n",
      "[18:35:20] Explicit valence for atom # 5 C, 5, is greater than permitted\n",
      "[18:35:20] Explicit valence for atom # 5 C, 5, is greater than permitted\n",
      "[18:35:20] Explicit valence for atom # 1 C, 5, is greater than permitted\n",
      "[18:35:21] Can't kekulize mol.  Unkekulized atoms: 0 12 13 14 17 19 20 21 22 23 25\n",
      "[18:35:22] Explicit valence for atom # 4 C, 5, is greater than permitted\n",
      "[18:35:23] Explicit valence for atom # 11 C, 5, is greater than permitted\n"
     ]
    },
    {
     "name": "stdout",
     "output_type": "stream",
     "text": [
      "Epoch 17/50, Train Loss: 0.2959, LR: 0.000405\n",
      "Validation - AUC: 0.7464, Accuracy: 0.7561, F1: 0.6429, Precision: 0.9000, Recall: 0.5000\n",
      "Early stopping after 17 epochs without improvement\n",
      "Fold 5 - Validation AUC: 0.7464, Accuracy: 0.7561, F1: 0.6429, Precision: 0.9000, Recall: 0.5000\n",
      "\n",
      "Cross-Validation Results:\n",
      "Mean AUC: 0.8113 ± 0.0391\n",
      "Mean Accuracy: 0.7682 ± 0.0239\n",
      "Mean F1 Score: 0.7020 ± 0.0471\n",
      "Cross-validation AUC: 0.8113, Accuracy: 0.7682, F1: 0.7020\n"
     ]
    },
    {
     "name": "stderr",
     "output_type": "stream",
     "text": [
      "[18:35:26] Explicit valence for atom # 0 C, 5, is greater than permitted\n"
     ]
    },
    {
     "name": "stdout",
     "output_type": "stream",
     "text": [
      "Test metrics - AUC: 0.8254, Accuracy: 0.7692, F1: 0.7619, Precision: 0.7500, Recall: 0.7742\n"
     ]
    },
    {
     "data": {
      "image/png": "[encoded data removed]",
      "text/plain": [
       "<Figure size 1500x1200 with 5 Axes>"
      ]
     },
     "metadata": {},
     "output_type": "display_data"
    },
    {
     "data": {
      "image/png": "[encoded data removed]",
      "text/plain": [
       "<Figure size 1600x700 with 8 Axes>"
      ]
     },
     "metadata": {},
     "output_type": "display_data"
    },
    {
     "name": "stdout",
     "output_type": "stream",
     "text": [
      "Enhanced model saved to enhanced_tox21_NR_AR_model.pt\n",
      "Enhanced model saved to enhanced_tox21_NR_AR_model.pt\n",
      "Completed in 1919.2 seconds!\n",
      "Enhanced model successfully trained for NR-AR\n"
     ]
    }
   ],
   "source": [
    "import torch\n",
    "import torch.nn as nn\n",
    "import torch.nn.functional as F\n",
    "from rdkit import Chem\n",
    "from rdkit.Chem import AllChem, Descriptors, Lipinski\n",
    "from rdkit.Chem.rdchem import HybridizationType\n",
    "import numpy as np\n",
    "import pandas as pd\n",
    "from sklearn.metrics import roc_auc_score, precision_recall_curve, auc, accuracy_score\n",
    "from sklearn.model_selection import train_test_split, StratifiedKFold\n",
    "from torch.utils.data import Dataset, DataLoader\n",
    "import matplotlib.pyplot as plt\n",
    "import seaborn as sns\n",
    "import random\n",
    "import requests\n",
    "from io import StringIO\n",
    "from tqdm import tqdm\n",
    "\n",
    "# --- Enhanced Feature Extraction ---\n",
    "# Constants\n",
    "ATOM_TYPES = ['C', 'N', 'O', 'S', 'F', 'Cl', 'Br', 'I', 'P', 'H', 'Si', 'B', 'Na', 'K', 'Ca', 'Mg', 'Fe', 'As', 'Al', 'Cu', 'Zn', 'other']\n",
    "HYBRIDIZATION_TYPES = [HybridizationType.SP, HybridizationType.SP2, HybridizationType.SP3, \n",
    "                      HybridizationType.SP3D, HybridizationType.SP3D2]\n",
    "CHIRALITY_TYPES = ['CHI_UNSPECIFIED', 'CHI_TETRAHEDRAL_CW', 'CHI_TETRAHEDRAL_CCW', 'CHI_OTHER']\n",
    "\n",
    "# Improved one-hot encoding\n",
    "def one_hot(val, choices):\n",
    "    encoding = [0] * len(choices)\n",
    "    if val in choices:\n",
    "        encoding[choices.index(val)] = 1\n",
    "    else:\n",
    "        encoding[-1] = 1  # 'other' category\n",
    "    return encoding\n",
    "\n",
    "# Enhanced atom featurization with more chemical properties\n",
    "def featurize_atom(atom):\n",
    "    \"\"\"Enhanced atom feature vector with richer chemical properties\"\"\"\n",
    "    features = []\n",
    "    \n",
    "    # Basic atom properties (one-hot encoded)\n",
    "    features += one_hot(atom.GetSymbol(), ATOM_TYPES[:-1])\n",
    "    features += one_hot(atom.GetHybridization(), HYBRIDIZATION_TYPES)\n",
    "    features += one_hot(str(atom.GetChiralTag()), CHIRALITY_TYPES)\n",
    "    \n",
    "    # Additional atom properties (numerical)\n",
    "    features.append(atom.GetDegree() / 10.0)           # Normalized degree\n",
    "    features.append(atom.GetImplicitValence() / 8.0)   # Normalized valence\n",
    "    features.append(atom.GetFormalCharge() / 8.0)      # Normalized charge\n",
    "    features.append(int(atom.GetIsAromatic()))         # Aromaticity flag\n",
    "    features.append(int(atom.IsInRing()))              # Ring membership flag\n",
    "    features.append(atom.GetNumRadicalElectrons())     # Radical electrons\n",
    "    features.append(atom.GetTotalNumHs() / 8.0)        # Total hydrogens\n",
    "    features.append(atom.GetExplicitValence() / 8.0)   # Explicit valence\n",
    "    features.append(atom.GetTotalValence() / 8.0)      # Total valence\n",
    "    features.append(int(atom.IsInRingSize(6)))         # Is in 6-member ring\n",
    "    \n",
    "    # NEW: Additional chemical environment features\n",
    "    features.append(int(atom.IsInRingSize(5)))         # Is in 5-member ring\n",
    "    features.append(int(atom.IsInRingSize(7)))         # Is in 7-member ring\n",
    "    features.append(atom.GetMass() / 100.0)            # Normalized atomic mass\n",
    "    # Removed problematic line: features.append(atom.GetExplicitDegree() / 10.0)\n",
    "    hbd_smarts = Chem.MolFromSmarts('[NH,OH,SH]')\n",
    "    hba_smarts = Chem.MolFromSmarts('[N,O,S]')\n",
    "\n",
    "    # Match against SMARTS patterns at molecule level\n",
    "    mol = atom.GetOwningMol()\n",
    "    hbd_matches = mol.GetSubstructMatches(hbd_smarts)\n",
    "    hba_matches = mol.GetSubstructMatches(hba_smarts)\n",
    "\n",
    "    features.append(float(atom.GetIdx() in [idx for match in hbd_matches for idx in match]))  # H-bond donor\n",
    "    features.append(float(atom.GetIdx() in [idx for match in hba_matches for idx in match]))  # H-bond acceptor\n",
    "    return features\n",
    "\n",
    "# Improved molecular descriptors calculation\n",
    "def calculate_molecular_descriptors(mol):\n",
    "    \"\"\"Calculate expanded molecular descriptors for a molecule\"\"\"\n",
    "    if mol is None:\n",
    "        return [0.0] * 20  # Return zeros if molecule is invalid\n",
    "    \n",
    "    descriptors = []\n",
    "    try:\n",
    "        # Physical properties\n",
    "        descriptors.append(Descriptors.MolWt(mol) / 500.0)  # Molecular weight\n",
    "        descriptors.append(Descriptors.MolLogP(mol) / 10.0)  # LogP (lipophilicity)\n",
    "        descriptors.append(Descriptors.NumHDonors(mol) / 8.0)  # H-bond donors\n",
    "        descriptors.append(Descriptors.NumHAcceptors(mol) / 12.0)  # H-bond acceptors\n",
    "        \n",
    "        # Topological properties\n",
    "        descriptors.append(Descriptors.TPSA(mol) / 150.0)  # Topological polar surface area\n",
    "        descriptors.append(Descriptors.NumRotatableBonds(mol) / 15.0)  # Rotatable bonds\n",
    "        descriptors.append(Descriptors.FractionCSP3(mol))  # Fraction of sp3 hybridized carbons\n",
    "        \n",
    "        # Ring properties\n",
    "        descriptors.append(Lipinski.NumAromaticRings(mol) / 5.0)  # Number of aromatic rings\n",
    "        descriptors.append(Lipinski.NumAliphaticRings(mol) / 5.0)  # Number of aliphatic rings\n",
    "        descriptors.append(Chem.GetSSSR(mol).__len__() / 8.0)  # Total number of rings\n",
    "        \n",
    "        # NEW: Additional descriptors\n",
    "        descriptors.append(Descriptors.HeavyAtomCount(mol) / 50.0)  # Heavy atom count\n",
    "        descriptors.append(Descriptors.NumHeteroatoms(mol) / 20.0)  # Number of heteroatoms\n",
    "        descriptors.append(Descriptors.RingCount(mol) / 8.0)  # Ring count\n",
    "        descriptors.append(Descriptors.NOCount(mol) / 15.0)  # Nitrogen + Oxygen count\n",
    "        descriptors.append(Descriptors.NHOHCount(mol) / 8.0)  # NH/OH count\n",
    "        descriptors.append(Descriptors.NumRadicalElectrons(mol) / 5.0)  # Radical electrons\n",
    "        descriptors.append(Descriptors.NumValenceElectrons(mol) / 100.0)  # Valence electrons\n",
    "        \n",
    "        # NEW: Druglikeness properties\n",
    "        descriptors.append(int(Lipinski.NumHDonors(mol) <= 5))  # Lipinski H-bond donors rule\n",
    "        descriptors.append(int(Lipinski.NumHAcceptors(mol) <= 10))  # Lipinski H-bond acceptors rule\n",
    "        descriptors.append(int(Descriptors.MolWt(mol) <= 500))  # Lipinski molecular weight rule\n",
    "    except:\n",
    "        return [0.0] * 20  # Return zeros if calculations fail\n",
    "    \n",
    "    return descriptors\n",
    "\n",
    "# --- Improved Hypergraph Construction ---\n",
    "# Build hypergraph function - not changing the structure, just ensuring it uses the fixed featurize_atom\n",
    "def build_hypergraph_nx(mol, k=3, use_rings=True, use_functional_groups=True):\n",
    "    \"\"\"\n",
    "    Create an enhanced hypergraph representation using NetworkX\n",
    "    Returns a dictionary-based hypergraph structure\n",
    "    \"\"\"\n",
    "    import networkx as nx\n",
    "    \n",
    "    # Create standard molecular graph\n",
    "    G = nx.Graph()\n",
    "    for atom in mol.GetAtoms():\n",
    "        G.add_node(atom.GetIdx())\n",
    "    for bond in mol.GetBonds():\n",
    "        G.add_edge(bond.GetBeginAtomIdx(), bond.GetEndAtomIdx())\n",
    "\n",
    "    # Find hyperedges\n",
    "    cliques = []\n",
    "    \n",
    "    # Use actual chemical rings if available\n",
    "    if use_rings:\n",
    "        rings = mol.GetRingInfo().AtomRings()\n",
    "        for ring in rings:\n",
    "            if len(ring) >= 3:  # Only use rings with at least 3 atoms\n",
    "                cliques.append(list(ring))\n",
    "    \n",
    "    # Add functional groups as hyperedges\n",
    "    if use_functional_groups:\n",
    "        fg_patterns = [\n",
    "            '[OH]',  # Alcohol\n",
    "            '[NH2]', # Primary amine\n",
    "            '[NH]',  # Secondary amine\n",
    "            'C(=O)[OH]',  # Carboxylic acid\n",
    "            'C(=O)O[C,c]', # Ester\n",
    "            'C(=O)[NH2]',  # Amide\n",
    "            'C#N',  # Nitrile\n",
    "            'N(=O)=O', # Nitro\n",
    "            'S(=O)(=O)[OH]', # Sulfonic acid\n",
    "            'S(=O)(=O)N', # Sulfonamide\n",
    "            'c1ccccc1', # Benzene ring\n",
    "            'c1ccncc1', # Pyridine\n",
    "            '[NH]c1nccc(n1)', # Imidazole\n",
    "            'O=c1[nH]cccc1', # Pyridone\n",
    "            'ClC', # Alkyl halide\n",
    "            'FC', # Fluoro\n",
    "            'BrC', # Bromo\n",
    "            'IC', # Iodo\n",
    "        ]\n",
    "        \n",
    "        for pattern in fg_patterns:\n",
    "            smarts = Chem.MolFromSmarts(pattern)\n",
    "            if smarts:\n",
    "                matches = mol.GetSubstructMatches(smarts)\n",
    "                for match in matches:\n",
    "                    if len(match) >= 2:  # Only use groups with at least 2 atoms\n",
    "                        cliques.append(list(match))\n",
    "    \n",
    "    # Also use standard k-cliques\n",
    "    standard_cliques = [list(clique) for clique in nx.find_cliques(G) if len(clique) == k]\n",
    "    cliques.extend(standard_cliques)\n",
    "    \n",
    "    # Fallback to standard cliques if no hyperedges found\n",
    "    if len(cliques) == 0:\n",
    "        cliques = [list(clique) for clique in nx.find_cliques(G) if len(clique) >= 3]\n",
    "    \n",
    "    # Further fallback to simple pairs if still no cliques\n",
    "    if len(cliques) == 0:\n",
    "        pairs = []\n",
    "        for bond in mol.GetBonds():\n",
    "            pairs.append([bond.GetBeginAtomIdx(), bond.GetEndAtomIdx()])\n",
    "        cliques = pairs\n",
    "    \n",
    "    num_atoms = mol.GetNumAtoms()\n",
    "    num_cliques = len(cliques)\n",
    "    \n",
    "    # Create adjacency structure\n",
    "    adjacency_list = {i: [] for i in range(num_atoms + num_cliques)}\n",
    "    atom_to_hyperedge = {i: [] for i in range(num_atoms)}\n",
    "    hyperedge_to_atom = {i + num_atoms: [] for i in range(num_cliques)}\n",
    "    \n",
    "    # Connect atoms to hyperedges and vice versa\n",
    "    for i, clique in enumerate(cliques):\n",
    "        he_idx = num_atoms + i\n",
    "        for atom_idx in clique:\n",
    "            adjacency_list[atom_idx].append(he_idx)\n",
    "            adjacency_list[he_idx].append(atom_idx)\n",
    "            atom_to_hyperedge[atom_idx].append(he_idx)\n",
    "            hyperedge_to_atom[he_idx].append(atom_idx)\n",
    "    \n",
    "    # Enhanced atom features\n",
    "    atom_features = [featurize_atom(mol.GetAtomWithIdx(i)) for i in range(num_atoms)]\n",
    "    \n",
    "    # Create features for hyperedge nodes based on member atoms\n",
    "    hyperedge_features = []\n",
    "    for i, clique in enumerate(cliques):\n",
    "        # Average the features of atoms in the hyperedge\n",
    "        if clique:\n",
    "            he_features = np.mean([atom_features[atom_idx] for atom_idx in clique], axis=0).tolist()\n",
    "        else:\n",
    "            he_features = [0] * len(atom_features[0])\n",
    "        hyperedge_features.append(he_features)\n",
    "    \n",
    "    # Combine all features\n",
    "    all_features = atom_features + hyperedge_features\n",
    "    features = torch.tensor(all_features, dtype=torch.float32)\n",
    "    \n",
    "    # Get molecular descriptors\n",
    "    mol_descriptors = calculate_molecular_descriptors(mol)\n",
    "    mol_descriptors_tensor = torch.tensor(mol_descriptors, dtype=torch.float32)\n",
    "    \n",
    "    return adjacency_list, features, num_atoms, mol_descriptors_tensor\n",
    "\n",
    "# --- Improved Neural Network Components ---\n",
    "class AttentionLayer(nn.Module):\n",
    "    \"\"\"Attention mechanism for node importance weighting\"\"\"\n",
    "    def __init__(self, in_features, hidden_dim=32):\n",
    "        super(AttentionLayer, self).__init__()\n",
    "        self.attention = nn.Sequential(\n",
    "            nn.Linear(in_features, hidden_dim),\n",
    "            nn.Tanh(),\n",
    "            nn.Linear(hidden_dim, 1)\n",
    "        )\n",
    "        \n",
    "    def forward(self, features):\n",
    "        # Calculate attention scores\n",
    "        attention_scores = self.attention(features)\n",
    "        attention_weights = F.softmax(attention_scores, dim=0)\n",
    "        \n",
    "        # Apply attention to features\n",
    "        attended_features = features * attention_weights\n",
    "        return attended_features, attention_weights\n",
    "\n",
    "class ImprovedHypergraphLayer(nn.Module):\n",
    "    \"\"\"Enhanced hypergraph neural network layer with attention and skip connections\"\"\"\n",
    "    def __init__(self, in_features, out_features, dropout=0.2):\n",
    "        super(ImprovedHypergraphLayer, self).__init__()\n",
    "        self.linear = nn.Linear(in_features, out_features)\n",
    "        self.batch_norm = nn.LayerNorm(out_features)\n",
    "        self.dropout = nn.Dropout(dropout)\n",
    "        \n",
    "        # Add attention mechanism\n",
    "        self.attention = AttentionLayer(in_features)\n",
    "        \n",
    "        # Add skip connection if dimensions match\n",
    "        self.use_skip = (in_features == out_features)\n",
    "        if not self.use_skip:\n",
    "            self.skip_proj = nn.Linear(in_features, out_features)\n",
    "        \n",
    "    def forward(self, features, adjacency_list):\n",
    "        # Apply attention to input features\n",
    "        attended_features, _ = self.attention(features)\n",
    "        \n",
    "        # Initial feature transformation\n",
    "        transformed_features = self.linear(attended_features)\n",
    "        \n",
    "        # Message passing\n",
    "        output_features = torch.zeros_like(transformed_features)\n",
    "        for node_idx in range(len(adjacency_list)):\n",
    "            if node_idx >= len(output_features):\n",
    "                continue\n",
    "                \n",
    "            neighbors = adjacency_list[node_idx]\n",
    "            if not neighbors:\n",
    "                output_features[node_idx] = transformed_features[node_idx]\n",
    "                continue\n",
    "            \n",
    "            # Filter out-of-bounds neighbors\n",
    "            valid_neighbors = [n for n in neighbors if n < len(transformed_features)]\n",
    "            if not valid_neighbors:\n",
    "                output_features[node_idx] = transformed_features[node_idx]\n",
    "                continue\n",
    "                \n",
    "            # Gather neighbor features\n",
    "            neighbor_features = transformed_features[valid_neighbors]\n",
    "            \n",
    "            # Aggregate messages (mean pooling)\n",
    "            message = torch.mean(neighbor_features, dim=0)\n",
    "            \n",
    "            # Update node\n",
    "            output_features[node_idx] = message\n",
    "        \n",
    "        # Skip connection\n",
    "        if self.use_skip:\n",
    "            output_features = output_features + features\n",
    "        else:\n",
    "            skip_connection = self.skip_proj(features)\n",
    "            output_features = output_features + skip_connection\n",
    "        \n",
    "        # Apply batch normalization and dropout\n",
    "        try:\n",
    "            output_features = self.batch_norm(output_features)\n",
    "        except:\n",
    "            # Skip batch norm if batch size is 1 or other issues\n",
    "            pass\n",
    "        \n",
    "        output_features = self.dropout(output_features)\n",
    "        return output_features\n",
    "\n",
    "class EnhancedAttentionReadout(nn.Module):\n",
    "    \"\"\"Improved graph-level readout using multi-head attention mechanism\"\"\"\n",
    "    def __init__(self, in_feats, hidden_dim=64, num_heads=4):\n",
    "        super(EnhancedAttentionReadout, self).__init__()\n",
    "        \n",
    "        self.num_heads = num_heads\n",
    "        \n",
    "        # Multi-head attention\n",
    "        self.attention_heads = nn.ModuleList([\n",
    "            nn.Sequential(\n",
    "                nn.Linear(in_feats, hidden_dim),\n",
    "                nn.Tanh(),\n",
    "                nn.Linear(hidden_dim, 1)\n",
    "            ) for _ in range(num_heads)\n",
    "        ])\n",
    "        \n",
    "        # Output projection\n",
    "        self.output_proj = nn.Linear(in_feats * num_heads, in_feats)\n",
    "        \n",
    "    def forward(self, node_embeddings):\n",
    "        head_outputs = []\n",
    "        \n",
    "        for head in self.attention_heads:\n",
    "            # Calculate attention scores\n",
    "            attention_scores = head(node_embeddings)\n",
    "            attention_weights = F.softmax(attention_scores, dim=0)\n",
    "            \n",
    "            # Apply attention to get weighted sum\n",
    "            weighted_embedding = torch.sum(node_embeddings * attention_weights, dim=0)\n",
    "            head_outputs.append(weighted_embedding)\n",
    "        \n",
    "        # Concatenate multi-head outputs\n",
    "        multi_head_embedding = torch.cat(head_outputs)\n",
    "        \n",
    "        # Project back to original dimension\n",
    "        graph_embedding = self.output_proj(multi_head_embedding)\n",
    "        \n",
    "        return graph_embedding\n",
    "\n",
    "class ImprovedHypergraphNN(nn.Module):\n",
    "    \"\"\"Enhanced multi-task classifier with residual connections and deeper architecture\"\"\"\n",
    "    def __init__(self, in_features, hidden_dim, mol_desc_size, num_tasks, \n",
    "                dropout=0.2, num_layers=3, focal_loss_gamma=2.0):\n",
    "        super(ImprovedHypergraphNN, self).__init__()\n",
    "        \n",
    "        # Hypergraph layers with increasing capacity\n",
    "        self.layers = nn.ModuleList()\n",
    "        self.layers.append(ImprovedHypergraphLayer(in_features, hidden_dim, dropout))\n",
    "        \n",
    "        # Intermediate layers with residual connections\n",
    "        for i in range(num_layers-1):\n",
    "            # Gradually increase hidden dimensions\n",
    "            next_dim = hidden_dim * (2 if i < 1 else 1)  # Increase dim once\n",
    "            self.layers.append(ImprovedHypergraphLayer(hidden_dim, next_dim, dropout))\n",
    "            hidden_dim = next_dim\n",
    "        \n",
    "        # Enhanced readout function\n",
    "        self.readout = EnhancedAttentionReadout(hidden_dim, hidden_dim // 2, num_heads=4)\n",
    "        \n",
    "        # Improved molecular descriptor projection\n",
    "        self.mol_desc_proj = nn.Sequential(\n",
    "            nn.Linear(mol_desc_size, hidden_dim // 2),\n",
    "            nn.ReLU(),\n",
    "            nn.LayerNorm(hidden_dim // 2),\n",
    "            nn.Dropout(dropout)\n",
    "        )\n",
    "        \n",
    "        # Combined classifier with task-specific heads\n",
    "        self.shared_classifier = nn.Sequential(\n",
    "            nn.Linear(hidden_dim + hidden_dim // 2, hidden_dim),\n",
    "            nn.ReLU(),\n",
    "            nn.LayerNorm(hidden_dim),\n",
    "            nn.Dropout(dropout)\n",
    "        )\n",
    "        \n",
    "        # Task-specific output heads for multi-task learning\n",
    "        self.task_heads = nn.ModuleList([\n",
    "            nn.Linear(hidden_dim, 1) for _ in range(num_tasks)\n",
    "        ])\n",
    "        \n",
    "        # Store focal loss parameter\n",
    "        self.focal_loss_gamma = focal_loss_gamma\n",
    "        \n",
    "    def forward(self, features, adjacency_list, num_atoms, mol_descriptors):\n",
    "        # Apply hypergraph layers\n",
    "        h = features\n",
    "        for layer in self.layers:\n",
    "            h = layer(h, adjacency_list)\n",
    "            h = F.relu(h)\n",
    "        \n",
    "        # Only use atom nodes for readout\n",
    "        atom_embeddings = h[:num_atoms]\n",
    "        \n",
    "        # Apply enhanced readout to get molecule-level embedding\n",
    "        mol_embedding = self.readout(atom_embeddings)\n",
    "        \n",
    "        # Process molecular descriptors\n",
    "        mol_desc_embedding = self.mol_desc_proj(mol_descriptors.unsqueeze(0)).squeeze(0)\n",
    "        \n",
    "        # Combine graph embedding with molecular descriptors\n",
    "        combined = torch.cat([mol_embedding, mol_desc_embedding], dim=0)\n",
    "        \n",
    "        # Apply shared layers\n",
    "        shared_features = self.shared_classifier(combined.unsqueeze(0))\n",
    "        \n",
    "        # Apply task-specific heads\n",
    "        task_outputs = []\n",
    "        for head in self.task_heads:\n",
    "            task_outputs.append(head(shared_features))\n",
    "        \n",
    "        # Combine outputs\n",
    "        return torch.cat(task_outputs, dim=1)\n",
    "    \n",
    "    def focal_loss(self, predictions, labels, alpha=0.25):\n",
    "        \"\"\"\n",
    "        Compute focal loss for imbalanced classification\n",
    "        alpha: weighting factor for the rare class (positive class)\n",
    "        gamma: focusing parameter that reduces the loss contribution from easy examples\n",
    "        \"\"\"\n",
    "        # Create mask: 1 for valid labels, 0 for missing labels\n",
    "        mask = (labels != -1).float()\n",
    "        \n",
    "        # Apply sigmoid to get probabilities\n",
    "        probs = torch.sigmoid(predictions)\n",
    "        \n",
    "        # Get probabilities for the target class\n",
    "        p_t = probs * labels + (1 - probs) * (1 - labels)\n",
    "        \n",
    "        # Apply alpha weighting for class imbalance\n",
    "        alpha_t = alpha * labels + (1 - alpha) * (1 - labels)\n",
    "        \n",
    "        # Compute focal loss term\n",
    "        focal_term = (1 - p_t) ** self.focal_loss_gamma\n",
    "        \n",
    "        # Binary cross entropy base loss\n",
    "        bce_loss = -torch.log(torch.clamp(p_t, min=1e-7, max=1-1e-7))\n",
    "        \n",
    "        # Combine terms\n",
    "        loss = alpha_t * focal_term * bce_loss\n",
    "        \n",
    "        # Apply mask and normalize\n",
    "        masked_loss = torch.sum(loss * mask) / (torch.sum(mask) + 1e-6)\n",
    "        return masked_loss\n",
    "\n",
    "# --- Improved Dataset & Data Loading ---\n",
    "class EnhancedMoleculeDataset(Dataset):\n",
    "    \"\"\"Enhanced dataset for handling molecular data with augmentation\"\"\"\n",
    "    def __init__(self, smiles_list, labels_list, k=3, use_rings=True, use_augmentation=True, augmentation_factor=0.2):\n",
    "        self.smiles_list = smiles_list\n",
    "        self.labels_list = labels_list\n",
    "        self.k = k\n",
    "        self.use_rings = use_rings\n",
    "        self.use_augmentation = use_augmentation\n",
    "        self.augmentation_factor = augmentation_factor\n",
    "        \n",
    "        # Pre-process to filter out invalid molecules\n",
    "        self.valid_indices = []\n",
    "        for i, smi in enumerate(smiles_list):\n",
    "            mol = Chem.MolFromSmiles(smi)\n",
    "            if mol is not None:\n",
    "                self.valid_indices.append(i)\n",
    "                \n",
    "        # For augmentation: collect positive samples \n",
    "        if self.use_augmentation:\n",
    "            self.positive_indices = []\n",
    "            for i in self.valid_indices:\n",
    "                # Check the first task for positives\n",
    "                if labels_list[i][0] == 1:\n",
    "                    self.positive_indices.append(i)\n",
    "    \n",
    "    def __len__(self):\n",
    "        if self.use_augmentation and self.positive_indices:\n",
    "            # Add augmented samples to the length\n",
    "            return len(self.valid_indices) + int(len(self.positive_indices) * self.augmentation_factor)\n",
    "        return len(self.valid_indices)\n",
    "    \n",
    "    def augment_molecule(self, mol):\n",
    "        \"\"\"Apply random transformations to create an augmented molecule\"\"\"\n",
    "        # Make a copy to avoid modifying the original\n",
    "        mol = Chem.Mol(mol)\n",
    "        \n",
    "        # Choose a transformation randomly\n",
    "        transform_type = random.randint(0, 3)\n",
    "        \n",
    "        if transform_type == 0:\n",
    "            # Add random hydrogen to transform sp2 to sp3 or vice versa\n",
    "            for atom in mol.GetAtoms():\n",
    "                if atom.GetSymbol() == 'C' and random.random() < 0.3:\n",
    "                    atom.SetNumExplicitHs(atom.GetNumExplicitHs() + 1)\n",
    "        \n",
    "        elif transform_type == 1:\n",
    "            # Modify bond orders slightly (if chemically reasonable)\n",
    "            bonds = mol.GetBonds()\n",
    "            if bonds:\n",
    "                bond_idx = random.randint(0, len(bonds) - 1)\n",
    "                bond = bonds[bond_idx]\n",
    "                order = bond.GetBondType()\n",
    "                \n",
    "                # Only modify single/double bonds\n",
    "                if order == Chem.BondType.SINGLE and random.random() < 0.5:\n",
    "                    bond.SetBondType(Chem.BondType.DOUBLE)\n",
    "                elif order == Chem.BondType.DOUBLE:\n",
    "                    bond.SetBondType(Chem.BondType.SINGLE)\n",
    "        \n",
    "        elif transform_type == 2:\n",
    "            # Remove a hydrogen if possible to add charge\n",
    "            for atom in mol.GetAtoms():\n",
    "                if atom.GetNumExplicitHs() > 0 and random.random() < 0.3:\n",
    "                    atom.SetNumExplicitHs(atom.GetNumExplicitHs() - 1)\n",
    "                    atom.SetFormalCharge(atom.GetFormalCharge() + 1)\n",
    "                    break\n",
    "        \n",
    "        elif transform_type == 3:\n",
    "            # Modify stereochemistry\n",
    "            for atom in mol.GetAtoms():\n",
    "                if atom.GetChiralTag() != Chem.ChiralType.CHI_UNSPECIFIED and random.random() < 0.5:\n",
    "                    if atom.GetChiralTag() == Chem.ChiralType.CHI_TETRAHEDRAL_CW:\n",
    "                        atom.SetChiralTag(Chem.ChiralType.CHI_TETRAHEDRAL_CCW)\n",
    "                    else:\n",
    "                        atom.SetChiralTag(Chem.ChiralType.CHI_TETRAHEDRAL_CW)\n",
    "        \n",
    "        # Try to sanitize the molecule and ensure it's chemically valid\n",
    "        try:\n",
    "            Chem.SanitizeMol(mol)\n",
    "            smi = Chem.MolToSmiles(mol, sanitize=True)\n",
    "            new_mol = Chem.MolFromSmiles(smi)\n",
    "            Chem.SanitizeMol(new_mol)  # extra validation\n",
    "            return new_mol\n",
    "        except:\n",
    "            return None  # gracefully skip invalid molecules\n",
    "\n",
    "    \n",
    "    def __getitem__(self, idx):\n",
    "        try:\n",
    "            # Handle augmented samples\n",
    "            if self.use_augmentation and idx >= len(self.valid_indices):\n",
    "                aug_idx = idx - len(self.valid_indices)\n",
    "                pos_idx = self.positive_indices[aug_idx % len(self.positive_indices)]\n",
    "                actual_idx = pos_idx\n",
    "\n",
    "                smi = self.smiles_list[actual_idx]\n",
    "                mol = Chem.MolFromSmiles(smi)\n",
    "\n",
    "                if mol is not None:\n",
    "                    aug_mol = self.augment_molecule(mol)\n",
    "                    if aug_mol is not None:\n",
    "                        mol = aug_mol\n",
    "            else:\n",
    "                if idx < len(self.valid_indices):\n",
    "                    actual_idx = self.valid_indices[idx]\n",
    "                else:\n",
    "                    actual_idx = self.valid_indices[idx % len(self.valid_indices)]\n",
    "\n",
    "                smi = self.smiles_list[actual_idx]\n",
    "                mol = Chem.MolFromSmiles(smi)\n",
    "\n",
    "            mol = Chem.AddHs(mol)\n",
    "\n",
    "            adjacency_list, features, num_atoms, mol_descriptors = build_hypergraph_nx(\n",
    "                mol, k=self.k, use_rings=self.use_rings, use_functional_groups=True\n",
    "            )\n",
    "\n",
    "            return {\n",
    "                'smiles': smi,\n",
    "                'adjacency_list': adjacency_list,\n",
    "                'features': features,\n",
    "                'num_atoms': num_atoms,\n",
    "                'mol_descriptors': mol_descriptors,\n",
    "                'labels': torch.tensor(self.labels_list[actual_idx], dtype=torch.float32)\n",
    "            }\n",
    "\n",
    "        except Exception as e:\n",
    "            return self.__getitem__((idx + 1) % len(self))\n",
    "\n",
    "def collate_fn(batch):\n",
    "    \"\"\"Process one molecule at a time\"\"\"\n",
    "    return batch[0]\n",
    "\n",
    "# --- Improved Training Functions ---\n",
    "def weighted_focal_loss(predictions, labels, pos_weight=None, gamma=2.0):\n",
    "    \"\"\"Custom loss function combining weighted BCE and focal loss for imbalanced data\"\"\"\n",
    "    # Create mask: 1 for valid labels, 0 for missing labels\n",
    "    mask = (labels != -1).float()\n",
    "    \n",
    "    # Apply sigmoid to get probabilities\n",
    "    probs = torch.sigmoid(predictions)\n",
    "    \n",
    "    # Calculate focal weights\n",
    "    p_t = probs * labels + (1 - probs) * (1 - labels)\n",
    "    focal_weight = (1 - p_t) ** gamma\n",
    "    \n",
    "    # BCE loss\n",
    "    if pos_weight is not None:\n",
    "        # For positive samples (label=1)\n",
    "        pos_term = pos_weight * labels * torch.log(torch.clamp(probs, min=1e-7))\n",
    "        # For negative samples (label=0)\n",
    "        neg_term = (1 - labels) * torch.log(torch.clamp(1 - probs, min=1e-7))\n",
    "        loss = -(pos_term + neg_term)\n",
    "    else:\n",
    "        loss = F.binary_cross_entropy_with_logits(predictions, torch.clamp(labels, 0, 1), \n",
    "                                                 reduction='none')\n",
    "    \n",
    "    # Apply focal weighting\n",
    "    loss = focal_weight * loss\n",
    "    \n",
    "    # Apply mask and normalize\n",
    "    masked_loss = torch.sum(loss * mask) / (torch.sum(mask) + 1e-6)\n",
    "    return masked_loss\n",
    "\n",
    "def train_model_enhanced(model, train_dataset, val_dataset=None, device='cpu', \n",
    "                         epochs=100, lr=0.001, weight_decay=1e-4, patience=15, \n",
    "                         class_weights=None, gamma=2.0):\n",
    "    \"\"\"Enhanced training with focal loss, learning rate scheduling, and early stopping\"\"\"\n",
    "    train_loader = DataLoader(train_dataset, batch_size=1, shuffle=True, collate_fn=collate_fn)\n",
    "    \n",
    "    # Use Adam optimizer with weight decay (L2 regularization)\n",
    "    optimizer = torch.optim.Adam(model.parameters(), lr=lr, weight_decay=weight_decay)\n",
    "    \n",
    "    # Learning rate scheduler with warmup\n",
    "    def lr_lambda(epoch):\n",
    "        warmup_epochs = 5\n",
    "        if epoch < warmup_epochs:\n",
    "            return 0.2 + 0.8 * epoch / warmup_epochs\n",
    "        else:\n",
    "            return 1.0 * (0.9 ** ((epoch - warmup_epochs) // 5))\n",
    "    \n",
    "    scheduler = torch.optim.lr_scheduler.LambdaLR(optimizer, lr_lambda)\n",
    "    \n",
    "    # Early stopping\n",
    "    best_val_auc = 0\n",
    "    best_model = None\n",
    "    early_stop_counter = 0\n",
    "    \n",
    "    model.to(device)\n",
    "    \n",
    "    # Training loop\n",
    "    for epoch in range(epochs):\n",
    "        # Training\n",
    "        model.train()\n",
    "        total_loss = 0\n",
    "        processed_batches = 0\n",
    "        \n",
    "        for batch in train_loader:\n",
    "            # Move data to device\n",
    "            features = batch['features'].to(device)\n",
    "            labels = batch['labels'].to(device)\n",
    "            adjacency_list = batch['adjacency_list']\n",
    "            num_atoms = batch['num_atoms']\n",
    "            mol_descriptors = batch['mol_descriptors'].to(device)\n",
    "            \n",
    "            # Zero gradients\n",
    "            optimizer.zero_grad()\n",
    "            \n",
    "            # Forward pass\n",
    "            predictions = model(features, adjacency_list, num_atoms, mol_descriptors)\n",
    "            \n",
    "            # Calculate loss with focal weighting for imbalance\n",
    "            loss = weighted_focal_loss(predictions, labels.unsqueeze(0), \n",
    "                                      pos_weight=class_weights, gamma=gamma)\n",
    "            \n",
    "            # Backward pass and optimize\n",
    "            loss.backward()\n",
    "            \n",
    "            # Gradient clipping to prevent exploding gradients\n",
    "            torch.nn.utils.clip_grad_norm_(model.parameters(), max_norm=1.0)\n",
    "            \n",
    "            optimizer.step()\n",
    "            \n",
    "            total_loss += loss.item()\n",
    "            processed_batches += 1\n",
    "        \n",
    "        avg_loss = total_loss / max(processed_batches, 1)\n",
    "        print(f\"Epoch {epoch+1}/{epochs}, Train Loss: {avg_loss:.4f}, LR: {scheduler.get_last_lr()[0]:.6f}\")\n",
    "        \n",
    "        # Update learning rate\n",
    "        scheduler.step()\n",
    "        \n",
    "        # Validation\n",
    "        if val_dataset:\n",
    "            val_auc, val_acc, val_precision, val_recall, val_f1 = evaluate_model_enhanced(model, val_dataset, device)\n",
    "            print(f\"Validation - AUC: {val_auc:.4f}, Accuracy: {val_acc:.4f}, F1: {val_f1:.4f}, Precision: {val_precision:.4f}, Recall: {val_recall:.4f}\")\n",
    "            \n",
    "            # Early stopping based on AUC\n",
    "            if val_auc > best_val_auc:\n",
    "                best_val_auc = val_auc\n",
    "                best_model = model.state_dict().copy()\n",
    "                early_stop_counter = 0\n",
    "                print(f\"New best model saved! AUC: {val_auc:.4f}\")\n",
    "            else:\n",
    "                early_stop_counter += 1\n",
    "                if early_stop_counter >= patience:\n",
    "                    print(f\"Early stopping after {epoch+1} epochs without improvement\")\n",
    "                    break\n",
    "    \n",
    "    # Load best model if validation was used\n",
    "    if val_dataset and best_model:\n",
    "        model.load_state_dict(best_model)\n",
    "    \n",
    "    return model\n",
    "\n",
    "def evaluate_model_enhanced(model, dataset, device='cpu', threshold=0.5):\n",
    "    \"\"\"Enhanced evaluation with more metrics\"\"\"\n",
    "    data_loader = DataLoader(dataset, batch_size=1, shuffle=False, collate_fn=collate_fn)\n",
    "    \n",
    "    model.eval()\n",
    "    y_true = []\n",
    "    y_score = []\n",
    "    \n",
    "    with torch.no_grad():\n",
    "        for batch in data_loader:\n",
    "            # Move data to device\n",
    "            features = batch['features'].to(device)\n",
    "            labels = batch['labels'].numpy()\n",
    "            adjacency_list = batch['adjacency_list']\n",
    "            num_atoms = batch['num_atoms']\n",
    "            mol_descriptors = batch['mol_descriptors'].to(device)\n",
    "            \n",
    "            # Forward pass\n",
    "            predictions = model(features, adjacency_list, num_atoms, mol_descriptors)\n",
    "            \n",
    "            # Convert logits to probabilities\n",
    "            probs = torch.sigmoid(predictions).cpu().numpy()\n",
    "            \n",
    "            # Store predictions and labels\n",
    "            y_true.append(labels)\n",
    "            y_score.append(probs[0])\n",
    "    \n",
    "    # Convert to numpy arrays\n",
    "    y_true = np.array(y_true)\n",
    "    y_score = np.array(y_score)\n",
    "    \n",
    "    # Calculate metrics\n",
    "    auc_scores = []\n",
    "    acc_scores = []\n",
    "    precision_scores = []\n",
    "    recall_scores = []\n",
    "    f1_scores = []\n",
    "    \n",
    "    for task_idx in range(y_true.shape[1]):\n",
    "        # Get non-missing labels for this task\n",
    "        task_y_true = y_true[:, task_idx]\n",
    "        task_y_score = y_score[:, task_idx]\n",
    "        mask = task_y_true != -1\n",
    "        \n",
    "        if sum(mask) > 0 and len(np.unique(task_y_true[mask])) > 1:\n",
    "            # AUC\n",
    "            task_auc = roc_auc_score(task_y_true[mask], task_y_score[mask])\n",
    "            auc_scores.append(task_auc)\n",
    "            \n",
    "            # Convert to binary predictions\n",
    "            task_y_pred = (task_y_score > threshold).astype(int)\n",
    "            \n",
    "            # Accuracy\n",
    "            task_acc = accuracy_score(task_y_true[mask], task_y_pred[mask])\n",
    "            acc_scores.append(task_acc)\n",
    "            \n",
    "            # Precision and recall\n",
    "            from sklearn.metrics import precision_score, recall_score, f1_score\n",
    "            task_precision = precision_score(task_y_true[mask], task_y_pred[mask], zero_division=0)\n",
    "            task_recall = recall_score(task_y_true[mask], task_y_pred[mask], zero_division=0)\n",
    "            task_f1 = f1_score(task_y_true[mask], task_y_pred[mask], zero_division=0)\n",
    "            \n",
    "            precision_scores.append(task_precision)\n",
    "            recall_scores.append(task_recall)\n",
    "            f1_scores.append(task_f1)\n",
    "    \n",
    "    # Return mean metrics\n",
    "    mean_auc = np.mean(auc_scores) if auc_scores else 0\n",
    "    mean_acc = np.mean(acc_scores) if acc_scores else 0\n",
    "    mean_precision = np.mean(precision_scores) if precision_scores else 0\n",
    "    mean_recall = np.mean(recall_scores) if recall_scores else 0\n",
    "    mean_f1 = np.mean(f1_scores) if f1_scores else 0\n",
    "    \n",
    "    return mean_auc, mean_acc, mean_precision, mean_recall, mean_f1\n",
    "\n",
    "# --- Enhanced Cross-Validation ---\n",
    "def cross_validate_enhanced(smiles_list, labels_list, n_splits=5, device='cpu', epochs=100, \n",
    "                          lr=0.001, weight_decay=1e-4, use_rings=True, use_focal_loss=True,\n",
    "                          augment_data=True, use_functional_groups=True, patience=15):\n",
    "    \"\"\"Enhanced k-fold cross-validation with data augmentation and focal loss\"\"\"\n",
    "    # Convert to numpy arrays\n",
    "    X = np.array(smiles_list)\n",
    "    y = np.array(labels_list)\n",
    "    \n",
    "    # Create stratified k-fold\n",
    "    skf = StratifiedKFold(n_splits=n_splits, shuffle=True, random_state=42)\n",
    "    \n",
    "    # Determine if multi-task or single-task\n",
    "    if y.ndim > 1 and y.shape[1] > 1:\n",
    "        # Multi-task: use first task for stratification\n",
    "        stratify_y = y[:, 0]\n",
    "    else:\n",
    "        # Single-task\n",
    "        stratify_y = y.ravel()\n",
    "    \n",
    "    # Replace missing values for stratification\n",
    "    stratify_y = np.where(stratify_y == -1, 0, stratify_y)\n",
    "    \n",
    "    # Calculate class weights for imbalanced data\n",
    "    pos_count = np.sum(stratify_y == 1)\n",
    "    neg_count = np.sum(stratify_y == 0)\n",
    "    \n",
    "    if pos_count > 0 and neg_count > 0:\n",
    "        # Calculate the weight for positive class (minority class)\n",
    "        pos_weight = neg_count / pos_count if pos_count < neg_count else 1.0\n",
    "        class_weight = torch.tensor([pos_weight], dtype=torch.float32).to(device)\n",
    "        print(f\"Using class weight for positive class: {pos_weight:.2f}\")\n",
    "    else:\n",
    "        class_weight = None\n",
    "    \n",
    "    # Store results\n",
    "    all_val_aucs = []\n",
    "    all_val_f1s = []\n",
    "    all_val_accs = []\n",
    "    all_models = []\n",
    "    \n",
    "    # Run cross-validation\n",
    "    for fold, (train_idx, val_idx) in enumerate(skf.split(X, stratify_y)):\n",
    "        print(f\"\\n--- Fold {fold+1}/{n_splits} ---\")\n",
    "        \n",
    "        # Split data\n",
    "        X_train, X_val = X[train_idx], X[val_idx]\n",
    "        y_train, y_val = y[train_idx], y[val_idx]\n",
    "        \n",
    "        # Create enhanced datasets with augmentation\n",
    "        train_dataset = EnhancedMoleculeDataset(\n",
    "            X_train.tolist(), y_train.tolist(), \n",
    "            use_rings=use_rings,\n",
    "            use_augmentation=augment_data,\n",
    "            augmentation_factor=0.5  # Higher augmentation factor\n",
    "        )\n",
    "        \n",
    "        val_dataset = EnhancedMoleculeDataset(\n",
    "            X_val.tolist(), y_val.tolist(), \n",
    "            use_rings=use_rings,\n",
    "            use_augmentation=False  # No augmentation for validation\n",
    "        )\n",
    "        \n",
    "        print(f\"Training set: {len(train_dataset)}, Validation set: {len(val_dataset)}\")\n",
    "        \n",
    "        # Check if we have samples\n",
    "        if len(train_dataset) == 0 or len(val_dataset) == 0:\n",
    "            print(\"Skipping fold due to empty dataset\")\n",
    "            continue\n",
    "        \n",
    "        # Get input dimensions from first sample\n",
    "        sample = train_dataset[0]\n",
    "        in_features = sample['features'].shape[1]\n",
    "        mol_desc_size = sample['mol_descriptors'].shape[0]\n",
    "        num_tasks = y.shape[1] if y.ndim > 1 else 1\n",
    "        \n",
    "        # Create enhanced model\n",
    "        model = ImprovedHypergraphNN(\n",
    "            in_features=in_features, \n",
    "            hidden_dim=128,  # Larger hidden dimension\n",
    "            mol_desc_size=mol_desc_size,\n",
    "            num_tasks=num_tasks,\n",
    "            dropout=0.3,     # Higher dropout\n",
    "            num_layers=3,    # Deeper model\n",
    "            focal_loss_gamma=2.0 if use_focal_loss else 0.0\n",
    "        )\n",
    "        \n",
    "        # Train model with enhanced training function\n",
    "        model = train_model_enhanced(\n",
    "            model, \n",
    "            train_dataset, \n",
    "            val_dataset, \n",
    "            device=device, \n",
    "            epochs=epochs,\n",
    "            lr=lr,\n",
    "            weight_decay=weight_decay,\n",
    "            patience=patience,\n",
    "            class_weights=class_weight,\n",
    "            gamma=2.0 if use_focal_loss else 0.0\n",
    "        )\n",
    "        \n",
    "        # Evaluate on validation set\n",
    "        val_auc, val_acc, val_precision, val_recall, val_f1 = evaluate_model_enhanced(model, val_dataset, device)\n",
    "        all_val_aucs.append(val_auc)\n",
    "        all_val_accs.append(val_acc)\n",
    "        all_val_f1s.append(val_f1)\n",
    "        all_models.append(model)\n",
    "        \n",
    "        print(f\"Fold {fold+1} - Validation AUC: {val_auc:.4f}, Accuracy: {val_acc:.4f}, \"\n",
    "              f\"F1: {val_f1:.4f}, Precision: {val_precision:.4f}, Recall: {val_recall:.4f}\")\n",
    "    \n",
    "    # Calculate average metrics\n",
    "    mean_auc = np.mean(all_val_aucs)\n",
    "    mean_acc = np.mean(all_val_accs)\n",
    "    mean_f1 = np.mean(all_val_f1s)\n",
    "    std_auc = np.std(all_val_aucs)\n",
    "    std_acc = np.std(all_val_accs)\n",
    "    std_f1 = np.std(all_val_f1s)\n",
    "    \n",
    "    print(f\"\\nCross-Validation Results:\")\n",
    "    print(f\"Mean AUC: {mean_auc:.4f} ± {std_auc:.4f}\")\n",
    "    print(f\"Mean Accuracy: {mean_acc:.4f} ± {std_acc:.4f}\")\n",
    "    print(f\"Mean F1 Score: {mean_f1:.4f} ± {std_f1:.4f}\")\n",
    "    \n",
    "    # Find best model index (using F1 score for imbalanced data)\n",
    "    best_idx = np.argmax(all_val_f1s)\n",
    "    \n",
    "    return all_models[best_idx], mean_auc, mean_acc, mean_f1\n",
    "\n",
    "# --- Enhanced Prediction Class ---\n",
    "class EnhancedMolecularPropertyPredictor:\n",
    "    \"\"\"Enhanced class for predicting properties of molecules\"\"\"\n",
    "    def __init__(self, model_path=None, in_features=None, hidden_dim=128, mol_desc_size=20, num_tasks=1):\n",
    "        self.device = torch.device('cuda' if torch.cuda.is_available() else 'cpu')\n",
    "        \n",
    "        # Either load a model or create a new one\n",
    "        if model_path and os.path.exists(model_path):\n",
    "            self.model, self.property_name = self.load_model(model_path)\n",
    "        else:\n",
    "            if in_features is not None:\n",
    "                self.model = ImprovedHypergraphNN(\n",
    "                    in_features=in_features, \n",
    "                    hidden_dim=hidden_dim, \n",
    "                    mol_desc_size=mol_desc_size,\n",
    "                    num_tasks=num_tasks,\n",
    "                    dropout=0.3,\n",
    "                    num_layers=3\n",
    "                )\n",
    "                self.property_name = \"Generic Property\"\n",
    "            else:\n",
    "                self.model = None\n",
    "                self.property_name = \"Generic Property\"\n",
    "        \n",
    "        if self.model:\n",
    "            self.model.to(self.device)\n",
    "    \n",
    "    def train(self, train_smiles, train_labels, val_smiles=None, val_labels=None, \n",
    "              property_name=\"Property\", epochs=100, use_rings=True, cv_folds=5,\n",
    "              lr=0.001, weight_decay=1e-4, use_focal_loss=True, augment_data=True):\n",
    "        \"\"\"Train the model on the provided data with all enhancements\"\"\"\n",
    "        self.property_name = property_name\n",
    "        \n",
    "        # Check if we should do cross-validation\n",
    "        if cv_folds > 1 and len(train_smiles) >= cv_folds * 2:\n",
    "            print(f\"Performing {cv_folds}-fold cross-validation with enhanced model...\")\n",
    "            self.model, cv_auc, cv_acc, cv_f1 = cross_validate_enhanced(\n",
    "                train_smiles, train_labels, \n",
    "                n_splits=cv_folds, \n",
    "                device=self.device, \n",
    "                epochs=epochs,\n",
    "                lr=lr,\n",
    "                weight_decay=weight_decay,\n",
    "                use_rings=use_rings,\n",
    "                use_focal_loss=use_focal_loss,\n",
    "                augment_data=augment_data\n",
    "            )\n",
    "            print(f\"Cross-validation AUC: {cv_auc:.4f}, Accuracy: {cv_acc:.4f}, F1: {cv_f1:.4f}\")\n",
    "            return self\n",
    "        \n",
    "        # Regular training without cross-validation\n",
    "        train_dataset = EnhancedMoleculeDataset(\n",
    "            train_smiles, train_labels, \n",
    "            use_rings=use_rings,\n",
    "            use_augmentation=augment_data\n",
    "        )\n",
    "        print(f\"Training dataset size: {len(train_dataset)} molecules\")\n",
    "        \n",
    "        val_dataset = None\n",
    "        if val_smiles and val_labels:\n",
    "            val_dataset = EnhancedMoleculeDataset(\n",
    "                val_smiles, val_labels, \n",
    "                use_rings=use_rings,\n",
    "                use_augmentation=False\n",
    "            )\n",
    "            print(f\"Validation dataset size: {len(val_dataset)} molecules\")\n",
    "        \n",
    "        # Get input feature dimension from dataset\n",
    "        if len(train_dataset) > 0:\n",
    "            sample = train_dataset[0]\n",
    "            in_features = sample['features'].shape[1]\n",
    "            mol_desc_size = sample['mol_descriptors'].shape[0]\n",
    "            num_tasks = len(train_labels[0])\n",
    "            \n",
    "            # Calculate class weights for imbalance\n",
    "            pos_count = sum(1 for labels in train_labels if labels[0] == 1)\n",
    "            neg_count = sum(1 for labels in train_labels if labels[0] == 0)\n",
    "            if pos_count > 0 and neg_count > 0:\n",
    "                pos_weight = neg_count / pos_count if pos_count < neg_count else 1.0\n",
    "                class_weight = torch.tensor([pos_weight], dtype=torch.float32).to(self.device)\n",
    "                print(f\"Using class weight for positive class: {pos_weight:.2f}\")\n",
    "            else:\n",
    "                class_weight = None\n",
    "            \n",
    "            # Create or update model\n",
    "            if self.model is None:\n",
    "                print(f\"Creating new enhanced model with {in_features} input features and {num_tasks} output tasks\")\n",
    "                self.model = ImprovedHypergraphNN(\n",
    "                    in_features=in_features, \n",
    "                    hidden_dim=128, \n",
    "                    mol_desc_size=mol_desc_size,\n",
    "                    num_tasks=num_tasks,\n",
    "                    dropout=0.3,\n",
    "                    num_layers=3,\n",
    "                    focal_loss_gamma=2.0 if use_focal_loss else 0.0\n",
    "                )\n",
    "                self.model.to(self.device)\n",
    "            \n",
    "            # Train the model with enhanced training\n",
    "            self.model = train_model_enhanced(\n",
    "                self.model, \n",
    "                train_dataset, \n",
    "                val_dataset, \n",
    "                device=self.device, \n",
    "                epochs=epochs,\n",
    "                lr=lr,\n",
    "                weight_decay=weight_decay,\n",
    "                class_weights=class_weight,\n",
    "                gamma=2.0 if use_focal_loss else 0.0\n",
    "            )\n",
    "        \n",
    "        return self\n",
    "    \n",
    "    def predict(self, smiles_list, return_probs=True, threshold=0.5, use_rings=True):\n",
    "        \"\"\"Enhanced prediction with appropriate threshold for imbalanced data\"\"\"\n",
    "        if self.model is None:\n",
    "            raise ValueError(\"Model has not been trained or loaded yet\")\n",
    "            \n",
    "        self.model.eval()\n",
    "        results = []\n",
    "        \n",
    "        for smi in smiles_list:\n",
    "            mol = Chem.MolFromSmiles(smi)\n",
    "            if mol is None:\n",
    "                print(f\"WARNING: Invalid SMILES: {smi}\")\n",
    "                if return_probs:\n",
    "                    # For each task, return NaN for invalid molecules\n",
    "                    num_tasks = self.model.task_heads.__len__()\n",
    "                    results.append([float('nan')] * num_tasks)\n",
    "                else:\n",
    "                    num_tasks = self.model.task_heads.__len__()\n",
    "                    results.append([float('nan')] * num_tasks)\n",
    "                continue\n",
    "            \n",
    "            # Add hydrogens\n",
    "            mol = Chem.AddHs(mol)\n",
    "            \n",
    "            # Build enhanced hypergraph\n",
    "            adjacency_list, features, num_atoms, mol_descriptors = build_hypergraph_nx(\n",
    "                mol, use_rings=use_rings, use_functional_groups=True\n",
    "            )\n",
    "            \n",
    "            # Get prediction\n",
    "            with torch.no_grad():\n",
    "                features_tensor = features.to(self.device)\n",
    "                mol_descriptors_tensor = mol_descriptors.to(self.device)\n",
    "                prediction = self.model(features_tensor, adjacency_list, num_atoms, mol_descriptors_tensor)\n",
    "                \n",
    "                if return_probs:\n",
    "                    # Return probabilities\n",
    "                    probs = torch.sigmoid(prediction).cpu().numpy()[0]\n",
    "                    results.append(probs)\n",
    "                else:\n",
    "                    # Return binary predictions with adjusted threshold\n",
    "                    probs = torch.sigmoid(prediction).cpu().numpy()[0]\n",
    "                    binary = (probs > threshold).astype(int)\n",
    "                    results.append(binary)\n",
    "        \n",
    "        return results\n",
    "    \n",
    "    def save_model(self, path):\n",
    "        \"\"\"Save the enhanced model to a file\"\"\"\n",
    "        if self.model is None:\n",
    "            raise ValueError(\"No model to save\")\n",
    "            \n",
    "        save_dict = {\n",
    "            'model_state': self.model.state_dict(),\n",
    "            'in_features': self.model.layers[0].linear.in_features,\n",
    "            'hidden_dim': self.model.layers[0].linear.out_features,\n",
    "            'mol_desc_size': self.model.mol_desc_proj[0].in_features,\n",
    "            'num_tasks': len(self.model.task_heads),\n",
    "            'property_name': self.property_name\n",
    "        }\n",
    "        \n",
    "        torch.save(save_dict, path)\n",
    "        print(f\"Enhanced model saved to {path}\")\n",
    "        return self\n",
    "    \n",
    "    def load_model(self, path):\n",
    "        \"\"\"Load an enhanced model from a file\"\"\"\n",
    "        save_dict = torch.load(path, map_location=self.device)\n",
    "        \n",
    "        # Get model parameters\n",
    "        in_features = save_dict['in_features']\n",
    "        hidden_dim = save_dict['hidden_dim']\n",
    "        mol_desc_size = save_dict['mol_desc_size']\n",
    "        num_tasks = save_dict['num_tasks']\n",
    "        property_name = save_dict.get('property_name', \"Unknown Property\")\n",
    "        \n",
    "        # Create model\n",
    "        model = ImprovedHypergraphNN(\n",
    "            in_features=in_features, \n",
    "            hidden_dim=hidden_dim, \n",
    "            mol_desc_size=mol_desc_size,\n",
    "            num_tasks=num_tasks,\n",
    "            dropout=0.3,\n",
    "            num_layers=3\n",
    "        )\n",
    "        model.load_state_dict(save_dict['model_state'])\n",
    "        \n",
    "        return model, property_name\n",
    "\n",
    "# --- Enhanced Visualization Functions ---\n",
    "def visualize_predictions_enhanced(predictor, smiles_list, true_labels=None, property_name=None, confidence=True):\n",
    "    \"\"\"Enhanced visualization of predictions with confidence indicators\"\"\"\n",
    "    predictions = predictor.predict(smiles_list)\n",
    "    \n",
    "    # Default property name\n",
    "    if property_name is None:\n",
    "        property_name = predictor.property_name\n",
    "    \n",
    "    # Create a plot grid\n",
    "    n_mols = len(smiles_list)\n",
    "    n_cols = min(4, n_mols)\n",
    "    n_rows = (n_mols + n_cols - 1) // n_cols\n",
    "    \n",
    "    fig, axes = plt.subplots(n_rows, n_cols, figsize=(4*n_cols, 3.5*n_rows))\n",
    "    if n_rows == 1 and n_cols == 1:\n",
    "        axes = np.array([axes])\n",
    "    axes = axes.flatten()\n",
    "    \n",
    "    for i, (smi, pred) in enumerate(zip(smiles_list, predictions)):\n",
    "        if i >= len(axes):\n",
    "            break\n",
    "            \n",
    "        mol = Chem.MolFromSmiles(smi)\n",
    "        if mol is None:\n",
    "            continue\n",
    "            \n",
    "        # Draw molecule with improved highlighting\n",
    "        try:\n",
    "            # Try to highlight substructures based on prediction\n",
    "            highlight_atoms = []\n",
    "            \n",
    "            # Example: highlight potential toxic groups for high predictions\n",
    "            if pred[0] > 0.5:\n",
    "                # Highlight potential toxic groups\n",
    "                toxic_patterns = [\n",
    "                    'c1ccccc1',  # benzene\n",
    "                    'N(=O)=O',   # nitro\n",
    "                    'S(=O)(=O)',  # sulfonyl\n",
    "                    'C(F)(F)(F)',  # trifluoromethyl\n",
    "                    'Cl',        # chloro\n",
    "                    'Br',        # bromo\n",
    "                    'I',         # iodo\n",
    "                ]\n",
    "                \n",
    "                for pattern in toxic_patterns:\n",
    "                    substructure = Chem.MolFromSmarts(pattern)\n",
    "                    if substructure:\n",
    "                        matches = mol.GetSubstructMatches(substructure)\n",
    "                        for match in matches:\n",
    "                            highlight_atoms.extend(match)\n",
    "            \n",
    "            # Draw with highlighting if atoms found\n",
    "            if highlight_atoms:\n",
    "                img = Chem.Draw.MolToImage(mol, size=(300, 200), highlightAtoms=highlight_atoms)\n",
    "            else:\n",
    "                img = Chem.Draw.MolToImage(mol, size=(300, 200))\n",
    "        except:\n",
    "            # Fallback if highlighting fails\n",
    "            img = Chem.Draw.MolToImage(mol, size=(300, 200))\n",
    "        \n",
    "        axes[i].imshow(img)\n",
    "        \n",
    "        # Add predictions with confidence indicator\n",
    "        pred_val = pred[0]\n",
    "        confidence_level = \"High\" if abs(pred_val - 0.5) > 0.3 else \"Medium\" if abs(pred_val - 0.5) > 0.15 else \"Low\"\n",
    "        \n",
    "        if confidence:\n",
    "            pred_text = f\"{property_name}: {pred_val:.3f}\\nConfidence: {confidence_level}\"\n",
    "        else:\n",
    "            pred_text = f\"{property_name}: {pred_val:.3f}\"\n",
    "            \n",
    "        if true_labels and i < len(true_labels):\n",
    "            true_val = true_labels[i][0]\n",
    "            if true_val != -1:  # Not missing\n",
    "                pred_text += f\"\\nTrue: {true_val}\"\n",
    "                \n",
    "                # Color based on correctness\n",
    "                if abs(pred_val - true_val) < 0.5:  # Correct prediction (threshold 0.5)\n",
    "                    color = 'green'\n",
    "                else:\n",
    "                    color = 'red'\n",
    "                \n",
    "                axes[i].set_title(pred_text, color=color)\n",
    "            else:\n",
    "                axes[i].set_title(pred_text)\n",
    "        else:\n",
    "            axes[i].set_title(pred_text)\n",
    "            \n",
    "        axes[i].axis('off')\n",
    "    \n",
    "    # Hide empty subplots\n",
    "    for i in range(n_mols, len(axes)):\n",
    "        axes[i].axis('off')\n",
    "    \n",
    "    plt.tight_layout()\n",
    "    plt.show()\n",
    "    \n",
    "    return predictions\n",
    "\n",
    "# Completing the visualize_model_performance_enhanced function\n",
    "def visualize_model_performance_enhanced(y_true, y_pred, property_name=\"Property\"):\n",
    "    \"\"\"Enhanced visualization of model performance with multiple metrics\"\"\"\n",
    "    from sklearn.metrics import roc_curve, auc, confusion_matrix, precision_recall_curve\n",
    "    import matplotlib.pyplot as plt\n",
    "    import seaborn as sns\n",
    "    \n",
    "    # Convert to numpy arrays\n",
    "    y_true = np.array(y_true)\n",
    "    y_pred = np.array(y_pred)\n",
    "    \n",
    "    # Prepare data\n",
    "    if y_true.ndim > 1 and y_true.shape[1] > 1:\n",
    "        # Multi-task - use first task for visualization\n",
    "        task_y_true = y_true[:, 0]\n",
    "        task_y_pred = y_pred[:, 0]\n",
    "    else:\n",
    "        # Single-task\n",
    "        task_y_true = y_true.ravel()\n",
    "        task_y_pred = y_pred.ravel()\n",
    "    \n",
    "    # Filter out missing values\n",
    "    mask = task_y_true != -1\n",
    "    task_y_true = task_y_true[mask]\n",
    "    task_y_pred = task_y_pred[mask]\n",
    "    \n",
    "    # Create a 2x2 grid for multiple visualizations\n",
    "    fig, axes = plt.subplots(2, 2, figsize=(15, 12))\n",
    "    \n",
    "    # 1. ROC curve\n",
    "    fpr, tpr, _ = roc_curve(task_y_true, task_y_pred)\n",
    "    roc_auc = auc(fpr, tpr)\n",
    "    \n",
    "    axes[0, 0].plot(fpr, tpr, color='darkorange', lw=2, label=f'ROC curve (AUC = {roc_auc:.2f})')\n",
    "    axes[0, 0].plot([0, 1], [0, 1], color='navy', lw=2, linestyle='--')\n",
    "    axes[0, 0].set_xlim([0.0, 1.0])\n",
    "    axes[0, 0].set_ylim([0.0, 1.05])\n",
    "    axes[0, 0].set_xlabel('False Positive Rate')\n",
    "    axes[0, 0].set_ylabel('True Positive Rate')\n",
    "    axes[0, 0].set_title(f'ROC Curve - {property_name}')\n",
    "    axes[0, 0].legend(loc=\"lower right\")\n",
    "    \n",
    "    # 2. Precision-Recall curve\n",
    "    precision, recall, thresholds = precision_recall_curve(task_y_true, task_y_pred)\n",
    "    pr_auc = auc(recall, precision)\n",
    "    \n",
    "    axes[0, 1].plot(recall, precision, color='green', lw=2, label=f'PR curve (AUC = {pr_auc:.2f})')\n",
    "    axes[0, 1].set_xlim([0.0, 1.0])\n",
    "    axes[0, 1].set_ylim([0.0, 1.05])\n",
    "    axes[0, 1].set_xlabel('Recall')\n",
    "    axes[0, 1].set_ylabel('Precision')\n",
    "    axes[0, 1].set_title(f'Precision-Recall Curve - {property_name}')\n",
    "    axes[0, 1].legend(loc=\"lower left\")\n",
    "    \n",
    "    # 3. Confusion matrix\n",
    "    # Choose best threshold from PR curve for imbalanced data\n",
    "    f1_scores = np.zeros_like(thresholds)\n",
    "    for i, threshold in enumerate(thresholds):\n",
    "        predictions = (task_y_pred >= threshold).astype(int)\n",
    "        tp = np.sum((predictions == 1) & (task_y_true == 1))\n",
    "        fp = np.sum((predictions == 1) & (task_y_true == 0))\n",
    "        fn = np.sum((predictions == 0) & (task_y_true == 1))\n",
    "        \n",
    "        precision_at_t = tp / (tp + fp) if (tp + fp) > 0 else 0\n",
    "        recall_at_t = tp / (tp + fn) if (tp + fn) > 0 else 0\n",
    "        \n",
    "        f1_scores[i] = 2 * (precision_at_t * recall_at_t) / (precision_at_t + recall_at_t) if (precision_at_t + recall_at_t) > 0 else 0\n",
    "    \n",
    "    # Find threshold with best F1 score\n",
    "    best_idx = np.argmax(f1_scores)\n",
    "    best_threshold = thresholds[best_idx]\n",
    "    best_f1 = f1_scores[best_idx]\n",
    "    \n",
    "    binary_pred = (task_y_pred >= best_threshold).astype(int)\n",
    "    cm = confusion_matrix(task_y_true, binary_pred)\n",
    "    \n",
    "    # Calculate metrics\n",
    "    tn, fp, fn, tp = cm.ravel()\n",
    "    accuracy = (tp + tn) / (tp + tn + fp + fn)\n",
    "    sensitivity = tp / (tp + fn) if (tp + fn) > 0 else 0\n",
    "    specificity = tn / (tn + fp) if (tn + fp) > 0 else 0\n",
    "    precision = tp / (tp + fp) if (tp + fp) > 0 else 0\n",
    "    f1 = 2 * (precision * sensitivity) / (precision + sensitivity) if (precision + sensitivity) > 0 else 0\n",
    "    \n",
    "    # Plot confusion matrix\n",
    "    sns.heatmap(cm, annot=True, fmt=\"d\", cmap=\"Blues\", ax=axes[1, 0])\n",
    "    axes[1, 0].set_xlabel('Predicted Label')\n",
    "    axes[1, 0].set_ylabel('True Label')\n",
    "    axes[1, 0].set_title(f'Confusion Matrix - {property_name}\\nOptimal Threshold: {best_threshold:.2f}')\n",
    "    \n",
    "    # 4. Prediction distribution\n",
    "    # Create histogram of predictions\n",
    "    axes[1, 1].hist(task_y_pred, bins=20, alpha=0.7, color='blue')\n",
    "    axes[1, 1].axvline(x=best_threshold, color='red', linestyle='--', label=f'Optimal threshold: {best_threshold:.2f}')\n",
    "    axes[1, 1].set_xlabel('Prediction Score')\n",
    "    axes[1, 1].set_ylabel('Count')\n",
    "    axes[1, 1].set_title(f'Prediction Distribution - {property_name}')\n",
    "    axes[1, 1].legend()\n",
    "    \n",
    "    # Add metrics as text to figure\n",
    "    metrics_text = (f\"AUC-ROC: {roc_auc:.3f}\\nAUC-PR: {pr_auc:.3f}\\n\"\n",
    "                   f\"Accuracy: {accuracy:.3f}\\nSensitivity/Recall: {sensitivity:.3f}\\n\"\n",
    "                   f\"Specificity: {specificity:.3f}\\nPrecision: {precision:.3f}\\n\"\n",
    "                   f\"F1 Score: {f1:.3f}\")\n",
    "                   \n",
    "    fig.text(0.5, 0.01, metrics_text, ha='center', fontsize=12, bbox=dict(facecolor='white', alpha=0.8))\n",
    "    \n",
    "    plt.tight_layout(rect=[0, 0.05, 1, 0.95])\n",
    "    plt.suptitle(f'Model Performance for {property_name}', fontsize=16, y=0.98)\n",
    "    plt.show()\n",
    "    \n",
    "    return roc_auc, accuracy, sensitivity, specificity, precision, f1\n",
    "\n",
    "# --- Data Handling Functions ---\n",
    "def improved_fetch_tox21_data():\n",
    "    \"\"\"Enhanced function to fetch and prepare Tox21 dataset with better preprocessing\"\"\"\n",
    "    try:\n",
    "        # Try to download from DeepChem repository\n",
    "        url = \"https://deepchemdata.s3-us-west-1.amazonaws.com/datasets/tox21.csv.gz\"\n",
    "        response = requests.get(url)\n",
    "        \n",
    "        if response.status_code != 200:\n",
    "            print(f\"Failed to download Tox21 dataset: {response.status_code}\")\n",
    "            return [], [], []\n",
    "        \n",
    "        # Parse CSV\n",
    "        import io\n",
    "        import gzip\n",
    "        import pandas as pd\n",
    "        \n",
    "        # Use pandas to safely parse the CSV\n",
    "        content = gzip.decompress(response.content)\n",
    "        df = pd.read_csv(io.BytesIO(content))\n",
    "        \n",
    "        # Check the column names to identify SMILES and mol_id columns\n",
    "        print(f\"Columns in Tox21 dataset: {df.columns.tolist()}\")\n",
    "        \n",
    "        # Locate the SMILES column - it might be named 'smiles' or something else\n",
    "        smiles_col = None\n",
    "        for col in df.columns:\n",
    "            if col.lower() == 'smiles' or col.lower() == 'smile' or 'smiles' in col.lower():\n",
    "                smiles_col = col\n",
    "                break\n",
    "        \n",
    "        if smiles_col is None:\n",
    "            print(\"Could not identify SMILES column\")\n",
    "            return [], [], []\n",
    "            \n",
    "        print(f\"Using {smiles_col} as SMILES column\")\n",
    "        \n",
    "        # Exclude 'mol_id' and SMILES columns to get task columns\n",
    "        exclude_cols = ['mol_id', smiles_col]\n",
    "        if 'mol_id' in df.columns:\n",
    "            exclude_cols.append('mol_id')\n",
    "            \n",
    "        task_names = [col for col in df.columns if col not in exclude_cols]\n",
    "        \n",
    "        # Improved preprocessing:\n",
    "        # 1. Filter out invalid SMILES\n",
    "        valid_mols = []\n",
    "        valid_indices = []\n",
    "        for i, smi in enumerate(df[smiles_col]):\n",
    "            try:\n",
    "                mol = Chem.MolFromSmiles(smi)\n",
    "                if mol is not None and Chem.MolToSmiles(mol) != '':\n",
    "                    valid_mols.append(i)\n",
    "                    valid_indices.append(i)\n",
    "            except:\n",
    "                continue\n",
    "        \n",
    "        valid_df = df.iloc[valid_indices].copy()\n",
    "        print(f\"Filtered out {len(df) - len(valid_df)} invalid SMILES strings\")\n",
    "        \n",
    "        # 2. Handle missing values appropriately\n",
    "        for task in task_names:\n",
    "            # Replace NaN with -1 (missing value indicator)\n",
    "            valid_df[task] = valid_df[task].fillna(-1)\n",
    "        \n",
    "        # 3. Extract data\n",
    "        smiles_list = valid_df[smiles_col].tolist()\n",
    "        labels_list = valid_df[task_names].values.tolist()\n",
    "        \n",
    "        # Verify data\n",
    "        valid_smiles_count = 0\n",
    "        for smi in smiles_list[:10]:  # Check just first 10 for validity\n",
    "            mol = Chem.MolFromSmiles(smi)\n",
    "            if mol is not None:\n",
    "                valid_smiles_count += 1\n",
    "        \n",
    "        print(f\"Valid SMILES check: {valid_smiles_count}/10 valid in sample\")\n",
    "        print(f\"Loaded {len(smiles_list)} molecules with {len(task_names)} tasks from Tox21\")\n",
    "        \n",
    "        # 4. Analyze dataset balance for each task\n",
    "        print(\"\\nTask Distribution:\")\n",
    "        for i, task in enumerate(task_names):\n",
    "            task_values = [labels[i] for labels in labels_list]\n",
    "            pos_count = sum(1 for v in task_values if v == 1)\n",
    "            neg_count = sum(1 for v in task_values if v == 0)\n",
    "            na_count = sum(1 for v in task_values if v == -1)\n",
    "            \n",
    "            total_valid = pos_count + neg_count\n",
    "            pos_ratio = pos_count / total_valid if total_valid > 0 else 0\n",
    "            \n",
    "            print(f\"{task}: Positive={pos_count} ({pos_ratio:.2%}), Negative={neg_count}, NA={na_count}\")\n",
    "        \n",
    "        return smiles_list, labels_list, task_names\n",
    "    \n",
    "    except Exception as e:\n",
    "        print(f\"Error loading Tox21 data: {e}\")\n",
    "        return [], [], []\n",
    "\n",
    "def improved_balance_dataset(smiles_list, labels_list, max_imbalance_ratio=3.0, oversampling=True, undersampling=True):\n",
    "    \"\"\"\n",
    "    Enhanced dataset balancing with options for oversampling, undersampling, and SMOTE-like feature \n",
    "    for highly imbalanced datasets\n",
    "    \"\"\"\n",
    "    # Convert to numpy arrays\n",
    "    labels = np.array(labels_list)\n",
    "    \n",
    "    # Count number of samples in each class\n",
    "    if labels.ndim > 1 and labels.shape[1] > 1:\n",
    "        # Multi-task - use first task\n",
    "        task_labels = labels[:, 0]\n",
    "    else:\n",
    "        # Single-task - ensure it's a flat array\n",
    "        task_labels = labels.ravel()\n",
    "    \n",
    "    # Count classes (excluding missing values)\n",
    "    valid_mask = task_labels != -1\n",
    "    \n",
    "    # Debug information\n",
    "    print(f\"Total labels: {len(task_labels)}\")\n",
    "    print(f\"Valid labels: {np.sum(valid_mask)}\")\n",
    "    print(f\"Missing values: {len(task_labels) - np.sum(valid_mask)}\")\n",
    "    \n",
    "    # If all values are missing, return unmodified\n",
    "    if np.sum(valid_mask) == 0:\n",
    "        print(\"Warning: All labels are missing values\")\n",
    "        return smiles_list, labels_list\n",
    "    \n",
    "    valid_labels = task_labels[valid_mask]\n",
    "    \n",
    "    # Convert to integers and ensure no negative values\n",
    "    valid_labels_int = valid_labels.astype(int)\n",
    "    \n",
    "    # Debug the unique values\n",
    "    unique_values = np.unique(valid_labels_int)\n",
    "    print(f\"Unique label values: {unique_values}\")\n",
    "    \n",
    "    # Handle negative values if present\n",
    "    if np.any(valid_labels_int < 0):\n",
    "        print(\"Warning: Negative labels found after filtering, converting to non-negative\")\n",
    "        valid_labels_int = valid_labels_int + abs(np.min(valid_labels_int))\n",
    "    \n",
    "    class_counts = np.bincount(valid_labels_int)\n",
    "    \n",
    "    if len(class_counts) < 2:\n",
    "        print(\"Warning: Only one class found in the dataset\")\n",
    "        return smiles_list, labels_list\n",
    "    \n",
    "    # Get counts\n",
    "    n_minority = min(class_counts)\n",
    "    n_majority = max(class_counts)\n",
    "    minority_class = np.argmin(class_counts)\n",
    "    majority_class = np.argmax(class_counts)\n",
    "    \n",
    "    imbalance_ratio = n_majority / max(n_minority, 1)\n",
    "    \n",
    "    print(f\"Class distribution: {class_counts}\")\n",
    "    print(f\"Imbalance ratio: {imbalance_ratio:.2f}\")\n",
    "    \n",
    "    # Check if balancing is needed\n",
    "    if imbalance_ratio <= max_imbalance_ratio:\n",
    "        print(\"Dataset is already balanced enough\")\n",
    "        return smiles_list, labels_list\n",
    "    \n",
    "    # Map back to original values if we had to shift negative values\n",
    "    if np.any(unique_values < 0):\n",
    "        adjust = abs(np.min(unique_values))\n",
    "        minority_original = minority_class - adjust\n",
    "        majority_original = majority_class - adjust\n",
    "        \n",
    "        minority_indices = [i for i, lbl in enumerate(task_labels) if lbl == minority_original]\n",
    "        majority_indices = [i for i, lbl in enumerate(task_labels) if lbl == majority_original]\n",
    "    else:\n",
    "        minority_indices = [i for i, lbl in enumerate(task_labels) if lbl == minority_class]\n",
    "        majority_indices = [i for i, lbl in enumerate(task_labels) if lbl == majority_class]\n",
    "    \n",
    "    balanced_indices = []\n",
    "    \n",
    "    # Undersampling majority class if requested\n",
    "    if undersampling:\n",
    "        # Determine target size for majority class\n",
    "        target_size = int(n_minority * max_imbalance_ratio)\n",
    "        sampled_majority = random.sample(majority_indices, min(target_size, len(majority_indices)))\n",
    "        balanced_indices.extend(sampled_majority)\n",
    "    else:\n",
    "        # Keep all majority samples\n",
    "        balanced_indices.extend(majority_indices)\n",
    "    \n",
    "    # Oversampling minority class if requested\n",
    "    if oversampling and n_minority < n_majority / max_imbalance_ratio:\n",
    "        # Add all original minority samples\n",
    "        balanced_indices.extend(minority_indices)\n",
    "        \n",
    "        # Determine how many more minority samples we need\n",
    "        target_minority_size = max(n_minority, int(len(balanced_indices) / max_imbalance_ratio))\n",
    "        additional_samples_needed = target_minority_size - len(minority_indices)\n",
    "        \n",
    "        if additional_samples_needed > 0:\n",
    "            print(f\"Oversampling minority class: adding {additional_samples_needed} synthetic samples\")\n",
    "            \n",
    "            # Function to create augmented SMILES\n",
    "            def augment_smiles(smi):\n",
    "                mol = Chem.MolFromSmiles(smi)\n",
    "                if mol is None:\n",
    "                    return smi\n",
    "                \n",
    "                # Try different SMILES generation approaches\n",
    "                try:\n",
    "                    # 1. Use random SMILES generator\n",
    "                    Chem.rdmolops.AssignStereochemistry(mol)\n",
    "                    return Chem.MolToSmiles(mol, doRandom=True, isomericSmiles=True)\n",
    "                except:\n",
    "                    # 2. Fallback: try adding explicit Hs and then removing\n",
    "                    try:\n",
    "                        mol_h = Chem.AddHs(mol)\n",
    "                        return Chem.MolToSmiles(Chem.RemoveHs(mol_h), isomericSmiles=True)\n",
    "                    except:\n",
    "                        return smi\n",
    "            \n",
    "            # Generate synthetic minority samples through SMILES augmentation\n",
    "            synthetic_indices = []\n",
    "            for _ in range(additional_samples_needed):\n",
    "                # Randomly select a minority sample to augment\n",
    "                orig_idx = random.choice(minority_indices)\n",
    "                orig_smiles = smiles_list[orig_idx]\n",
    "                \n",
    "                # Create augmented version\n",
    "                new_smiles = augment_smiles(orig_smiles)\n",
    "                \n",
    "                # Add as a new sample\n",
    "                smiles_list.append(new_smiles)\n",
    "                labels_list.append(labels_list[orig_idx])  # Same label as original\n",
    "                synthetic_indices.append(len(smiles_list) - 1)  # Index of the new sample\n",
    "            \n",
    "            # Add synthetic samples to balanced indices\n",
    "            balanced_indices.extend(synthetic_indices)\n",
    "    else:\n",
    "        # Just add original minority samples\n",
    "        balanced_indices.extend(minority_indices)\n",
    "    \n",
    "    # Shuffle the balanced dataset\n",
    "    random.shuffle(balanced_indices)\n",
    "    \n",
    "    # Create balanced dataset\n",
    "    balanced_smiles = [smiles_list[i] for i in balanced_indices]\n",
    "    balanced_labels = [labels_list[i] for i in balanced_indices]\n",
    "    \n",
    "    # Check final class distribution\n",
    "    balanced_task_labels = [lbl[0] if isinstance(lbl, list) else lbl for lbl in balanced_labels]\n",
    "    pos_count = sum(1 for lbl in balanced_task_labels if lbl == 1)\n",
    "    neg_count = sum(1 for lbl in balanced_task_labels if lbl == 0)\n",
    "    \n",
    "    print(f\"Balanced dataset: {len(balanced_smiles)} samples\")\n",
    "    print(f\"New class distribution - Positive: {pos_count}, Negative: {neg_count}\")\n",
    "    \n",
    "    return balanced_smiles, balanced_labels\n",
    "\n",
    "def improved_split_data(smiles_list, labels_list, test_size=0.2, val_size=0.1, random_state=42, stratify=True):\n",
    "    \"\"\"Enhanced data splitting with stratification for imbalanced datasets\"\"\"\n",
    "    from sklearn.model_selection import train_test_split\n",
    "    \n",
    "    # Convert labels to array\n",
    "    if isinstance(labels_list[0], list):\n",
    "        stratify_labels = np.array([x[0] for x in labels_list])\n",
    "    else:\n",
    "        stratify_labels = np.array(labels_list)\n",
    "    \n",
    "    # Replace missing values for stratification\n",
    "    stratify_y = np.where(stratify_labels == -1, 0, stratify_labels)\n",
    "    \n",
    "    # Use stratification if requested and if we have multiple classes\n",
    "    if stratify and len(np.unique(stratify_y)) > 1:\n",
    "        # First split: train+val and test\n",
    "        train_val_smiles, test_smiles, train_val_labels, test_labels, train_val_stratify, _ = train_test_split(\n",
    "            smiles_list, labels_list, stratify_y, test_size=test_size, random_state=random_state, stratify=stratify_y\n",
    "        )\n",
    "        \n",
    "        # Second split: train and validation\n",
    "        val_size_adjusted = val_size / (1 - test_size)  # Adjust for the first split\n",
    "        train_smiles, val_smiles, train_labels, val_labels = train_test_split(\n",
    "            train_val_smiles, train_val_labels, test_size=val_size_adjusted, \n",
    "            random_state=random_state, stratify=train_val_stratify\n",
    "        )\n",
    "    else:\n",
    "        # Standard split without stratification\n",
    "        train_val_smiles, test_smiles, train_val_labels, test_labels = train_test_split(\n",
    "            smiles_list, labels_list, test_size=test_size, random_state=random_state\n",
    "        )\n",
    "        \n",
    "        val_size_adjusted = val_size / (1 - test_size)\n",
    "        train_smiles, val_smiles, train_labels, val_labels = train_test_split(\n",
    "            train_val_smiles, train_val_labels, test_size=val_size_adjusted, random_state=random_state\n",
    "        )\n",
    "    \n",
    "    # Print class distribution in each split\n",
    "    def count_classes(labels):\n",
    "        if isinstance(labels[0], list):\n",
    "            task_labels = [x[0] for x in labels]\n",
    "        else:\n",
    "            task_labels = labels\n",
    "        \n",
    "        pos = sum(1 for x in task_labels if x == 1)\n",
    "        neg = sum(1 for x in task_labels if x == 0)\n",
    "        missing = sum(1 for x in task_labels if x == -1)\n",
    "        return pos, neg, missing\n",
    "    \n",
    "    train_pos, train_neg, train_missing = count_classes(train_labels)\n",
    "    val_pos, val_neg, val_missing = count_classes(val_labels)\n",
    "    test_pos, test_neg, test_missing = count_classes(test_labels)\n",
    "    \n",
    "    print(f\"Train split: {len(train_smiles)} samples, {train_pos} positive, {train_neg} negative, {train_missing} missing\")\n",
    "    print(f\"Val split: {len(val_smiles)} samples, {val_pos} positive, {val_neg} negative, {val_missing} missing\")\n",
    "    print(f\"Test split: {len(test_smiles)} samples, {test_pos} positive, {test_neg} negative, {test_missing} missing\")\n",
    "    \n",
    "    return train_smiles, val_smiles, test_smiles, train_labels, val_labels, test_labels\n",
    "\n",
    "# --- Example Usage and Final Function ---\n",
    "def improved_tox21_prediction():\n",
    "    \"\"\"Enhanced example of training and predicting with Tox21 dataset\"\"\"\n",
    "    # Fetch Tox21 data with improved preprocessing\n",
    "    print(\"Fetching Tox21 data with enhanced preprocessing...\")\n",
    "    smiles_list, labels_list, task_names = improved_fetch_tox21_data()\n",
    "    \n",
    "    if len(smiles_list) == 0:\n",
    "        print(\"Failed to fetch Tox21 data\")\n",
    "        return None\n",
    "    \n",
    "    # Use a subset for faster training, but be strategic about it\n",
    "    subset_size = 2000  # Larger subset for better model quality\n",
    "    if len(smiles_list) > subset_size:\n",
    "        # Strategic sampling: retain class balance while reducing size\n",
    "        # First, separate by class\n",
    "        task_idx = 0  # Focus on first task (NR-AR)\n",
    "        \n",
    "        pos_indices = [i for i, labels in enumerate(labels_list) if labels[task_idx] == 1]\n",
    "        neg_indices = [i for i, labels in enumerate(labels_list) if labels[task_idx] == 0]\n",
    "        na_indices = [i for i, labels in enumerate(labels_list) if labels[task_idx] == -1]\n",
    "        \n",
    "        # Calculate how many to sample from each\n",
    "        pos_ratio = len(pos_indices) / (len(pos_indices) + len(neg_indices))\n",
    "        pos_to_sample = min(int(subset_size * pos_ratio), len(pos_indices))\n",
    "        neg_to_sample = min(subset_size - pos_to_sample, len(neg_indices))\n",
    "        \n",
    "        # Sample from each class\n",
    "        sampled_pos = random.sample(pos_indices, pos_to_sample)\n",
    "        sampled_neg = random.sample(neg_indices, neg_to_sample)\n",
    "        \n",
    "        # Combine\n",
    "        sampled_indices = sampled_pos + sampled_neg\n",
    "        random.shuffle(sampled_indices)\n",
    "        \n",
    "        smiles_list = [smiles_list[i] for i in sampled_indices]\n",
    "        labels_list = [labels_list[i] for i in sampled_indices]\n",
    "        print(f\"Using strategic subset of {len(smiles_list)} molecules\")\n",
    "    \n",
    "    # Focus on a single task for simplicity (NR-AR: androgen receptor)\n",
    "    task_idx = 0  # First task is NR-AR\n",
    "    print(f\"Focusing on task: {task_names[task_idx]}\")\n",
    "    \n",
    "    # Extract single task and convert to proper format\n",
    "    single_task_labels = []\n",
    "    for labels in labels_list:\n",
    "        single_task_labels.append([float(labels[task_idx])])\n",
    "    \n",
    "    # Print distribution information\n",
    "    valid_count = 0\n",
    "    positive_count = 0\n",
    "    negative_count = 0\n",
    "    \n",
    "    for label in single_task_labels:\n",
    "        if label[0] != -1:\n",
    "            valid_count += 1\n",
    "            if label[0] == 1.0:\n",
    "                positive_count += 1\n",
    "            else:\n",
    "                negative_count += 1\n",
    "    \n",
    "    print(f\"Total labels: {len(single_task_labels)}\")\n",
    "    print(f\"Valid labels: {valid_count}\")\n",
    "    print(f\"Class distribution: Positive={positive_count}, Negative={negative_count}\")\n",
    "    \n",
    "    # Check if we have enough data for each class\n",
    "    if positive_count < 10 or negative_count < 10:\n",
    "        print(f\"Warning: Too few samples in one class. Using a different task.\")\n",
    "        # Find the most balanced task\n",
    "        best_ratio = 0\n",
    "        best_idx = 0\n",
    "        \n",
    "        for idx, name in enumerate(task_names):\n",
    "            task_values = [labels[idx] for labels in labels_list]\n",
    "            pos_count = sum(1 for v in task_values if v == 1)\n",
    "            neg_count = sum(1 for v in task_values if v == 0)\n",
    "            \n",
    "            if pos_count >= 10 and neg_count >= 10:\n",
    "                ratio = min(pos_count, neg_count) / max(pos_count, neg_count)\n",
    "                if ratio > best_ratio:\n",
    "                    best_ratio = ratio\n",
    "                    best_idx = idx\n",
    "        \n",
    "        if best_ratio > 0:\n",
    "            task_idx = best_idx\n",
    "            print(f\"Selected most balanced task: {task_names[task_idx]} with ratio {best_ratio:.2f}\")\n",
    "            \n",
    "            # Update single task labels\n",
    "            single_task_labels = []\n",
    "            for labels in labels_list:\n",
    "                single_task_labels.append([float(labels[task_idx])])\n",
    "                \n",
    "            # Recalculate distribution\n",
    "            positive_count = sum(1 for label in single_task_labels if label[0] == 1.0)\n",
    "            negative_count = sum(1 for label in single_task_labels if label[0] == 0.0)\n",
    "            print(f\"Updated class distribution: Positive={positive_count}, Negative={negative_count}\")\n",
    "    \n",
    "    # Balance dataset with improved balancing\n",
    "    smiles_list, single_task_labels = improved_balance_dataset(\n",
    "        smiles_list, \n",
    "        single_task_labels, \n",
    "        max_imbalance_ratio=2.0,  # Stricter balance requirement\n",
    "        oversampling=True,\n",
    "        undersampling=True\n",
    "    )\n",
    "    \n",
    "    # Split data with stratification\n",
    "    train_smiles, val_smiles, test_smiles, train_labels, val_labels, test_labels = improved_split_data(\n",
    "        smiles_list, single_task_labels, test_size=0.2, val_size=0.1, stratify=True\n",
    "    )\n",
    "    \n",
    "    # Create and train enhanced predictor\n",
    "    predictor = EnhancedMolecularPropertyPredictor()\n",
    "    \n",
    "    # Use cv_folds=5 for robust cross-validation\n",
    "    predictor.train(\n",
    "        train_smiles, train_labels, \n",
    "        val_smiles, val_labels,\n",
    "        property_name=task_names[task_idx],\n",
    "        epochs=50,  # More epochs for better convergence\n",
    "        use_rings=True,\n",
    "        cv_folds=5,\n",
    "        lr=0.0005,  # Lower learning rate\n",
    "        weight_decay=1e-4,\n",
    "        use_focal_loss=True,\n",
    "        augment_data=True\n",
    "    )\n",
    "    \n",
    "    # Evaluate on test set with enhanced metrics\n",
    "    test_dataset = EnhancedMoleculeDataset(test_smiles, test_labels, use_rings=True)\n",
    "    test_auc, test_acc, test_precision, test_recall, test_f1 = evaluate_model_enhanced(\n",
    "        predictor.model, test_dataset, device=predictor.device\n",
    "    )\n",
    "    print(f\"Test metrics - AUC: {test_auc:.4f}, Accuracy: {test_acc:.4f}, \"\n",
    "          f\"F1: {test_f1:.4f}, Precision: {test_precision:.4f}, Recall: {test_recall:.4f}\")\n",
    "    \n",
    "    # Make predictions on test set\n",
    "    test_predictions = predictor.predict(test_smiles)\n",
    "    \n",
    "    # Visualize model performance with enhanced visualization\n",
    "    visualize_model_performance_enhanced(test_labels, test_predictions, task_names[task_idx])\n",
    "    \n",
    "    # Visualize some test molecules with enhanced visualization\n",
    "    sample_indices = random.sample(range(len(test_smiles)), min(8, len(test_smiles)))\n",
    "    sample_smiles = [test_smiles[i] for i in sample_indices]\n",
    "    sample_labels = [test_labels[i] for i in sample_indices]\n",
    "    \n",
    "    visualize_predictions_enhanced(predictor, sample_smiles, sample_labels, task_names[task_idx])\n",
    "    \n",
    "    # Save the enhanced model\n",
    "    model_path = f\"enhanced_tox21_{task_names[task_idx].replace('-', '_')}_model.pt\"\n",
    "    predictor.save_model(model_path)\n",
    "    print(f\"Enhanced model saved to {model_path}\")\n",
    "    \n",
    "    return predictor\n",
    "\n",
    "if __name__ == \"__main__\":\n",
    "    import os\n",
    "    import time\n",
    "    \n",
    "    # Set random seed for reproducibility\n",
    "    random.seed(42)\n",
    "    np.random.seed(42)\n",
    "    torch.manual_seed(42)\n",
    "    \n",
    "    # Create output directory for models if it doesn't exist\n",
    "    os.makedirs(\"models\", exist_ok=True)\n",
    "    \n",
    "    start_time = time.time()\n",
    "    print(\"Starting enhanced Tox21 property prediction...\")\n",
    "    predictor = improved_tox21_prediction()\n",
    "    \n",
    "    if predictor:\n",
    "        total_time = time.time() - start_time\n",
    "        print(f\"Completed in {total_time:.1f} seconds!\")\n",
    "        print(f\"Enhanced model successfully trained for {predictor.property_name}\")\n",
    "    else:\n",
    "        print(\"Failed to train the model.\")"
   ]
  },
  {
   "cell_type": "code",
   "execution_count": 6,
   "id": "83d3c5f4",
   "metadata": {},
   "outputs": [
    {
     "ename": "NameError",
     "evalue": "name 'k_clique_embeddings' is not defined",
     "output_type": "error",
     "traceback": [
      "\u001b[1;31m---------------------------------------------------------------------------\u001b[0m",
      "\u001b[1;31mNameError\u001b[0m                                 Traceback (most recent call last)",
      "Cell \u001b[1;32mIn[6], line 12\u001b[0m\n\u001b[0;32m      5\u001b[0m \u001b[38;5;66;03m# Assuming we have the following data:\u001b[39;00m\n\u001b[0;32m      6\u001b[0m \u001b[38;5;66;03m# k_clique_embeddings: numpy array of shape (n_molecules, embedding_dim)\u001b[39;00m\n\u001b[0;32m      7\u001b[0m \u001b[38;5;66;03m# func_group_embeddings: numpy array of shape (n_molecules, embedding_dim)\u001b[39;00m\n\u001b[0;32m      8\u001b[0m \u001b[38;5;66;03m# activity_labels: numpy array of shape (n_molecules,) with binary labels (0=inactive, 1=active)\u001b[39;00m\n\u001b[0;32m      9\u001b[0m \n\u001b[0;32m     10\u001b[0m \u001b[38;5;66;03m# Perform t-SNE dimensionality reduction\u001b[39;00m\n\u001b[0;32m     11\u001b[0m tsne \u001b[38;5;241m=\u001b[39m TSNE(n_components\u001b[38;5;241m=\u001b[39m\u001b[38;5;241m2\u001b[39m, random_state\u001b[38;5;241m=\u001b[39m\u001b[38;5;241m42\u001b[39m, perplexity\u001b[38;5;241m=\u001b[39m\u001b[38;5;241m30\u001b[39m)\n\u001b[1;32m---> 12\u001b[0m k_clique_tsne \u001b[38;5;241m=\u001b[39m tsne\u001b[38;5;241m.\u001b[39mfit_transform(k_clique_embeddings)\n\u001b[0;32m     13\u001b[0m tsne \u001b[38;5;241m=\u001b[39m TSNE(n_components\u001b[38;5;241m=\u001b[39m\u001b[38;5;241m2\u001b[39m, random_state\u001b[38;5;241m=\u001b[39m\u001b[38;5;241m42\u001b[39m, perplexity\u001b[38;5;241m=\u001b[39m\u001b[38;5;241m30\u001b[39m)\n\u001b[0;32m     14\u001b[0m func_group_tsne \u001b[38;5;241m=\u001b[39m tsne\u001b[38;5;241m.\u001b[39mfit_transform(func_group_embeddings)\n",
      "\u001b[1;31mNameError\u001b[0m: name 'k_clique_embeddings' is not defined"
     ]
    }
   ],
   "source": [
    "import matplotlib.pyplot as plt\n",
    "from sklearn.manifold import TSNE\n",
    "import numpy as np\n",
    "\n",
    "# Assuming we have the following data:\n",
    "# k_clique_embeddings: numpy array of shape (n_molecules, embedding_dim)\n",
    "# func_group_embeddings: numpy array of shape (n_molecules, embedding_dim)\n",
    "# activity_labels: numpy array of shape (n_molecules,) with binary labels (0=inactive, 1=active)\n",
    "\n",
    "# Perform t-SNE dimensionality reduction\n",
    "tsne = TSNE(n_components=2, random_state=42, perplexity=30)\n",
    "k_clique_tsne = tsne.fit_transform(k_clique_embeddings)\n",
    "tsne = TSNE(n_components=2, random_state=42, perplexity=30)\n",
    "func_group_tsne = tsne.fit_transform(func_group_embeddings)\n",
    "\n",
    "# Create figure\n",
    "fig, (ax1, ax2) = plt.subplots(1, 2, figsize=(16, 8))\n",
    "\n",
    "# Plot t-SNE for k-clique model\n",
    "active_mask = activity_labels == 1\n",
    "inactive_mask = activity_labels == 0\n",
    "\n",
    "# k-clique model plot\n",
    "ax1.scatter(k_clique_tsne[inactive_mask, 0], k_clique_tsne[inactive_mask, 1], \n",
    "           color='blue', alpha=0.7, label='Inactive')\n",
    "ax1.scatter(k_clique_tsne[active_mask, 0], k_clique_tsne[active_mask, 1], \n",
    "           color='red', alpha=0.7, label='Active')\n",
    "ax1.set_title('K-Clique Model Embeddings', fontsize=14)\n",
    "ax1.legend()\n",
    "ax1.set_xticks([])\n",
    "ax1.set_yticks([])\n",
    "\n",
    "# Functional group model plot\n",
    "ax2.scatter(func_group_tsne[inactive_mask, 0], func_group_tsne[inactive_mask, 1], \n",
    "           color='blue', alpha=0.7, label='Inactive')\n",
    "ax2.scatter(func_group_tsne[active_mask, 0], func_group_tsne[active_mask, 1], \n",
    "           color='red', alpha=0.7, label='Active')\n",
    "ax2.set_title('Functional Group Model Embeddings', fontsize=14)\n",
    "ax2.legend()\n",
    "ax2.set_xticks([])\n",
    "ax2.set_yticks([])\n",
    "\n",
    "plt.tight_layout()\n",
    "plt.suptitle('t-SNE Visualization of Molecular Embeddings', fontsize=16)\n",
    "plt.subplots_adjust(top=0.9)\n",
    "plt.savefig('figure3_tsne_visualization.png', dpi=300)\n",
    "plt.show()"
   ]
  },
  {
   "cell_type": "code",
   "execution_count": null,
   "id": "8e709459",
   "metadata": {},
   "outputs": [],
   "source": []
  }
 ],
 "metadata": {
  "kernelspec": {
   "display_name": "Python 3 (ipykernel)",
   "language": "python",
   "name": "python3"
  },
  "language_info": {
   "codemirror_mode": {
    "name": "ipython",
    "version": 3
   },
   "file_extension": ".py",
   "mimetype": "text/x-python",
   "name": "python",
   "nbconvert_exporter": "python",
   "pygments_lexer": "ipython3",
   "version": "3.11.5"
  }
 },
 "nbformat": 4,
 "nbformat_minor": 5
}
