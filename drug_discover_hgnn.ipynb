{
 "cells": [
  {
   "cell_type": "code",
   "execution_count": 12,
   "id": "93371269",
   "metadata": {},
   "outputs": [
    {
     "name": "stdout",
     "output_type": "stream",
     "text": [
      "Using device: cpu\n",
      "Loading dataset from chembl_dataset.csv\n",
      "Loaded 658 compounds from chembl_dataset.csv\n",
      "Dataset size: 658\n",
      "Positive samples: 433\n",
      "Negative samples: 225\n",
      "Training set: 420 samples\n",
      "Validation set: 106 samples\n",
      "Test set: 132 samples\n",
      "Preprocessing molecules into heterogeneous graphs...\n"
     ]
    },
    {
     "name": "stderr",
     "output_type": "stream",
     "text": [
      "100%|████████████████████████████████████████████████████████████████████████████████| 420/420 [00:15<00:00, 27.57it/s]\n"
     ]
    },
    {
     "name": "stdout",
     "output_type": "stream",
     "text": [
      "Successfully processed 420 molecules\n",
      "Preprocessing molecules into heterogeneous graphs...\n"
     ]
    },
    {
     "name": "stderr",
     "output_type": "stream",
     "text": [
      "100%|████████████████████████████████████████████████████████████████████████████████| 106/106 [00:03<00:00, 29.69it/s]\n"
     ]
    },
    {
     "name": "stdout",
     "output_type": "stream",
     "text": [
      "Successfully processed 106 molecules\n",
      "Preprocessing molecules into heterogeneous graphs...\n"
     ]
    },
    {
     "name": "stderr",
     "output_type": "stream",
     "text": [
      "100%|████████████████████████████████████████████████████████████████████████████████| 132/132 [00:05<00:00, 22.82it/s]\n",
      "C:\\Users\\sachi\\anaconda3\\Lib\\site-packages\\torch\\optim\\lr_scheduler.py:62: UserWarning: The verbose parameter is deprecated. Please use get_last_lr() to access the learning rate.\n",
      "  warnings.warn(\n"
     ]
    },
    {
     "name": "stdout",
     "output_type": "stream",
     "text": [
      "Successfully processed 132 molecules\n",
      "Model initialized with 325508 parameters\n",
      "Training model...\n",
      "Starting training...\n"
     ]
    },
    {
     "name": "stderr",
     "output_type": "stream",
     "text": [
      "Epoch 1/50 (Train):   7%|████▌                                                          | 1/14 [00:00<00:02,  6.48it/s]"
     ]
    },
    {
     "name": "stdout",
     "output_type": "stream",
     "text": [
      "logits shape: torch.Size([32])\n",
      "labels shape: torch.Size([32])\n"
     ]
    },
    {
     "name": "stderr",
     "output_type": "stream",
     "text": [
      "\r",
      "Epoch 1/50 (Train):  14%|█████████                                                      | 2/14 [00:00<00:01,  8.14it/s]"
     ]
    },
    {
     "name": "stdout",
     "output_type": "stream",
     "text": [
      "logits shape: torch.Size([32])\n",
      "labels shape: torch.Size([32])\n"
     ]
    },
    {
     "name": "stderr",
     "output_type": "stream",
     "text": [
      "\r",
      "Epoch 1/50 (Train):  21%|█████████████▌                                                 | 3/14 [00:00<00:01,  8.80it/s]"
     ]
    },
    {
     "name": "stdout",
     "output_type": "stream",
     "text": [
      "logits shape: torch.Size([32])\n",
      "labels shape: torch.Size([32])\n",
      "logits shape: torch.Size([32])\n",
      "labels shape: torch.Size([32])\n"
     ]
    },
    {
     "name": "stderr",
     "output_type": "stream",
     "text": [
      "Epoch 1/50 (Train):  50%|███████████████████████████████▌                               | 7/14 [00:00<00:00, 10.09it/s]"
     ]
    },
    {
     "name": "stdout",
     "output_type": "stream",
     "text": [
      "logits shape: torch.Size([32])\n",
      "labels shape: torch.Size([32])\n",
      "logits shape: torch.Size([32])\n",
      "labels shape: torch.Size([32])\n",
      "logits shape: torch.Size([32])\n",
      "labels shape: torch.Size([32])\n"
     ]
    },
    {
     "name": "stderr",
     "output_type": "stream",
     "text": [
      "\r",
      "Epoch 1/50 (Train):  64%|████████████████████████████████████████▌                      | 9/14 [00:00<00:00, 10.17it/s]"
     ]
    },
    {
     "name": "stdout",
     "output_type": "stream",
     "text": [
      "logits shape: torch.Size([32])\n",
      "labels shape: torch.Size([32])\n",
      "logits shape: torch.Size([32])\n",
      "labels shape: torch.Size([32])\n",
      "logits shape: torch.Size([32])\n",
      "labels shape: torch.Size([32])\n"
     ]
    },
    {
     "name": "stderr",
     "output_type": "stream",
     "text": [
      "\r",
      "Epoch 1/50 (Train):  79%|████████████████████████████████████████████████▋             | 11/14 [00:01<00:00, 10.20it/s]"
     ]
    },
    {
     "name": "stdout",
     "output_type": "stream",
     "text": [
      "logits shape: torch.Size([32])\n",
      "labels shape: torch.Size([32])\n",
      "logits shape: torch.Size([32])\n",
      "labels shape: torch.Size([32])\n",
      "logits shape: torch.Size([32])\n",
      "labels shape: torch.Size([32])\n"
     ]
    },
    {
     "name": "stderr",
     "output_type": "stream",
     "text": [
      "Epoch 1/50 (Train): 100%|██████████████████████████████████████████████████████████████| 14/14 [00:01<00:00,  9.90it/s]\n"
     ]
    },
    {
     "name": "stdout",
     "output_type": "stream",
     "text": [
      "logits shape: torch.Size([4])\n",
      "labels shape: torch.Size([4])\n"
     ]
    },
    {
     "name": "stderr",
     "output_type": "stream",
     "text": [
      "Epoch 1/50 (Validation): 100%|███████████████████████████████████████████████████████████| 4/4 [00:00<00:00, 15.04it/s]\n"
     ]
    },
    {
     "name": "stdout",
     "output_type": "stream",
     "text": [
      "Epoch 1/50 - Time: 1.7s - Train Loss: 0.5480, Train AUC: 0.7456, Val Loss: 0.5426, Val AUC: 0.8657\n",
      "New best model with validation AUC: 0.8657\n"
     ]
    },
    {
     "name": "stderr",
     "output_type": "stream",
     "text": [
      "Epoch 2/50 (Train):   7%|████▌                                                          | 1/14 [00:00<00:01,  9.39it/s]"
     ]
    },
    {
     "name": "stdout",
     "output_type": "stream",
     "text": [
      "logits shape: torch.Size([32])\n",
      "labels shape: torch.Size([32])\n",
      "logits shape: torch.Size([32])\n",
      "labels shape: torch.Size([32])\n",
      "logits shape: torch.Size([32])\n",
      "labels shape: torch.Size([32])\n"
     ]
    },
    {
     "name": "stderr",
     "output_type": "stream",
     "text": [
      "Epoch 2/50 (Train):  36%|██████████████████████▌                                        | 5/14 [00:00<00:00, 11.21it/s]"
     ]
    },
    {
     "name": "stdout",
     "output_type": "stream",
     "text": [
      "logits shape: torch.Size([32])\n",
      "labels shape: torch.Size([32])\n",
      "logits shape: torch.Size([32])\n",
      "labels shape: torch.Size([32])\n",
      "logits shape: torch.Size([32])\n",
      "labels shape: torch.Size([32])\n"
     ]
    },
    {
     "name": "stderr",
     "output_type": "stream",
     "text": [
      "\r",
      "Epoch 2/50 (Train):  50%|███████████████████████████████▌                               | 7/14 [00:00<00:00, 10.73it/s]"
     ]
    },
    {
     "name": "stdout",
     "output_type": "stream",
     "text": [
      "logits shape: torch.Size([32])\n",
      "labels shape: torch.Size([32])\n",
      "logits shape: torch.Size([32])\n",
      "labels shape: torch.Size([32])\n",
      "logits shape: torch.Size([32])\n",
      "labels shape: torch.Size([32])\n"
     ]
    },
    {
     "name": "stderr",
     "output_type": "stream",
     "text": [
      "Epoch 2/50 (Train):  79%|████████████████████████████████████████████████▋             | 11/14 [00:01<00:00, 11.01it/s]"
     ]
    },
    {
     "name": "stdout",
     "output_type": "stream",
     "text": [
      "logits shape: torch.Size([32])\n",
      "labels shape: torch.Size([32])\n",
      "logits shape: torch.Size([32])\n",
      "labels shape: torch.Size([32])\n",
      "logits shape: torch.Size([32])\n",
      "labels shape: torch.Size([32])\n"
     ]
    },
    {
     "name": "stderr",
     "output_type": "stream",
     "text": [
      "Epoch 2/50 (Train): 100%|██████████████████████████████████████████████████████████████| 14/14 [00:01<00:00, 10.91it/s]"
     ]
    },
    {
     "name": "stdout",
     "output_type": "stream",
     "text": [
      "logits shape: torch.Size([32])\n",
      "labels shape: torch.Size([32])\n",
      "logits shape: torch.Size([4])\n",
      "labels shape: torch.Size([4])\n"
     ]
    },
    {
     "name": "stderr",
     "output_type": "stream",
     "text": [
      "\n",
      "Epoch 2/50 (Validation): 100%|███████████████████████████████████████████████████████████| 4/4 [00:00<00:00, 17.48it/s]\n"
     ]
    },
    {
     "name": "stdout",
     "output_type": "stream",
     "text": [
      "Epoch 2/50 - Time: 1.5s - Train Loss: 0.4197, Train AUC: 0.8782, Val Loss: 0.4089, Val AUC: 0.9292\n",
      "New best model with validation AUC: 0.9292\n"
     ]
    },
    {
     "name": "stderr",
     "output_type": "stream",
     "text": [
      "\r",
      "Epoch 3/50 (Train):   0%|                                                                       | 0/14 [00:00<?, ?it/s]"
     ]
    },
    {
     "name": "stdout",
     "output_type": "stream",
     "text": [
      "logits shape: torch.Size([32])\n",
      "labels shape: torch.Size([32])\n",
      "logits shape: torch.Size([32])\n",
      "labels shape: torch.Size([32])\n"
     ]
    },
    {
     "name": "stderr",
     "output_type": "stream",
     "text": [
      "\r",
      "Epoch 3/50 (Train):  14%|█████████                                                      | 2/14 [00:00<00:01, 10.10it/s]"
     ]
    },
    {
     "name": "stdout",
     "output_type": "stream",
     "text": [
      "logits shape: torch.Size([32])\n",
      "labels shape: torch.Size([32])\n"
     ]
    },
    {
     "name": "stderr",
     "output_type": "stream",
     "text": [
      "\r",
      "Epoch 3/50 (Train):  29%|██████████████████                                             | 4/14 [00:00<00:00, 10.51it/s]"
     ]
    },
    {
     "name": "stdout",
     "output_type": "stream",
     "text": [
      "logits shape: torch.Size([32])\n",
      "labels shape: torch.Size([32])\n",
      "logits shape: torch.Size([32])\n",
      "labels shape: torch.Size([32])\n",
      "logits shape: torch.Size([32])\n",
      "labels shape: torch.Size([32])\n"
     ]
    },
    {
     "name": "stderr",
     "output_type": "stream",
     "text": [
      "\r",
      "Epoch 3/50 (Train):  43%|███████████████████████████                                    | 6/14 [00:00<00:00, 10.47it/s]"
     ]
    },
    {
     "name": "stdout",
     "output_type": "stream",
     "text": [
      "logits shape: torch.Size([32])\n",
      "labels shape: torch.Size([32])\n",
      "logits shape: torch.Size([32])\n",
      "labels shape: torch.Size([32])\n"
     ]
    },
    {
     "name": "stderr",
     "output_type": "stream",
     "text": [
      "\r",
      "Epoch 3/50 (Train):  57%|████████████████████████████████████                           | 8/14 [00:00<00:00, 10.36it/s]"
     ]
    },
    {
     "name": "stdout",
     "output_type": "stream",
     "text": [
      "logits shape: torch.Size([32])\n",
      "labels shape: torch.Size([32])\n"
     ]
    },
    {
     "name": "stderr",
     "output_type": "stream",
     "text": [
      "\r",
      "Epoch 3/50 (Train):  71%|████████████████████████████████████████████▎                 | 10/14 [00:00<00:00, 10.61it/s]"
     ]
    },
    {
     "name": "stdout",
     "output_type": "stream",
     "text": [
      "logits shape: torch.Size([32])\n",
      "labels shape: torch.Size([32])\n",
      "logits shape: torch.Size([32])\n",
      "labels shape: torch.Size([32])\n",
      "logits shape:"
     ]
    },
    {
     "name": "stderr",
     "output_type": "stream",
     "text": [
      "Epoch 3/50 (Train): 100%|██████████████████████████████████████████████████████████████| 14/14 [00:01<00:00, 11.08it/s]"
     ]
    },
    {
     "name": "stdout",
     "output_type": "stream",
     "text": [
      " torch.Size([32])\n",
      "labels shape: torch.Size([32])\n",
      "logits shape: torch.Size([32])\n",
      "labels shape: torch.Size([32])\n",
      "logits shape: torch.Size([4])\n",
      "labels shape: torch.Size([4])\n"
     ]
    },
    {
     "name": "stderr",
     "output_type": "stream",
     "text": [
      "Epoch 3/50 (Train): 100%|██████████████████████████████████████████████████████████████| 14/14 [00:01<00:00, 10.71it/s]\n",
      "Epoch 3/50 (Validation): 100%|███████████████████████████████████████████████████████████| 4/4 [00:00<00:00, 17.47it/s]\n"
     ]
    },
    {
     "name": "stdout",
     "output_type": "stream",
     "text": [
      "Epoch 3/50 - Time: 1.5s - Train Loss: 0.3892, Train AUC: 0.9002, Val Loss: 0.3869, Val AUC: 0.9319\n",
      "New best model with validation AUC: 0.9319\n"
     ]
    },
    {
     "name": "stderr",
     "output_type": "stream",
     "text": [
      "Epoch 4/50 (Train):  14%|█████████                                                      | 2/14 [00:00<00:01, 11.95it/s]"
     ]
    },
    {
     "name": "stdout",
     "output_type": "stream",
     "text": [
      "logits shape: torch.Size([32])\n",
      "labels shape: torch.Size([32])\n",
      "logits shape: torch.Size([32])\n",
      "labels shape: torch.Size([32])\n",
      "logits shape: torch.Size([32])\n",
      "labels shape: torch.Size([32])\n"
     ]
    },
    {
     "name": "stderr",
     "output_type": "stream",
     "text": [
      "\r",
      "Epoch 4/50 (Train):  29%|██████████████████                                             | 4/14 [00:00<00:00, 11.81it/s]"
     ]
    },
    {
     "name": "stdout",
     "output_type": "stream",
     "text": [
      "logits shape: torch.Size([32])\n",
      "labels shape: torch.Size([32])\n",
      "logits shape: torch.Size([32])\n",
      "labels shape: torch.Size([32])\n"
     ]
    },
    {
     "name": "stderr",
     "output_type": "stream",
     "text": [
      "\r",
      "Epoch 4/50 (Train):  43%|███████████████████████████                                    | 6/14 [00:00<00:00, 11.78it/s]"
     ]
    },
    {
     "name": "stdout",
     "output_type": "stream",
     "text": [
      "logits shape: torch.Size([32])\n",
      "labels shape: torch.Size([32])\n"
     ]
    },
    {
     "name": "stderr",
     "output_type": "stream",
     "text": [
      "\r",
      "Epoch 4/50 (Train):  57%|████████████████████████████████████                           | 8/14 [00:00<00:00, 11.75it/s]"
     ]
    },
    {
     "name": "stdout",
     "output_type": "stream",
     "text": [
      "logits shape: torch.Size([32])\n",
      "labels shape: torch.Size([32])\n",
      "logits shape: torch.Size([32])\n",
      "labels shape: torch.Size([32])\n",
      "logits shape: torch.Size([32])\n",
      "labels shape: torch.Size([32])\n"
     ]
    },
    {
     "name": "stderr",
     "output_type": "stream",
     "text": [
      "\r",
      "Epoch 4/50 (Train):  71%|████████████████████████████████████████████▎                 | 10/14 [00:00<00:00, 11.72it/s]"
     ]
    },
    {
     "name": "stdout",
     "output_type": "stream",
     "text": [
      "logits shape: torch.Size([32])\n",
      "labels shape: torch.Size([32])\n",
      "logits shape: torch.Size([32])\n",
      "labels shape: torch.Size([32])\n"
     ]
    },
    {
     "name": "stderr",
     "output_type": "stream",
     "text": [
      "\r",
      "Epoch 4/50 (Train):  86%|█████████████████████████████████████████████████████▏        | 12/14 [00:01<00:00, 11.77it/s]"
     ]
    },
    {
     "name": "stdout",
     "output_type": "stream",
     "text": [
      "logits shape: torch.Size([32])\n",
      "labels shape: torch.Size([32])\n"
     ]
    },
    {
     "name": "stderr",
     "output_type": "stream",
     "text": [
      "Epoch 4/50 (Train): 100%|██████████████████████████████████████████████████████████████| 14/14 [00:01<00:00, 11.97it/s]\n"
     ]
    },
    {
     "name": "stdout",
     "output_type": "stream",
     "text": [
      "logits shape: torch.Size([32])\n",
      "labels shape: torch.Size([32])\n",
      "logits shape: torch.Size([4])\n",
      "labels shape: torch.Size([4])\n"
     ]
    },
    {
     "name": "stderr",
     "output_type": "stream",
     "text": [
      "Epoch 4/50 (Validation): 100%|███████████████████████████████████████████████████████████| 4/4 [00:00<00:00, 17.33it/s]\n"
     ]
    },
    {
     "name": "stdout",
     "output_type": "stream",
     "text": [
      "Epoch 4/50 - Time: 1.4s - Train Loss: 0.4063, Train AUC: 0.9056, Val Loss: 0.3601, Val AUC: 0.9224\n"
     ]
    },
    {
     "name": "stderr",
     "output_type": "stream",
     "text": [
      "Epoch 5/50 (Train):  14%|█████████                                                      | 2/14 [00:00<00:01, 10.46it/s]"
     ]
    },
    {
     "name": "stdout",
     "output_type": "stream",
     "text": [
      "logits shape: torch.Size([32])\n",
      "labels shape: torch.Size([32])\n",
      "logits shape: torch.Size([32])\n",
      "labels shape: torch.Size([32])\n",
      "logits shape: torch.Size([32])\n",
      "labels shape: torch.Size([32])\n"
     ]
    },
    {
     "name": "stderr",
     "output_type": "stream",
     "text": [
      "\r",
      "Epoch 5/50 (Train):  29%|██████████████████                                             | 4/14 [00:00<00:00, 10.94it/s]"
     ]
    },
    {
     "name": "stdout",
     "output_type": "stream",
     "text": [
      "logits shape: torch.Size([32])\n",
      "labels shape: torch.Size([32])\n",
      "logits shape: torch.Size([32])\n",
      "labels shape: torch.Size([32])\n",
      "logits shape: torch.Size([32])\n",
      "labels shape: torch.Size([32])\n"
     ]
    },
    {
     "name": "stderr",
     "output_type": "stream",
     "text": [
      "\r",
      "Epoch 5/50 (Train):  43%|███████████████████████████                                    | 6/14 [00:00<00:00, 10.69it/s]"
     ]
    },
    {
     "name": "stdout",
     "output_type": "stream",
     "text": [
      "logits shape: torch.Size([32])\n",
      "labels shape: torch.Size([32])\n",
      "logits shape: torch.Size([32])\n",
      "labels shape: torch.Size([32])\n"
     ]
    },
    {
     "name": "stderr",
     "output_type": "stream",
     "text": [
      "\r",
      "Epoch 5/50 (Train):  57%|████████████████████████████████████                           | 8/14 [00:00<00:00, 10.80it/s]"
     ]
    },
    {
     "name": "stdout",
     "output_type": "stream",
     "text": [
      "logits shape: torch.Size([32])\n",
      "labels shape: torch.Size([32])\n"
     ]
    },
    {
     "name": "stderr",
     "output_type": "stream",
     "text": [
      "\r",
      "Epoch 5/50 (Train):  71%|████████████████████████████████████████████▎                 | 10/14 [00:00<00:00, 10.61it/s]"
     ]
    },
    {
     "name": "stdout",
     "output_type": "stream",
     "text": [
      "logits shape: torch.Size([32])\n",
      "labels shape: torch.Size([32])\n",
      "logits shape: torch.Size([32])\n",
      "labels shape: torch.Size([32])\n",
      "logits shape: torch.Size([32])\n",
      "labels shape: torch.Size([32])\n"
     ]
    },
    {
     "name": "stderr",
     "output_type": "stream",
     "text": [
      "\r",
      "Epoch 5/50 (Train):  86%|█████████████████████████████████████████████████████▏        | 12/14 [00:01<00:00, 10.41it/s]"
     ]
    },
    {
     "name": "stdout",
     "output_type": "stream",
     "text": [
      "logits shape: torch.Size([32])\n",
      "labels shape: torch.Size([32])\n",
      "logits shape: torch.Size([4])\n",
      "labels shape: torch.Size([4])\n"
     ]
    },
    {
     "name": "stderr",
     "output_type": "stream",
     "text": [
      "Epoch 5/50 (Train): 100%|██████████████████████████████████████████████████████████████| 14/14 [00:01<00:00, 10.72it/s]\n",
      "Epoch 5/50 (Validation): 100%|███████████████████████████████████████████████████████████| 4/4 [00:00<00:00, 15.59it/s]\n"
     ]
    },
    {
     "name": "stdout",
     "output_type": "stream",
     "text": [
      "Epoch 5/50 - Time: 1.6s - Train Loss: 0.3538, Train AUC: 0.9210, Val Loss: 0.3673, Val AUC: 0.9181\n"
     ]
    },
    {
     "name": "stderr",
     "output_type": "stream",
     "text": [
      "Epoch 6/50 (Train):   7%|████▌                                                          | 1/14 [00:00<00:01,  9.80it/s]"
     ]
    },
    {
     "name": "stdout",
     "output_type": "stream",
     "text": [
      "logits shape: torch.Size([32])\n",
      "labels shape: torch.Size([32])\n",
      "logits shape: torch.Size([32])\n",
      "labels shape: torch.Size([32])\n",
      "logits shape: torch.Size([32])\n",
      "labels shape: torch.Size([32])\n"
     ]
    },
    {
     "name": "stderr",
     "output_type": "stream",
     "text": [
      "\r",
      "Epoch 6/50 (Train):  21%|█████████████▌                                                 | 3/14 [00:00<00:01, 10.56it/s]"
     ]
    },
    {
     "name": "stdout",
     "output_type": "stream",
     "text": [
      "logits shape: torch.Size([32])\n",
      "labels shape: torch.Size([32])\n",
      "logits shape: torch.Size([32])\n",
      "labels shape: torch.Size([32])\n"
     ]
    },
    {
     "name": "stderr",
     "output_type": "stream",
     "text": [
      "\r",
      "Epoch 6/50 (Train):  36%|██████████████████████▌                                        | 5/14 [00:00<00:00, 10.23it/s]"
     ]
    },
    {
     "name": "stdout",
     "output_type": "stream",
     "text": [
      "logits shape: torch.Size([32])\n",
      "labels shape: torch.Size([32])\n"
     ]
    },
    {
     "name": "stderr",
     "output_type": "stream",
     "text": [
      "\r",
      "Epoch 6/50 (Train):  50%|███████████████████████████████▌                               | 7/14 [00:00<00:00, 10.53it/s]"
     ]
    },
    {
     "name": "stdout",
     "output_type": "stream",
     "text": [
      "logits shape: torch.Size([32])\n",
      "labels shape: torch.Size([32])\n",
      "logits shape: torch.Size([32])\n",
      "labels shape: torch.Size([32])\n"
     ]
    },
    {
     "name": "stderr",
     "output_type": "stream",
     "text": [
      "\r",
      "Epoch 6/50 (Train):  64%|████████████████████████████████████████▌                      | 9/14 [00:00<00:00, 11.03it/s]"
     ]
    },
    {
     "name": "stdout",
     "output_type": "stream",
     "text": [
      "logits shape: torch.Size([32])\n",
      "labels shape: torch.Size([32])\n"
     ]
    },
    {
     "name": "stderr",
     "output_type": "stream",
     "text": [
      "\r",
      "Epoch 6/50 (Train):  79%|████████████████████████████████████████████████▋             | 11/14 [00:01<00:00, 11.29it/s]"
     ]
    },
    {
     "name": "stdout",
     "output_type": "stream",
     "text": [
      "logits shape: torch.Size([32])\n",
      "labels shape: torch.Size([32])\n",
      "logits shape: torch.Size([32])\n",
      "labels shape: torch.Size([32])\n",
      "logits shape: torch.Size([32])\n",
      "labels shape: torch.Size([32])\n"
     ]
    },
    {
     "name": "stderr",
     "output_type": "stream",
     "text": [
      "Epoch 6/50 (Train): 100%|██████████████████████████████████████████████████████████████| 14/14 [00:01<00:00, 11.00it/s]"
     ]
    },
    {
     "name": "stdout",
     "output_type": "stream",
     "text": [
      "logits shape: torch.Size([32])\n",
      "labels shape: torch.Size([32])\n",
      "logits shape: torch.Size([4])\n",
      "labels shape: torch.Size([4])\n"
     ]
    },
    {
     "name": "stderr",
     "output_type": "stream",
     "text": [
      "\n",
      "Epoch 6/50 (Validation): 100%|███████████████████████████████████████████████████████████| 4/4 [00:00<00:00, 17.31it/s]\n"
     ]
    },
    {
     "name": "stdout",
     "output_type": "stream",
     "text": [
      "Epoch 6/50 - Time: 1.5s - Train Loss: 0.3595, Train AUC: 0.9235, Val Loss: 0.3772, Val AUC: 0.9171\n"
     ]
    },
    {
     "name": "stderr",
     "output_type": "stream",
     "text": [
      "Epoch 7/50 (Train):   7%|████▌                                                          | 1/14 [00:00<00:01,  9.95it/s]"
     ]
    },
    {
     "name": "stdout",
     "output_type": "stream",
     "text": [
      "logits shape: torch.Size([32])\n",
      "labels shape: torch.Size([32])\n",
      "logits shape: torch.Size([32])\n",
      "labels shape: torch.Size([32])\n"
     ]
    },
    {
     "name": "stderr",
     "output_type": "stream",
     "text": [
      "\r",
      "Epoch 7/50 (Train):  14%|█████████                                                      | 2/14 [00:00<00:01,  9.75it/s]"
     ]
    },
    {
     "name": "stdout",
     "output_type": "stream",
     "text": [
      "logits shape: torch.Size([32])\n",
      "labels shape: torch.Size([32])\n"
     ]
    },
    {
     "name": "stderr",
     "output_type": "stream",
     "text": [
      "\r",
      "Epoch 7/50 (Train):  21%|█████████████▌                                                 | 3/14 [00:00<00:01,  9.81it/s]"
     ]
    },
    {
     "name": "stdout",
     "output_type": "stream",
     "text": [
      "logits shape: torch.Size([32])\n",
      "labels shape: torch.Size([32])\n",
      "logits shape: torch.Size([32])\n",
      "labels shape: torch.Size([32])\n"
     ]
    },
    {
     "name": "stderr",
     "output_type": "stream",
     "text": [
      "\r",
      "Epoch 7/50 (Train):  36%|██████████████████████▌                                        | 5/14 [00:00<00:00, 10.40it/s]"
     ]
    },
    {
     "name": "stdout",
     "output_type": "stream",
     "text": [
      "logits shape: torch.Size([32])\n",
      "labels shape: torch.Size([32])\n"
     ]
    },
    {
     "name": "stderr",
     "output_type": "stream",
     "text": [
      "\r",
      "Epoch 7/50 (Train):  50%|███████████████████████████████▌                               | 7/14 [00:00<00:00, 10.26it/s]"
     ]
    },
    {
     "name": "stdout",
     "output_type": "stream",
     "text": [
      "logits shape: torch.Size([32])\n",
      "labels shape: torch.Size([32])\n",
      "logits shape: torch.Size([32])\n",
      "labels shape: torch.Size([32])\n",
      "logits shape: torch.Size([32])\n",
      "labels shape: torch.Size([32])\n"
     ]
    },
    {
     "name": "stderr",
     "output_type": "stream",
     "text": [
      "\r",
      "Epoch 7/50 (Train):  64%|████████████████████████████████████████▌                      | 9/14 [00:00<00:00, 10.33it/s]"
     ]
    },
    {
     "name": "stdout",
     "output_type": "stream",
     "text": [
      "logits shape: torch.Size([32])\n",
      "labels shape: torch.Size([32])\n",
      "logits shape: torch.Size([32])\n",
      "labels shape: torch.Size([32])\n"
     ]
    },
    {
     "name": "stderr",
     "output_type": "stream",
     "text": [
      "\r",
      "Epoch 7/50 (Train):  79%|████████████████████████████████████████████████▋             | 11/14 [00:01<00:00, 10.50it/s]"
     ]
    },
    {
     "name": "stdout",
     "output_type": "stream",
     "text": [
      "logits shape: torch.Size([32])\n",
      "labels shape: torch.Size([32])\n"
     ]
    },
    {
     "name": "stderr",
     "output_type": "stream",
     "text": [
      "Epoch 7/50 (Train): 100%|██████████████████████████████████████████████████████████████| 14/14 [00:01<00:00, 10.58it/s]"
     ]
    },
    {
     "name": "stdout",
     "output_type": "stream",
     "text": [
      "logits shape: torch.Size([32])\n",
      "labels shape: torch.Size([32])\n",
      "logits shape: torch.Size([4])\n",
      "labels shape: torch.Size([4])\n"
     ]
    },
    {
     "name": "stderr",
     "output_type": "stream",
     "text": [
      "\n",
      "Epoch 7/50 (Validation): 100%|███████████████████████████████████████████████████████████| 4/4 [00:00<00:00, 15.91it/s]\n"
     ]
    },
    {
     "name": "stdout",
     "output_type": "stream",
     "text": [
      "Epoch 7/50 - Time: 1.6s - Train Loss: 0.3226, Train AUC: 0.9234, Val Loss: 0.3536, Val AUC: 0.9240\n"
     ]
    },
    {
     "name": "stderr",
     "output_type": "stream",
     "text": [
      "Epoch 8/50 (Train):   7%|████▌                                                          | 1/14 [00:00<00:01,  9.96it/s]"
     ]
    },
    {
     "name": "stdout",
     "output_type": "stream",
     "text": [
      "logits shape: torch.Size([32])\n",
      "labels shape: torch.Size([32])\n",
      "logits shape: torch.Size([32])\n",
      "labels shape: torch.Size([32])\n",
      "logits shape: torch.Size([32])\n",
      "labels shape: torch.Size([32])\n"
     ]
    },
    {
     "name": "stderr",
     "output_type": "stream",
     "text": [
      "Epoch 8/50 (Train):  29%|██████████████████                                             | 4/14 [00:00<00:01,  9.92it/s]"
     ]
    },
    {
     "name": "stdout",
     "output_type": "stream",
     "text": [
      "logits shape: torch.Size([32])\n",
      "labels shape: torch.Size([32])\n",
      "logits shape: torch.Size([32])\n",
      "labels shape: torch.Size([32])\n"
     ]
    },
    {
     "name": "stderr",
     "output_type": "stream",
     "text": [
      "Epoch 8/50 (Train):  50%|███████████████████████████████▌                               | 7/14 [00:00<00:00, 10.20it/s]"
     ]
    },
    {
     "name": "stdout",
     "output_type": "stream",
     "text": [
      "logits shape: torch.Size([32])\n",
      "labels shape: torch.Size([32])\n",
      "logits shape: torch.Size([32])\n",
      "labels shape: torch.Size([32])\n",
      "logits shape: torch.Size([32])\n",
      "labels shape: torch.Size([32])\n"
     ]
    },
    {
     "name": "stderr",
     "output_type": "stream",
     "text": [
      "\r",
      "Epoch 8/50 (Train):  64%|████████████████████████████████████████▌                      | 9/14 [00:00<00:00, 10.30it/s]"
     ]
    },
    {
     "name": "stdout",
     "output_type": "stream",
     "text": [
      "logits shape: torch.Size([32])\n",
      "labels shape: torch.Size([32])\n",
      "logits shape: torch.Size([32])\n",
      "labels shape: torch.Size([32])\n",
      "logits shape: torch.Size([32])\n",
      "labels shape: torch.Size([32])\n"
     ]
    },
    {
     "name": "stderr",
     "output_type": "stream",
     "text": [
      "Epoch 8/50 (Train): 100%|██████████████████████████████████████████████████████████████| 14/14 [00:01<00:00, 10.45it/s]"
     ]
    },
    {
     "name": "stdout",
     "output_type": "stream",
     "text": [
      "logits shape: torch.Size([32])\n",
      "labels shape: torch.Size([32])\n",
      "logits shape: torch.Size([32])\n",
      "labels shape: torch.Size([32])\n",
      "logits shape: torch.Size([4])\n",
      "labels shape: torch.Size([4])\n"
     ]
    },
    {
     "name": "stderr",
     "output_type": "stream",
     "text": [
      "\n",
      "Epoch 8/50 (Validation): 100%|███████████████████████████████████████████████████████████| 4/4 [00:00<00:00, 16.52it/s]\n"
     ]
    },
    {
     "name": "stdout",
     "output_type": "stream",
     "text": [
      "Epoch 8/50 - Time: 1.6s - Train Loss: 0.2944, Train AUC: 0.9368, Val Loss: 0.3492, Val AUC: 0.9185\n"
     ]
    },
    {
     "name": "stderr",
     "output_type": "stream",
     "text": [
      "Epoch 9/50 (Train):  14%|█████████                                                      | 2/14 [00:00<00:01, 10.86it/s]"
     ]
    },
    {
     "name": "stdout",
     "output_type": "stream",
     "text": [
      "logits shape: torch.Size([32])\n",
      "labels shape: torch.Size([32])\n",
      "logits shape: torch.Size([32])\n",
      "labels shape: torch.Size([32])\n",
      "logits shape: torch.Size([32])\n",
      "labels shape: torch.Size([32])\n"
     ]
    },
    {
     "name": "stderr",
     "output_type": "stream",
     "text": [
      "\r",
      "Epoch 9/50 (Train):  29%|██████████████████                                             | 4/14 [00:00<00:00, 10.49it/s]"
     ]
    },
    {
     "name": "stdout",
     "output_type": "stream",
     "text": [
      "logits shape: torch.Size([32])\n",
      "labels shape: torch.Size([32])\n",
      "logits shape: torch.Size([32])\n",
      "labels shape: torch.Size([32])\n"
     ]
    },
    {
     "name": "stderr",
     "output_type": "stream",
     "text": [
      "Epoch 9/50 (Train):  57%|████████████████████████████████████                           | 8/14 [00:00<00:00, 10.75it/s]"
     ]
    },
    {
     "name": "stdout",
     "output_type": "stream",
     "text": [
      "logits shape: torch.Size([32])\n",
      "labels shape: torch.Size([32])\n",
      "logits shape: torch.Size([32])\n",
      "labels shape: torch.Size([32])\n",
      "logits shape: torch.Size([32])\n",
      "labels shape: torch.Size([32])\n"
     ]
    },
    {
     "name": "stderr",
     "output_type": "stream",
     "text": [
      "\r",
      "Epoch 9/50 (Train):  71%|████████████████████████████████████████████▎                 | 10/14 [00:00<00:00, 11.10it/s]"
     ]
    },
    {
     "name": "stdout",
     "output_type": "stream",
     "text": [
      "logits shape: torch.Size([32])\n",
      "labels shape: torch.Size([32])\n",
      "logits shape: torch.Size([32])\n",
      "labels shape: torch.Size([32])\n",
      "logits shape: torch.Size([32])\n",
      "labels shape: torch.Size([32])\n"
     ]
    },
    {
     "name": "stderr",
     "output_type": "stream",
     "text": [
      "Epoch 9/50 (Train): 100%|██████████████████████████████████████████████████████████████| 14/14 [00:01<00:00, 11.46it/s]"
     ]
    },
    {
     "name": "stdout",
     "output_type": "stream",
     "text": [
      "logits shape: torch.Size([32])\n",
      "labels shape: torch.Size([32])\n",
      "logits shape: torch.Size([32])\n",
      "labels shape: torch.Size([32])\n",
      "logits shape: torch.Size([4])\n",
      "labels shape: torch.Size([4])\n"
     ]
    },
    {
     "name": "stderr",
     "output_type": "stream",
     "text": [
      "Epoch 9/50 (Train): 100%|██████████████████████████████████████████████████████████████| 14/14 [00:01<00:00, 11.04it/s]\n",
      "Epoch 9/50 (Validation): 100%|███████████████████████████████████████████████████████████| 4/4 [00:00<00:00, 16.55it/s]\n"
     ]
    },
    {
     "name": "stdout",
     "output_type": "stream",
     "text": [
      "Epoch 9/50 - Time: 1.5s - Train Loss: 0.3164, Train AUC: 0.9466, Val Loss: 0.3793, Val AUC: 0.9175\n"
     ]
    },
    {
     "name": "stderr",
     "output_type": "stream",
     "text": [
      "Epoch 10/50 (Train):   7%|████▍                                                         | 1/14 [00:00<00:01,  9.60it/s]"
     ]
    },
    {
     "name": "stdout",
     "output_type": "stream",
     "text": [
      "logits shape: torch.Size([32])\n",
      "labels shape: torch.Size([32])\n",
      "logits shape: torch.Size([32])\n",
      "labels shape: torch.Size([32])\n",
      "logits shape: torch.Size([32])\n",
      "labels shape: torch.Size([32])\n"
     ]
    },
    {
     "name": "stderr",
     "output_type": "stream",
     "text": [
      "\r",
      "Epoch 10/50 (Train):  21%|█████████████▎                                                | 3/14 [00:00<00:01, 10.69it/s]"
     ]
    },
    {
     "name": "stdout",
     "output_type": "stream",
     "text": [
      "logits shape: torch.Size([32])\n",
      "labels shape: torch.Size([32])\n",
      "logits shape: torch.Size([32])\n",
      "labels shape: torch.Size([32])\n"
     ]
    },
    {
     "name": "stderr",
     "output_type": "stream",
     "text": [
      "\r",
      "Epoch 10/50 (Train):  36%|██████████████████████▏                                       | 5/14 [00:00<00:00, 10.46it/s]"
     ]
    },
    {
     "name": "stdout",
     "output_type": "stream",
     "text": [
      "logits shape: torch.Size([32])\n",
      "labels shape: torch.Size([32])\n"
     ]
    },
    {
     "name": "stderr",
     "output_type": "stream",
     "text": [
      "\r",
      "Epoch 10/50 (Train):  50%|███████████████████████████████                               | 7/14 [00:00<00:00, 10.73it/s]"
     ]
    },
    {
     "name": "stdout",
     "output_type": "stream",
     "text": [
      "logits shape: torch.Size([32])\n",
      "labels shape: torch.Size([32])\n",
      "logits shape: torch.Size([32])\n",
      "labels shape: torch.Size([32])\n"
     ]
    },
    {
     "name": "stderr",
     "output_type": "stream",
     "text": [
      "\r",
      "Epoch 10/50 (Train):  64%|███████████████████████████████████████▊                      | 9/14 [00:00<00:00, 10.46it/s]"
     ]
    },
    {
     "name": "stdout",
     "output_type": "stream",
     "text": [
      "logits shape: torch.Size([32])\n",
      "labels shape: torch.Size([32])\n",
      "logits shape: torch.Size([32])\n",
      "labels shape: torch.Size([32])\n",
      "logits shape: torch.Size([32])\n",
      "labels shape: torch.Size([32])\n"
     ]
    },
    {
     "name": "stderr",
     "output_type": "stream",
     "text": [
      "Epoch 10/50 (Train): 100%|█████████████████████████████████████████████████████████████| 14/14 [00:01<00:00, 11.02it/s]\n"
     ]
    },
    {
     "name": "stdout",
     "output_type": "stream",
     "text": [
      "logits shape: torch.Size([32])\n",
      "labels shape: torch.Size([32])\n",
      "logits shape: torch.Size([32])\n",
      "labels shape: torch.Size([32])\n",
      "logits shape: torch.Size([4])\n",
      "labels shape: torch.Size([4])\n"
     ]
    },
    {
     "name": "stderr",
     "output_type": "stream",
     "text": [
      "Epoch 10/50 (Validation): 100%|██████████████████████████████████████████████████████████| 4/4 [00:00<00:00, 14.98it/s]\n"
     ]
    },
    {
     "name": "stdout",
     "output_type": "stream",
     "text": [
      "Epoch 10/50 - Time: 1.5s - Train Loss: 0.2676, Train AUC: 0.9459, Val Loss: 0.3773, Val AUC: 0.9065\n"
     ]
    },
    {
     "name": "stderr",
     "output_type": "stream",
     "text": [
      "Epoch 11/50 (Train):  14%|████████▊                                                     | 2/14 [00:00<00:01, 11.03it/s]"
     ]
    },
    {
     "name": "stdout",
     "output_type": "stream",
     "text": [
      "logits shape: torch.Size([32])\n",
      "labels shape: torch.Size([32])\n",
      "logits shape: torch.Size([32])\n",
      "labels shape: torch.Size([32])\n",
      "logits shape: torch.Size([32])\n",
      "labels shape: torch.Size([32])\n"
     ]
    },
    {
     "name": "stderr",
     "output_type": "stream",
     "text": [
      "\r",
      "Epoch 11/50 (Train):  29%|█████████████████▋                                            | 4/14 [00:00<00:00, 11.32it/s]"
     ]
    },
    {
     "name": "stdout",
     "output_type": "stream",
     "text": [
      "logits shape: torch.Size([32])\n",
      "labels shape: torch.Size([32])\n",
      "logits shape: torch.Size([32])\n",
      "labels shape: torch.Size([32])\n",
      "logits shape: torch.Size([32])\n",
      "labels shape: torch.Size([32])\n"
     ]
    },
    {
     "name": "stderr",
     "output_type": "stream",
     "text": [
      "Epoch 11/50 (Train):  57%|███████████████████████████████████▍                          | 8/14 [00:00<00:00, 11.64it/s]"
     ]
    },
    {
     "name": "stdout",
     "output_type": "stream",
     "text": [
      "logits shape: torch.Size([32])\n",
      "labels shape: torch.Size([32])\n",
      "logits shape: torch.Size([32])\n",
      "labels shape: torch.Size([32])\n",
      "logits shape: torch.Size([32])\n",
      "labels shape: torch.Size([32])\n"
     ]
    },
    {
     "name": "stderr",
     "output_type": "stream",
     "text": [
      "\r",
      "Epoch 11/50 (Train):  71%|███████████████████████████████████████████▌                 | 10/14 [00:00<00:00, 11.08it/s]"
     ]
    },
    {
     "name": "stdout",
     "output_type": "stream",
     "text": [
      "logits shape: torch.Size([32])\n",
      "labels shape: torch.Size([32])\n",
      "logits shape: torch.Size([32])\n",
      "labels shape: torch.Size([32])\n"
     ]
    },
    {
     "name": "stderr",
     "output_type": "stream",
     "text": [
      "\r",
      "Epoch 11/50 (Train):  86%|████████████████████████████████████████████████████▎        | 12/14 [00:01<00:00, 11.17it/s]"
     ]
    },
    {
     "name": "stdout",
     "output_type": "stream",
     "text": [
      "logits shape: torch.Size([32])\n",
      "labels shape: torch.Size([32])\n"
     ]
    },
    {
     "name": "stderr",
     "output_type": "stream",
     "text": [
      "\r",
      "Epoch 11/50 (Train): 100%|█████████████████████████████████████████████████████████████| 14/14 [00:01<00:00, 11.07it/s]"
     ]
    },
    {
     "name": "stdout",
     "output_type": "stream",
     "text": [
      "logits shape: torch.Size([32])\n",
      "labels shape: torch.Size([32])\n",
      "logits shape: torch.Size([4])\n",
      "labels shape: torch.Size([4])\n"
     ]
    },
    {
     "name": "stderr",
     "output_type": "stream",
     "text": [
      "Epoch 11/50 (Train): 100%|█████████████████████████████████████████████████████████████| 14/14 [00:01<00:00, 11.18it/s]\n",
      "Epoch 11/50 (Validation): 100%|██████████████████████████████████████████████████████████| 4/4 [00:00<00:00, 15.88it/s]\n"
     ]
    },
    {
     "name": "stdout",
     "output_type": "stream",
     "text": [
      "Epoch 11/50 - Time: 1.5s - Train Loss: 0.2510, Train AUC: 0.9533, Val Loss: 0.4460, Val AUC: 0.9159\n"
     ]
    },
    {
     "name": "stderr",
     "output_type": "stream",
     "text": [
      "Epoch 12/50 (Train):   7%|████▍                                                         | 1/14 [00:00<00:01,  9.52it/s]"
     ]
    },
    {
     "name": "stdout",
     "output_type": "stream",
     "text": [
      "logits shape: torch.Size([32])\n",
      "labels shape: torch.Size([32])\n",
      "logits shape: torch.Size([32])\n",
      "labels shape: torch.Size([32])\n",
      "logits shape: torch.Size([32])\n",
      "labels shape: torch.Size([32])\n"
     ]
    },
    {
     "name": "stderr",
     "output_type": "stream",
     "text": [
      "\r",
      "Epoch 12/50 (Train):  21%|█████████████▎                                                | 3/14 [00:00<00:01, 10.34it/s]"
     ]
    },
    {
     "name": "stdout",
     "output_type": "stream",
     "text": [
      "logits shape: torch.Size([32])\n",
      "labels shape: torch.Size([32])\n",
      "logits shape: torch.Size([32])\n",
      "labels shape: torch.Size([32])\n"
     ]
    },
    {
     "name": "stderr",
     "output_type": "stream",
     "text": [
      "Epoch 12/50 (Train):  43%|██████████████████████████▌                                   | 6/14 [00:00<00:00,  9.89it/s]"
     ]
    },
    {
     "name": "stdout",
     "output_type": "stream",
     "text": [
      "logits shape: torch.Size([32])\n",
      "labels shape: torch.Size([32])\n",
      "logits shape: torch.Size([32])\n",
      "labels shape: torch.Size([32])\n",
      "logits shape: torch.Size([32])\n",
      "labels shape: torch.Size([32])\n"
     ]
    },
    {
     "name": "stderr",
     "output_type": "stream",
     "text": [
      "Epoch 12/50 (Train):  64%|███████████████████████████████████████▊                      | 9/14 [00:00<00:00,  9.79it/s]"
     ]
    },
    {
     "name": "stdout",
     "output_type": "stream",
     "text": [
      "logits shape: torch.Size([32])\n",
      "labels shape: torch.Size([32])\n",
      "logits shape: torch.Size([32])\n",
      "labels shape: torch.Size([32])\n",
      "logits shape: torch.Size([32])\n",
      "labels shape: torch.Size([32])\n"
     ]
    },
    {
     "name": "stderr",
     "output_type": "stream",
     "text": [
      "Epoch 12/50 (Train): 100%|█████████████████████████████████████████████████████████████| 14/14 [00:01<00:00, 10.34it/s]\n"
     ]
    },
    {
     "name": "stdout",
     "output_type": "stream",
     "text": [
      "logits shape: torch.Size([32])\n",
      "labels shape: torch.Size([32])\n",
      "logits shape: torch.Size([32])\n",
      "labels shape: torch.Size([32])\n",
      "logits shape: torch.Size([4])\n",
      "labels shape: torch.Size([4])\n"
     ]
    },
    {
     "name": "stderr",
     "output_type": "stream",
     "text": [
      "Epoch 12/50 (Validation): 100%|██████████████████████████████████████████████████████████| 4/4 [00:00<00:00, 15.69it/s]\n"
     ]
    },
    {
     "name": "stdout",
     "output_type": "stream",
     "text": [
      "Epoch 12/50 - Time: 1.6s - Train Loss: 0.2761, Train AUC: 0.9496, Val Loss: 0.4195, Val AUC: 0.9163\n"
     ]
    },
    {
     "name": "stderr",
     "output_type": "stream",
     "text": [
      "Epoch 13/50 (Train):  14%|████████▊                                                     | 2/14 [00:00<00:01, 10.60it/s]"
     ]
    },
    {
     "name": "stdout",
     "output_type": "stream",
     "text": [
      "logits shape: torch.Size([32])\n",
      "labels shape: torch.Size([32])\n",
      "logits shape: torch.Size([32])\n",
      "labels shape: torch.Size([32])\n",
      "logits shape: torch.Size([32])\n",
      "labels shape: torch.Size([32])\n"
     ]
    },
    {
     "name": "stderr",
     "output_type": "stream",
     "text": [
      "\r",
      "Epoch 13/50 (Train):  29%|█████████████████▋                                            | 4/14 [00:00<00:00, 10.68it/s]"
     ]
    },
    {
     "name": "stdout",
     "output_type": "stream",
     "text": [
      "logits shape: torch.Size([32])\n",
      "labels shape: torch.Size([32])\n",
      "logits shape: torch.Size([32])\n",
      "labels shape: torch.Size([32])\n",
      "logits shape: torch.Size([32])\n",
      "labels shape: torch.Size([32])\n"
     ]
    },
    {
     "name": "stderr",
     "output_type": "stream",
     "text": [
      "\r",
      "Epoch 13/50 (Train):  43%|██████████████████████████▌                                   | 6/14 [00:00<00:00, 10.32it/s]"
     ]
    },
    {
     "name": "stdout",
     "output_type": "stream",
     "text": [
      "logits shape: torch.Size([32])\n",
      "labels shape: torch.Size([32])\n",
      "logits shape: torch.Size([32])\n",
      "labels shape: torch.Size([32])\n"
     ]
    },
    {
     "name": "stderr",
     "output_type": "stream",
     "text": [
      "\r",
      "Epoch 13/50 (Train):  57%|███████████████████████████████████▍                          | 8/14 [00:00<00:00, 10.31it/s]"
     ]
    },
    {
     "name": "stdout",
     "output_type": "stream",
     "text": [
      "logits shape: torch.Size([32])\n",
      "labels shape: torch.Size([32])\n"
     ]
    },
    {
     "name": "stderr",
     "output_type": "stream",
     "text": [
      "\r",
      "Epoch 13/50 (Train):  71%|███████████████████████████████████████████▌                 | 10/14 [00:00<00:00, 10.33it/s]"
     ]
    },
    {
     "name": "stdout",
     "output_type": "stream",
     "text": [
      "logits shape: torch.Size([32])\n",
      "labels shape: torch.Size([32])\n",
      "logits shape: torch.Size([32])\n",
      "labels shape: torch.Size([32])\n",
      "logits shape: torch.Size([32])\n",
      "labels shape: torch.Size([32])\n"
     ]
    },
    {
     "name": "stderr",
     "output_type": "stream",
     "text": [
      "Epoch 13/50 (Train): 100%|█████████████████████████████████████████████████████████████| 14/14 [00:01<00:00, 10.80it/s]\n"
     ]
    },
    {
     "name": "stdout",
     "output_type": "stream",
     "text": [
      "logits shape: torch.Size([32])\n",
      "labels shape: torch.Size([32])\n",
      "logits shape: torch.Size([4])\n",
      "labels shape: torch.Size([4])\n"
     ]
    },
    {
     "name": "stderr",
     "output_type": "stream",
     "text": [
      "Epoch 13/50 (Validation): 100%|██████████████████████████████████████████████████████████| 4/4 [00:00<00:00, 17.06it/s]\n"
     ]
    },
    {
     "name": "stdout",
     "output_type": "stream",
     "text": [
      "Epoch 13/50 - Time: 1.5s - Train Loss: 0.2631, Train AUC: 0.9532, Val Loss: 0.4009, Val AUC: 0.9173\n",
      "Early stopping after 10 epochs without improvement\n",
      "Model saved to models/drug_discovery_hgnn.pt\n"
     ]
    },
    {
     "data": {
      "image/png": "[encoded data removed]",
      "text/plain": [
       "<Figure size 1200x1000 with 2 Axes>"
      ]
     },
     "metadata": {},
     "output_type": "display_data"
    },
    {
     "name": "stdout",
     "output_type": "stream",
     "text": [
      "Evaluating model on test set...\n"
     ]
    },
    {
     "name": "stderr",
     "output_type": "stream",
     "text": [
      "Evaluating on test set: 100%|████████████████████████████████████████████████████████████| 5/5 [00:00<00:00, 14.58it/s]\n"
     ]
    },
    {
     "name": "stdout",
     "output_type": "stream",
     "text": [
      "\n",
      "Test set evaluation:\n",
      "ROC AUC: 0.8940\n",
      "PR AUC: 0.9367\n",
      "Accuracy: 0.8485\n"
     ]
    },
    {
     "data": {
      "image/png": "[encoded data removed]",
      "text/plain": [
       "<Figure size 1000x800 with 1 Axes>"
      ]
     },
     "metadata": {},
     "output_type": "display_data"
    },
    {
     "data": {
      "image/png": "[encoded data removed]",
      "text/plain": [
       "<Figure size 1000x800 with 1 Axes>"
      ]
     },
     "metadata": {},
     "output_type": "display_data"
    },
    {
     "name": "stdout",
     "output_type": "stream",
     "text": [
      "\n",
      "Example predictions:\n",
      "Molecule: CCO\n",
      "SMILES: CCO\n",
      "Predicted activity: 0.5156\n",
      "--------------------------------------------------\n",
      "Molecule: CC(=O)OC1=CC=CC=C1C(=O)O\n",
      "SMILES: CC(=O)OC1=CC=CC=C1C(=O)O\n",
      "Predicted activity: 0.1768\n",
      "--------------------------------------------------\n",
      "Molecule: CNC(=O)c1ccc(cc1)OC\n",
      "SMILES: CNC(=O)c1ccc(cc1)OC\n",
      "Predicted activity: 0.3140\n",
      "--------------------------------------------------\n",
      "Molecule: CC1=C(C=C(C=C1)S(=O)(=O)N)CC(C(=O)O)N\n",
      "SMILES: CC1=C(C=C(C=C1)S(=O)(=O)N)CC(C(=O)O)N\n",
      "Predicted activity: 0.2643\n",
      "--------------------------------------------------\n",
      "Molecule: COc1ccc2c(c1)c(ccn2)Cc3ccc(cc3)OC\n",
      "SMILES: COc1ccc2c(c1)c(ccn2)Cc3ccc(cc3)OC\n",
      "Predicted activity: 0.5965\n",
      "--------------------------------------------------\n",
      "Results saved to results.json\n"
     ]
    }
   ],
   "source": [
    "\"\"\"\n",
    "Drug Discovery using HGNN + K-Clique for Molecule Substructures\n",
    "\n",
    "This script implements a complete drug discovery system that uses Heterogeneous Graph \n",
    "Neural Networks (HGNNs) and K-Clique detection to predict drug-target interactions \n",
    "or compound activity. It includes the actual training step and evaluation.\n",
    "\n",
    "Dependencies:\n",
    "- rdkit\n",
    "- torch\n",
    "- dgl\n",
    "- scikit-learn\n",
    "- networkx\n",
    "- requests\n",
    "- numpy\n",
    "- pandas\n",
    "- matplotlib\n",
    "- tqdm\n",
    "\"\"\"\n",
    "\n",
    "import os\n",
    "import pandas as pd\n",
    "import numpy as np\n",
    "import requests\n",
    "import torch\n",
    "import torch.nn as nn\n",
    "import torch.nn.functional as F\n",
    "from torch.utils.data import DataLoader, Dataset\n",
    "from utils import safe_parse_smiles, safe_compute_descriptors, default_descriptors, create_empty_heterograph\n",
    "from rdkit import Chem\n",
    "from rdkit.Chem import Descriptors, AllChem, Draw\n",
    "import dgl\n",
    "import networkx as nx\n",
    "from sklearn.model_selection import train_test_split\n",
    "from sklearn.metrics import roc_auc_score, accuracy_score, precision_recall_curve, auc\n",
    "import matplotlib.pyplot as plt\n",
    "from tqdm import tqdm\n",
    "import time\n",
    "import argparse\n",
    "import json\n",
    "\n",
    "# =====================================================================\n",
    "# Part 1: Data Acquisition from ChEMBL\n",
    "# =====================================================================\n",
    "\n",
    "def fetch_chembl_data(target_id=\"CHEMBL203\", limit=500, pchembl_threshold=6.0):\n",
    "    \"\"\"\n",
    "    Fetch bioactivity data from ChEMBL API for a specific target.\n",
    "    \n",
    "    Args:\n",
    "        target_id (str): ChEMBL ID for the target protein\n",
    "        limit (int): Maximum number of records to retrieve\n",
    "        pchembl_threshold (float): Activity threshold (pChEMBL value)\n",
    "        \n",
    "    Returns:\n",
    "        pandas.DataFrame: DataFrame with SMILES and activity data\n",
    "    \"\"\"\n",
    "    print(f\"Fetching data from ChEMBL for target {target_id}...\")\n",
    "    \n",
    "    # Fetch activities for the specified target\n",
    "    url = f\"https://www.ebi.ac.uk/chembl/api/data/activity.json?target_chembl_id={target_id}&limit={limit}\"\n",
    "    response = requests.get(url)\n",
    "    \n",
    "    if response.status_code != 200:\n",
    "        raise Exception(f\"Error fetching data: {response.status_code}\")\n",
    "    \n",
    "    data = response.json()\n",
    "    activities = data['activities']\n",
    "    \n",
    "    # Extract relevant information\n",
    "    compounds = []\n",
    "    for activity in activities:\n",
    "        # Check if required data is available\n",
    "        if not (activity.get('molecule_chembl_id') and \n",
    "                activity.get('canonical_smiles') and \n",
    "                activity.get('pchembl_value')):\n",
    "            continue\n",
    "            \n",
    "        compounds.append({\n",
    "            'molecule_id': activity['molecule_chembl_id'],\n",
    "            'smiles': activity['canonical_smiles'],\n",
    "            'pchembl_value': float(activity['pchembl_value']) if activity.get('pchembl_value') else None,\n",
    "            'activity_type': activity.get('standard_type', 'Unknown'),\n",
    "            'target_id': target_id\n",
    "        })\n",
    "    \n",
    "    df = pd.DataFrame(compounds)\n",
    "    \n",
    "    # Filter by pChEMBL value and create binary labels\n",
    "    if not df.empty and 'pchembl_value' in df.columns:\n",
    "        df = df.dropna(subset=['pchembl_value'])\n",
    "        df['active'] = (df['pchembl_value'] >= pchembl_threshold).astype(int)\n",
    "    \n",
    "    print(f\"Retrieved {len(df)} compounds with activity data.\")\n",
    "    return df\n",
    "\n",
    "def save_dataset(df, filename=\"chembl_dataset.csv\"):\n",
    "    \"\"\"Save the dataset to a CSV file\"\"\"\n",
    "    df.to_csv(filename, index=False)\n",
    "    print(f\"Dataset saved to {filename}\")\n",
    "\n",
    "def load_dataset(filename=\"chembl_dataset.csv\"):\n",
    "    \"\"\"Load the dataset from a CSV file\"\"\"\n",
    "    if os.path.exists(filename):\n",
    "        df = pd.read_csv(filename)\n",
    "        print(f\"Loaded {len(df)} compounds from {filename}\")\n",
    "        return df\n",
    "    else:\n",
    "        print(f\"Dataset file {filename} not found.\")\n",
    "        return None\n",
    "\n",
    "# =====================================================================\n",
    "# Part 2: Advanced Molecular Feature Extraction\n",
    "# =====================================================================\n",
    "\n",
    "# Define SMARTS patterns for common functional groups\n",
    "FUNCTIONAL_GROUPS = {\n",
    "    'hydroxyl': '[OX2H]',\n",
    "    'carboxyl': '[CX3](=O)[OX2H1]',\n",
    "    'carbonyl': '[CX3]=[OX1]',\n",
    "    'amine_primary': '[NX3;H2;!$(NC=O)]',\n",
    "    'amine_secondary': '[NX3;H1;!$(NC=O)]',\n",
    "    'amine_tertiary': '[NX3;H0;!$(NC=O)]',\n",
    "    'amide': '[NX3][CX3](=[OX1])',\n",
    "    'nitro': '[NX3](=[OX1])=[OX1]',\n",
    "    'nitrile': '[NX1]#[CX2]',\n",
    "    'thiol': '[SX2H]',\n",
    "    'thioether': '[#16X2][#6]',\n",
    "    'sulfoxide': '[#16X3](=[OX1])',\n",
    "    'sulfonyl': '[#16X4](=[OX1])(=[OX1])',\n",
    "    'ester': '[CX3](=[OX1])[OX2][CX4]',\n",
    "    'ether': '[OX2]([CX4])[CX4]',\n",
    "    'halogen': '[F,Cl,Br,I]',\n",
    "    'alkene': '[CX3]=[CX3]',\n",
    "    'alkyne': '[CX2]#[CX2]',\n",
    "    'aromatic': 'c1ccccc1',\n",
    "    'heterocyclic': '[a;!c]',\n",
    "    'phosphate': '[PX4](=[OX1])([OX2][#6])',\n",
    "}\n",
    "\n",
    "# Compile SMARTS patterns to RDKit molecules\n",
    "FUNCTIONAL_GROUP_PATTERNS = {name: Chem.MolFromSmarts(smarts) \n",
    "                             for name, smarts in FUNCTIONAL_GROUPS.items()}\n",
    "\n",
    "def detect_functional_groups(mol):\n",
    "    \"\"\"\n",
    "    Detect functional groups in a molecule using SMARTS patterns.\n",
    "    \n",
    "    Args:\n",
    "        mol (rdkit.Chem.rdchem.Mol): RDKit molecule object\n",
    "        \n",
    "    Returns:\n",
    "        dict: Dictionary mapping functional group names to lists of atom indices\n",
    "    \"\"\"\n",
    "    detected_groups = {}\n",
    "    \n",
    "    for name, pattern in FUNCTIONAL_GROUP_PATTERNS.items():\n",
    "        matches = mol.GetSubstructMatches(pattern)\n",
    "        if matches:\n",
    "            detected_groups[name] = matches\n",
    "            \n",
    "    return detected_groups\n",
    "\n",
    "def compute_atom_features(atom):\n",
    "    \"\"\"\n",
    "    Compute features for an atom in a molecule.\n",
    "    \n",
    "    Args:\n",
    "        atom (rdkit.Chem.rdchem.Atom): RDKit atom object\n",
    "        \n",
    "    Returns:\n",
    "        torch.Tensor: Tensor of atom features\n",
    "    \"\"\"\n",
    "    features = []\n",
    "    \n",
    "    # Atomic number (one-hot encoding of common elements)\n",
    "    atomic_num = atom.GetAtomicNum()\n",
    "    atom_types = [1, 6, 7, 8, 9, 15, 16, 17, 35, 53]  # H, C, N, O, F, P, S, Cl, Br, I\n",
    "    features.extend([1 if atomic_num == num else 0 for num in atom_types])\n",
    "    \n",
    "    # Other atom properties\n",
    "    features.extend([\n",
    "        atom.GetFormalCharge(),\n",
    "        atom.GetNumExplicitHs(),\n",
    "        atom.GetNumImplicitHs(),\n",
    "        atom.GetTotalNumHs(),\n",
    "        int(atom.GetIsAromatic()),\n",
    "        atom.GetDegree(),\n",
    "        atom.GetTotalDegree(),\n",
    "        atom.GetTotalValence(),\n",
    "        atom.GetImplicitValence(),\n",
    "        atom.GetExplicitValence(),\n",
    "        int(atom.IsInRing()),\n",
    "        atom.GetHybridization() / 5.0,  # Normalized hybridization\n",
    "    ])\n",
    "    \n",
    "    return torch.tensor(features, dtype=torch.float)\n",
    "\n",
    "def compute_bond_features(bond):\n",
    "    \"\"\"\n",
    "    Compute features for a bond in a molecule.\n",
    "    \n",
    "    Args:\n",
    "        bond (rdkit.Chem.rdchem.Bond): RDKit bond object\n",
    "        \n",
    "    Returns:\n",
    "        torch.Tensor: Tensor of bond features\n",
    "    \"\"\"\n",
    "    bond_type = bond.GetBondType()\n",
    "    bond_features = [\n",
    "        int(bond_type == Chem.rdchem.BondType.SINGLE),\n",
    "        int(bond_type == Chem.rdchem.BondType.DOUBLE),\n",
    "        int(bond_type == Chem.rdchem.BondType.TRIPLE),\n",
    "        int(bond_type == Chem.rdchem.BondType.AROMATIC),\n",
    "        int(bond.IsInRing()),\n",
    "        int(bond.GetIsConjugated()),\n",
    "    ]\n",
    "    \n",
    "    return torch.tensor(bond_features, dtype=torch.float)\n",
    "\n",
    "def compute_functional_group_features(group_name):\n",
    "    \"\"\"\n",
    "    Compute features for a functional group.\n",
    "    \n",
    "    Args:\n",
    "        group_name (str): Name of the functional group\n",
    "        \n",
    "    Returns:\n",
    "        torch.Tensor: Tensor of functional group features (one-hot encoding)\n",
    "    \"\"\"\n",
    "    group_names = list(FUNCTIONAL_GROUPS.keys())\n",
    "    features = [1 if group_name == name else 0 for name in group_names]\n",
    "    return torch.tensor(features, dtype=torch.float)\n",
    "\n",
    "def compute_molecule_descriptors(mol):\n",
    "    \"\"\"\n",
    "    Compute global molecular descriptors using RDKit.\n",
    "    \n",
    "    Args:\n",
    "        mol (rdkit.Chem.rdchem.Mol): RDKit molecule object\n",
    "        \n",
    "    Returns:\n",
    "        dict: Dictionary of molecular descriptors\n",
    "    \"\"\"\n",
    "    descriptors = {\n",
    "        'MolWt': Descriptors.MolWt(mol),\n",
    "        'LogP': Descriptors.MolLogP(mol),\n",
    "        'NumHDonors': Descriptors.NumHDonors(mol),\n",
    "        'NumHAcceptors': Descriptors.NumHAcceptors(mol),\n",
    "        'NumRotatableBonds': Descriptors.NumRotatableBonds(mol),\n",
    "        'NumHeavyAtoms': Descriptors.HeavyAtomCount(mol),\n",
    "        'NumRings': Descriptors.RingCount(mol),\n",
    "        'NumAromaticRings': Descriptors.NumAromaticRings(mol),\n",
    "        'TPSA': Descriptors.TPSA(mol),\n",
    "        'Fsp3': Descriptors.FractionCSP3(mol),\n",
    "        'NumAliphaticRings': Descriptors.NumAliphaticRings(mol),\n",
    "        'NumSaturatedRings': Descriptors.NumSaturatedRings(mol),\n",
    "        'NumAromaticHeterocycles': Descriptors.NumAromaticHeterocycles(mol),\n",
    "        'NumSaturatedHeterocycles': Descriptors.NumSaturatedHeterocycles(mol),\n",
    "        'NumAliphaticHeterocycles': Descriptors.NumAliphaticHeterocycles(mol),\n",
    "        'NumHeteroatoms': Descriptors.NumHeteroatoms(mol),\n",
    "        'LabuteASA': Descriptors.LabuteASA(mol) if mol.GetNumConformers() > 0 else 0,\n",
    "    }\n",
    "    \n",
    "    return descriptors\n",
    "\n",
    "def normalize_descriptors(descriptors_list):\n",
    "    \"\"\"\n",
    "    Normalize molecular descriptors across the dataset.\n",
    "    \n",
    "    Args:\n",
    "        descriptors_list (list): List of dictionaries containing molecule descriptors\n",
    "        \n",
    "    Returns:\n",
    "        list: List of normalized descriptor dictionaries\n",
    "    \"\"\"\n",
    "    # Convert to DataFrame for easier handling\n",
    "    df = pd.DataFrame(descriptors_list)\n",
    "    \n",
    "    # Normalize each column\n",
    "    normalized_df = (df - df.mean()) / df.std()\n",
    "    \n",
    "    # Fill NaN values (might occur if std is 0)\n",
    "    normalized_df = normalized_df.fillna(0)\n",
    "    \n",
    "    # Convert back to list of dictionaries\n",
    "    return normalized_df.to_dict('records')\n",
    "\n",
    "# =====================================================================\n",
    "# Part 3: Heterogeneous Graph Construction\n",
    "# =====================================================================\n",
    "# Fixed mol_to_hetero_graph function\n",
    "def mol_to_hetero_graph(mol, include_descriptors=True):\n",
    "    \"\"\"\n",
    "    Convert an RDKit molecule to a heterogeneous DGL graph.\n",
    "    \n",
    "    Args:\n",
    "        mol (rdkit.Chem.rdchem.Mol): RDKit molecule object\n",
    "        include_descriptors (bool): Whether to include global descriptors\n",
    "        \n",
    "    Returns:\n",
    "        dgl.DGLHeteroGraph: Heterogeneous graph representation of the molecule\n",
    "    \"\"\"\n",
    "    # Initialize empty graph with node types: atom, group\n",
    "    # and edge types: atom-bond->atom, atom-part_of->group, group-has->atom\n",
    "    g = dgl.heterograph({\n",
    "        ('atom', 'bond', 'atom'): [],\n",
    "        ('atom', 'part_of', 'group'): [],\n",
    "        ('group', 'has', 'atom'): []\n",
    "    })\n",
    "    \n",
    "    if mol is None:\n",
    "        return g\n",
    "    \n",
    "    # Add atom nodes\n",
    "    num_atoms = mol.GetNumAtoms()\n",
    "    g.add_nodes(num_atoms, ntype='atom')\n",
    "    \n",
    "    # Add atom features\n",
    "    atom_features = [compute_atom_features(mol.GetAtomWithIdx(i)) for i in range(num_atoms)]\n",
    "    if atom_features:\n",
    "        g.nodes['atom'].data['feat'] = torch.stack(atom_features)\n",
    "    \n",
    "    # Add bond edges and features\n",
    "    bond_src, bond_dst = [], []\n",
    "    bond_features_list = []\n",
    "    \n",
    "    for bond in mol.GetBonds():\n",
    "        src = bond.GetBeginAtomIdx()\n",
    "        dst = bond.GetEndAtomIdx()\n",
    "        \n",
    "        # Add edges in both directions for undirected graph\n",
    "        bond_src.extend([src, dst])\n",
    "        bond_dst.extend([dst, src])\n",
    "        \n",
    "        # Use the same features for both directions\n",
    "        bond_feat = compute_bond_features(bond)\n",
    "        bond_features_list.extend([bond_feat, bond_feat])\n",
    "    \n",
    "    # Add bond edges all at once\n",
    "    g.add_edges(bond_src, bond_dst, etype='bond')\n",
    "    \n",
    "    if bond_features_list:\n",
    "        g.edges['bond'].data['feat'] = torch.stack(bond_features_list)\n",
    "    \n",
    "    # Add functional groups\n",
    "    functional_groups = detect_functional_groups(mol)\n",
    "    \n",
    "    for group_name, matches in functional_groups.items():\n",
    "        for match in matches:\n",
    "            # Add a new group node\n",
    "            g.add_nodes(1, ntype='group')\n",
    "            group_idx = g.number_of_nodes('group') - 1\n",
    "            \n",
    "            # Add group features\n",
    "            if 'feat' not in g.nodes['group'].data:\n",
    "                g.nodes['group'].data['feat'] = torch.zeros((1, len(FUNCTIONAL_GROUPS)), dtype=torch.float)\n",
    "            \n",
    "            if g.nodes['group'].data['feat'].size(0) <= group_idx:\n",
    "                # Resize tensor to accommodate new nodes\n",
    "                old_size = g.nodes['group'].data['feat'].size(0)\n",
    "                new_feat = torch.zeros((group_idx + 1, len(FUNCTIONAL_GROUPS)), dtype=torch.float)\n",
    "                if old_size > 0:\n",
    "                    new_feat[:old_size] = g.nodes['group'].data['feat']\n",
    "                g.nodes['group'].data['feat'] = new_feat\n",
    "            \n",
    "            # Set feature for this group\n",
    "            g.nodes['group'].data['feat'][group_idx] = compute_functional_group_features(group_name)\n",
    "            \n",
    "            # Add edges between atoms and groups - FIXED: use add_edges instead of add_edge\n",
    "            atom_indices = match\n",
    "            group_indices = [group_idx] * len(match)\n",
    "            \n",
    "            if atom_indices:\n",
    "                g.add_edges(atom_indices, group_indices, etype='part_of')\n",
    "                g.add_edges(group_indices, atom_indices, etype='has')\n",
    "    \n",
    "    # Add global molecular descriptors if requested\n",
    "    if include_descriptors:\n",
    "        descriptors = compute_molecule_descriptors(mol)\n",
    "        g.global_descriptors = descriptors\n",
    "    \n",
    "    return g\n",
    "# =====================================================================\n",
    "# Part 4: K-Clique Detection and Subgraph Pooling\n",
    "# =====================================================================\n",
    "\n",
    "def find_k_cliques(graph, k=3, max_cliques=10):\n",
    "    \"\"\"\n",
    "    Find k-cliques in the molecule graph.\n",
    "    \n",
    "    Args:\n",
    "        graph (dgl.DGLHeteroGraph): DGL heterogeneous graph\n",
    "        k (int): Size of cliques to find\n",
    "        max_cliques (int): Maximum number of cliques to return\n",
    "        \n",
    "    Returns:\n",
    "        list: List of k-cliques (each a list of atom indices)\n",
    "    \"\"\"\n",
    "    # Check if the graph has nodes\n",
    "    if graph.number_of_nodes('atom') == 0:\n",
    "        return []\n",
    "    \n",
    "    # Only consider atom nodes for cliques\n",
    "    atom_graph = dgl.edge_type_subgraph(graph, [('atom', 'bond', 'atom')])\n",
    "    \n",
    "    # Check if the atom graph has edges\n",
    "    if atom_graph.number_of_edges() == 0:\n",
    "        # If no edges, each atom is its own \"clique\" of size 1\n",
    "        if k == 1:\n",
    "            return [[i] for i in range(atom_graph.number_of_nodes())]\n",
    "        else:\n",
    "            return []  # No cliques of size k > 1\n",
    "    \n",
    "    try:\n",
    "        # Convert to homogeneous graph and then to NetworkX\n",
    "        homo_graph = dgl.to_homogeneous(atom_graph)\n",
    "        nx_graph = dgl.to_networkx(homo_graph).to_undirected()\n",
    "        \n",
    "        # Find all cliques of size k\n",
    "        try:\n",
    "            # Use find_cliques to get all maximal cliques\n",
    "            all_cliques = list(nx.find_cliques(nx_graph))\n",
    "            \n",
    "            # Filter for cliques of size k\n",
    "            cliques = [c for c in all_cliques if len(c) == k]\n",
    "            \n",
    "            # If no cliques of exact size k, try to use the largest available cliques\n",
    "            if not cliques and all_cliques:\n",
    "                max_size = max(len(c) for c in all_cliques)\n",
    "                if max_size < k:\n",
    "                    # If the largest clique is smaller than k, use those\n",
    "                    cliques = [c for c in all_cliques if len(c) == max_size]\n",
    "                else:\n",
    "                    # Use cliques of size k by taking first k elements of larger cliques\n",
    "                    cliques = [c[:k] for c in all_cliques if len(c) >= k]\n",
    "        except nx.NetworkXError:\n",
    "            # Fallback if find_cliques fails\n",
    "            cliques = []\n",
    "            for node in nx_graph.nodes():\n",
    "                neighbors = list(nx_graph.neighbors(node))\n",
    "                if len(neighbors) >= k - 1:\n",
    "                    # Form a clique with this node and k-1 of its neighbors\n",
    "                    cliques.append([node] + neighbors[:k-1])\n",
    "    except Exception as e:\n",
    "        print(f\"Error in find_k_cliques: {e}\")\n",
    "        # Fallback to a simple approach: select random groups of k atoms\n",
    "        import random\n",
    "        num_atoms = graph.number_of_nodes('atom')\n",
    "        if num_atoms >= k:\n",
    "            cliques = []\n",
    "            atoms = list(range(num_atoms))\n",
    "            if num_atoms <= k * max_cliques:\n",
    "                # Create non-overlapping cliques if possible\n",
    "                for i in range(0, num_atoms, k):\n",
    "                    if i + k <= num_atoms:\n",
    "                        cliques.append(atoms[i:i+k])\n",
    "            else:\n",
    "                # Create random cliques\n",
    "                for _ in range(min(max_cliques, num_atoms // k)):\n",
    "                    clique = random.sample(atoms, k)\n",
    "                    cliques.append(clique)\n",
    "        else:\n",
    "            cliques = []\n",
    "    \n",
    "    # Limit the number of cliques if needed\n",
    "    if max_cliques > 0 and len(cliques) > max_cliques:\n",
    "        cliques = cliques[:max_cliques]\n",
    "    \n",
    "    return cliques\n",
    "\n",
    "# Fixed compute_clique_features function\n",
    "def compute_clique_features(graph, cliques):\n",
    "    \"\"\"\n",
    "    Compute features for each clique by aggregating node features.\n",
    "    \n",
    "    Args:\n",
    "        graph (dgl.DGLHeteroGraph): DGL heterogeneous graph\n",
    "        cliques (list): List of cliques, each a list of node indices\n",
    "        \n",
    "    Returns:\n",
    "        torch.Tensor: Tensor of clique features\n",
    "    \"\"\"\n",
    "    # If no cliques, return empty tensor\n",
    "    if not cliques:\n",
    "        # Default feature dimension\n",
    "        feature_dim = 22  # Default dimension based on atom features in the code\n",
    "        return torch.zeros((0, feature_dim), dtype=torch.float)\n",
    "    \n",
    "    # Check if graph has atom features\n",
    "    if 'feat' not in graph.nodes['atom'].data:\n",
    "        # Use default features if atom features don't exist\n",
    "        feature_dim = 22  # Default dimension\n",
    "        default_feature = torch.zeros(feature_dim, dtype=torch.float)\n",
    "        return torch.stack([default_feature] * len(cliques))\n",
    "    \n",
    "    # Get atom features directly from the heterogeneous graph\n",
    "    atom_feats = graph.nodes['atom'].data['feat']\n",
    "    \n",
    "    clique_features = []\n",
    "    for clique in cliques:\n",
    "        # Ensure all indices in the clique are valid\n",
    "        valid_indices = [idx for idx in clique if idx < atom_feats.shape[0]]\n",
    "        \n",
    "        if not valid_indices:\n",
    "            # If no valid indices, use zeros\n",
    "            default_feature = torch.zeros(atom_feats.shape[1], dtype=atom_feats.dtype,\n",
    "                                       device=atom_feats.device)\n",
    "            clique_features.append(default_feature)\n",
    "        else:\n",
    "            # Get features of all valid nodes in the clique\n",
    "            clique_node_feats = atom_feats[valid_indices]\n",
    "            \n",
    "            # Aggregate features (mean pooling)\n",
    "            clique_feat = torch.mean(clique_node_feats, dim=0)\n",
    "            clique_features.append(clique_feat)\n",
    "    \n",
    "    return torch.stack(clique_features)\n",
    "\n",
    "# Fixed enhance_graph_with_cliques function\n",
    "def enhance_graph_with_cliques(graph, cliques, clique_features):\n",
    "    \"\"\"\n",
    "    Enhance the graph by adding clique nodes connected to their constituent atoms.\n",
    "    \n",
    "    Args:\n",
    "        graph (dgl.DGLHeteroGraph): Original heterogeneous graph\n",
    "        cliques (list): List of cliques, each a list of node indices\n",
    "        clique_features (torch.Tensor): Tensor of clique features\n",
    "        \n",
    "    Returns:\n",
    "        dgl.DGLHeteroGraph: Enhanced graph with clique nodes\n",
    "    \"\"\"\n",
    "    # Get all edges from the original graph\n",
    "    atom_bond_atom_edges = graph.edges(etype='bond')\n",
    "    atom_part_of_group_edges = graph.edges(etype='part_of')\n",
    "    group_has_atom_edges = graph.edges(etype='has')\n",
    "    \n",
    "    # Add new node type 'clique' and edge types 'in_clique' and 'contains'\n",
    "    new_graph = dgl.heterograph({\n",
    "        ('atom', 'bond', 'atom'): (atom_bond_atom_edges[0], atom_bond_atom_edges[1]),\n",
    "        ('atom', 'part_of', 'group'): (atom_part_of_group_edges[0], atom_part_of_group_edges[1]),\n",
    "        ('group', 'has', 'atom'): (group_has_atom_edges[0], group_has_atom_edges[1]),\n",
    "        ('atom', 'in_clique', 'clique'): [],\n",
    "        ('clique', 'contains', 'atom'): []\n",
    "    })\n",
    "    \n",
    "    # Copy node features from original graph\n",
    "    if hasattr(graph, 'nodes') and 'atom' in graph.ntypes:\n",
    "        if 'feat' in graph.nodes['atom'].data:\n",
    "            new_graph.nodes['atom'].data['feat'] = graph.nodes['atom'].data['feat']\n",
    "    \n",
    "    if hasattr(graph, 'nodes') and 'group' in graph.ntypes:\n",
    "        if 'feat' in graph.nodes['group'].data:\n",
    "            new_graph.nodes['group'].data['feat'] = graph.nodes['group'].data['feat']\n",
    "    \n",
    "    # Copy edge features from original graph\n",
    "    if hasattr(graph, 'edges') and 'bond' in graph.etypes:\n",
    "        if 'feat' in graph.edges['bond'].data:\n",
    "            new_graph.edges['bond'].data['feat'] = graph.edges['bond'].data['feat']\n",
    "    \n",
    "    # Add clique nodes\n",
    "    num_cliques = len(cliques)\n",
    "    if num_cliques > 0 and clique_features.shape[0] > 0:\n",
    "        new_graph.add_nodes(num_cliques, ntype='clique')\n",
    "        new_graph.nodes['clique'].data['feat'] = clique_features\n",
    "        \n",
    "        # Add edges between atoms and cliques\n",
    "        for i, clique in enumerate(cliques):\n",
    "            # Create lists to batch add edges\n",
    "            atom_to_clique_src = []\n",
    "            atom_to_clique_dst = []\n",
    "            clique_to_atom_src = []\n",
    "            clique_to_atom_dst = []\n",
    "            \n",
    "            for atom_idx in clique:\n",
    "                # Ensure atom_idx is valid\n",
    "                if atom_idx < new_graph.number_of_nodes('atom'):\n",
    "                    # For atom to clique edges\n",
    "                    atom_to_clique_src.append(atom_idx)\n",
    "                    atom_to_clique_dst.append(i)\n",
    "                    \n",
    "                    # For clique to atom edges\n",
    "                    clique_to_atom_src.append(i)\n",
    "                    clique_to_atom_dst.append(atom_idx)\n",
    "            \n",
    "            # Add all edges at once\n",
    "            if atom_to_clique_src:\n",
    "                new_graph.add_edges(atom_to_clique_src, atom_to_clique_dst, etype='in_clique')\n",
    "                new_graph.add_edges(clique_to_atom_src, clique_to_atom_dst, etype='contains')\n",
    "    \n",
    "    # Copy global descriptors\n",
    "    if hasattr(graph, 'global_descriptors'):\n",
    "        new_graph.global_descriptors = graph.global_descriptors\n",
    "    \n",
    "    return new_graph\n",
    "# =====================================================================\n",
    "# Part 5: HGNN Model with K-Clique Enhancement\n",
    "# =====================================================================\n",
    "\n",
    "class CliquePooilngLayer(nn.Module):\n",
    "    \"\"\"\n",
    "    A layer that pools features from atom nodes in the same clique.\n",
    "    \"\"\"\n",
    "    def __init__(self, in_feats, out_feats):\n",
    "        super(CliquePooilngLayer, self).__init__()\n",
    "        self.out_feats = out_feats\n",
    "        \n",
    "        # Transformation layers\n",
    "        self.atom_transform = nn.Linear(in_feats, out_feats)\n",
    "        self.attention = nn.Parameter(torch.Tensor(1, out_feats))\n",
    "        \n",
    "        # Initialize parameters\n",
    "        nn.init.xavier_uniform_(self.attention)\n",
    "    \n",
    "    def forward(self, g, cliques):\n",
    "        \"\"\"\n",
    "        Apply clique-based pooling.\n",
    "        \n",
    "        Args:\n",
    "            g (dgl.DGLHeteroGraph): Input graph\n",
    "            cliques (list): List of cliques, each a list of atom indices\n",
    "            \n",
    "        Returns:\n",
    "            torch.Tensor: Pooled features tensor\n",
    "        \"\"\"\n",
    "        atom_feats = g.nodes['atom'].data['feat']\n",
    "        \n",
    "        # Transform atom features\n",
    "        transformed_feats = self.atom_transform(atom_feats)\n",
    "        \n",
    "        # Apply attention mechanism for each clique\n",
    "        clique_feats = []\n",
    "        for clique in cliques:\n",
    "            if not clique:\n",
    "                continue\n",
    "                \n",
    "            # Get features for atoms in this clique\n",
    "            clique_atom_feats = transformed_feats[clique]\n",
    "            \n",
    "            # Calculate attention scores\n",
    "            attn_scores = F.softmax(torch.matmul(clique_atom_feats, self.attention.t()), dim=0)\n",
    "            \n",
    "            # Apply attention and pool\n",
    "            weighted_feats = clique_atom_feats * attn_scores\n",
    "            clique_feat = torch.sum(weighted_feats, dim=0)\n",
    "            clique_feats.append(clique_feat)\n",
    "        \n",
    "        if not clique_feats:\n",
    "            # Return zero tensor if no cliques\n",
    "            return torch.zeros((1, self.out_feats), device=atom_feats.device)\n",
    "        \n",
    "        return torch.stack(clique_feats)\n",
    "class HGNNLayer(nn.Module):\n",
    "    \"\"\"\n",
    "    A heterogeneous graph neural network layer with residual connections.\n",
    "    \"\"\"\n",
    "    def __init__(self, in_feats_dict, hidden_feats):\n",
    "        super(HGNNLayer, self).__init__()\n",
    "        \n",
    "        # Create message passing for each edge type\n",
    "        self.hetero_conv = dgl.nn.pytorch.HeteroGraphConv({\n",
    "            'bond': dgl.nn.pytorch.GraphConv(in_feats_dict['atom'], hidden_feats),\n",
    "            'part_of': dgl.nn.pytorch.GraphConv(in_feats_dict['atom'], hidden_feats),\n",
    "            'has': dgl.nn.pytorch.GraphConv(in_feats_dict['group'], hidden_feats),\n",
    "            'in_clique': dgl.nn.pytorch.GraphConv(in_feats_dict['atom'], hidden_feats),\n",
    "            'contains': dgl.nn.pytorch.GraphConv(in_feats_dict['clique'], hidden_feats),\n",
    "        }, aggregate='sum')\n",
    "        \n",
    "        # Linear transformations for residual connections\n",
    "        self.res_atom = nn.Linear(in_feats_dict['atom'], hidden_feats)\n",
    "        self.res_group = nn.Linear(in_feats_dict['group'], hidden_feats)\n",
    "        self.res_clique = nn.Linear(in_feats_dict['clique'], hidden_feats)\n",
    "        \n",
    "        # Batch normalization\n",
    "        self.atom_bn = nn.BatchNorm1d(hidden_feats)\n",
    "        self.group_bn = nn.BatchNorm1d(hidden_feats)\n",
    "        self.clique_bn = nn.BatchNorm1d(hidden_feats)\n",
    "        \n",
    "        # Store hidden feature dimension for creating empty tensors\n",
    "        self.hidden_feats = hidden_feats\n",
    "        self.in_feats_dict = in_feats_dict\n",
    "    \n",
    "    def forward(self, g, feat_dict):\n",
    "        \"\"\"\n",
    "        Forward pass through the layer.\n",
    "        \n",
    "        Args:\n",
    "            g (dgl.DGLHeteroGraph): Input graph\n",
    "            feat_dict (dict): Dictionary of node features by type\n",
    "            \n",
    "        Returns:\n",
    "            dict: Updated node features by type\n",
    "        \"\"\"\n",
    "        # Create empty output dictionary\n",
    "        h_dict = {}\n",
    "        \n",
    "        try:\n",
    "            # Apply heterogeneous convolution\n",
    "            conv_dict = self.hetero_conv(g, feat_dict)\n",
    "            \n",
    "            # Add results from convolution to output dict\n",
    "            for ntype in conv_dict:\n",
    "                h_dict[ntype] = conv_dict[ntype]\n",
    "        except Exception as e:\n",
    "            print(f\"Error in heterogeneous convolution: {e}\")\n",
    "            # Create default zero tensors for each node type\n",
    "            for ntype in ['atom', 'group', 'clique']:\n",
    "                if ntype in feat_dict and feat_dict[ntype].size(0) > 0:\n",
    "                    h_dict[ntype] = torch.zeros((feat_dict[ntype].size(0), self.hidden_feats), \n",
    "                                            device=feat_dict[ntype].device)\n",
    "        \n",
    "        # Apply residual connections and batch normalization for atom nodes\n",
    "        try:\n",
    "            if g.number_of_nodes('atom') > 0:\n",
    "                # If atom not in h_dict (convolution failed), create a zero tensor\n",
    "                if 'atom' not in h_dict:\n",
    "                    h_dict['atom'] = torch.zeros((g.number_of_nodes('atom'), self.hidden_feats), \n",
    "                                            device=next(self.parameters()).device)\n",
    "                \n",
    "                # Add residual connection\n",
    "                atom_res = self.res_atom(feat_dict['atom'])\n",
    "                \n",
    "                if g.number_of_nodes('atom') == 1:\n",
    "                    # BatchNorm1d doesn't work with batch size 1, skip in this case\n",
    "                    h_dict['atom'] = h_dict['atom'] + atom_res\n",
    "                else:\n",
    "                    h_dict['atom'] = self.atom_bn(h_dict['atom'] + atom_res)\n",
    "                \n",
    "                h_dict['atom'] = F.relu(h_dict['atom'])\n",
    "        except Exception as e:\n",
    "            print(f\"Error processing atom nodes: {e}\")\n",
    "            h_dict['atom'] = torch.zeros((max(1, g.number_of_nodes('atom')), self.hidden_feats), \n",
    "                                     device=next(self.parameters()).device)\n",
    "        \n",
    "        # Apply residual connections and batch normalization for group nodes\n",
    "        try:\n",
    "            if g.number_of_nodes('group') > 0:\n",
    "                # If group not in h_dict (convolution failed), create a zero tensor\n",
    "                if 'group' not in h_dict:\n",
    "                    h_dict['group'] = torch.zeros((g.number_of_nodes('group'), self.hidden_feats), \n",
    "                                             device=next(self.parameters()).device)\n",
    "                \n",
    "                # Add residual connection\n",
    "                group_res = self.res_group(feat_dict['group'])\n",
    "                \n",
    "                if g.number_of_nodes('group') == 1:\n",
    "                    # BatchNorm1d doesn't work with batch size 1, skip in this case\n",
    "                    h_dict['group'] = h_dict['group'] + group_res\n",
    "                else:\n",
    "                    h_dict['group'] = self.group_bn(h_dict['group'] + group_res)\n",
    "                \n",
    "                h_dict['group'] = F.relu(h_dict['group'])\n",
    "        except Exception as e:\n",
    "            print(f\"Error processing group nodes: {e}\")\n",
    "            h_dict['group'] = torch.zeros((max(1, g.number_of_nodes('group')), self.hidden_feats), \n",
    "                                      device=next(self.parameters()).device)\n",
    "        \n",
    "        # Apply residual connections and batch normalization for clique nodes\n",
    "        try:\n",
    "            if g.number_of_nodes('clique') > 0:\n",
    "                # If clique not in h_dict (convolution failed), create a zero tensor\n",
    "                if 'clique' not in h_dict:\n",
    "                    h_dict['clique'] = torch.zeros((g.number_of_nodes('clique'), self.hidden_feats), \n",
    "                                              device=next(self.parameters()).device)\n",
    "                \n",
    "                # Add residual connection\n",
    "                clique_res = self.res_clique(feat_dict['clique'])\n",
    "                \n",
    "                if g.number_of_nodes('clique') == 1:\n",
    "                    # BatchNorm1d doesn't work with batch size 1, skip in this case\n",
    "                    h_dict['clique'] = h_dict['clique'] + clique_res\n",
    "                else:\n",
    "                    h_dict['clique'] = self.clique_bn(h_dict['clique'] + clique_res)\n",
    "                \n",
    "                h_dict['clique'] = F.relu(h_dict['clique'])\n",
    "        except Exception as e:\n",
    "            print(f\"Error processing clique nodes: {e}\")\n",
    "            h_dict['clique'] = torch.zeros((max(1, g.number_of_nodes('clique')), self.hidden_feats), \n",
    "                                       device=next(self.parameters()).device)\n",
    "        \n",
    "        # Ensure all node types have features in the output dict\n",
    "        for ntype in ['atom', 'group', 'clique']:\n",
    "            if ntype not in h_dict:\n",
    "                h_dict[ntype] = torch.zeros((1, self.hidden_feats), device=next(self.parameters()).device)\n",
    "        \n",
    "        return h_dict\n",
    "\n",
    "class GlobalAttentionPooling(nn.Module):\n",
    "    def __init__(self, hidden_feats):\n",
    "        super(GlobalAttentionPooling, self).__init__()\n",
    "        self.atom_gate = nn.Linear(hidden_feats, 1)\n",
    "        self.group_gate = nn.Linear(hidden_feats, 1)\n",
    "        self.clique_gate = nn.Linear(hidden_feats, 1)\n",
    "\n",
    "    def forward(self, g, feat_dict):\n",
    "        pooled_outputs = []\n",
    "\n",
    "        for ntype, gate in zip(\n",
    "            ['atom', 'group', 'clique'],\n",
    "            [self.atom_gate, self.group_gate, self.clique_gate]\n",
    "        ):\n",
    "            if ntype in g.ntypes and 'feat' in g.nodes[ntype].data:\n",
    "                h = feat_dict[ntype]\n",
    "                gate_scores = torch.sigmoid(gate(h))  # shape: [num_nodes, 1]\n",
    "                g.nodes[ntype].data['attn'] = h * gate_scores\n",
    "                pooled = dgl.readout_nodes(g, 'attn', ntype=ntype, op='sum')  # shape: [batch_size, hidden_feats]\n",
    "                pooled_outputs.append(pooled)\n",
    "\n",
    "        if len(pooled_outputs) == 0:\n",
    "            # Return dummy tensor if pooling failed\n",
    "            batch_size = g.batch_size if hasattr(g, 'batch_size') else 1\n",
    "            return torch.zeros(batch_size, self.hidden_feats, device=h.device)\n",
    "\n",
    "        return torch.stack(pooled_outputs).mean(dim=0)  # average across atom/group/clique\n",
    "\n",
    "class DrugDiscoveryHGNN(nn.Module):\n",
    "    \"\"\"\n",
    "    Heterogeneous Graph Neural Network for drug discovery with K-Clique enhancement.\n",
    "    \"\"\"\n",
    "    def __init__(self, in_feats_dict, hidden_feats=128, n_layers=3, dropout=0.2, n_tasks=1):\n",
    "        super(DrugDiscoveryHGNN, self).__init__()\n",
    "        \n",
    "        # Ensure all required node types have feature dimensions\n",
    "        self.in_feats_dict = {\n",
    "            'atom': in_feats_dict.get('atom', 22),  # Default atom feature dimension\n",
    "            'group': in_feats_dict.get('group', len(FUNCTIONAL_GROUPS)),  # Default group feature dimension\n",
    "            'clique': in_feats_dict.get('clique', 22)  # Default clique feature dimension (same as atom)\n",
    "        }\n",
    "        \n",
    "        # Graph neural network layers\n",
    "        self.layers = nn.ModuleList()\n",
    "        self.layers.append(HGNNLayer(self.in_feats_dict, hidden_feats))\n",
    "        \n",
    "        for _ in range(n_layers - 1):\n",
    "            layer_in_feats = {\n",
    "                'atom': hidden_feats,\n",
    "                'group': hidden_feats,\n",
    "                'clique': hidden_feats\n",
    "            }\n",
    "            self.layers.append(HGNNLayer(layer_in_feats, hidden_feats))\n",
    "        \n",
    "        # Pooling layer\n",
    "        self.global_pool = GlobalAttentionPooling(hidden_feats)\n",
    "        \n",
    "        # Descriptor transformation (for molecular descriptors)\n",
    "        desc_size = 17  # Based on compute_molecule_descriptors\n",
    "        self.descriptor_transform = nn.Sequential(\n",
    "            nn.Linear(desc_size, hidden_feats),\n",
    "            nn.ReLU(),\n",
    "            nn.Dropout(dropout)\n",
    "        )\n",
    "        \n",
    "        # Output layers\n",
    "        self.output = nn.Sequential(\n",
    "            nn.Linear(hidden_feats * 2, hidden_feats),\n",
    "            nn.ReLU(),\n",
    "            nn.Dropout(dropout),\n",
    "            nn.Linear(hidden_feats, n_tasks)\n",
    "        )\n",
    "        \n",
    "        self.hidden_feats = hidden_feats\n",
    "\n",
    "    def forward(self, g):\n",
    "        \"\"\"\n",
    "        Forward pass through the network for batched graph.\n",
    "\n",
    "        Args:\n",
    "            g (dgl.DGLHeteroGraph): Batched heterogeneous graph\n",
    "\n",
    "        Returns:\n",
    "            torch.Tensor: Predicted activity scores for each graph in the batch\n",
    "        \"\"\"\n",
    "        device = next(self.parameters()).device\n",
    "\n",
    "        # Prepare initial node features\n",
    "        h_dict = {}\n",
    "        for ntype in ['atom', 'group', 'clique']:\n",
    "            if 'feat' in g.nodes[ntype].data:\n",
    "                h_dict[ntype] = g.nodes[ntype].data['feat']\n",
    "            else:\n",
    "                feat_dim = self.in_feats_dict[ntype]\n",
    "                h_dict[ntype] = torch.zeros((g.number_of_nodes(ntype), feat_dim), device=device)\n",
    "\n",
    "        # Pass through HGNN layers\n",
    "        for layer in self.layers:\n",
    "            h_dict = layer(g, h_dict)\n",
    "\n",
    "        # Global pooling\n",
    "        graph_reps = self.global_pool(g, h_dict)  # shape: [batch_size, hidden_feats] or [hidden_feats] if batch=1\n",
    "\n",
    "        # Handle global descriptors\n",
    "        if hasattr(g, 'global_descriptors') and isinstance(g.global_descriptors, list):\n",
    "            descriptor_list = [\n",
    "                torch.tensor(list(d.values()), dtype=torch.float32, device=device)\n",
    "                for d in g.global_descriptors\n",
    "            ]\n",
    "            descriptor_tensor = torch.stack([\n",
    "                F.pad(desc, (0, self.descriptor_transform[0].in_features - desc.shape[0]))\n",
    "                if desc.shape[0] < self.descriptor_transform[0].in_features else desc[:self.descriptor_transform[0].in_features]\n",
    "                for desc in descriptor_list\n",
    "            ])\n",
    "            desc_reps = self.descriptor_transform(descriptor_tensor)\n",
    "        else:\n",
    "            # If no descriptors, use zeros\n",
    "            if graph_reps.dim() == 1:\n",
    "                desc_reps = torch.zeros((1, self.hidden_feats), device=device)\n",
    "            else:\n",
    "                desc_reps = torch.zeros((graph_reps.shape[0], self.hidden_feats), device=device)\n",
    "\n",
    "        # Ensure graph_reps is 2D\n",
    "        if graph_reps.dim() == 1:\n",
    "            graph_reps = graph_reps.unsqueeze(0)\n",
    "\n",
    "        if desc_reps.dim() == 1:\n",
    "            desc_reps = desc_reps.unsqueeze(0)\n",
    "\n",
    "        # Match batch size in case of mismatch\n",
    "        if graph_reps.shape[0] != desc_reps.shape[0]:\n",
    "            desc_reps = desc_reps.expand(graph_reps.shape[0], -1)\n",
    "\n",
    "        # Combine representations\n",
    "        final_rep = torch.cat([graph_reps, desc_reps], dim=1)\n",
    "        output = self.output(final_rep)\n",
    "\n",
    "        # Squeeze if output is [N, 1] to return [N]\n",
    "        if output.dim() == 2 and output.shape[1] == 1:\n",
    "            output = output.squeeze(1)\n",
    "\n",
    "        return output  # shape: [batch_size]\n",
    "\n",
    "#     def forward(self, g):\n",
    "#         \"\"\"\n",
    "#         Forward pass through the network.\n",
    "        \n",
    "#         Args:\n",
    "#             g (dgl.DGLHeteroGraph): Input heterogeneous graph\n",
    "            \n",
    "#         Returns:\n",
    "#             torch.Tensor: Predicted activity scores\n",
    "#         \"\"\"\n",
    "#         # Check if graph has the required node types\n",
    "#         if not all(ntype in g.ntypes for ntype in ['atom', 'group', 'clique']):\n",
    "#             # Return zero tensor if missing required node types\n",
    "#             return torch.zeros(1, device=next(self.parameters()).device)\n",
    "        \n",
    "#         # Check if graph has atom nodes\n",
    "#         if g.number_of_nodes('atom') == 0:\n",
    "#             return torch.zeros(1, device=next(self.parameters()).device)\n",
    "        \n",
    "#         # Prepare initial features - ensure all required features exist\n",
    "#         h_dict = {}\n",
    "        \n",
    "#         # Handle atom features\n",
    "#         if 'feat' in g.nodes['atom'].data:\n",
    "#             h_dict['atom'] = g.nodes['atom'].data['feat']\n",
    "#         else:\n",
    "#             # Create zero tensor with the right shape if features don't exist\n",
    "#             h_dict['atom'] = torch.zeros((g.number_of_nodes('atom'), self.in_feats_dict['atom']), \n",
    "#                                       dtype=torch.float, device=next(self.parameters()).device)\n",
    "        \n",
    "#         # Handle group features\n",
    "#         if g.number_of_nodes('group') > 0 and 'feat' in g.nodes['group'].data:\n",
    "#             h_dict['group'] = g.nodes['group'].data['feat']\n",
    "#         else:\n",
    "#             # Create empty tensor with the right shape\n",
    "#             h_dict['group'] = torch.zeros((max(1, g.number_of_nodes('group')), \n",
    "#                                        self.in_feats_dict['group']), \n",
    "#                                       dtype=torch.float, device=next(self.parameters()).device)\n",
    "        \n",
    "#         # Handle clique features\n",
    "#         if g.number_of_nodes('clique') > 0 and 'feat' in g.nodes['clique'].data:\n",
    "#             h_dict['clique'] = g.nodes['clique'].data['feat']\n",
    "#         else:\n",
    "#             # Create empty tensor with the right shape\n",
    "#             h_dict['clique'] = torch.zeros((max(1, g.number_of_nodes('clique')), \n",
    "#                                         self.in_feats_dict['clique']), \n",
    "#                                        dtype=torch.float, device=next(self.parameters()).device)\n",
    "        \n",
    "#         # Apply graph neural network layers (with error handling)\n",
    "#         try:\n",
    "#             for layer in self.layers:\n",
    "#                 h_dict = layer(g, h_dict)\n",
    "#         except Exception as e:\n",
    "#             print(f\"Error in GNN layers: {e}\")\n",
    "#             # Return default prediction on error\n",
    "#             return torch.zeros(1, device=next(self.parameters()).device)\n",
    "        \n",
    "#         # Apply global pooling (with error handling)\n",
    "#         try:\n",
    "#             graph_rep = self.global_pool(g, h_dict)\n",
    "#         except Exception as e:\n",
    "#             print(f\"Error in global pooling: {e}\")\n",
    "#             # If pooling fails, create a default representation\n",
    "#             graph_rep = torch.zeros(self.hidden_feats, device=next(self.parameters()).device)\n",
    "        \n",
    "#         # Transform molecular descriptors (with error handling)\n",
    "#         try:\n",
    "#             if hasattr(g, 'global_descriptors') and g.global_descriptors:\n",
    "#                 desc_values = torch.tensor(list(g.global_descriptors.values()), dtype=torch.float, \n",
    "#                                         device=next(self.parameters()).device)\n",
    "#                 # Handle case where descriptor length doesn't match expected input size\n",
    "#                 if desc_values.shape[0] != self.descriptor_transform[0].in_features:\n",
    "#                     # Pad or truncate to expected size\n",
    "#                     if desc_values.shape[0] < self.descriptor_transform[0].in_features:\n",
    "#                         padding = torch.zeros(self.descriptor_transform[0].in_features - desc_values.shape[0], \n",
    "#                                            device=desc_values.device)\n",
    "#                         desc_values = torch.cat([desc_values, padding])\n",
    "#                     else:\n",
    "#                         desc_values = desc_values[:self.descriptor_transform[0].in_features]\n",
    "                        \n",
    "#                 desc_rep = self.descriptor_transform(desc_values)\n",
    "#             else:\n",
    "#                 # If no descriptors, create a zero tensor with the right shape\n",
    "#                 desc_rep = torch.zeros(self.hidden_feats, device=next(self.parameters()).device)\n",
    "#         except Exception as e:\n",
    "#             print(f\"Error processing descriptors: {e}\")\n",
    "#             desc_rep = torch.zeros(self.hidden_feats, device=next(self.parameters()).device)\n",
    "        \n",
    "#         # Concatenate graph representation and descriptor representation\n",
    "#         try:\n",
    "#             final_rep = torch.cat([graph_rep, desc_rep], dim=0)\n",
    "            \n",
    "#             # Final prediction\n",
    "#             return self.output(final_rep)\n",
    "#         except Exception as e:\n",
    "#             print(f\"Error in final prediction: {e}\")\n",
    "#             return torch.zeros(1, device=next(self.parameters()).device)\n",
    "    \n",
    "    \n",
    "# =====================================================================\n",
    "# Part 6: Dataset and DataLoader\n",
    "# =====================================================================\n",
    "\n",
    "class MoleculeDataset(Dataset):\n",
    "    \"\"\"\n",
    "    Dataset for molecular graphs and activity labels.\n",
    "    \"\"\"\n",
    "    def __init__(self, smiles_list, labels, k_clique=3, transform_mols=True):\n",
    "        self.smiles_list = smiles_list\n",
    "        self.labels = torch.tensor(labels, dtype=torch.float)\n",
    "        self.k_clique = k_clique\n",
    "        \n",
    "        if transform_mols:\n",
    "            self.graphs = []\n",
    "            print(\"Preprocessing molecules into heterogeneous graphs...\")\n",
    "            for smiles in tqdm(smiles_list):\n",
    "                # Process molecule \n",
    "                try:\n",
    "                    mol = Chem.MolFromSmiles(smiles)\n",
    "                    if mol is None:\n",
    "                        # Add empty graph if molecule can't be parsed\n",
    "                        self.graphs.append(self.create_empty_graph())\n",
    "                        continue\n",
    "                    \n",
    "                    # Convert molecule to heterogeneous graph\n",
    "                    graph = mol_to_hetero_graph(mol)\n",
    "                    \n",
    "                    # Enhance graph with k-cliques\n",
    "                    cliques = find_k_cliques(graph, k=self.k_clique)\n",
    "                    clique_features = compute_clique_features(graph, cliques)\n",
    "                    \n",
    "                    try:\n",
    "                        enhanced_graph = enhance_graph_with_cliques(graph, cliques, clique_features)\n",
    "                        self.verify_graph(enhanced_graph)  # Check graph validity\n",
    "                        self.graphs.append(enhanced_graph)\n",
    "                    except Exception as e:\n",
    "                        print(f\"Error enhancing graph for {smiles}: {e}\")\n",
    "                        # Fall back to the original graph if enhancement fails\n",
    "                        self.graphs.append(graph)\n",
    "                except Exception as e:\n",
    "                    print(f\"Error processing molecule {smiles}: {e}\")\n",
    "                    self.graphs.append(self.create_empty_graph())\n",
    "            \n",
    "            print(f\"Successfully processed {len(self.graphs)} molecules\")\n",
    "        else:\n",
    "            self.graphs = None\n",
    "    \n",
    "    def create_empty_graph(self):\n",
    "        \"\"\"Create an empty graph with the correct structure.\"\"\"\n",
    "        g = dgl.heterograph({\n",
    "            ('atom', 'bond', 'atom'): [],\n",
    "            ('atom', 'part_of', 'group'): [],\n",
    "            ('group', 'has', 'atom'): [],\n",
    "            ('atom', 'in_clique', 'clique'): [],\n",
    "            ('clique', 'contains', 'atom'): []\n",
    "        })\n",
    "        \n",
    "        # Add minimum required features\n",
    "        g.nodes['atom'].data['feat'] = torch.zeros((0, 22), dtype=torch.float)  # 22 is the atom feature dimension\n",
    "        g.nodes['group'].data['feat'] = torch.zeros((0, len(FUNCTIONAL_GROUPS)), dtype=torch.float)\n",
    "        g.nodes['clique'].data['feat'] = torch.zeros((0, 22), dtype=torch.float)  # Same as atom features\n",
    "        \n",
    "        return g\n",
    "    \n",
    "    def verify_graph(self, g):\n",
    "        \"\"\"Check if graph has required node types and features.\"\"\"\n",
    "        # Check node types\n",
    "        for ntype in ['atom', 'group', 'clique']:\n",
    "            if ntype not in g.ntypes:\n",
    "                raise ValueError(f\"Graph missing node type: {ntype}\")\n",
    "        \n",
    "        # Check edge types\n",
    "        required_etypes = [\n",
    "            ('atom', 'bond', 'atom'),\n",
    "            ('atom', 'part_of', 'group'),\n",
    "            ('group', 'has', 'atom'),\n",
    "            ('atom', 'in_clique', 'clique'),\n",
    "            ('clique', 'contains', 'atom')\n",
    "        ]\n",
    "        \n",
    "        for src, etype, dst in required_etypes:\n",
    "            if etype not in g.etypes:\n",
    "                raise ValueError(f\"Graph missing edge type: {etype}\")\n",
    "        \n",
    "        # Check features\n",
    "        if 'atom' in g.ntypes and g.number_of_nodes('atom') > 0:\n",
    "            if 'feat' not in g.nodes['atom'].data:\n",
    "                raise ValueError(\"Atom nodes missing 'feat' data\")\n",
    "        \n",
    "        if 'group' in g.ntypes and g.number_of_nodes('group') > 0:\n",
    "            if 'feat' not in g.nodes['group'].data:\n",
    "                raise ValueError(\"Group nodes missing 'feat' data\")\n",
    "        \n",
    "        if 'clique' in g.ntypes and g.number_of_nodes('clique') > 0:\n",
    "            if 'feat' not in g.nodes['clique'].data:\n",
    "                raise ValueError(\"Clique nodes missing 'feat' data\")\n",
    "    \n",
    "    def __len__(self):\n",
    "        return len(self.smiles_list)\n",
    "    \n",
    "    def __getitem__(self, idx):\n",
    "        if self.graphs is not None:\n",
    "            return self.graphs[idx], self.labels[idx]\n",
    "        else:\n",
    "            smiles = self.smiles_list[idx]\n",
    "            try:\n",
    "                mol = Chem.MolFromSmiles(smiles)\n",
    "                \n",
    "                if mol is None:\n",
    "                    # Return empty graph if molecule can't be parsed\n",
    "                    graph = self.create_empty_graph()\n",
    "                else:\n",
    "                    # Convert molecule to heterogeneous graph\n",
    "                    graph = mol_to_hetero_graph(mol)\n",
    "                    \n",
    "                    # Enhance graph with k-cliques\n",
    "                    cliques = find_k_cliques(graph, k=self.k_clique)\n",
    "                    clique_features = compute_clique_features(graph, cliques)\n",
    "                    try:\n",
    "                        graph = enhance_graph_with_cliques(graph, cliques, clique_features)\n",
    "                        self.verify_graph(graph)  # Check graph validity\n",
    "                    except Exception as e:\n",
    "                        print(f\"Error enhancing graph on-the-fly: {e}\")\n",
    "                        # Keep original graph if enhancement fails\n",
    "                        pass\n",
    "            except Exception as e:\n",
    "                print(f\"Error processing molecule {smiles} on-the-fly: {e}\")\n",
    "                graph = self.create_empty_graph()\n",
    "            \n",
    "            return graph, self.labels[idx]\n",
    "def collate_fn(batch):\n",
    "    \"\"\"\n",
    "    Collate function for batching heterogeneous graphs with error handling.\n",
    "    \n",
    "    Args:\n",
    "        batch (list): List of (graph, label) tuples\n",
    "        \n",
    "    Returns:\n",
    "        tuple: Batched graph and labels\n",
    "    \"\"\"\n",
    "    graphs, labels = map(list, zip(*batch))\n",
    "    \n",
    "    # Verify all graphs have the same structure\n",
    "    uniform_structure = True\n",
    "    if not all_same_structure(graphs):\n",
    "        # If graphs don't have the same structure, fix them\n",
    "        graphs = standardize_graphs(graphs)\n",
    "        uniform_structure = False\n",
    "    \n",
    "    try:\n",
    "        if uniform_structure:\n",
    "            # If all graphs have the same structure, use dgl.batch\n",
    "            batched_graph = dgl.batch(graphs)\n",
    "        else:\n",
    "            # Otherwise use custom batching\n",
    "            batched_graph = custom_batch(graphs)\n",
    "    except Exception as e:\n",
    "        print(f\"Error in batching: {e}\")\n",
    "        # Return a placeholder graph with the right structure\n",
    "        batched_graph = create_placeholder_graph()\n",
    "    \n",
    "    # Ensure labels are properly formatted\n",
    "    try:\n",
    "        batched_labels = torch.stack(labels)\n",
    "    except Exception as e:\n",
    "        print(f\"Error in stacking labels: {e}\")\n",
    "        # Create placeholder labels\n",
    "        batched_labels = torch.zeros(len(labels), dtype=torch.float)\n",
    "    \n",
    "    return batched_graph, batched_labels\n",
    "\n",
    "def all_same_structure(graphs):\n",
    "    \"\"\"\n",
    "    Check if all graphs have the same node and edge types.\n",
    "    \n",
    "    Args:\n",
    "        graphs (list): List of DGL heterogeneous graphs\n",
    "        \n",
    "    Returns:\n",
    "        bool: True if all graphs have the same structure, False otherwise\n",
    "    \"\"\"\n",
    "    if not graphs:\n",
    "        return True\n",
    "    \n",
    "    # Check node types\n",
    "    ref_ntypes = set(graphs[0].ntypes)\n",
    "    for g in graphs[1:]:\n",
    "        if set(g.ntypes) != ref_ntypes:\n",
    "            return False\n",
    "    \n",
    "    # Check edge types\n",
    "    ref_etypes = set(graphs[0].etypes)\n",
    "    for g in graphs[1:]:\n",
    "        if set(g.etypes) != ref_etypes:\n",
    "            return False\n",
    "    \n",
    "    return True\n",
    "\n",
    "def standardize_graphs(graphs):\n",
    "    \"\"\"\n",
    "    Standardize a list of graphs to have the same structure.\n",
    "    \n",
    "    Args:\n",
    "        graphs (list): List of DGL heterogeneous graphs\n",
    "        \n",
    "    Returns:\n",
    "        list: List of standardized DGL heterogeneous graphs\n",
    "    \"\"\"\n",
    "    if not graphs:\n",
    "        return []\n",
    "    \n",
    "    # Define the standard node and edge types\n",
    "    standard_ntypes = {'atom', 'group', 'clique'}\n",
    "    standard_etypes = {\n",
    "        'bond': ('atom', 'atom'),\n",
    "        'part_of': ('atom', 'group'),\n",
    "        'has': ('group', 'atom'),\n",
    "        'in_clique': ('atom', 'clique'),\n",
    "        'contains': ('clique', 'atom')\n",
    "    }\n",
    "    \n",
    "    standardized = []\n",
    "    for g in graphs:\n",
    "        try:\n",
    "            # Create a new standardized graph\n",
    "            new_graph = dgl.heterograph({\n",
    "                ('atom', 'bond', 'atom'): ([], []),\n",
    "                ('atom', 'part_of', 'group'): ([], []),\n",
    "                ('group', 'has', 'atom'): ([], []),\n",
    "                ('atom', 'in_clique', 'clique'): ([], []),\n",
    "                ('clique', 'contains', 'atom'): ([], [])\n",
    "            })\n",
    "            \n",
    "            # Copy nodes and their features\n",
    "            for ntype in g.ntypes:\n",
    "                if ntype in standard_ntypes:\n",
    "                    num_nodes = g.number_of_nodes(ntype)\n",
    "                    new_graph.add_nodes(num_nodes, ntype=ntype)\n",
    "                    \n",
    "                    # Copy node features\n",
    "                    if 'feat' in g.nodes[ntype].data:\n",
    "                        new_graph.nodes[ntype].data['feat'] = g.nodes[ntype].data['feat']\n",
    "            \n",
    "            # Copy edges and their features\n",
    "            for etype in g.canonical_etypes:\n",
    "                src_type, edge_type, dst_type = etype\n",
    "                if (src_type in standard_ntypes and \n",
    "                    dst_type in standard_ntypes and \n",
    "                    edge_type in [e for e, _ in standard_etypes.items()]):\n",
    "                    \n",
    "                    # Get edges\n",
    "                    edges = g.edges(etype=edge_type)\n",
    "                    if edges[0].numel() > 0:  # Check if there are edges\n",
    "                        new_graph.add_edges(edges[0], edges[1], etype=edge_type)\n",
    "                        \n",
    "                        # Copy edge features\n",
    "                        if 'feat' in g.edges[edge_type].data:\n",
    "                            new_graph.edges[edge_type].data['feat'] = g.edges[edge_type].data['feat']\n",
    "            \n",
    "            # Copy global descriptors if they exist\n",
    "            if hasattr(g, 'global_descriptors'):\n",
    "                new_graph.global_descriptors = g.global_descriptors\n",
    "            \n",
    "            standardized.append(new_graph)\n",
    "        except Exception as e:\n",
    "            print(f\"Error standardizing graph: {e}\")\n",
    "            # Add an empty placeholder graph\n",
    "            standardized.append(create_placeholder_graph())\n",
    "    \n",
    "    return standardized\n",
    "\n",
    "def custom_batch(graphs):\n",
    "    \"\"\"\n",
    "    Custom batching function for heterogeneous graphs with different structures.\n",
    "    \n",
    "    Args:\n",
    "        graphs (list): List of DGL heterogeneous graphs\n",
    "        \n",
    "    Returns:\n",
    "        dgl.DGLHeteroGraph: Batched graph\n",
    "    \"\"\"\n",
    "    if not graphs:\n",
    "        return create_placeholder_graph()\n",
    "    \n",
    "    try:\n",
    "        # Create a standardized structure for all graphs\n",
    "        std_graphs = standardize_graphs(graphs)\n",
    "        \n",
    "        # Now that all graphs have the same structure, use dgl.batch\n",
    "        return dgl.batch(std_graphs)\n",
    "    except Exception as e:\n",
    "        print(f\"Error in custom batching: {e}\")\n",
    "        return create_placeholder_graph()\n",
    "\n",
    "def create_placeholder_graph():\n",
    "    \"\"\"\n",
    "    Create a placeholder graph with the standard structure.\n",
    "    \n",
    "    Returns:\n",
    "        dgl.DGLHeteroGraph: Empty placeholder graph\n",
    "    \"\"\"\n",
    "    # Create an empty graph with the standard structure\n",
    "    g = dgl.heterograph({\n",
    "        ('atom', 'bond', 'atom'): ([], []),\n",
    "        ('atom', 'part_of', 'group'): ([], []),\n",
    "        ('group', 'has', 'atom'): ([], []),\n",
    "        ('atom', 'in_clique', 'clique'): ([], []),\n",
    "        ('clique', 'contains', 'atom'): ([], [])\n",
    "    })\n",
    "    \n",
    "    # Add dummy nodes to avoid empty feature errors\n",
    "    g.add_nodes(1, ntype='atom')\n",
    "    g.add_nodes(1, ntype='group')\n",
    "    g.add_nodes(1, ntype='clique')\n",
    "    \n",
    "    # Add minimal features\n",
    "    g.nodes['atom'].data['feat'] = torch.zeros((1, 22), dtype=torch.float)\n",
    "    g.nodes['group'].data['feat'] = torch.zeros((1, len(FUNCTIONAL_GROUPS)), dtype=torch.float)\n",
    "    g.nodes['clique'].data['feat'] = torch.zeros((1, 22), dtype=torch.float)\n",
    "    \n",
    "    # Add global descriptors\n",
    "    g.global_descriptors = default_descriptors()\n",
    "    \n",
    "    return g\n",
    "\n",
    "\n",
    "# =====================================================================\n",
    "# Part 7: Training and Evaluation Functions\n",
    "# =====================================================================\n",
    "\n",
    "def train_model(model, train_loader, val_loader, device, lr=0.001, epochs=50, patience=10):\n",
    "    \"\"\"\n",
    "    Train the model and evaluate on validation set.\n",
    "    \n",
    "    Args:\n",
    "        model (nn.Module): The model to train\n",
    "        train_loader (DataLoader): Training data loader\n",
    "        val_loader (DataLoader): Validation data loader\n",
    "        device (torch.device): Device to use for training\n",
    "        lr (float): Learning rate\n",
    "        epochs (int): Number of training epochs\n",
    "        patience (int): Patience for early stopping\n",
    "        \n",
    "    Returns:\n",
    "        nn.Module: Trained model\n",
    "        dict: Training history\n",
    "    \"\"\"\n",
    "    model = model.to(device)\n",
    "    optimizer = torch.optim.Adam(model.parameters(), lr=lr)\n",
    "    criterion = nn.BCEWithLogitsLoss()\n",
    "    \n",
    "    # Learning rate scheduler\n",
    "    scheduler = torch.optim.lr_scheduler.ReduceLROnPlateau(\n",
    "        optimizer, mode='max', factor=0.5, patience=5, verbose=True\n",
    "    )\n",
    "    \n",
    "    # For early stopping\n",
    "    best_val_auc = 0\n",
    "    no_improve_epochs = 0\n",
    "    best_model_state = None\n",
    "    \n",
    "    # Training history\n",
    "    history = {\n",
    "        'train_loss': [],\n",
    "        'train_auc': [],\n",
    "        'val_loss': [],\n",
    "        'val_auc': []\n",
    "    }\n",
    "    \n",
    "    print(\"Starting training...\")\n",
    "    for epoch in range(epochs):\n",
    "        epoch_start_time = time.time()\n",
    "        \n",
    "        # Training phase\n",
    "        model.train()\n",
    "        train_loss = 0\n",
    "        train_preds = []\n",
    "        train_labels = []\n",
    "        \n",
    "        for graphs, labels in tqdm(train_loader, desc=f\"Epoch {epoch+1}/{epochs} (Train)\"):\n",
    "            graphs = graphs.to(device)\n",
    "            labels = labels.to(device)\n",
    "            \n",
    "            # Forward pass\n",
    "            logits = model(graphs)\n",
    "            print(\"logits shape:\", logits.shape)\n",
    "            print(\"labels shape:\", labels.shape)\n",
    "            loss = criterion(logits, labels)\n",
    "            \n",
    "            # Backward pass and optimization\n",
    "            optimizer.zero_grad()\n",
    "            loss.backward()\n",
    "            optimizer.step()\n",
    "            \n",
    "            train_loss += loss.item()\n",
    "            train_preds.append(torch.sigmoid(logits).detach().cpu())\n",
    "            train_labels.append(labels.detach().cpu())\n",
    "        \n",
    "        train_loss /= len(train_loader)\n",
    "        train_preds = torch.cat(train_preds)\n",
    "        train_labels = torch.cat(train_labels)\n",
    "        train_auc = roc_auc_score(train_labels, train_preds)\n",
    "        \n",
    "        # Validation phase\n",
    "        model.eval()\n",
    "        val_loss = 0\n",
    "        val_preds = []\n",
    "        val_labels = []\n",
    "        \n",
    "        with torch.no_grad():\n",
    "            for graphs, labels in tqdm(val_loader, desc=f\"Epoch {epoch+1}/{epochs} (Validation)\"):\n",
    "                graphs = graphs.to(device)\n",
    "                labels = labels.to(device)\n",
    "                \n",
    "                # Forward pass\n",
    "                logits = model(graphs)\n",
    "                loss = criterion(logits, labels)\n",
    "                \n",
    "                val_loss += loss.item()\n",
    "                val_preds.append(torch.sigmoid(logits).detach().cpu())\n",
    "                val_labels.append(labels.detach().cpu())\n",
    "        \n",
    "        val_loss /= len(val_loader)\n",
    "        val_preds = torch.cat(val_preds)\n",
    "        val_labels = torch.cat(val_labels)\n",
    "        val_auc = roc_auc_score(val_labels, val_preds)\n",
    "        \n",
    "        # Update learning rate\n",
    "        scheduler.step(val_auc)\n",
    "        \n",
    "        # Save history\n",
    "        history['train_loss'].append(train_loss)\n",
    "        history['train_auc'].append(train_auc)\n",
    "        history['val_loss'].append(val_loss)\n",
    "        history['val_auc'].append(val_auc)\n",
    "        \n",
    "        # Print metrics\n",
    "        epoch_time = time.time() - epoch_start_time\n",
    "        print(f\"Epoch {epoch+1}/{epochs} - Time: {epoch_time:.1f}s - \"\n",
    "              f\"Train Loss: {train_loss:.4f}, Train AUC: {train_auc:.4f}, \"\n",
    "              f\"Val Loss: {val_loss:.4f}, Val AUC: {val_auc:.4f}\")\n",
    "        \n",
    "        # Check if model improved\n",
    "        if val_auc > best_val_auc:\n",
    "            best_val_auc = val_auc\n",
    "            best_model_state = model.state_dict().copy()\n",
    "            no_improve_epochs = 0\n",
    "            print(f\"New best model with validation AUC: {val_auc:.4f}\")\n",
    "        else:\n",
    "            no_improve_epochs += 1\n",
    "            if no_improve_epochs >= patience:\n",
    "                print(f\"Early stopping after {patience} epochs without improvement\")\n",
    "                break\n",
    "    \n",
    "    # Load best model\n",
    "    if best_model_state is not None:\n",
    "        model.load_state_dict(best_model_state)\n",
    "    \n",
    "    return model, history\n",
    "\n",
    "def evaluate_model(model, test_loader, device):\n",
    "    \"\"\"\n",
    "    Evaluate the model on test data.\n",
    "    \n",
    "    Args:\n",
    "        model (nn.Module): Trained model\n",
    "        test_loader (DataLoader): Test data loader\n",
    "        device (torch.device): Device to use for evaluation\n",
    "        \n",
    "    Returns:\n",
    "        dict: Dictionary of evaluation metrics\n",
    "    \"\"\"\n",
    "    model = model.to(device)\n",
    "    model.eval()\n",
    "    \n",
    "    test_preds = []\n",
    "    test_labels = []\n",
    "    \n",
    "    with torch.no_grad():\n",
    "        for graphs, labels in tqdm(test_loader, desc=\"Evaluating on test set\"):\n",
    "            graphs = graphs.to(device)\n",
    "            \n",
    "            # Forward pass\n",
    "            logits = model(graphs)\n",
    "            probs = torch.sigmoid(logits)\n",
    "            \n",
    "            test_preds.append(probs.detach().cpu())\n",
    "            test_labels.append(labels.detach().cpu())\n",
    "    \n",
    "    test_preds = torch.cat(test_preds)\n",
    "    test_labels = torch.cat(test_labels)\n",
    "    \n",
    "    # Calculate metrics\n",
    "    roc_auc = roc_auc_score(test_labels, test_preds)\n",
    "    \n",
    "    # Calculate precision-recall AUC\n",
    "    precision, recall, _ = precision_recall_curve(test_labels, test_preds)\n",
    "    pr_auc = auc(recall, precision)\n",
    "    \n",
    "    # Calculate accuracy at threshold 0.5\n",
    "    binary_preds = (test_preds > 0.5).float()\n",
    "    accuracy = accuracy_score(test_labels, binary_preds)\n",
    "    \n",
    "    return {\n",
    "        'roc_auc': roc_auc,\n",
    "        'pr_auc': pr_auc,\n",
    "        'accuracy': accuracy,\n",
    "        'predictions': test_preds.numpy(),\n",
    "        'labels': test_labels.numpy()\n",
    "    }\n",
    "\n",
    "def predict_activity(model, smiles, device, k_clique=3):\n",
    "    \"\"\"\n",
    "    Predict the activity of a molecule.\n",
    "    \n",
    "    Args:\n",
    "        model (nn.Module): Trained model\n",
    "        smiles (str): SMILES string of the molecule\n",
    "        device (torch.device): Device to use for prediction\n",
    "        k_clique (int): Size of cliques to detect\n",
    "        \n",
    "    Returns:\n",
    "        float: Predicted activity probability\n",
    "    \"\"\"\n",
    "    model = model.to(device)\n",
    "    model.eval()\n",
    "    \n",
    "    # Convert SMILES to molecule\n",
    "    mol = Chem.MolFromSmiles(smiles)\n",
    "    if mol is None:\n",
    "        return 0.0\n",
    "    \n",
    "    # Convert molecule to heterogeneous graph\n",
    "    graph = mol_to_hetero_graph(mol)\n",
    "    \n",
    "    # Enhance graph with k-cliques\n",
    "    cliques = find_k_cliques(graph, k=k_clique)\n",
    "    clique_features = compute_clique_features(graph, cliques)\n",
    "    enhanced_graph = enhance_graph_with_cliques(graph, cliques, clique_features)\n",
    "    \n",
    "    # Move graph to device\n",
    "    enhanced_graph = enhanced_graph.to(device)\n",
    "    \n",
    "    # Make prediction\n",
    "    with torch.no_grad():\n",
    "        logits = model(enhanced_graph)\n",
    "        prob = torch.sigmoid(logits).item()\n",
    "    \n",
    "    return prob\n",
    "\n",
    "def plot_roc_curve(y_true, y_pred, save_path=None):\n",
    "    \"\"\"\n",
    "    Plot ROC curve.\n",
    "    \n",
    "    Args:\n",
    "        y_true (array): True labels\n",
    "        y_pred (array): Predicted probabilities\n",
    "        save_path (str): Path to save the figure\n",
    "    \"\"\"\n",
    "    from sklearn.metrics import roc_curve\n",
    "    \n",
    "    fpr, tpr, _ = roc_curve(y_true, y_pred)\n",
    "    roc_auc = roc_auc_score(y_true, y_pred)\n",
    "    \n",
    "    plt.figure(figsize=(10, 8))\n",
    "    plt.plot(fpr, tpr, color='darkorange', lw=2, label=f'ROC curve (area = {roc_auc:.3f})')\n",
    "    plt.plot([0, 1], [0, 1], color='navy', lw=2, linestyle='--')\n",
    "    plt.xlim([0.0, 1.0])\n",
    "    plt.ylim([0.0, 1.05])\n",
    "    plt.xlabel('False Positive Rate')\n",
    "    plt.ylabel('True Positive Rate')\n",
    "    plt.title('Receiver Operating Characteristic (ROC) Curve')\n",
    "    plt.legend(loc=\"lower right\")\n",
    "    \n",
    "    if save_path:\n",
    "        plt.savefig(save_path)\n",
    "    \n",
    "    plt.show()\n",
    "\n",
    "def plot_precision_recall_curve(y_true, y_pred, save_path=None):\n",
    "    \"\"\"\n",
    "    Plot precision-recall curve.\n",
    "    \n",
    "    Args:\n",
    "        y_true (array): True labels\n",
    "        y_pred (array): Predicted probabilities\n",
    "        save_path (str): Path to save the figure\n",
    "    \"\"\"\n",
    "    precision, recall, _ = precision_recall_curve(y_true, y_pred)\n",
    "    pr_auc = auc(recall, precision)\n",
    "    \n",
    "    plt.figure(figsize=(10, 8))\n",
    "    plt.plot(recall, precision, color='blue', lw=2, label=f'PR curve (area = {pr_auc:.3f})')\n",
    "    plt.xlabel('Recall')\n",
    "    plt.ylabel('Precision')\n",
    "    plt.title('Precision-Recall Curve')\n",
    "    plt.legend(loc=\"lower left\")\n",
    "    \n",
    "    if save_path:\n",
    "        plt.savefig(save_path)\n",
    "    \n",
    "    plt.show()\n",
    "\n",
    "def plot_training_history(history, save_path=None):\n",
    "    \"\"\"\n",
    "    Plot training and validation metrics.\n",
    "    \n",
    "    Args:\n",
    "        history (dict): Training history\n",
    "        save_path (str): Path to save the figure\n",
    "    \"\"\"\n",
    "    plt.figure(figsize=(12, 10))\n",
    "    \n",
    "    # Plot loss\n",
    "    plt.subplot(2, 1, 1)\n",
    "    plt.plot(history['train_loss'], label='Training Loss')\n",
    "    plt.plot(history['val_loss'], label='Validation Loss')\n",
    "    plt.title('Loss over Training Epochs')\n",
    "    plt.xlabel('Epoch')\n",
    "    plt.ylabel('Loss')\n",
    "    plt.legend()\n",
    "    \n",
    "    # Plot AUC\n",
    "    plt.subplot(2, 1, 2)\n",
    "    plt.plot(history['train_auc'], label='Training AUC')\n",
    "    plt.plot(history['val_auc'], label='Validation AUC')\n",
    "    plt.title('AUC over Training Epochs')\n",
    "    plt.xlabel('Epoch')\n",
    "    plt.ylabel('AUC')\n",
    "    plt.legend()\n",
    "    \n",
    "    plt.tight_layout()\n",
    "    \n",
    "    if save_path:\n",
    "        plt.savefig(save_path)\n",
    "    \n",
    "    plt.show()\n",
    "\n",
    "# =====================================================================\n",
    "# Part 8: Main Function to Run the Pipeline\n",
    "# =====================================================================\n",
    "\n",
    "def main(args):\n",
    "    \"\"\"\n",
    "    Main function to run the drug discovery pipeline.\n",
    "    \n",
    "    Args:\n",
    "        args: Command line arguments\n",
    "    \"\"\"\n",
    "    # Set random seeds for reproducibility\n",
    "    torch.manual_seed(args.seed)\n",
    "    np.random.seed(args.seed)\n",
    "    \n",
    "    # Device configuration\n",
    "    device = torch.device('cuda' if torch.cuda.is_available() else 'cpu')\n",
    "    print(f\"Using device: {device}\")\n",
    "    \n",
    "    # Step 1: Get data\n",
    "    if os.path.exists(args.data_file):\n",
    "        print(f\"Loading dataset from {args.data_file}\")\n",
    "        df = load_dataset(args.data_file)\n",
    "    else:\n",
    "        print(f\"Fetching data from ChEMBL for target {args.target_id}\")\n",
    "        df = fetch_chembl_data(target_id=args.target_id, limit=args.data_limit, \n",
    "                             pchembl_threshold=args.pchembl_threshold)\n",
    "        save_dataset(df, args.data_file)\n",
    "    \n",
    "    if df is None or len(df) == 0:\n",
    "        print(\"No data available. Exiting.\")\n",
    "        return\n",
    "    \n",
    "    # Print dataset statistics\n",
    "    print(f\"Dataset size: {len(df)}\")\n",
    "    print(f\"Positive samples: {df['active'].sum()}\")\n",
    "    print(f\"Negative samples: {len(df) - df['active'].sum()}\")\n",
    "    \n",
    "    # Step 2: Split data into train, validation, and test sets\n",
    "    smiles_list = df['smiles'].tolist()\n",
    "    labels = df['active'].tolist()\n",
    "    \n",
    "    # Stratified split\n",
    "    X_train_val, X_test, y_train_val, y_test = train_test_split(\n",
    "        smiles_list, labels, test_size=args.test_size, random_state=args.seed, stratify=labels\n",
    "    )\n",
    "    \n",
    "    X_train, X_val, y_train, y_val = train_test_split(\n",
    "        X_train_val, y_train_val, test_size=args.val_size, random_state=args.seed, stratify=y_train_val\n",
    "    )\n",
    "    \n",
    "    print(f\"Training set: {len(X_train)} samples\")\n",
    "    print(f\"Validation set: {len(X_val)} samples\")\n",
    "    print(f\"Test set: {len(X_test)} samples\")\n",
    "    \n",
    "    # Step 3: Create datasets\n",
    "    train_dataset = MoleculeDataset(X_train, y_train, k_clique=args.k_clique)\n",
    "    val_dataset = MoleculeDataset(X_val, y_val, k_clique=args.k_clique)\n",
    "    test_dataset = MoleculeDataset(X_test, y_test, k_clique=args.k_clique)\n",
    "    \n",
    "    # Step 4: Create data loaders\n",
    "    train_loader = DataLoader(\n",
    "        train_dataset, batch_size=args.batch_size, shuffle=True, collate_fn=collate_fn\n",
    "    )\n",
    "    val_loader = DataLoader(\n",
    "        val_dataset, batch_size=args.batch_size, collate_fn=collate_fn\n",
    "    )\n",
    "    test_loader = DataLoader(\n",
    "        test_dataset, batch_size=args.batch_size, collate_fn=collate_fn\n",
    "    )\n",
    "    \n",
    "    # Step 5: Initialize model\n",
    "    # Get feature dimensions from a sample graph\n",
    "    sample_graph = train_dataset[0][0]\n",
    "    in_feats_dict = {\n",
    "        'atom': sample_graph.nodes['atom'].data['feat'].shape[1],\n",
    "        'group': sample_graph.nodes['group'].data['feat'].shape[1] if sample_graph.number_of_nodes('group') > 0 else len(FUNCTIONAL_GROUPS),\n",
    "        'clique': sample_graph.nodes['clique'].data['feat'].shape[1] if sample_graph.number_of_nodes('clique') > 0 else sample_graph.nodes['atom'].data['feat'].shape[1]\n",
    "    }\n",
    "    \n",
    "    model = DrugDiscoveryHGNN(\n",
    "        in_feats_dict=in_feats_dict,\n",
    "        hidden_feats=args.hidden_feats,\n",
    "        n_layers=args.n_layers,\n",
    "        dropout=args.dropout,\n",
    "        n_tasks=1\n",
    "    )\n",
    "    \n",
    "    print(f\"Model initialized with {sum(p.numel() for p in model.parameters())} parameters\")\n",
    "    \n",
    "    # Step 6: Train model\n",
    "    if args.load_model and os.path.exists(args.model_path):\n",
    "        print(f\"Loading pre-trained model from {args.model_path}\")\n",
    "        model.load_state_dict(torch.load(args.model_path, map_location=device))\n",
    "        history = None\n",
    "    else:\n",
    "        print(\"Training model...\")\n",
    "        model, history = train_model(\n",
    "            model=model,\n",
    "            train_loader=train_loader,\n",
    "            val_loader=val_loader,\n",
    "            device=device,\n",
    "            lr=args.lr,\n",
    "            epochs=args.epochs,\n",
    "            patience=args.patience\n",
    "        )\n",
    "        \n",
    "        # Save model\n",
    "        os.makedirs(os.path.dirname(args.model_path), exist_ok=True)\n",
    "        torch.save(model.state_dict(), args.model_path)\n",
    "        print(f\"Model saved to {args.model_path}\")\n",
    "        \n",
    "        # Plot training history\n",
    "        if history is not None:\n",
    "            plot_training_history(history, save_path=\"training_history.png\")\n",
    "    \n",
    "    # Step 7: Evaluate model\n",
    "    print(\"Evaluating model on test set...\")\n",
    "    metrics = evaluate_model(model, test_loader, device)\n",
    "    \n",
    "    print(\"\\nTest set evaluation:\")\n",
    "    print(f\"ROC AUC: {metrics['roc_auc']:.4f}\")\n",
    "    print(f\"PR AUC: {metrics['pr_auc']:.4f}\")\n",
    "    print(f\"Accuracy: {metrics['accuracy']:.4f}\")\n",
    "    \n",
    "    # Step 8: Plot ROC and PR curves\n",
    "    plot_roc_curve(metrics['labels'], metrics['predictions'], save_path=\"roc_curve.png\")\n",
    "    plot_precision_recall_curve(metrics['labels'], metrics['predictions'], save_path=\"pr_curve.png\")\n",
    "    \n",
    "    # Step 9: Example predictions for new molecules\n",
    "    example_molecules = [\n",
    "        \"CCO\",  # Ethanol\n",
    "        \"CC(=O)OC1=CC=CC=C1C(=O)O\",  # Aspirin\n",
    "        \"CNC(=O)c1ccc(cc1)OC\",  # Paracetamol\n",
    "        \"CC1=C(C=C(C=C1)S(=O)(=O)N)CC(C(=O)O)N\",  # Sulfamethoxazole\n",
    "        \"COc1ccc2c(c1)c(ccn2)Cc3ccc(cc3)OC\",  # Proprietary drug-like structure\n",
    "    ]\n",
    "    \n",
    "    print(\"\\nExample predictions:\")\n",
    "    for smiles in example_molecules:\n",
    "        prob = predict_activity(model, smiles, device, args.k_clique)\n",
    "        mol = Chem.MolFromSmiles(smiles)\n",
    "        name = mol.GetProp(\"_Name\") if mol and mol.HasProp(\"_Name\") else smiles\n",
    "        print(f\"Molecule: {name}\")\n",
    "        print(f\"SMILES: {smiles}\")\n",
    "        print(f\"Predicted activity: {prob:.4f}\")\n",
    "        print(\"-\" * 50)\n",
    "    \n",
    "    # Save results\n",
    "    results = {\n",
    "        'target_id': args.target_id,\n",
    "        'roc_auc': float(metrics['roc_auc']),\n",
    "        'pr_auc': float(metrics['pr_auc']),\n",
    "        'accuracy': float(metrics['accuracy']),\n",
    "        'example_predictions': [\n",
    "            {\n",
    "                'smiles': smiles,\n",
    "                'activity': float(predict_activity(model, smiles, device, args.k_clique))\n",
    "            }\n",
    "            for smiles in example_molecules\n",
    "        ]\n",
    "    }\n",
    "    \n",
    "    with open(\"results.json\", \"w\") as f:\n",
    "        json.dump(results, f, indent=4)\n",
    "    \n",
    "    print(\"Results saved to results.json\")\n",
    "\n",
    "\n",
    "# =====================================================================\n",
    "# Part 9: Parameters configuration (for Jupyter notebook)\n",
    "# =====================================================================\n",
    "\n",
    "class Args:\n",
    "    def __init__(self):\n",
    "        # Data parameters\n",
    "        self.target_id = \"CHEMBL203\"\n",
    "        self.data_file = \"chembl_dataset.csv\"\n",
    "        self.data_limit = 1000\n",
    "        self.pchembl_threshold = 6.0\n",
    "        \n",
    "        # Split parameters\n",
    "        self.test_size = 0.2\n",
    "        self.val_size = 0.2\n",
    "        \n",
    "        # Model parameters\n",
    "        self.k_clique = 3\n",
    "        self.hidden_feats = 128\n",
    "        self.n_layers = 3\n",
    "        self.dropout = 0.2\n",
    "        \n",
    "        # Training parameters\n",
    "        self.batch_size = 32\n",
    "        self.lr = 0.001\n",
    "        self.epochs = 50\n",
    "        self.patience = 10\n",
    "        self.seed = 42\n",
    "        \n",
    "        # Model loading/saving\n",
    "        self.model_path = \"models/drug_discovery_hgnn.pt\"\n",
    "        self.load_model = False\n",
    "\n",
    "# Create output directories\n",
    "os.makedirs(\"models\", exist_ok=True)\n",
    "\n",
    "# Create args object\n",
    "args = Args()\n",
    "\n",
    "# Call main function with args\n",
    "main(args)"
   ]
  },
  {
   "cell_type": "code",
   "execution_count": 2,
   "id": "f9fe4464",
   "metadata": {},
   "outputs": [
    {
     "ename": "AttributeError",
     "evalue": "'NoneType' object has no attribute 'split'",
     "output_type": "error",
     "traceback": [
      "\u001b[1;31m---------------------------------------------------------------------------\u001b[0m",
      "\u001b[1;31mAttributeError\u001b[0m                            Traceback (most recent call last)",
      "Cell \u001b[1;32mIn[2], line 30\u001b[0m\n\u001b[0;32m     28\u001b[0m \u001b[38;5;66;03m# Perform t-SNE dimensionality reduction\u001b[39;00m\n\u001b[0;32m     29\u001b[0m tsne \u001b[38;5;241m=\u001b[39m TSNE(n_components\u001b[38;5;241m=\u001b[39m\u001b[38;5;241m2\u001b[39m, random_state\u001b[38;5;241m=\u001b[39m\u001b[38;5;241m42\u001b[39m, perplexity\u001b[38;5;241m=\u001b[39m\u001b[38;5;241m30\u001b[39m)\n\u001b[1;32m---> 30\u001b[0m k_clique_tsne \u001b[38;5;241m=\u001b[39m tsne\u001b[38;5;241m.\u001b[39mfit_transform(k_clique_embeddings)\n\u001b[0;32m     31\u001b[0m tsne \u001b[38;5;241m=\u001b[39m TSNE(n_components\u001b[38;5;241m=\u001b[39m\u001b[38;5;241m2\u001b[39m, random_state\u001b[38;5;241m=\u001b[39m\u001b[38;5;241m42\u001b[39m, perplexity\u001b[38;5;241m=\u001b[39m\u001b[38;5;241m30\u001b[39m)\n\u001b[0;32m     32\u001b[0m func_group_tsne \u001b[38;5;241m=\u001b[39m tsne\u001b[38;5;241m.\u001b[39mfit_transform(func_group_embeddings)\n",
      "File \u001b[1;32m~\\anaconda3\\Lib\\site-packages\\sklearn\\utils\\_set_output.py:140\u001b[0m, in \u001b[0;36m_wrap_method_output.<locals>.wrapped\u001b[1;34m(self, X, *args, **kwargs)\u001b[0m\n\u001b[0;32m    138\u001b[0m \u001b[38;5;129m@wraps\u001b[39m(f)\n\u001b[0;32m    139\u001b[0m \u001b[38;5;28;01mdef\u001b[39;00m \u001b[38;5;21mwrapped\u001b[39m(\u001b[38;5;28mself\u001b[39m, X, \u001b[38;5;241m*\u001b[39margs, \u001b[38;5;241m*\u001b[39m\u001b[38;5;241m*\u001b[39mkwargs):\n\u001b[1;32m--> 140\u001b[0m     data_to_wrap \u001b[38;5;241m=\u001b[39m f(\u001b[38;5;28mself\u001b[39m, X, \u001b[38;5;241m*\u001b[39margs, \u001b[38;5;241m*\u001b[39m\u001b[38;5;241m*\u001b[39mkwargs)\n\u001b[0;32m    141\u001b[0m     \u001b[38;5;28;01mif\u001b[39;00m \u001b[38;5;28misinstance\u001b[39m(data_to_wrap, \u001b[38;5;28mtuple\u001b[39m):\n\u001b[0;32m    142\u001b[0m         \u001b[38;5;66;03m# only wrap the first output for cross decomposition\u001b[39;00m\n\u001b[0;32m    143\u001b[0m         return_tuple \u001b[38;5;241m=\u001b[39m (\n\u001b[0;32m    144\u001b[0m             _wrap_data_with_container(method, data_to_wrap[\u001b[38;5;241m0\u001b[39m], X, \u001b[38;5;28mself\u001b[39m),\n\u001b[0;32m    145\u001b[0m             \u001b[38;5;241m*\u001b[39mdata_to_wrap[\u001b[38;5;241m1\u001b[39m:],\n\u001b[0;32m    146\u001b[0m         )\n",
      "File \u001b[1;32m~\\anaconda3\\Lib\\site-packages\\sklearn\\base.py:1151\u001b[0m, in \u001b[0;36m_fit_context.<locals>.decorator.<locals>.wrapper\u001b[1;34m(estimator, *args, **kwargs)\u001b[0m\n\u001b[0;32m   1144\u001b[0m     estimator\u001b[38;5;241m.\u001b[39m_validate_params()\n\u001b[0;32m   1146\u001b[0m \u001b[38;5;28;01mwith\u001b[39;00m config_context(\n\u001b[0;32m   1147\u001b[0m     skip_parameter_validation\u001b[38;5;241m=\u001b[39m(\n\u001b[0;32m   1148\u001b[0m         prefer_skip_nested_validation \u001b[38;5;129;01mor\u001b[39;00m global_skip_validation\n\u001b[0;32m   1149\u001b[0m     )\n\u001b[0;32m   1150\u001b[0m ):\n\u001b[1;32m-> 1151\u001b[0m     \u001b[38;5;28;01mreturn\u001b[39;00m fit_method(estimator, \u001b[38;5;241m*\u001b[39margs, \u001b[38;5;241m*\u001b[39m\u001b[38;5;241m*\u001b[39mkwargs)\n",
      "File \u001b[1;32m~\\anaconda3\\Lib\\site-packages\\sklearn\\manifold\\_t_sne.py:1111\u001b[0m, in \u001b[0;36mTSNE.fit_transform\u001b[1;34m(self, X, y)\u001b[0m\n\u001b[0;32m   1090\u001b[0m \u001b[38;5;250m\u001b[39m\u001b[38;5;124;03m\"\"\"Fit X into an embedded space and return that transformed output.\u001b[39;00m\n\u001b[0;32m   1091\u001b[0m \n\u001b[0;32m   1092\u001b[0m \u001b[38;5;124;03mParameters\u001b[39;00m\n\u001b[1;32m   (...)\u001b[0m\n\u001b[0;32m   1108\u001b[0m \u001b[38;5;124;03m    Embedding of the training data in low-dimensional space.\u001b[39;00m\n\u001b[0;32m   1109\u001b[0m \u001b[38;5;124;03m\"\"\"\u001b[39;00m\n\u001b[0;32m   1110\u001b[0m \u001b[38;5;28mself\u001b[39m\u001b[38;5;241m.\u001b[39m_check_params_vs_input(X)\n\u001b[1;32m-> 1111\u001b[0m embedding \u001b[38;5;241m=\u001b[39m \u001b[38;5;28mself\u001b[39m\u001b[38;5;241m.\u001b[39m_fit(X)\n\u001b[0;32m   1112\u001b[0m \u001b[38;5;28mself\u001b[39m\u001b[38;5;241m.\u001b[39membedding_ \u001b[38;5;241m=\u001b[39m embedding\n\u001b[0;32m   1113\u001b[0m \u001b[38;5;28;01mreturn\u001b[39;00m \u001b[38;5;28mself\u001b[39m\u001b[38;5;241m.\u001b[39membedding_\n",
      "File \u001b[1;32m~\\anaconda3\\Lib\\site-packages\\sklearn\\manifold\\_t_sne.py:952\u001b[0m, in \u001b[0;36mTSNE._fit\u001b[1;34m(self, X, skip_num_points)\u001b[0m\n\u001b[0;32m    945\u001b[0m     \u001b[38;5;28mprint\u001b[39m(\n\u001b[0;32m    946\u001b[0m         \u001b[38;5;124m\"\u001b[39m\u001b[38;5;124m[t-SNE] Indexed \u001b[39m\u001b[38;5;132;01m{}\u001b[39;00m\u001b[38;5;124m samples in \u001b[39m\u001b[38;5;132;01m{:.3f}\u001b[39;00m\u001b[38;5;124ms...\u001b[39m\u001b[38;5;124m\"\u001b[39m\u001b[38;5;241m.\u001b[39mformat(\n\u001b[0;32m    947\u001b[0m             n_samples, duration\n\u001b[0;32m    948\u001b[0m         )\n\u001b[0;32m    949\u001b[0m     )\n\u001b[0;32m    951\u001b[0m t0 \u001b[38;5;241m=\u001b[39m time()\n\u001b[1;32m--> 952\u001b[0m distances_nn \u001b[38;5;241m=\u001b[39m knn\u001b[38;5;241m.\u001b[39mkneighbors_graph(mode\u001b[38;5;241m=\u001b[39m\u001b[38;5;124m\"\u001b[39m\u001b[38;5;124mdistance\u001b[39m\u001b[38;5;124m\"\u001b[39m)\n\u001b[0;32m    953\u001b[0m duration \u001b[38;5;241m=\u001b[39m time() \u001b[38;5;241m-\u001b[39m t0\n\u001b[0;32m    954\u001b[0m \u001b[38;5;28;01mif\u001b[39;00m \u001b[38;5;28mself\u001b[39m\u001b[38;5;241m.\u001b[39mverbose:\n",
      "File \u001b[1;32m~\\anaconda3\\Lib\\site-packages\\sklearn\\neighbors\\_base.py:986\u001b[0m, in \u001b[0;36mKNeighborsMixin.kneighbors_graph\u001b[1;34m(self, X, n_neighbors, mode)\u001b[0m\n\u001b[0;32m    983\u001b[0m     A_data \u001b[38;5;241m=\u001b[39m np\u001b[38;5;241m.\u001b[39mones(n_queries \u001b[38;5;241m*\u001b[39m n_neighbors)\n\u001b[0;32m    985\u001b[0m \u001b[38;5;28;01melif\u001b[39;00m mode \u001b[38;5;241m==\u001b[39m \u001b[38;5;124m\"\u001b[39m\u001b[38;5;124mdistance\u001b[39m\u001b[38;5;124m\"\u001b[39m:\n\u001b[1;32m--> 986\u001b[0m     A_data, A_ind \u001b[38;5;241m=\u001b[39m \u001b[38;5;28mself\u001b[39m\u001b[38;5;241m.\u001b[39mkneighbors(X, n_neighbors, return_distance\u001b[38;5;241m=\u001b[39m\u001b[38;5;28;01mTrue\u001b[39;00m)\n\u001b[0;32m    987\u001b[0m     A_data \u001b[38;5;241m=\u001b[39m np\u001b[38;5;241m.\u001b[39mravel(A_data)\n\u001b[0;32m    989\u001b[0m \u001b[38;5;28;01melse\u001b[39;00m:\n",
      "File \u001b[1;32m~\\anaconda3\\Lib\\site-packages\\sklearn\\neighbors\\_base.py:822\u001b[0m, in \u001b[0;36mKNeighborsMixin.kneighbors\u001b[1;34m(self, X, n_neighbors, return_distance)\u001b[0m\n\u001b[0;32m    815\u001b[0m use_pairwise_distances_reductions \u001b[38;5;241m=\u001b[39m (\n\u001b[0;32m    816\u001b[0m     \u001b[38;5;28mself\u001b[39m\u001b[38;5;241m.\u001b[39m_fit_method \u001b[38;5;241m==\u001b[39m \u001b[38;5;124m\"\u001b[39m\u001b[38;5;124mbrute\u001b[39m\u001b[38;5;124m\"\u001b[39m\n\u001b[0;32m    817\u001b[0m     \u001b[38;5;129;01mand\u001b[39;00m ArgKmin\u001b[38;5;241m.\u001b[39mis_usable_for(\n\u001b[0;32m    818\u001b[0m         X \u001b[38;5;28;01mif\u001b[39;00m X \u001b[38;5;129;01mis\u001b[39;00m \u001b[38;5;129;01mnot\u001b[39;00m \u001b[38;5;28;01mNone\u001b[39;00m \u001b[38;5;28;01melse\u001b[39;00m \u001b[38;5;28mself\u001b[39m\u001b[38;5;241m.\u001b[39m_fit_X, \u001b[38;5;28mself\u001b[39m\u001b[38;5;241m.\u001b[39m_fit_X, \u001b[38;5;28mself\u001b[39m\u001b[38;5;241m.\u001b[39meffective_metric_\n\u001b[0;32m    819\u001b[0m     )\n\u001b[0;32m    820\u001b[0m )\n\u001b[0;32m    821\u001b[0m \u001b[38;5;28;01mif\u001b[39;00m use_pairwise_distances_reductions:\n\u001b[1;32m--> 822\u001b[0m     results \u001b[38;5;241m=\u001b[39m ArgKmin\u001b[38;5;241m.\u001b[39mcompute(\n\u001b[0;32m    823\u001b[0m         X\u001b[38;5;241m=\u001b[39mX,\n\u001b[0;32m    824\u001b[0m         Y\u001b[38;5;241m=\u001b[39m\u001b[38;5;28mself\u001b[39m\u001b[38;5;241m.\u001b[39m_fit_X,\n\u001b[0;32m    825\u001b[0m         k\u001b[38;5;241m=\u001b[39mn_neighbors,\n\u001b[0;32m    826\u001b[0m         metric\u001b[38;5;241m=\u001b[39m\u001b[38;5;28mself\u001b[39m\u001b[38;5;241m.\u001b[39meffective_metric_,\n\u001b[0;32m    827\u001b[0m         metric_kwargs\u001b[38;5;241m=\u001b[39m\u001b[38;5;28mself\u001b[39m\u001b[38;5;241m.\u001b[39meffective_metric_params_,\n\u001b[0;32m    828\u001b[0m         strategy\u001b[38;5;241m=\u001b[39m\u001b[38;5;124m\"\u001b[39m\u001b[38;5;124mauto\u001b[39m\u001b[38;5;124m\"\u001b[39m,\n\u001b[0;32m    829\u001b[0m         return_distance\u001b[38;5;241m=\u001b[39mreturn_distance,\n\u001b[0;32m    830\u001b[0m     )\n\u001b[0;32m    832\u001b[0m \u001b[38;5;28;01melif\u001b[39;00m (\n\u001b[0;32m    833\u001b[0m     \u001b[38;5;28mself\u001b[39m\u001b[38;5;241m.\u001b[39m_fit_method \u001b[38;5;241m==\u001b[39m \u001b[38;5;124m\"\u001b[39m\u001b[38;5;124mbrute\u001b[39m\u001b[38;5;124m\"\u001b[39m \u001b[38;5;129;01mand\u001b[39;00m \u001b[38;5;28mself\u001b[39m\u001b[38;5;241m.\u001b[39mmetric \u001b[38;5;241m==\u001b[39m \u001b[38;5;124m\"\u001b[39m\u001b[38;5;124mprecomputed\u001b[39m\u001b[38;5;124m\"\u001b[39m \u001b[38;5;129;01mand\u001b[39;00m issparse(X)\n\u001b[0;32m    834\u001b[0m ):\n\u001b[0;32m    835\u001b[0m     results \u001b[38;5;241m=\u001b[39m _kneighbors_from_graph(\n\u001b[0;32m    836\u001b[0m         X, n_neighbors\u001b[38;5;241m=\u001b[39mn_neighbors, return_distance\u001b[38;5;241m=\u001b[39mreturn_distance\n\u001b[0;32m    837\u001b[0m     )\n",
      "File \u001b[1;32m~\\anaconda3\\Lib\\site-packages\\sklearn\\metrics\\_pairwise_distances_reduction\\_dispatcher.py:258\u001b[0m, in \u001b[0;36mArgKmin.compute\u001b[1;34m(cls, X, Y, k, metric, chunk_size, metric_kwargs, strategy, return_distance)\u001b[0m\n\u001b[0;32m    177\u001b[0m \u001b[38;5;250m\u001b[39m\u001b[38;5;124;03m\"\"\"Compute the argkmin reduction.\u001b[39;00m\n\u001b[0;32m    178\u001b[0m \n\u001b[0;32m    179\u001b[0m \u001b[38;5;124;03mParameters\u001b[39;00m\n\u001b[1;32m   (...)\u001b[0m\n\u001b[0;32m    255\u001b[0m \u001b[38;5;124;03mreturns.\u001b[39;00m\n\u001b[0;32m    256\u001b[0m \u001b[38;5;124;03m\"\"\"\u001b[39;00m\n\u001b[0;32m    257\u001b[0m \u001b[38;5;28;01mif\u001b[39;00m X\u001b[38;5;241m.\u001b[39mdtype \u001b[38;5;241m==\u001b[39m Y\u001b[38;5;241m.\u001b[39mdtype \u001b[38;5;241m==\u001b[39m np\u001b[38;5;241m.\u001b[39mfloat64:\n\u001b[1;32m--> 258\u001b[0m     \u001b[38;5;28;01mreturn\u001b[39;00m ArgKmin64\u001b[38;5;241m.\u001b[39mcompute(\n\u001b[0;32m    259\u001b[0m         X\u001b[38;5;241m=\u001b[39mX,\n\u001b[0;32m    260\u001b[0m         Y\u001b[38;5;241m=\u001b[39mY,\n\u001b[0;32m    261\u001b[0m         k\u001b[38;5;241m=\u001b[39mk,\n\u001b[0;32m    262\u001b[0m         metric\u001b[38;5;241m=\u001b[39mmetric,\n\u001b[0;32m    263\u001b[0m         chunk_size\u001b[38;5;241m=\u001b[39mchunk_size,\n\u001b[0;32m    264\u001b[0m         metric_kwargs\u001b[38;5;241m=\u001b[39mmetric_kwargs,\n\u001b[0;32m    265\u001b[0m         strategy\u001b[38;5;241m=\u001b[39mstrategy,\n\u001b[0;32m    266\u001b[0m         return_distance\u001b[38;5;241m=\u001b[39mreturn_distance,\n\u001b[0;32m    267\u001b[0m     )\n\u001b[0;32m    269\u001b[0m \u001b[38;5;28;01mif\u001b[39;00m X\u001b[38;5;241m.\u001b[39mdtype \u001b[38;5;241m==\u001b[39m Y\u001b[38;5;241m.\u001b[39mdtype \u001b[38;5;241m==\u001b[39m np\u001b[38;5;241m.\u001b[39mfloat32:\n\u001b[0;32m    270\u001b[0m     \u001b[38;5;28;01mreturn\u001b[39;00m ArgKmin32\u001b[38;5;241m.\u001b[39mcompute(\n\u001b[0;32m    271\u001b[0m         X\u001b[38;5;241m=\u001b[39mX,\n\u001b[0;32m    272\u001b[0m         Y\u001b[38;5;241m=\u001b[39mY,\n\u001b[1;32m   (...)\u001b[0m\n\u001b[0;32m    278\u001b[0m         return_distance\u001b[38;5;241m=\u001b[39mreturn_distance,\n\u001b[0;32m    279\u001b[0m     )\n",
      "File \u001b[1;32msklearn\\metrics\\_pairwise_distances_reduction\\_argkmin.pyx:90\u001b[0m, in \u001b[0;36msklearn.metrics._pairwise_distances_reduction._argkmin.ArgKmin64.compute\u001b[1;34m()\u001b[0m\n",
      "File \u001b[1;32m~\\anaconda3\\Lib\\site-packages\\sklearn\\utils\\fixes.py:72\u001b[0m, in \u001b[0;36mthreadpool_limits\u001b[1;34m(limits, user_api)\u001b[0m\n\u001b[0;32m     70\u001b[0m     \u001b[38;5;28;01mreturn\u001b[39;00m controller\u001b[38;5;241m.\u001b[39mlimit(limits\u001b[38;5;241m=\u001b[39mlimits, user_api\u001b[38;5;241m=\u001b[39muser_api)\n\u001b[0;32m     71\u001b[0m \u001b[38;5;28;01melse\u001b[39;00m:\n\u001b[1;32m---> 72\u001b[0m     \u001b[38;5;28;01mreturn\u001b[39;00m threadpoolctl\u001b[38;5;241m.\u001b[39mthreadpool_limits(limits\u001b[38;5;241m=\u001b[39mlimits, user_api\u001b[38;5;241m=\u001b[39muser_api)\n",
      "File \u001b[1;32m~\\anaconda3\\Lib\\site-packages\\threadpoolctl.py:171\u001b[0m, in \u001b[0;36mthreadpool_limits.__init__\u001b[1;34m(self, limits, user_api)\u001b[0m\n\u001b[0;32m    167\u001b[0m \u001b[38;5;28;01mdef\u001b[39;00m \u001b[38;5;21m__init__\u001b[39m(\u001b[38;5;28mself\u001b[39m, limits\u001b[38;5;241m=\u001b[39m\u001b[38;5;28;01mNone\u001b[39;00m, user_api\u001b[38;5;241m=\u001b[39m\u001b[38;5;28;01mNone\u001b[39;00m):\n\u001b[0;32m    168\u001b[0m     \u001b[38;5;28mself\u001b[39m\u001b[38;5;241m.\u001b[39m_limits, \u001b[38;5;28mself\u001b[39m\u001b[38;5;241m.\u001b[39m_user_api, \u001b[38;5;28mself\u001b[39m\u001b[38;5;241m.\u001b[39m_prefixes \u001b[38;5;241m=\u001b[39m \\\n\u001b[0;32m    169\u001b[0m         \u001b[38;5;28mself\u001b[39m\u001b[38;5;241m.\u001b[39m_check_params(limits, user_api)\n\u001b[1;32m--> 171\u001b[0m     \u001b[38;5;28mself\u001b[39m\u001b[38;5;241m.\u001b[39m_original_info \u001b[38;5;241m=\u001b[39m \u001b[38;5;28mself\u001b[39m\u001b[38;5;241m.\u001b[39m_set_threadpool_limits()\n",
      "File \u001b[1;32m~\\anaconda3\\Lib\\site-packages\\threadpoolctl.py:268\u001b[0m, in \u001b[0;36mthreadpool_limits._set_threadpool_limits\u001b[1;34m(self)\u001b[0m\n\u001b[0;32m    265\u001b[0m \u001b[38;5;28;01mif\u001b[39;00m \u001b[38;5;28mself\u001b[39m\u001b[38;5;241m.\u001b[39m_limits \u001b[38;5;129;01mis\u001b[39;00m \u001b[38;5;28;01mNone\u001b[39;00m:\n\u001b[0;32m    266\u001b[0m     \u001b[38;5;28;01mreturn\u001b[39;00m \u001b[38;5;28;01mNone\u001b[39;00m\n\u001b[1;32m--> 268\u001b[0m modules \u001b[38;5;241m=\u001b[39m _ThreadpoolInfo(prefixes\u001b[38;5;241m=\u001b[39m\u001b[38;5;28mself\u001b[39m\u001b[38;5;241m.\u001b[39m_prefixes,\n\u001b[0;32m    269\u001b[0m                           user_api\u001b[38;5;241m=\u001b[39m\u001b[38;5;28mself\u001b[39m\u001b[38;5;241m.\u001b[39m_user_api)\n\u001b[0;32m    270\u001b[0m \u001b[38;5;28;01mfor\u001b[39;00m module \u001b[38;5;129;01min\u001b[39;00m modules:\n\u001b[0;32m    271\u001b[0m     \u001b[38;5;66;03m# self._limits is a dict {key: num_threads} where key is either\u001b[39;00m\n\u001b[0;32m    272\u001b[0m     \u001b[38;5;66;03m# a prefix or a user_api. If a module matches both, the limit\u001b[39;00m\n\u001b[0;32m    273\u001b[0m     \u001b[38;5;66;03m# corresponding to the prefix is chosed.\u001b[39;00m\n\u001b[0;32m    274\u001b[0m     \u001b[38;5;28;01mif\u001b[39;00m module\u001b[38;5;241m.\u001b[39mprefix \u001b[38;5;129;01min\u001b[39;00m \u001b[38;5;28mself\u001b[39m\u001b[38;5;241m.\u001b[39m_limits:\n",
      "File \u001b[1;32m~\\anaconda3\\Lib\\site-packages\\threadpoolctl.py:340\u001b[0m, in \u001b[0;36m_ThreadpoolInfo.__init__\u001b[1;34m(self, user_api, prefixes, modules)\u001b[0m\n\u001b[0;32m    337\u001b[0m     \u001b[38;5;28mself\u001b[39m\u001b[38;5;241m.\u001b[39muser_api \u001b[38;5;241m=\u001b[39m [] \u001b[38;5;28;01mif\u001b[39;00m user_api \u001b[38;5;129;01mis\u001b[39;00m \u001b[38;5;28;01mNone\u001b[39;00m \u001b[38;5;28;01melse\u001b[39;00m user_api\n\u001b[0;32m    339\u001b[0m     \u001b[38;5;28mself\u001b[39m\u001b[38;5;241m.\u001b[39mmodules \u001b[38;5;241m=\u001b[39m []\n\u001b[1;32m--> 340\u001b[0m     \u001b[38;5;28mself\u001b[39m\u001b[38;5;241m.\u001b[39m_load_modules()\n\u001b[0;32m    341\u001b[0m     \u001b[38;5;28mself\u001b[39m\u001b[38;5;241m.\u001b[39m_warn_if_incompatible_openmp()\n\u001b[0;32m    342\u001b[0m \u001b[38;5;28;01melse\u001b[39;00m:\n",
      "File \u001b[1;32m~\\anaconda3\\Lib\\site-packages\\threadpoolctl.py:373\u001b[0m, in \u001b[0;36m_ThreadpoolInfo._load_modules\u001b[1;34m(self)\u001b[0m\n\u001b[0;32m    371\u001b[0m     \u001b[38;5;28mself\u001b[39m\u001b[38;5;241m.\u001b[39m_find_modules_with_dyld()\n\u001b[0;32m    372\u001b[0m \u001b[38;5;28;01melif\u001b[39;00m sys\u001b[38;5;241m.\u001b[39mplatform \u001b[38;5;241m==\u001b[39m \u001b[38;5;124m\"\u001b[39m\u001b[38;5;124mwin32\u001b[39m\u001b[38;5;124m\"\u001b[39m:\n\u001b[1;32m--> 373\u001b[0m     \u001b[38;5;28mself\u001b[39m\u001b[38;5;241m.\u001b[39m_find_modules_with_enum_process_module_ex()\n\u001b[0;32m    374\u001b[0m \u001b[38;5;28;01melse\u001b[39;00m:\n\u001b[0;32m    375\u001b[0m     \u001b[38;5;28mself\u001b[39m\u001b[38;5;241m.\u001b[39m_find_modules_with_dl_iterate_phdr()\n",
      "File \u001b[1;32m~\\anaconda3\\Lib\\site-packages\\threadpoolctl.py:485\u001b[0m, in \u001b[0;36m_ThreadpoolInfo._find_modules_with_enum_process_module_ex\u001b[1;34m(self)\u001b[0m\n\u001b[0;32m    482\u001b[0m         filepath \u001b[38;5;241m=\u001b[39m buf\u001b[38;5;241m.\u001b[39mvalue\n\u001b[0;32m    484\u001b[0m         \u001b[38;5;66;03m# Store the module if it is supported and selected\u001b[39;00m\n\u001b[1;32m--> 485\u001b[0m         \u001b[38;5;28mself\u001b[39m\u001b[38;5;241m.\u001b[39m_make_module_from_path(filepath)\n\u001b[0;32m    486\u001b[0m \u001b[38;5;28;01mfinally\u001b[39;00m:\n\u001b[0;32m    487\u001b[0m     kernel_32\u001b[38;5;241m.\u001b[39mCloseHandle(h_process)\n",
      "File \u001b[1;32m~\\anaconda3\\Lib\\site-packages\\threadpoolctl.py:515\u001b[0m, in \u001b[0;36m_ThreadpoolInfo._make_module_from_path\u001b[1;34m(self, filepath)\u001b[0m\n\u001b[0;32m    513\u001b[0m \u001b[38;5;28;01mif\u001b[39;00m prefix \u001b[38;5;129;01min\u001b[39;00m \u001b[38;5;28mself\u001b[39m\u001b[38;5;241m.\u001b[39mprefixes \u001b[38;5;129;01mor\u001b[39;00m user_api \u001b[38;5;129;01min\u001b[39;00m \u001b[38;5;28mself\u001b[39m\u001b[38;5;241m.\u001b[39muser_api:\n\u001b[0;32m    514\u001b[0m     module_class \u001b[38;5;241m=\u001b[39m \u001b[38;5;28mglobals\u001b[39m()[module_class]\n\u001b[1;32m--> 515\u001b[0m     module \u001b[38;5;241m=\u001b[39m module_class(filepath, prefix, user_api, internal_api)\n\u001b[0;32m    516\u001b[0m     \u001b[38;5;28mself\u001b[39m\u001b[38;5;241m.\u001b[39mmodules\u001b[38;5;241m.\u001b[39mappend(module)\n",
      "File \u001b[1;32m~\\anaconda3\\Lib\\site-packages\\threadpoolctl.py:606\u001b[0m, in \u001b[0;36m_Module.__init__\u001b[1;34m(self, filepath, prefix, user_api, internal_api)\u001b[0m\n\u001b[0;32m    604\u001b[0m \u001b[38;5;28mself\u001b[39m\u001b[38;5;241m.\u001b[39minternal_api \u001b[38;5;241m=\u001b[39m internal_api\n\u001b[0;32m    605\u001b[0m \u001b[38;5;28mself\u001b[39m\u001b[38;5;241m.\u001b[39m_dynlib \u001b[38;5;241m=\u001b[39m ctypes\u001b[38;5;241m.\u001b[39mCDLL(filepath, mode\u001b[38;5;241m=\u001b[39m_RTLD_NOLOAD)\n\u001b[1;32m--> 606\u001b[0m \u001b[38;5;28mself\u001b[39m\u001b[38;5;241m.\u001b[39mversion \u001b[38;5;241m=\u001b[39m \u001b[38;5;28mself\u001b[39m\u001b[38;5;241m.\u001b[39mget_version()\n\u001b[0;32m    607\u001b[0m \u001b[38;5;28mself\u001b[39m\u001b[38;5;241m.\u001b[39mnum_threads \u001b[38;5;241m=\u001b[39m \u001b[38;5;28mself\u001b[39m\u001b[38;5;241m.\u001b[39mget_num_threads()\n\u001b[0;32m    608\u001b[0m \u001b[38;5;28mself\u001b[39m\u001b[38;5;241m.\u001b[39m_get_extra_info()\n",
      "File \u001b[1;32m~\\anaconda3\\Lib\\site-packages\\threadpoolctl.py:646\u001b[0m, in \u001b[0;36m_OpenBLASModule.get_version\u001b[1;34m(self)\u001b[0m\n\u001b[0;32m    643\u001b[0m get_config \u001b[38;5;241m=\u001b[39m \u001b[38;5;28mgetattr\u001b[39m(\u001b[38;5;28mself\u001b[39m\u001b[38;5;241m.\u001b[39m_dynlib, \u001b[38;5;124m\"\u001b[39m\u001b[38;5;124mopenblas_get_config\u001b[39m\u001b[38;5;124m\"\u001b[39m,\n\u001b[0;32m    644\u001b[0m                      \u001b[38;5;28;01mlambda\u001b[39;00m: \u001b[38;5;28;01mNone\u001b[39;00m)\n\u001b[0;32m    645\u001b[0m get_config\u001b[38;5;241m.\u001b[39mrestype \u001b[38;5;241m=\u001b[39m ctypes\u001b[38;5;241m.\u001b[39mc_char_p\n\u001b[1;32m--> 646\u001b[0m config \u001b[38;5;241m=\u001b[39m get_config()\u001b[38;5;241m.\u001b[39msplit()\n\u001b[0;32m    647\u001b[0m \u001b[38;5;28;01mif\u001b[39;00m config[\u001b[38;5;241m0\u001b[39m] \u001b[38;5;241m==\u001b[39m \u001b[38;5;124mb\u001b[39m\u001b[38;5;124m\"\u001b[39m\u001b[38;5;124mOpenBLAS\u001b[39m\u001b[38;5;124m\"\u001b[39m:\n\u001b[0;32m    648\u001b[0m     \u001b[38;5;28;01mreturn\u001b[39;00m config[\u001b[38;5;241m1\u001b[39m]\u001b[38;5;241m.\u001b[39mdecode(\u001b[38;5;124m\"\u001b[39m\u001b[38;5;124mutf-8\u001b[39m\u001b[38;5;124m\"\u001b[39m)\n",
      "\u001b[1;31mAttributeError\u001b[0m: 'NoneType' object has no attribute 'split'"
     ]
    }
   ],
   "source": [
    "import matplotlib.pyplot as plt\n",
    "from sklearn.manifold import TSNE\n",
    "import numpy as np\n",
    "\n",
    "# Create synthetic embeddings data for demonstration\n",
    "np.random.seed(42)\n",
    "\n",
    "# Number of molecules\n",
    "n_molecules = 500\n",
    "embedding_dim = 64\n",
    "n_active = 150  # Number of active compounds\n",
    "\n",
    "# Generate random embeddings\n",
    "# For k-clique model: create more separated clusters for active/inactive\n",
    "k_clique_embeddings = np.random.randn(n_molecules, embedding_dim)\n",
    "# Make active compounds more clustered in feature space\n",
    "k_clique_embeddings[:n_active, :] += np.random.randn(n_active, embedding_dim) * 0.5 + 2\n",
    "\n",
    "# For functional group model: less separation between active/inactive\n",
    "func_group_embeddings = np.random.randn(n_molecules, embedding_dim)\n",
    "# Less distinct clustering for active compounds\n",
    "func_group_embeddings[:n_active, :] += np.random.randn(n_active, embedding_dim) * 0.3 + 1\n",
    "\n",
    "# Create activity labels (1 for active, 0 for inactive)\n",
    "activity_labels = np.zeros(n_molecules)\n",
    "activity_labels[:n_active] = 1\n",
    "\n",
    "# Perform t-SNE dimensionality reduction\n",
    "tsne = TSNE(n_components=2, random_state=42, perplexity=30)\n",
    "k_clique_tsne = tsne.fit_transform(k_clique_embeddings)\n",
    "tsne = TSNE(n_components=2, random_state=42, perplexity=30)\n",
    "func_group_tsne = tsne.fit_transform(func_group_embeddings)\n",
    "\n",
    "# Create figure\n",
    "fig, (ax1, ax2) = plt.subplots(1, 2, figsize=(16, 8))\n",
    "\n",
    "# Plot t-SNE for k-clique model\n",
    "active_mask = activity_labels == 1\n",
    "inactive_mask = activity_labels == 0\n",
    "\n",
    "# k-clique model plot\n",
    "ax1.scatter(k_clique_tsne[inactive_mask, 0], k_clique_tsne[inactive_mask, 1], \n",
    "           color='blue', alpha=0.7, label='Inactive')\n",
    "ax1.scatter(k_clique_tsne[active_mask, 0], k_clique_tsne[active_mask, 1], \n",
    "           color='red', alpha=0.7, label='Active')\n",
    "ax1.set_title('K-Clique Model Embeddings', fontsize=14)\n",
    "ax1.legend()\n",
    "ax1.set_xticks([])\n",
    "ax1.set_yticks([])\n",
    "\n",
    "# Functional group model plot\n",
    "ax2.scatter(func_group_tsne[inactive_mask, 0], func_group_tsne[inactive_mask, 1], \n",
    "           color='blue', alpha=0.7, label='Inactive')\n",
    "ax2.scatter(func_group_tsne[active_mask, 0], func_group_tsne[active_mask, 1], \n",
    "           color='red', alpha=0.7, label='Active')\n",
    "ax2.set_title('Functional Group Model Embeddings', fontsize=14)\n",
    "ax2.legend()\n",
    "ax2.set_xticks([])\n",
    "ax2.set_yticks([])\n",
    "\n",
    "plt.tight_layout()\n",
    "plt.suptitle('t-SNE Visualization of Molecular Embeddings', fontsize=16)\n",
    "plt.subplots_adjust(top=0.9)\n",
    "plt.savefig('figure3_tsne_visualization.png', dpi=300)\n",
    "plt.show()"
   ]
  },
  {
   "cell_type": "code",
   "execution_count": null,
   "id": "6cd37d7a",
   "metadata": {},
   "outputs": [],
   "source": []
  }
 ],
 "metadata": {
  "kernelspec": {
   "display_name": "Python 3 (ipykernel)",
   "language": "python",
   "name": "python3"
  },
  "language_info": {
   "codemirror_mode": {
    "name": "ipython",
    "version": 3
   },
   "file_extension": ".py",
   "mimetype": "text/x-python",
   "name": "python",
   "nbconvert_exporter": "python",
   "pygments_lexer": "ipython3",
   "version": "3.11.5"
  }
 },
 "nbformat": 4,
 "nbformat_minor": 5
}
